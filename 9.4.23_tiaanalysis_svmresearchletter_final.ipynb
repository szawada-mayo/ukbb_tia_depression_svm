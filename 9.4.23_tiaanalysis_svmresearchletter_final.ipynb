{
 "cells": [
  {
   "cell_type": "code",
   "execution_count": 1,
   "metadata": {
    "tags": []
   },
   "outputs": [
    {
     "name": "stderr",
     "output_type": "stream",
     "text": [
      "SLF4J: Class path contains multiple SLF4J bindings.\n",
      "SLF4J: Found binding in [jar:file:/cluster/dnax/jars/dnanexus-api-0.1.0-SNAPSHOT-jar-with-dependencies.jar!/org/slf4j/impl/StaticLoggerBinder.class]\n",
      "SLF4J: Found binding in [jar:file:/cluster/spark/jars/log4j-slf4j-impl-2.17.2.jar!/org/slf4j/impl/StaticLoggerBinder.class]\n",
      "SLF4J: See http://www.slf4j.org/codes.html#multiple_bindings for an explanation.\n",
      "SLF4J: Actual binding is of type [org.slf4j.impl.Log4jLoggerFactory]\n",
      "Setting default log level to \"WARN\".\n",
      "To adjust logging level use sc.setLogLevel(newLevel). For SparkR, use setLogLevel(newLevel).\n"
     ]
    },
    {
     "name": "stdout",
     "output_type": "stream",
     "text": [
      "2023-09-07 16:34:59.428 WARN  NativeCodeLoader:60 - Unable to load native-hadoop library for your platform... using builtin-java classes where applicable\n",
      "2023-09-07 16:35:00.497 WARN  Utils:69 - Service 'org.apache.spark.network.netty.NettyBlockTransferService' could not bind on port 43000. Attempting port 43001.\n",
      "2023-09-07 16:35:00.816 WARN  MetricsReporter:84 - No metrics configured for reporting\n",
      "2023-09-07 16:35:00.818 WARN  LineProtoUsageReporter:48 - Telegraf configurations: url [metrics.push.telegraf.hostport], user [metrics.push.telegraf.user] or password [metrics.push.telegraf.password] missing.\n",
      "2023-09-07 16:35:00.818 WARN  MetricsReporter:117 - metrics.scraping.httpserver.port\n"
     ]
    }
   ],
   "source": [
    "#launch spark \n",
    "import pyspark\n",
    "import dxpy\n",
    "import dxdata\n",
    "import pandas as pd\n",
    "import numpy as np\n",
    "sc = pyspark.SparkContext()\n",
    "spark = pyspark.sql.SparkSession(sc)"
   ]
  },
  {
   "cell_type": "code",
   "execution_count": 2,
   "metadata": {
    "tags": []
   },
   "outputs": [],
   "source": [
    "#this is the net phq2 group; no findings; includes all the people with strokes before phq2 i0"
   ]
  },
  {
   "cell_type": "code",
   "execution_count": 3,
   "metadata": {
    "tags": []
   },
   "outputs": [],
   "source": [
    "#prep database \n",
    "dispensed_database_name = dxpy.find_one_data_object(classname=\"database\", name=\"app*\", folder=\"/\", name_mode=\"glob\", describe=True)[\"describe\"][\"name\"]\n",
    "dispensed_dataset_id = dxpy.find_one_data_object(typename=\"Dataset\", name=\"app*.dataset\", folder=\"/\", name_mode=\"glob\")[\"id\"]"
   ]
  },
  {
   "cell_type": "code",
   "execution_count": 4,
   "metadata": {
    "tags": []
   },
   "outputs": [],
   "source": [
    "#prep dataset\n",
    "dataset = dxdata.load_dataset(id=dispensed_dataset_id)\n",
    "participant = dataset[\"participant\"]"
   ]
  },
  {
   "cell_type": "code",
   "execution_count": 5,
   "metadata": {
    "tags": []
   },
   "outputs": [
    {
     "name": "stdout",
     "output_type": "stream",
     "text": [
      "2023-09-07 16:35:11.455 WARN  ShellBasedUnixGroupsMapping:210 - unable to return groups for user X6Z7pbGK1BpZKzY6YvJPQ1P7VZZ5yVG7B6xkKgf6__project-GG7jpPjJ4VK0VKqV89494XV5\n",
      "PartialGroupNameException The user name 'X6Z7pbGK1BpZKzY6YvJPQ1P7VZZ5yVG7B6xkKgf6__project-GG7jpPjJ4VK0VKqV89494XV5' is not found. id: ‘X6Z7pbGK1BpZKzY6YvJPQ1P7VZZ5yVG7B6xkKgf6__project-GG7jpPjJ4VK0VKqV89494XV5’: no such user\n",
      "id: ‘X6Z7pbGK1BpZKzY6YvJPQ1P7VZZ5yVG7B6xkKgf6__project-GG7jpPjJ4VK0VKqV89494XV5’: no such user\n",
      "\n",
      "\tat org.apache.hadoop.security.ShellBasedUnixGroupsMapping.resolvePartialGroupNames(ShellBasedUnixGroupsMapping.java:294)\n",
      "\tat org.apache.hadoop.security.ShellBasedUnixGroupsMapping.getUnixGroups(ShellBasedUnixGroupsMapping.java:207)\n",
      "\tat org.apache.hadoop.security.ShellBasedUnixGroupsMapping.getGroups(ShellBasedUnixGroupsMapping.java:97)\n",
      "\tat org.apache.hadoop.security.JniBasedUnixGroupsMappingWithFallback.getGroups(JniBasedUnixGroupsMappingWithFallback.java:51)\n",
      "\tat org.apache.hadoop.security.Groups$GroupCacheLoader.fetchGroupList(Groups.java:387)\n",
      "\tat org.apache.hadoop.security.Groups$GroupCacheLoader.load(Groups.java:321)\n",
      "\tat org.apache.hadoop.security.Groups$GroupCacheLoader.load(Groups.java:270)\n",
      "\tat org.apache.hadoop.thirdparty.com.google.common.cache.LocalCache$LoadingValueReference.loadFuture(LocalCache.java:3529)\n",
      "\tat org.apache.hadoop.thirdparty.com.google.common.cache.LocalCache$Segment.loadSync(LocalCache.java:2278)\n",
      "\tat org.apache.hadoop.thirdparty.com.google.common.cache.LocalCache$Segment.lockedGetOrLoad(LocalCache.java:2155)\n",
      "\tat org.apache.hadoop.thirdparty.com.google.common.cache.LocalCache$Segment.get(LocalCache.java:2045)\n",
      "\tat org.apache.hadoop.thirdparty.com.google.common.cache.LocalCache.get(LocalCache.java:3962)\n",
      "\tat org.apache.hadoop.thirdparty.com.google.common.cache.LocalCache.getOrLoad(LocalCache.java:3985)\n",
      "\tat org.apache.hadoop.thirdparty.com.google.common.cache.LocalCache$LocalLoadingCache.get(LocalCache.java:4946)\n",
      "\tat org.apache.hadoop.security.Groups.getGroups(Groups.java:228)\n",
      "\tat org.apache.hadoop.security.UserGroupInformation.getGroups(UserGroupInformation.java:1734)\n",
      "\tat org.apache.hadoop.security.UserGroupInformation.getGroupNames(UserGroupInformation.java:1722)\n",
      "\tat org.apache.hadoop.hive.metastore.HiveMetaStoreClient.open(HiveMetaStoreClient.java:517)\n",
      "\tat org.apache.hadoop.hive.metastore.HiveMetaStoreClient.<init>(HiveMetaStoreClient.java:254)\n",
      "\tat org.apache.hadoop.hive.ql.metadata.SessionHiveMetaStoreClient.<init>(SessionHiveMetaStoreClient.java:70)\n",
      "\tat sun.reflect.NativeConstructorAccessorImpl.newInstance0(Native Method)\n",
      "\tat sun.reflect.NativeConstructorAccessorImpl.newInstance(NativeConstructorAccessorImpl.java:62)\n",
      "\tat sun.reflect.DelegatingConstructorAccessorImpl.newInstance(DelegatingConstructorAccessorImpl.java:45)\n",
      "\tat java.lang.reflect.Constructor.newInstance(Constructor.java:423)\n",
      "\tat org.apache.hadoop.hive.metastore.MetaStoreUtils.newInstance(MetaStoreUtils.java:1740)\n",
      "\tat org.apache.hadoop.hive.metastore.RetryingMetaStoreClient.<init>(RetryingMetaStoreClient.java:83)\n",
      "\tat org.apache.hadoop.hive.metastore.RetryingMetaStoreClient.getProxy(RetryingMetaStoreClient.java:133)\n",
      "\tat org.apache.hadoop.hive.metastore.RetryingMetaStoreClient.getProxy(RetryingMetaStoreClient.java:104)\n",
      "\tat org.apache.hadoop.hive.ql.metadata.Hive.createMetaStoreClient(Hive.java:3650)\n",
      "\tat org.apache.hadoop.hive.ql.metadata.Hive.getMetaStoreClient(Hive.java:3696)\n",
      "\tat org.apache.hadoop.hive.ql.metadata.Hive.lambda$getMSC$0(Hive.java:3770)\n",
      "\tat java.security.AccessController.doPrivileged(Native Method)\n",
      "\tat javax.security.auth.Subject.doAs(Subject.java:422)\n",
      "\tat org.apache.hadoop.security.UserGroupInformation.doAs(UserGroupInformation.java:1878)\n",
      "\tat org.apache.hadoop.hive.ql.metadata.Hive.getMSC(Hive.java:3768)\n",
      "\tat org.apache.hadoop.hive.ql.metadata.Hive.getMSC(Hive.java:3682)\n",
      "\tat org.apache.hadoop.hive.ql.metadata.Hive.getDatabase(Hive.java:1600)\n",
      "\tat org.apache.hadoop.hive.ql.metadata.Hive.databaseExists(Hive.java:1588)\n",
      "\tat org.apache.spark.sql.hive.client.HiveClientImpl.$anonfun$databaseExists$1(HiveClientImpl.scala:396)\n",
      "\tat scala.runtime.java8.JFunction0$mcZ$sp.apply(JFunction0$mcZ$sp.java:23)\n",
      "\tat org.apache.spark.sql.hive.client.HiveClientImpl.$anonfun$withHiveState$1(HiveClientImpl.scala:305)\n",
      "\tat org.apache.spark.sql.hive.client.HiveClientImpl.liftedTree1$1(HiveClientImpl.scala:236)\n",
      "\tat org.apache.spark.sql.hive.client.HiveClientImpl.retryLocked(HiveClientImpl.scala:235)\n",
      "\tat org.apache.spark.sql.hive.client.HiveClientImpl.withHiveState(HiveClientImpl.scala:285)\n",
      "\tat org.apache.spark.sql.hive.client.HiveClientImpl.databaseExists(HiveClientImpl.scala:396)\n",
      "\tat org.apache.spark.sql.hive.HiveExternalCatalog.$anonfun$databaseExists$1(HiveExternalCatalog.scala:224)\n",
      "\tat scala.runtime.java8.JFunction0$mcZ$sp.apply(JFunction0$mcZ$sp.java:23)\n",
      "\tat org.apache.spark.sql.hive.HiveExternalCatalog.withClient(HiveExternalCatalog.scala:102)\n",
      "\tat org.apache.spark.sql.hive.HiveExternalCatalog.databaseExists(HiveExternalCatalog.scala:224)\n",
      "\tat org.apache.spark.sql.internal.SharedState.externalCatalog$lzycompute(SharedState.scala:150)\n",
      "\tat org.apache.spark.sql.internal.SharedState.externalCatalog(SharedState.scala:140)\n",
      "\tat org.apache.spark.sql.internal.SharedState.globalTempViewManager$lzycompute(SharedState.scala:170)\n",
      "\tat org.apache.spark.sql.internal.SharedState.globalTempViewManager(SharedState.scala:168)\n",
      "\tat org.apache.spark.sql.hive.HiveSessionStateBuilder.$anonfun$catalog$2(HiveSessionStateBuilder.scala:61)\n",
      "\tat org.apache.spark.sql.catalyst.catalog.SessionCatalog.globalTempViewManager$lzycompute(SessionCatalog.scala:119)\n",
      "\tat org.apache.spark.sql.catalyst.catalog.SessionCatalog.globalTempViewManager(SessionCatalog.scala:119)\n",
      "\tat org.apache.spark.sql.catalyst.catalog.SessionCatalog.lookupGlobalTempView(SessionCatalog.scala:940)\n",
      "\tat org.apache.spark.sql.catalyst.analysis.Analyzer$ResolveTempViews$.org$apache$spark$sql$catalyst$analysis$Analyzer$ResolveTempViews$$lookupTempView(Analyzer.scala:950)\n",
      "\tat org.apache.spark.sql.catalyst.analysis.Analyzer$ResolveTempViews$.org$apache$spark$sql$catalyst$analysis$Analyzer$ResolveTempViews$$lookupAndResolveTempView(Analyzer.scala:963)\n",
      "\tat org.apache.spark.sql.catalyst.analysis.Analyzer$ResolveTempViews$$anonfun$apply$12.applyOrElse(Analyzer.scala:901)\n",
      "\tat org.apache.spark.sql.catalyst.analysis.Analyzer$ResolveTempViews$$anonfun$apply$12.applyOrElse(Analyzer.scala:899)\n",
      "\tat org.apache.spark.sql.catalyst.plans.logical.AnalysisHelper.$anonfun$resolveOperatorsUpWithPruning$3(AnalysisHelper.scala:138)\n",
      "\tat org.apache.spark.sql.catalyst.trees.CurrentOrigin$.withOrigin(TreeNode.scala:82)\n",
      "\tat org.apache.spark.sql.catalyst.plans.logical.AnalysisHelper.$anonfun$resolveOperatorsUpWithPruning$1(AnalysisHelper.scala:138)\n",
      "\tat org.apache.spark.sql.catalyst.plans.logical.AnalysisHelper$.allowInvokingTransformsInAnalyzer(AnalysisHelper.scala:323)\n",
      "\tat org.apache.spark.sql.catalyst.plans.logical.AnalysisHelper.resolveOperatorsUpWithPruning(AnalysisHelper.scala:134)\n",
      "\tat org.apache.spark.sql.catalyst.plans.logical.AnalysisHelper.resolveOperatorsUpWithPruning$(AnalysisHelper.scala:130)\n",
      "\tat org.apache.spark.sql.catalyst.plans.logical.LogicalPlan.resolveOperatorsUpWithPruning(LogicalPlan.scala:30)\n",
      "\tat org.apache.spark.sql.catalyst.plans.logical.AnalysisHelper.$anonfun$resolveOperatorsUpWithPruning$2(AnalysisHelper.scala:135)\n",
      "\tat org.apache.spark.sql.catalyst.trees.UnaryLike.mapChildren(TreeNode.scala:1122)\n",
      "\tat org.apache.spark.sql.catalyst.trees.UnaryLike.mapChildren$(TreeNode.scala:1121)\n",
      "\tat org.apache.spark.sql.catalyst.plans.logical.OrderPreservingUnaryNode.mapChildren(LogicalPlan.scala:206)\n",
      "\tat org.apache.spark.sql.catalyst.plans.logical.AnalysisHelper.$anonfun$resolveOperatorsUpWithPruning$1(AnalysisHelper.scala:135)\n",
      "\tat org.apache.spark.sql.catalyst.plans.logical.AnalysisHelper$.allowInvokingTransformsInAnalyzer(AnalysisHelper.scala:323)\n",
      "\tat org.apache.spark.sql.catalyst.plans.logical.AnalysisHelper.resolveOperatorsUpWithPruning(AnalysisHelper.scala:134)\n",
      "\tat org.apache.spark.sql.catalyst.plans.logical.AnalysisHelper.resolveOperatorsUpWithPruning$(AnalysisHelper.scala:130)\n",
      "\tat org.apache.spark.sql.catalyst.plans.logical.LogicalPlan.resolveOperatorsUpWithPruning(LogicalPlan.scala:30)\n",
      "\tat org.apache.spark.sql.catalyst.plans.logical.AnalysisHelper.$anonfun$resolveOperatorsUpWithPruning$2(AnalysisHelper.scala:135)\n",
      "\tat org.apache.spark.sql.catalyst.trees.BinaryLike.mapChildren(TreeNode.scala:1148)\n",
      "\tat org.apache.spark.sql.catalyst.trees.BinaryLike.mapChildren$(TreeNode.scala:1147)\n",
      "\tat org.apache.spark.sql.catalyst.plans.logical.Join.mapChildren(basicLogicalOperators.scala:390)\n",
      "\tat org.apache.spark.sql.catalyst.plans.logical.AnalysisHelper.$anonfun$resolveOperatorsUpWithPruning$1(AnalysisHelper.scala:135)\n",
      "\tat org.apache.spark.sql.catalyst.plans.logical.AnalysisHelper$.allowInvokingTransformsInAnalyzer(AnalysisHelper.scala:323)\n",
      "\tat org.apache.spark.sql.catalyst.plans.logical.AnalysisHelper.resolveOperatorsUpWithPruning(AnalysisHelper.scala:134)\n",
      "\tat org.apache.spark.sql.catalyst.plans.logical.AnalysisHelper.resolveOperatorsUpWithPruning$(AnalysisHelper.scala:130)\n",
      "\tat org.apache.spark.sql.catalyst.plans.logical.LogicalPlan.resolveOperatorsUpWithPruning(LogicalPlan.scala:30)\n",
      "\tat org.apache.spark.sql.catalyst.plans.logical.AnalysisHelper.$anonfun$resolveOperatorsUpWithPruning$2(AnalysisHelper.scala:135)\n",
      "\tat org.apache.spark.sql.catalyst.trees.BinaryLike.mapChildren(TreeNode.scala:1148)\n",
      "\tat org.apache.spark.sql.catalyst.trees.BinaryLike.mapChildren$(TreeNode.scala:1147)\n",
      "\tat org.apache.spark.sql.catalyst.plans.logical.Join.mapChildren(basicLogicalOperators.scala:390)\n",
      "\tat org.apache.spark.sql.catalyst.plans.logical.AnalysisHelper.$anonfun$resolveOperatorsUpWithPruning$1(AnalysisHelper.scala:135)\n",
      "\tat org.apache.spark.sql.catalyst.plans.logical.AnalysisHelper$.allowInvokingTransformsInAnalyzer(AnalysisHelper.scala:323)\n",
      "\tat org.apache.spark.sql.catalyst.plans.logical.AnalysisHelper.resolveOperatorsUpWithPruning(AnalysisHelper.scala:134)\n",
      "\tat org.apache.spark.sql.catalyst.plans.logical.AnalysisHelper.resolveOperatorsUpWithPruning$(AnalysisHelper.scala:130)\n",
      "\tat org.apache.spark.sql.catalyst.plans.logical.LogicalPlan.resolveOperatorsUpWithPruning(LogicalPlan.scala:30)\n",
      "\tat org.apache.spark.sql.catalyst.plans.logical.AnalysisHelper.$anonfun$resolveOperatorsUpWithPruning$2(AnalysisHelper.scala:135)\n",
      "\tat org.apache.spark.sql.catalyst.trees.BinaryLike.mapChildren(TreeNode.scala:1148)\n",
      "\tat org.apache.spark.sql.catalyst.trees.BinaryLike.mapChildren$(TreeNode.scala:1147)\n",
      "\tat org.apache.spark.sql.catalyst.plans.logical.Join.mapChildren(basicLogicalOperators.scala:390)\n",
      "\tat org.apache.spark.sql.catalyst.plans.logical.AnalysisHelper.$anonfun$resolveOperatorsUpWithPruning$1(AnalysisHelper.scala:135)\n",
      "\tat org.apache.spark.sql.catalyst.plans.logical.AnalysisHelper$.allowInvokingTransformsInAnalyzer(AnalysisHelper.scala:323)\n",
      "\tat org.apache.spark.sql.catalyst.plans.logical.AnalysisHelper.resolveOperatorsUpWithPruning(AnalysisHelper.scala:134)\n",
      "\tat org.apache.spark.sql.catalyst.plans.logical.AnalysisHelper.resolveOperatorsUpWithPruning$(AnalysisHelper.scala:130)\n",
      "\tat org.apache.spark.sql.catalyst.plans.logical.LogicalPlan.resolveOperatorsUpWithPruning(LogicalPlan.scala:30)\n",
      "\tat org.apache.spark.sql.catalyst.plans.logical.AnalysisHelper.$anonfun$resolveOperatorsUpWithPruning$2(AnalysisHelper.scala:135)\n",
      "\tat org.apache.spark.sql.catalyst.trees.BinaryLike.mapChildren(TreeNode.scala:1148)\n",
      "\tat org.apache.spark.sql.catalyst.trees.BinaryLike.mapChildren$(TreeNode.scala:1147)\n",
      "\tat org.apache.spark.sql.catalyst.plans.logical.Join.mapChildren(basicLogicalOperators.scala:390)\n",
      "\tat org.apache.spark.sql.catalyst.plans.logical.AnalysisHelper.$anonfun$resolveOperatorsUpWithPruning$1(AnalysisHelper.scala:135)\n",
      "\tat org.apache.spark.sql.catalyst.plans.logical.AnalysisHelper$.allowInvokingTransformsInAnalyzer(AnalysisHelper.scala:323)\n",
      "\tat org.apache.spark.sql.catalyst.plans.logical.AnalysisHelper.resolveOperatorsUpWithPruning(AnalysisHelper.scala:134)\n",
      "\tat org.apache.spark.sql.catalyst.plans.logical.AnalysisHelper.resolveOperatorsUpWithPruning$(AnalysisHelper.scala:130)\n",
      "\tat org.apache.spark.sql.catalyst.plans.logical.LogicalPlan.resolveOperatorsUpWithPruning(LogicalPlan.scala:30)\n",
      "\tat org.apache.spark.sql.catalyst.plans.logical.AnalysisHelper.$anonfun$resolveOperatorsUpWithPruning$2(AnalysisHelper.scala:135)\n",
      "\tat org.apache.spark.sql.catalyst.trees.BinaryLike.mapChildren(TreeNode.scala:1148)\n",
      "\tat org.apache.spark.sql.catalyst.trees.BinaryLike.mapChildren$(TreeNode.scala:1147)\n",
      "\tat org.apache.spark.sql.catalyst.plans.logical.Join.mapChildren(basicLogicalOperators.scala:390)\n",
      "\tat org.apache.spark.sql.catalyst.plans.logical.AnalysisHelper.$anonfun$resolveOperatorsUpWithPruning$1(AnalysisHelper.scala:135)\n",
      "\tat org.apache.spark.sql.catalyst.plans.logical.AnalysisHelper$.allowInvokingTransformsInAnalyzer(AnalysisHelper.scala:323)\n",
      "\tat org.apache.spark.sql.catalyst.plans.logical.AnalysisHelper.resolveOperatorsUpWithPruning(AnalysisHelper.scala:134)\n",
      "\tat org.apache.spark.sql.catalyst.plans.logical.AnalysisHelper.resolveOperatorsUpWithPruning$(AnalysisHelper.scala:130)\n",
      "\tat org.apache.spark.sql.catalyst.plans.logical.LogicalPlan.resolveOperatorsUpWithPruning(LogicalPlan.scala:30)\n",
      "\tat org.apache.spark.sql.catalyst.plans.logical.AnalysisHelper.$anonfun$resolveOperatorsUpWithPruning$2(AnalysisHelper.scala:135)\n",
      "\tat org.apache.spark.sql.catalyst.trees.BinaryLike.mapChildren(TreeNode.scala:1148)\n",
      "\tat org.apache.spark.sql.catalyst.trees.BinaryLike.mapChildren$(TreeNode.scala:1147)\n",
      "\tat org.apache.spark.sql.catalyst.plans.logical.Join.mapChildren(basicLogicalOperators.scala:390)\n",
      "\tat org.apache.spark.sql.catalyst.plans.logical.AnalysisHelper.$anonfun$resolveOperatorsUpWithPruning$1(AnalysisHelper.scala:135)\n",
      "\tat org.apache.spark.sql.catalyst.plans.logical.AnalysisHelper$.allowInvokingTransformsInAnalyzer(AnalysisHelper.scala:323)\n",
      "\tat org.apache.spark.sql.catalyst.plans.logical.AnalysisHelper.resolveOperatorsUpWithPruning(AnalysisHelper.scala:134)\n",
      "\tat org.apache.spark.sql.catalyst.plans.logical.AnalysisHelper.resolveOperatorsUpWithPruning$(AnalysisHelper.scala:130)\n",
      "\tat org.apache.spark.sql.catalyst.plans.logical.LogicalPlan.resolveOperatorsUpWithPruning(LogicalPlan.scala:30)\n",
      "\tat org.apache.spark.sql.catalyst.plans.logical.AnalysisHelper.$anonfun$resolveOperatorsUpWithPruning$2(AnalysisHelper.scala:135)\n",
      "\tat org.apache.spark.sql.catalyst.trees.BinaryLike.mapChildren(TreeNode.scala:1148)\n",
      "\tat org.apache.spark.sql.catalyst.trees.BinaryLike.mapChildren$(TreeNode.scala:1147)\n",
      "\tat org.apache.spark.sql.catalyst.plans.logical.Join.mapChildren(basicLogicalOperators.scala:390)\n",
      "\tat org.apache.spark.sql.catalyst.plans.logical.AnalysisHelper.$anonfun$resolveOperatorsUpWithPruning$1(AnalysisHelper.scala:135)\n",
      "\tat org.apache.spark.sql.catalyst.plans.logical.AnalysisHelper$.allowInvokingTransformsInAnalyzer(AnalysisHelper.scala:323)\n",
      "\tat org.apache.spark.sql.catalyst.plans.logical.AnalysisHelper.resolveOperatorsUpWithPruning(AnalysisHelper.scala:134)\n",
      "\tat org.apache.spark.sql.catalyst.plans.logical.AnalysisHelper.resolveOperatorsUpWithPruning$(AnalysisHelper.scala:130)\n",
      "\tat org.apache.spark.sql.catalyst.plans.logical.LogicalPlan.resolveOperatorsUpWithPruning(LogicalPlan.scala:30)\n",
      "\tat org.apache.spark.sql.catalyst.plans.logical.AnalysisHelper.$anonfun$resolveOperatorsUpWithPruning$2(AnalysisHelper.scala:135)\n",
      "\tat org.apache.spark.sql.catalyst.trees.BinaryLike.mapChildren(TreeNode.scala:1148)\n",
      "\tat org.apache.spark.sql.catalyst.trees.BinaryLike.mapChildren$(TreeNode.scala:1147)\n",
      "\tat org.apache.spark.sql.catalyst.plans.logical.Join.mapChildren(basicLogicalOperators.scala:390)\n",
      "\tat org.apache.spark.sql.catalyst.plans.logical.AnalysisHelper.$anonfun$resolveOperatorsUpWithPruning$1(AnalysisHelper.scala:135)\n",
      "\tat org.apache.spark.sql.catalyst.plans.logical.AnalysisHelper$.allowInvokingTransformsInAnalyzer(AnalysisHelper.scala:323)\n",
      "\tat org.apache.spark.sql.catalyst.plans.logical.AnalysisHelper.resolveOperatorsUpWithPruning(AnalysisHelper.scala:134)\n",
      "\tat org.apache.spark.sql.catalyst.plans.logical.AnalysisHelper.resolveOperatorsUpWithPruning$(AnalysisHelper.scala:130)\n",
      "\tat org.apache.spark.sql.catalyst.plans.logical.LogicalPlan.resolveOperatorsUpWithPruning(LogicalPlan.scala:30)\n",
      "\tat org.apache.spark.sql.catalyst.plans.logical.AnalysisHelper.$anonfun$resolveOperatorsUpWithPruning$2(AnalysisHelper.scala:135)\n",
      "\tat org.apache.spark.sql.catalyst.trees.BinaryLike.mapChildren(TreeNode.scala:1148)\n",
      "\tat org.apache.spark.sql.catalyst.trees.BinaryLike.mapChildren$(TreeNode.scala:1147)\n",
      "\tat org.apache.spark.sql.catalyst.plans.logical.Join.mapChildren(basicLogicalOperators.scala:390)\n",
      "\tat org.apache.spark.sql.catalyst.plans.logical.AnalysisHelper.$anonfun$resolveOperatorsUpWithPruning$1(AnalysisHelper.scala:135)\n",
      "\tat org.apache.spark.sql.catalyst.plans.logical.AnalysisHelper$.allowInvokingTransformsInAnalyzer(AnalysisHelper.scala:323)\n",
      "\tat org.apache.spark.sql.catalyst.plans.logical.AnalysisHelper.resolveOperatorsUpWithPruning(AnalysisHelper.scala:134)\n",
      "\tat org.apache.spark.sql.catalyst.plans.logical.AnalysisHelper.resolveOperatorsUpWithPruning$(AnalysisHelper.scala:130)\n",
      "\tat org.apache.spark.sql.catalyst.plans.logical.LogicalPlan.resolveOperatorsUpWithPruning(LogicalPlan.scala:30)\n",
      "\tat org.apache.spark.sql.catalyst.plans.logical.AnalysisHelper.$anonfun$resolveOperatorsUpWithPruning$2(AnalysisHelper.scala:135)\n",
      "\tat org.apache.spark.sql.catalyst.trees.BinaryLike.mapChildren(TreeNode.scala:1148)\n",
      "\tat org.apache.spark.sql.catalyst.trees.BinaryLike.mapChildren$(TreeNode.scala:1147)\n",
      "\tat org.apache.spark.sql.catalyst.plans.logical.Join.mapChildren(basicLogicalOperators.scala:390)\n",
      "\tat org.apache.spark.sql.catalyst.plans.logical.AnalysisHelper.$anonfun$resolveOperatorsUpWithPruning$1(AnalysisHelper.scala:135)\n",
      "\tat org.apache.spark.sql.catalyst.plans.logical.AnalysisHelper$.allowInvokingTransformsInAnalyzer(AnalysisHelper.scala:323)\n",
      "\tat org.apache.spark.sql.catalyst.plans.logical.AnalysisHelper.resolveOperatorsUpWithPruning(AnalysisHelper.scala:134)\n",
      "\tat org.apache.spark.sql.catalyst.plans.logical.AnalysisHelper.resolveOperatorsUpWithPruning$(AnalysisHelper.scala:130)\n",
      "\tat org.apache.spark.sql.catalyst.plans.logical.LogicalPlan.resolveOperatorsUpWithPruning(LogicalPlan.scala:30)\n",
      "\tat org.apache.spark.sql.catalyst.plans.logical.AnalysisHelper.$anonfun$resolveOperatorsUpWithPruning$2(AnalysisHelper.scala:135)\n",
      "\tat org.apache.spark.sql.catalyst.trees.BinaryLike.mapChildren(TreeNode.scala:1148)\n",
      "\tat org.apache.spark.sql.catalyst.trees.BinaryLike.mapChildren$(TreeNode.scala:1147)\n",
      "\tat org.apache.spark.sql.catalyst.plans.logical.Join.mapChildren(basicLogicalOperators.scala:390)\n",
      "\tat org.apache.spark.sql.catalyst.plans.logical.AnalysisHelper.$anonfun$resolveOperatorsUpWithPruning$1(AnalysisHelper.scala:135)\n",
      "\tat org.apache.spark.sql.catalyst.plans.logical.AnalysisHelper$.allowInvokingTransformsInAnalyzer(AnalysisHelper.scala:323)\n",
      "\tat org.apache.spark.sql.catalyst.plans.logical.AnalysisHelper.resolveOperatorsUpWithPruning(AnalysisHelper.scala:134)\n",
      "\tat org.apache.spark.sql.catalyst.plans.logical.AnalysisHelper.resolveOperatorsUpWithPruning$(AnalysisHelper.scala:130)\n",
      "\tat org.apache.spark.sql.catalyst.plans.logical.LogicalPlan.resolveOperatorsUpWithPruning(LogicalPlan.scala:30)\n",
      "\tat org.apache.spark.sql.catalyst.plans.logical.AnalysisHelper.$anonfun$resolveOperatorsUpWithPruning$2(AnalysisHelper.scala:135)\n",
      "\tat org.apache.spark.sql.catalyst.trees.BinaryLike.mapChildren(TreeNode.scala:1148)\n",
      "\tat org.apache.spark.sql.catalyst.trees.BinaryLike.mapChildren$(TreeNode.scala:1147)\n",
      "\tat org.apache.spark.sql.catalyst.plans.logical.Join.mapChildren(basicLogicalOperators.scala:390)\n",
      "\tat org.apache.spark.sql.catalyst.plans.logical.AnalysisHelper.$anonfun$resolveOperatorsUpWithPruning$1(AnalysisHelper.scala:135)\n",
      "\tat org.apache.spark.sql.catalyst.plans.logical.AnalysisHelper$.allowInvokingTransformsInAnalyzer(AnalysisHelper.scala:323)\n",
      "\tat org.apache.spark.sql.catalyst.plans.logical.AnalysisHelper.resolveOperatorsUpWithPruning(AnalysisHelper.scala:134)\n",
      "\tat org.apache.spark.sql.catalyst.plans.logical.AnalysisHelper.resolveOperatorsUpWithPruning$(AnalysisHelper.scala:130)\n",
      "\tat org.apache.spark.sql.catalyst.plans.logical.LogicalPlan.resolveOperatorsUpWithPruning(LogicalPlan.scala:30)\n",
      "\tat org.apache.spark.sql.catalyst.plans.logical.AnalysisHelper.$anonfun$resolveOperatorsUpWithPruning$2(AnalysisHelper.scala:135)\n",
      "\tat org.apache.spark.sql.catalyst.trees.BinaryLike.mapChildren(TreeNode.scala:1148)\n",
      "\tat org.apache.spark.sql.catalyst.trees.BinaryLike.mapChildren$(TreeNode.scala:1147)\n",
      "\tat org.apache.spark.sql.catalyst.plans.logical.Join.mapChildren(basicLogicalOperators.scala:390)\n",
      "\tat org.apache.spark.sql.catalyst.plans.logical.AnalysisHelper.$anonfun$resolveOperatorsUpWithPruning$1(AnalysisHelper.scala:135)\n",
      "\tat org.apache.spark.sql.catalyst.plans.logical.AnalysisHelper$.allowInvokingTransformsInAnalyzer(AnalysisHelper.scala:323)\n",
      "\tat org.apache.spark.sql.catalyst.plans.logical.AnalysisHelper.resolveOperatorsUpWithPruning(AnalysisHelper.scala:134)\n",
      "\tat org.apache.spark.sql.catalyst.plans.logical.AnalysisHelper.resolveOperatorsUpWithPruning$(AnalysisHelper.scala:130)\n",
      "\tat org.apache.spark.sql.catalyst.plans.logical.LogicalPlan.resolveOperatorsUpWithPruning(LogicalPlan.scala:30)\n",
      "\tat org.apache.spark.sql.catalyst.plans.logical.AnalysisHelper.$anonfun$resolveOperatorsUpWithPruning$2(AnalysisHelper.scala:135)\n",
      "\tat org.apache.spark.sql.catalyst.trees.BinaryLike.mapChildren(TreeNode.scala:1148)\n",
      "\tat org.apache.spark.sql.catalyst.trees.BinaryLike.mapChildren$(TreeNode.scala:1147)\n",
      "\tat org.apache.spark.sql.catalyst.plans.logical.Join.mapChildren(basicLogicalOperators.scala:390)\n",
      "\tat org.apache.spark.sql.catalyst.plans.logical.AnalysisHelper.$anonfun$resolveOperatorsUpWithPruning$1(AnalysisHelper.scala:135)\n",
      "\tat org.apache.spark.sql.catalyst.plans.logical.AnalysisHelper$.allowInvokingTransformsInAnalyzer(AnalysisHelper.scala:323)\n",
      "\tat org.apache.spark.sql.catalyst.plans.logical.AnalysisHelper.resolveOperatorsUpWithPruning(AnalysisHelper.scala:134)\n",
      "\tat org.apache.spark.sql.catalyst.plans.logical.AnalysisHelper.resolveOperatorsUpWithPruning$(AnalysisHelper.scala:130)\n",
      "\tat org.apache.spark.sql.catalyst.plans.logical.LogicalPlan.resolveOperatorsUpWithPruning(LogicalPlan.scala:30)\n",
      "\tat org.apache.spark.sql.catalyst.plans.logical.AnalysisHelper.$anonfun$resolveOperatorsUpWithPruning$2(AnalysisHelper.scala:135)\n",
      "\tat org.apache.spark.sql.catalyst.trees.UnaryLike.mapChildren(TreeNode.scala:1122)\n",
      "\tat org.apache.spark.sql.catalyst.trees.UnaryLike.mapChildren$(TreeNode.scala:1121)\n",
      "\tat org.apache.spark.sql.catalyst.plans.logical.OrderPreservingUnaryNode.mapChildren(LogicalPlan.scala:206)\n",
      "\tat org.apache.spark.sql.catalyst.plans.logical.AnalysisHelper.$anonfun$resolveOperatorsUpWithPruning$1(AnalysisHelper.scala:135)\n",
      "\tat org.apache.spark.sql.catalyst.plans.logical.AnalysisHelper$.allowInvokingTransformsInAnalyzer(AnalysisHelper.scala:323)\n",
      "\tat org.apache.spark.sql.catalyst.plans.logical.AnalysisHelper.resolveOperatorsUpWithPruning(AnalysisHelper.scala:134)\n",
      "\tat org.apache.spark.sql.catalyst.plans.logical.AnalysisHelper.resolveOperatorsUpWithPruning$(AnalysisHelper.scala:130)\n",
      "\tat org.apache.spark.sql.catalyst.plans.logical.LogicalPlan.resolveOperatorsUpWithPruning(LogicalPlan.scala:30)\n",
      "\tat org.apache.spark.sql.catalyst.analysis.Analyzer$ResolveTempViews$.apply(Analyzer.scala:899)\n",
      "\tat org.apache.spark.sql.catalyst.analysis.Analyzer$ResolveRelations$.apply(Analyzer.scala:1164)\n",
      "\tat org.apache.spark.sql.catalyst.analysis.Analyzer$ResolveRelations$.apply(Analyzer.scala:1131)\n",
      "\tat org.apache.spark.sql.catalyst.rules.RuleExecutor.$anonfun$execute$2(RuleExecutor.scala:211)\n",
      "\tat scala.collection.LinearSeqOptimized.foldLeft(LinearSeqOptimized.scala:126)\n",
      "\tat scala.collection.LinearSeqOptimized.foldLeft$(LinearSeqOptimized.scala:122)\n",
      "\tat scala.collection.immutable.List.foldLeft(List.scala:91)\n",
      "\tat org.apache.spark.sql.catalyst.rules.RuleExecutor.$anonfun$execute$1(RuleExecutor.scala:208)\n",
      "\tat org.apache.spark.sql.catalyst.rules.RuleExecutor.$anonfun$execute$1$adapted(RuleExecutor.scala:200)\n",
      "\tat scala.collection.immutable.List.foreach(List.scala:431)\n",
      "\tat org.apache.spark.sql.catalyst.rules.RuleExecutor.execute(RuleExecutor.scala:200)\n",
      "\tat org.apache.spark.sql.catalyst.analysis.Analyzer.org$apache$spark$sql$catalyst$analysis$Analyzer$$executeSameContext(Analyzer.scala:222)\n",
      "\tat org.apache.spark.sql.catalyst.analysis.Analyzer.$anonfun$execute$1(Analyzer.scala:218)\n",
      "\tat org.apache.spark.sql.catalyst.analysis.AnalysisContext$.withNewAnalysisContext(Analyzer.scala:167)\n",
      "\tat org.apache.spark.sql.catalyst.analysis.Analyzer.execute(Analyzer.scala:218)\n",
      "\tat org.apache.spark.sql.catalyst.analysis.Analyzer.execute(Analyzer.scala:182)\n",
      "\tat org.apache.spark.sql.catalyst.rules.RuleExecutor.$anonfun$executeAndTrack$1(RuleExecutor.scala:179)\n",
      "\tat org.apache.spark.sql.catalyst.QueryPlanningTracker$.withTracker(QueryPlanningTracker.scala:88)\n",
      "\tat org.apache.spark.sql.catalyst.rules.RuleExecutor.executeAndTrack(RuleExecutor.scala:179)\n",
      "\tat org.apache.spark.sql.catalyst.analysis.Analyzer.$anonfun$executeAndCheck$1(Analyzer.scala:203)\n",
      "\tat org.apache.spark.sql.catalyst.plans.logical.AnalysisHelper$.markInAnalyzer(AnalysisHelper.scala:330)\n",
      "\tat org.apache.spark.sql.catalyst.analysis.Analyzer.executeAndCheck(Analyzer.scala:202)\n",
      "\tat org.apache.spark.sql.execution.QueryExecution.$anonfun$analyzed$1(QueryExecution.scala:75)\n",
      "\tat org.apache.spark.sql.catalyst.QueryPlanningTracker.measurePhase(QueryPlanningTracker.scala:111)\n",
      "\tat org.apache.spark.sql.execution.QueryExecution.$anonfun$executePhase$1(QueryExecution.scala:183)\n",
      "\tat org.apache.spark.sql.SparkSession.withActive(SparkSession.scala:775)\n",
      "\tat org.apache.spark.sql.execution.QueryExecution.executePhase(QueryExecution.scala:183)\n",
      "\tat org.apache.spark.sql.execution.QueryExecution.analyzed$lzycompute(QueryExecution.scala:75)\n",
      "\tat org.apache.spark.sql.execution.QueryExecution.analyzed(QueryExecution.scala:73)\n",
      "\tat org.apache.spark.sql.execution.QueryExecution.assertAnalyzed(QueryExecution.scala:65)\n",
      "\tat org.apache.spark.sql.Dataset$.$anonfun$ofRows$2(Dataset.scala:98)\n",
      "\tat org.apache.spark.sql.SparkSession.withActive(SparkSession.scala:775)\n",
      "\tat org.apache.spark.sql.Dataset$.ofRows(Dataset.scala:96)\n",
      "\tat org.apache.spark.sql.SparkSession.$anonfun$sql$1(SparkSession.scala:618)\n",
      "\tat org.apache.spark.sql.SparkSession.withActive(SparkSession.scala:775)\n",
      "\tat org.apache.spark.sql.SparkSession.sql(SparkSession.scala:613)\n",
      "\tat sun.reflect.NativeMethodAccessorImpl.invoke0(Native Method)\n",
      "\tat sun.reflect.NativeMethodAccessorImpl.invoke(NativeMethodAccessorImpl.java:62)\n",
      "\tat sun.reflect.DelegatingMethodAccessorImpl.invoke(DelegatingMethodAccessorImpl.java:43)\n",
      "\tat java.lang.reflect.Method.invoke(Method.java:498)\n",
      "\tat py4j.reflection.MethodInvoker.invoke(MethodInvoker.java:244)\n",
      "\tat py4j.reflection.ReflectionEngine.invoke(ReflectionEngine.java:357)\n",
      "\tat py4j.Gateway.invoke(Gateway.java:282)\n",
      "\tat py4j.commands.AbstractCommand.invokeMethod(AbstractCommand.java:132)\n",
      "\tat py4j.commands.CallCommand.execute(CallCommand.java:79)\n",
      "\tat py4j.ClientServerConnection.waitForCommands(ClientServerConnection.java:182)\n",
      "\tat py4j.ClientServerConnection.run(ClientServerConnection.java:106)\n",
      "\tat java.lang.Thread.run(Thread.java:750)\n"
     ]
    }
   ],
   "source": [
    "#pull all relevant columns\n",
    "field_names = [\"eid\", \"p31\", \"p189\", \"p21000_i0\", \"p21001_i0\", \"p1558_i0\", \"p20002_i0\", \"p21003_i0\", \"p4079_i0_a0\", \"p4080_i0_a0\", \"p131298\", \"p6150_i0\", \"p131286\", \"p131294\", \"p130814\", \"p130706\", \"p130708\", \"p21021_i0\", \"p53_i0\", \"p41271\", \"p41270\", \"p130892\", \"p130894\", \"p130896\", \"p2050_i0\", \"p2060_i0\", \"p2050_i1\", \"p2060_i1\", \"p130838\", \"p131056\", \"p131058\", \"p131180\", \"p131360\", \"p131362\", \"p131364\", \"p131366\", \"p131368\", \"p131370\", \"p131372\", \"p131374\", \"p131376\", \"p131378\", \"p20116_i0\", \"p22032_i0\", \"p20003_i0\", \"p40000_i0\"]\n",
    "df = participant.retrieve_fields(names=field_names, engine=dxdata.connect())"
   ]
  },
  {
   "cell_type": "code",
   "execution_count": 6,
   "metadata": {
    "tags": []
   },
   "outputs": [
    {
     "name": "stdout",
     "output_type": "stream",
     "text": [
      "2023-09-07 16:35:37.343 WARN  package:69 - Truncated the string representation of a plan since it was too large. This behavior can be adjusted by setting 'spark.sql.debug.maxToStringFields'.\n"
     ]
    },
    {
     "name": "stderr",
     "output_type": "stream",
     "text": [
      "                                                                                \r"
     ]
    }
   ],
   "source": [
    "#create pandas dataframe\n",
    "pdf = df.toPandas()"
   ]
  },
  {
   "cell_type": "code",
   "execution_count": 7,
   "metadata": {
    "tags": []
   },
   "outputs": [
    {
     "data": {
      "text/plain": [
       "502407"
      ]
     },
     "execution_count": 7,
     "metadata": {},
     "output_type": "execute_result"
    }
   ],
   "source": [
    "#check that pandas conversion worked\n",
    "pdf.head(10)\n",
    "len(pdf)"
   ]
  },
  {
   "cell_type": "code",
   "execution_count": 106,
   "metadata": {
    "tags": []
   },
   "outputs": [],
   "source": [
    "#rename columns\n",
    "pdf_rename = pdf.rename(columns={'eid': 'pID', 'p31': 'male', 'p189': 'tdi', 'p21000_i0': 'ethnicity', 'p21001_i0': 'bmi', 'p1558_i0': 'alc_freq', 'p20002_i0': 'sr_illness', 'p21003_i0': 'age_i0', 'p4079_i0_a0': 'dias_bp', 'p4080_i0_a0': 'sys_bp', 'p131298': 'i21_date', 'p6150_i0': 'vasc_diag', 'p131298': 'i21_date', 'p131286': 'i10_date', 'p131294': 'i15_date', 'p130814': 'e78_date', 'p130706': 'e10_date', 'p130708': 'e11_date', 'p21021_i0': 'asi', 'p21021_i0': 'asi', 'p53_i0': 'date_i0', 'p41271': 'icd9', 'p41270': 'icd10', 'p130892': 'f31_date',  'p130894': 'f32_date', 'p130896': 'f33_date', 'p2050_i0': 'phq2_1', 'p2060_i0': 'phq2_2', 'p2050_i1': 'phq2_1_1', 'p2060_i1': 'phq2_2_1', 'p130838': 'f01_date', 'p131056': 'g45_date', 'p131058': 'g46_date', 'p131180': 'h34_date', 'p131360': 'i60_date', 'p131362': 'i61_date', 'p131364': 'i62_date', 'p131366': 'i63_date', 'p131368': 'i64_date', 'p131370': 'i65_date', 'p131372': 'i66_date', 'p131374': 'i67_date', 'p131376': 'i68_date', 'p131378': 'i69_date', 'p20116_i0': 'smok_stat', 'p22032_i0': 'ipaq', 'p20003_i0': 'rx', 'p40000_i0': 'date_death'})"
   ]
  },
  {
   "cell_type": "code",
   "execution_count": 107,
   "metadata": {
    "tags": []
   },
   "outputs": [
    {
     "data": {
      "text/html": [
       "<div>\n",
       "<style scoped>\n",
       "    .dataframe tbody tr th:only-of-type {\n",
       "        vertical-align: middle;\n",
       "    }\n",
       "\n",
       "    .dataframe tbody tr th {\n",
       "        vertical-align: top;\n",
       "    }\n",
       "\n",
       "    .dataframe thead th {\n",
       "        text-align: right;\n",
       "    }\n",
       "</style>\n",
       "<table border=\"1\" class=\"dataframe\">\n",
       "  <thead>\n",
       "    <tr style=\"text-align: right;\">\n",
       "      <th></th>\n",
       "      <th>pID</th>\n",
       "      <th>male</th>\n",
       "      <th>tdi</th>\n",
       "      <th>ethnicity</th>\n",
       "      <th>bmi</th>\n",
       "      <th>alc_freq</th>\n",
       "      <th>sr_illness</th>\n",
       "      <th>age_i0</th>\n",
       "      <th>dias_bp</th>\n",
       "      <th>sys_bp</th>\n",
       "      <th>...</th>\n",
       "      <th>i64_date</th>\n",
       "      <th>i65_date</th>\n",
       "      <th>i66_date</th>\n",
       "      <th>i67_date</th>\n",
       "      <th>i68_date</th>\n",
       "      <th>i69_date</th>\n",
       "      <th>smok_stat</th>\n",
       "      <th>ipaq</th>\n",
       "      <th>rx</th>\n",
       "      <th>date_death</th>\n",
       "    </tr>\n",
       "  </thead>\n",
       "  <tbody>\n",
       "    <tr>\n",
       "      <th>0</th>\n",
       "      <td>2566968</td>\n",
       "      <td>0</td>\n",
       "      <td>1.23310</td>\n",
       "      <td>1001.0</td>\n",
       "      <td>21.2270</td>\n",
       "      <td>2.0</td>\n",
       "      <td>None</td>\n",
       "      <td>50</td>\n",
       "      <td>113.0</td>\n",
       "      <td>190.0</td>\n",
       "      <td>...</td>\n",
       "      <td>None</td>\n",
       "      <td>None</td>\n",
       "      <td>None</td>\n",
       "      <td>None</td>\n",
       "      <td>None</td>\n",
       "      <td>None</td>\n",
       "      <td>1.0</td>\n",
       "      <td>1.0</td>\n",
       "      <td>[2038460150]</td>\n",
       "      <td>None</td>\n",
       "    </tr>\n",
       "    <tr>\n",
       "      <th>1</th>\n",
       "      <td>1882101</td>\n",
       "      <td>0</td>\n",
       "      <td>1.09023</td>\n",
       "      <td>1001.0</td>\n",
       "      <td>31.5501</td>\n",
       "      <td>5.0</td>\n",
       "      <td>None</td>\n",
       "      <td>41</td>\n",
       "      <td>76.0</td>\n",
       "      <td>121.0</td>\n",
       "      <td>...</td>\n",
       "      <td>None</td>\n",
       "      <td>None</td>\n",
       "      <td>None</td>\n",
       "      <td>None</td>\n",
       "      <td>None</td>\n",
       "      <td>None</td>\n",
       "      <td>2.0</td>\n",
       "      <td>2.0</td>\n",
       "      <td>[1140876136, 1140883504]</td>\n",
       "      <td>None</td>\n",
       "    </tr>\n",
       "    <tr>\n",
       "      <th>2</th>\n",
       "      <td>3039452</td>\n",
       "      <td>1</td>\n",
       "      <td>-4.27277</td>\n",
       "      <td>1001.0</td>\n",
       "      <td>22.6630</td>\n",
       "      <td>2.0</td>\n",
       "      <td>[1220, 99999, 1465]</td>\n",
       "      <td>56</td>\n",
       "      <td>NaN</td>\n",
       "      <td>NaN</td>\n",
       "      <td>...</td>\n",
       "      <td>None</td>\n",
       "      <td>None</td>\n",
       "      <td>None</td>\n",
       "      <td>None</td>\n",
       "      <td>None</td>\n",
       "      <td>None</td>\n",
       "      <td>0.0</td>\n",
       "      <td>2.0</td>\n",
       "      <td>[1140868226, 1140874744, 1140861958]</td>\n",
       "      <td>None</td>\n",
       "    </tr>\n",
       "    <tr>\n",
       "      <th>3</th>\n",
       "      <td>3859804</td>\n",
       "      <td>1</td>\n",
       "      <td>-2.06036</td>\n",
       "      <td>1001.0</td>\n",
       "      <td>23.6377</td>\n",
       "      <td>1.0</td>\n",
       "      <td>[1413, 1405, 1417]</td>\n",
       "      <td>60</td>\n",
       "      <td>107.0</td>\n",
       "      <td>185.0</td>\n",
       "      <td>...</td>\n",
       "      <td>None</td>\n",
       "      <td>None</td>\n",
       "      <td>None</td>\n",
       "      <td>None</td>\n",
       "      <td>None</td>\n",
       "      <td>None</td>\n",
       "      <td>0.0</td>\n",
       "      <td>1.0</td>\n",
       "      <td>[1140868226]</td>\n",
       "      <td>None</td>\n",
       "    </tr>\n",
       "    <tr>\n",
       "      <th>4</th>\n",
       "      <td>1504147</td>\n",
       "      <td>1</td>\n",
       "      <td>-3.14689</td>\n",
       "      <td>1001.0</td>\n",
       "      <td>24.9653</td>\n",
       "      <td>2.0</td>\n",
       "      <td>[1065, 1111, 1608, 1473, 1452]</td>\n",
       "      <td>65</td>\n",
       "      <td>74.0</td>\n",
       "      <td>158.0</td>\n",
       "      <td>...</td>\n",
       "      <td>None</td>\n",
       "      <td>None</td>\n",
       "      <td>None</td>\n",
       "      <td>None</td>\n",
       "      <td>None</td>\n",
       "      <td>None</td>\n",
       "      <td>0.0</td>\n",
       "      <td>NaN</td>\n",
       "      <td>[1140879802, 1140860806, 1140861958]</td>\n",
       "      <td>None</td>\n",
       "    </tr>\n",
       "  </tbody>\n",
       "</table>\n",
       "<p>5 rows × 46 columns</p>\n",
       "</div>"
      ],
      "text/plain": [
       "       pID  male      tdi  ethnicity      bmi  alc_freq  \\\n",
       "0  2566968     0  1.23310     1001.0  21.2270       2.0   \n",
       "1  1882101     0  1.09023     1001.0  31.5501       5.0   \n",
       "2  3039452     1 -4.27277     1001.0  22.6630       2.0   \n",
       "3  3859804     1 -2.06036     1001.0  23.6377       1.0   \n",
       "4  1504147     1 -3.14689     1001.0  24.9653       2.0   \n",
       "\n",
       "                       sr_illness  age_i0  dias_bp  sys_bp  ... i64_date  \\\n",
       "0                            None      50    113.0   190.0  ...     None   \n",
       "1                            None      41     76.0   121.0  ...     None   \n",
       "2             [1220, 99999, 1465]      56      NaN     NaN  ...     None   \n",
       "3              [1413, 1405, 1417]      60    107.0   185.0  ...     None   \n",
       "4  [1065, 1111, 1608, 1473, 1452]      65     74.0   158.0  ...     None   \n",
       "\n",
       "  i65_date i66_date i67_date i68_date i69_date smok_stat  ipaq  \\\n",
       "0     None     None     None     None     None       1.0   1.0   \n",
       "1     None     None     None     None     None       2.0   2.0   \n",
       "2     None     None     None     None     None       0.0   2.0   \n",
       "3     None     None     None     None     None       0.0   1.0   \n",
       "4     None     None     None     None     None       0.0   NaN   \n",
       "\n",
       "                                     rx date_death  \n",
       "0                          [2038460150]       None  \n",
       "1              [1140876136, 1140883504]       None  \n",
       "2  [1140868226, 1140874744, 1140861958]       None  \n",
       "3                          [1140868226]       None  \n",
       "4  [1140879802, 1140860806, 1140861958]       None  \n",
       "\n",
       "[5 rows x 46 columns]"
      ]
     },
     "execution_count": 107,
     "metadata": {},
     "output_type": "execute_result"
    }
   ],
   "source": [
    "#check that rename worked\n",
    "pdf_rename.head(5)"
   ]
  },
  {
   "cell_type": "code",
   "execution_count": 108,
   "metadata": {
    "tags": []
   },
   "outputs": [],
   "source": [
    "pdf_rename['ethnicity'] = pdf_rename['ethnicity'].astype(str)"
   ]
  },
  {
   "cell_type": "code",
   "execution_count": 109,
   "metadata": {
    "tags": []
   },
   "outputs": [],
   "source": [
    "#pdf_rename['white_yes'] = pdf_rename['ethnicity'].isin(['1', '1001', '1002', '1003']).astype(int)"
   ]
  },
  {
   "cell_type": "code",
   "execution_count": 110,
   "metadata": {
    "tags": []
   },
   "outputs": [],
   "source": [
    "def update_whiteyes(value):\n",
    "    if value == '1.0' or value == '1001.0' or value == '1002.0' or value == '1003.0':    \n",
    "        return 1\n",
    "    return 0\n",
    "\n",
    "pdf_rename['white_yes'] = pdf_rename['ethnicity'].apply(update_whiteyes)"
   ]
  },
  {
   "cell_type": "code",
   "execution_count": 111,
   "metadata": {
    "tags": []
   },
   "outputs": [
    {
     "name": "stdout",
     "output_type": "stream",
     "text": [
      "Sum of white: 472609\n"
     ]
    }
   ],
   "source": [
    "sum_white = pdf_rename['white_yes'].sum()\n",
    "\n",
    "print(\"Sum of white:\", sum_white)"
   ]
  },
  {
   "cell_type": "code",
   "execution_count": 112,
   "metadata": {
    "tags": []
   },
   "outputs": [
    {
     "data": {
      "text/plain": [
       "502407"
      ]
     },
     "execution_count": 112,
     "metadata": {},
     "output_type": "execute_result"
    }
   ],
   "source": [
    "#drop alc_freq values for \"prefer not to answer\"/-3\n",
    "#pdf_rename = pdf_rename[~(pdf_rename['alc_freq'] == -3)]\n",
    "len(pdf_rename)"
   ]
  },
  {
   "cell_type": "code",
   "execution_count": 113,
   "metadata": {
    "tags": []
   },
   "outputs": [],
   "source": [
    "#reorder alc_freq values \n",
    "#if 4\tOne to three times a month | 5\tSpecial occasions only | 6\tNever, then make seldom=1\n",
    "#if 2\tThree or four times a week | 3\tOnce or twice a week, then make sometimes=2\n",
    "#if 1\tDaily or almost daily, then make daily=3\n",
    "pdf_rename['alc_freq_filter'] = np.where(pdf_rename['alc_freq'].isin([2, 3, 4, 5, 6]), 1, \n",
    "                             np.where(pdf_rename['alc_freq'].isin([1]), 0, np.nan))"
   ]
  },
  {
   "cell_type": "code",
   "execution_count": 114,
   "metadata": {
    "tags": []
   },
   "outputs": [],
   "source": [
    "#convert sr_illness to string\n",
    "pdf_rename['sr_illness'].dtype\n",
    "pdf_rename['sr_illness'] = pdf_rename['sr_illness'].astype(str)"
   ]
  },
  {
   "cell_type": "code",
   "execution_count": 115,
   "metadata": {
    "tags": []
   },
   "outputs": [
    {
     "data": {
      "text/plain": [
       "502407"
      ]
     },
     "execution_count": 115,
     "metadata": {},
     "output_type": "execute_result"
    }
   ],
   "source": [
    "#for smoking status, drop anyone who answered \"-3/prefer not to answer\"\n",
    "pdf_rename['smok_stat'] = pdf_rename['smok_stat'].astype(str)\n",
    "#pdf_rename = pdf_rename[~pdf_rename['smok_stat'].str.contains('-3')]\n",
    "len(pdf_rename)"
   ]
  },
  {
   "cell_type": "code",
   "execution_count": 116,
   "metadata": {
    "tags": []
   },
   "outputs": [],
   "source": [
    "pdf_rename['smok_stat'] = pd.to_numeric(pdf_rename['smok_stat'], errors='coerce')"
   ]
  },
  {
   "cell_type": "code",
   "execution_count": 117,
   "metadata": {
    "tags": []
   },
   "outputs": [],
   "source": [
    "#reorder smok values \n",
    "def smok_values(value):\n",
    "    if value in [1, 2]:\n",
    "        return 1\n",
    "    elif value == 0:\n",
    "        return 0\n",
    "    else:\n",
    "        return None \n",
    "\n",
    "pdf_rename['smok_stat_filter'] = pdf_rename['smok_stat'].apply(smok_values)"
   ]
  },
  {
   "cell_type": "code",
   "execution_count": 118,
   "metadata": {
    "tags": []
   },
   "outputs": [],
   "source": [
    "#calculate pulse pressure (PP)\n",
    "pdf_rename['pp'] = pdf_rename['sys_bp']-pdf_rename['dias_bp']"
   ]
  },
  {
   "cell_type": "code",
   "execution_count": 119,
   "metadata": {
    "tags": []
   },
   "outputs": [
    {
     "data": {
      "text/plain": [
       "502407"
      ]
     },
     "execution_count": 119,
     "metadata": {},
     "output_type": "execute_result"
    }
   ],
   "source": [
    "#convert date columns to days format\n",
    "import datetime\n",
    "pdf_rename['i21_time'] = (pdf_rename['date_i0'] - pdf_rename['i21_date']).dt.days\n",
    "len(pdf_rename)"
   ]
  },
  {
   "cell_type": "code",
   "execution_count": 120,
   "metadata": {
    "tags": []
   },
   "outputs": [
    {
     "data": {
      "text/plain": [
       "502407"
      ]
     },
     "execution_count": 120,
     "metadata": {},
     "output_type": "execute_result"
    }
   ],
   "source": [
    "#convert vasc_diag to string\n",
    "pdf_rename['vasc_diag'].dtype\n",
    "pdf_rename['vasc_diag'] = pdf_rename['vasc_diag'].astype(str)\n",
    "#drop px who report prior vascular diagnoses of HA, STROKE, PREFER NOT TO ANSWER\n",
    "#pdf_rename = pdf_rename.loc[(pdf_rename['vasc_diag'] == '[-7]') | (pdf_rename['vasc_diag']  == '[4]') | (pdf_rename['vasc_diag']  == '[2]') | (pdf_rename['vasc_diag']  == '[1]')]\n",
    "len(pdf_rename)"
   ]
  },
  {
   "cell_type": "code",
   "execution_count": 121,
   "metadata": {
    "tags": []
   },
   "outputs": [
    {
     "data": {
      "text/plain": [
       "502407"
      ]
     },
     "execution_count": 121,
     "metadata": {},
     "output_type": "execute_result"
    }
   ],
   "source": [
    "pdf_rename['f01_time'] = (pdf_rename['date_i0'] - pdf_rename['f01_date']).dt.days\n",
    "pdf_rename['g45_time'] = (pdf_rename['date_i0'] - pdf_rename['g45_date']).dt.days\n",
    "pdf_rename['g46_time'] = (pdf_rename['date_i0'] - pdf_rename['g46_date']).dt.days\n",
    "pdf_rename['h34_time'] = (pdf_rename['date_i0'] - pdf_rename['h34_date']).dt.days\n",
    "pdf_rename['i60_time'] = (pdf_rename['date_i0'] - pdf_rename['i60_date']).dt.days\n",
    "pdf_rename['i61_time'] = (pdf_rename['date_i0'] - pdf_rename['i61_date']).dt.days\n",
    "pdf_rename['i62_time'] = (pdf_rename['date_i0'] - pdf_rename['i62_date']).dt.days\n",
    "pdf_rename['i63_time'] = (pdf_rename['date_i0'] - pdf_rename['i63_date']).dt.days\n",
    "pdf_rename['i64_time'] = (pdf_rename['date_i0'] - pdf_rename['i64_date']).dt.days\n",
    "pdf_rename['i65_time'] = (pdf_rename['date_i0'] - pdf_rename['i65_date']).dt.days\n",
    "pdf_rename['i66_time'] = (pdf_rename['date_i0'] - pdf_rename['i66_date']).dt.days\n",
    "pdf_rename['i67_time'] = (pdf_rename['date_i0'] - pdf_rename['i67_date']).dt.days\n",
    "pdf_rename['i68_time'] = (pdf_rename['date_i0'] - pdf_rename['i68_date']).dt.days\n",
    "pdf_rename['i69_time'] = (pdf_rename['date_i0'] - pdf_rename['i69_date']).dt.days\n",
    "len(pdf_rename)"
   ]
  },
  {
   "cell_type": "code",
   "execution_count": 122,
   "metadata": {
    "tags": []
   },
   "outputs": [
    {
     "name": "stdout",
     "output_type": "stream",
     "text": [
      "4131\n"
     ]
    }
   ],
   "source": [
    "#create category for 1082= tia\n",
    "pdf_rename['tia_status'] = 0\n",
    "pdf_rename.loc[pdf_rename['sr_illness'] == '1082', 'tia_status'] = 1\n",
    "pdf_rename['g45_time'] = (pdf_rename['date_i0'] - pdf_rename['g45_date']).dt.days\n",
    "pdf_rename.loc[pdf_rename['g45_time'] > 0, 'tia_status'] = 1\n",
    "sum_columnZ = pdf_rename['tia_status'].sum()\n",
    "print(sum_columnZ)"
   ]
  },
  {
   "cell_type": "code",
   "execution_count": 123,
   "metadata": {
    "tags": []
   },
   "outputs": [
    {
     "data": {
      "text/plain": [
       "4131"
      ]
     },
     "execution_count": 123,
     "metadata": {},
     "output_type": "execute_result"
    }
   ],
   "source": [
    "tia_pdf = pdf_rename[pdf_rename['tia_status']==1]\n",
    "len(tia_pdf)"
   ]
  },
  {
   "cell_type": "code",
   "execution_count": 124,
   "metadata": {
    "tags": []
   },
   "outputs": [
    {
     "name": "stderr",
     "output_type": "stream",
     "text": [
      "/tmp/ipykernel_111/3458648131.py:1: SettingWithCopyWarning: \n",
      "A value is trying to be set on a copy of a slice from a DataFrame.\n",
      "Try using .loc[row_indexer,col_indexer] = value instead\n",
      "\n",
      "See the caveats in the documentation: https://pandas.pydata.org/pandas-docs/stable/user_guide/indexing.html#returning-a-view-versus-a-copy\n",
      "  tia_pdf.loc[tia_pdf['tia_status'] == 1, 'tia_time'] = tia_pdf['g45_time']\n"
     ]
    }
   ],
   "source": [
    "tia_pdf.loc[tia_pdf['tia_status'] == 1, 'tia_time'] = tia_pdf['g45_time']"
   ]
  },
  {
   "cell_type": "code",
   "execution_count": 125,
   "metadata": {
    "tags": []
   },
   "outputs": [],
   "source": [
    "tia_pdf.to_csv('checktia.csv')"
   ]
  },
  {
   "cell_type": "code",
   "execution_count": 126,
   "metadata": {
    "tags": []
   },
   "outputs": [],
   "source": [
    "#exposure is depression or not; outcome is cevd or not"
   ]
  },
  {
   "cell_type": "code",
   "execution_count": 127,
   "metadata": {
    "tags": []
   },
   "outputs": [
    {
     "name": "stderr",
     "output_type": "stream",
     "text": [
      "/tmp/ipykernel_111/2358928294.py:2: SettingWithCopyWarning: \n",
      "A value is trying to be set on a copy of a slice from a DataFrame.\n",
      "Try using .loc[row_indexer,col_indexer] = value instead\n",
      "\n",
      "See the caveats in the documentation: https://pandas.pydata.org/pandas-docs/stable/user_guide/indexing.html#returning-a-view-versus-a-copy\n",
      "  tia_pdf['f31_time'] = (tia_pdf['date_i0'] - tia_pdf['f31_date']).dt.days\n",
      "/tmp/ipykernel_111/2358928294.py:3: SettingWithCopyWarning: \n",
      "A value is trying to be set on a copy of a slice from a DataFrame.\n",
      "Try using .loc[row_indexer,col_indexer] = value instead\n",
      "\n",
      "See the caveats in the documentation: https://pandas.pydata.org/pandas-docs/stable/user_guide/indexing.html#returning-a-view-versus-a-copy\n",
      "  tia_pdf['f32_time'] = (tia_pdf['date_i0'] - tia_pdf['f32_date']).dt.days\n",
      "/tmp/ipykernel_111/2358928294.py:4: SettingWithCopyWarning: \n",
      "A value is trying to be set on a copy of a slice from a DataFrame.\n",
      "Try using .loc[row_indexer,col_indexer] = value instead\n",
      "\n",
      "See the caveats in the documentation: https://pandas.pydata.org/pandas-docs/stable/user_guide/indexing.html#returning-a-view-versus-a-copy\n",
      "  tia_pdf['f33_time'] = (tia_pdf['date_i0'] - tia_pdf['f33_date']).dt.days\n"
     ]
    }
   ],
   "source": [
    "#prep depression cases in \"days\" format\n",
    "tia_pdf['f31_time'] = (tia_pdf['date_i0'] - tia_pdf['f31_date']).dt.days\n",
    "tia_pdf['f32_time'] = (tia_pdf['date_i0'] - tia_pdf['f32_date']).dt.days\n",
    "tia_pdf['f33_time'] = (tia_pdf['date_i0'] - tia_pdf['f33_date']).dt.days"
   ]
  },
  {
   "cell_type": "code",
   "execution_count": 128,
   "metadata": {
    "tags": []
   },
   "outputs": [
    {
     "data": {
      "text/plain": [
       "4103"
      ]
     },
     "execution_count": 128,
     "metadata": {},
     "output_type": "execute_result"
    }
   ],
   "source": [
    "#drop phq2 scores where response was \"-3/prefer not to answer\"\n",
    "tia_pdf = tia_pdf.drop(tia_pdf.loc[tia_pdf['phq2_1'] < -1].index)\n",
    "tia_pdf = tia_pdf.drop(tia_pdf.loc[tia_pdf['phq2_2'] < -1].index)\n",
    "len(tia_pdf)"
   ]
  },
  {
   "cell_type": "code",
   "execution_count": 129,
   "metadata": {
    "tags": []
   },
   "outputs": [
    {
     "data": {
      "text/plain": [
       "4103"
      ]
     },
     "execution_count": 129,
     "metadata": {},
     "output_type": "execute_result"
    }
   ],
   "source": [
    "# replace all occurrences of -1 (do not know if depressed) in column PHQ2_1 and PHQ2_2 with 0\n",
    "tia_pdf['phq2_1'] = tia_pdf['phq2_1'].replace(-1, 0)\n",
    "tia_pdf['phq2_2'] = tia_pdf['phq2_2'].replace(-1, 0)\n",
    "tia_pdf['phq2_sum'] = tia_pdf['phq2_1']+tia_pdf['phq2_2']\n",
    "len(tia_pdf)"
   ]
  },
  {
   "cell_type": "code",
   "execution_count": 130,
   "metadata": {
    "tags": []
   },
   "outputs": [
    {
     "data": {
      "text/plain": [
       "3774"
      ]
     },
     "execution_count": 130,
     "metadata": {},
     "output_type": "execute_result"
    }
   ],
   "source": [
    "#drop rows where px doesn't have pp data\n",
    "tia_pdf = tia_pdf.dropna(subset=['pp'])\n",
    "len(tia_pdf)"
   ]
  },
  {
   "cell_type": "code",
   "execution_count": 131,
   "metadata": {
    "tags": []
   },
   "outputs": [],
   "source": [
    "# check for self-reported depression; if yes, return 1\n",
    "def check_for_depression(row):\n",
    "    if row['f31_time'] > 0 or row['f32_time'] > 0 or row['f33_time'] > 0 or row['phq2_sum'] > 2 or '1286' in row['sr_illness'] or '1291' in row['sr_illness']:\n",
    "        return 1\n",
    "    else:\n",
    "        return 0\n",
    "\n",
    "tia_pdf['dep_yes'] = tia_pdf.apply(check_for_depression, axis=1)"
   ]
  },
  {
   "cell_type": "code",
   "execution_count": 132,
   "metadata": {
    "tags": []
   },
   "outputs": [
    {
     "name": "stdout",
     "output_type": "stream",
     "text": [
      "Number of px with depression diagnosis (F31, F32, F33): 515\n"
     ]
    }
   ],
   "source": [
    "# check for diagnosed depression; if yes, return 1\n",
    "def check_for_dep_diag(row):\n",
    "    if row['f31_time'] > 0 or row['f32_time'] > 0 or row['f33_time'] > 0:\n",
    "        return 1\n",
    "    else:\n",
    "        return 0\n",
    "\n",
    "tia_pdf['dep_diag_yes'] = tia_pdf.apply(check_for_dep_diag, axis=1)\n",
    "check_dep_diag = tia_pdf['dep_diag_yes'].sum()\n",
    "print(\"Number of px with depression diagnosis (F31, F32, F33):\", check_dep_diag)"
   ]
  },
  {
   "cell_type": "code",
   "execution_count": 133,
   "metadata": {
    "tags": []
   },
   "outputs": [
    {
     "name": "stdout",
     "output_type": "stream",
     "text": [
      "Number of px with self-reported depression that do not have F31-33 diagnoses: 5\n"
     ]
    }
   ],
   "source": [
    "# check for self-reported depression; if yes, return 1\n",
    "def check_for_sr_depression(row):\n",
    "    if row['dep_diag_yes'] == 0:\n",
    "        if '1286' in row['sr_illness'] or '1291' in row['sr_illness']:\n",
    "            return 1\n",
    "    return 0\n",
    "\n",
    "tia_pdf['dep_sr_yes'] = tia_pdf.apply(lambda row: check_for_sr_depression(row), axis=1)\n",
    "check_dep_sr = tia_pdf['dep_sr_yes'].sum()\n",
    "print(\"Number of px with self-reported depression that do not have F31-33 diagnoses:\", check_dep_sr)"
   ]
  },
  {
   "cell_type": "code",
   "execution_count": 134,
   "metadata": {
    "tags": []
   },
   "outputs": [
    {
     "name": "stdout",
     "output_type": "stream",
     "text": [
      "Number of px with screened PHQ-2 score >2 who do not self-report or have an F31-33 diagnosis: 830\n"
     ]
    }
   ],
   "source": [
    "# check for self-reported depression; if yes, return 1\n",
    "def check_for_screen_depression(row):\n",
    "    if row['dep_diag_yes'] == 0 and row['dep_sr_yes'] == 0:\n",
    "        if row['phq2_sum'] > 2:\n",
    "            return 1\n",
    "    return 0\n",
    "\n",
    "tia_pdf['dep_screen_yes'] = tia_pdf.apply(lambda row: check_for_screen_depression(row), axis=1)\n",
    "check_dep_screen = tia_pdf['dep_screen_yes'].sum()\n",
    "print(\"Number of px with screened PHQ-2 score >2 who do not self-report or have an F31-33 diagnosis:\", check_dep_screen)"
   ]
  },
  {
   "cell_type": "code",
   "execution_count": 135,
   "metadata": {
    "tags": []
   },
   "outputs": [
    {
     "name": "stdout",
     "output_type": "stream",
     "text": [
      "Number of px with screened PHQ-2 score >2: 1136\n"
     ]
    }
   ],
   "source": [
    "# check for self-reported depression; if yes, return 1\n",
    "def check_for_sum_screen_depression(row):\n",
    "    if row['phq2_sum'] > 2:\n",
    "        return 1\n",
    "    return 0\n",
    "\n",
    "tia_pdf['dep_screen_sum_yes'] = tia_pdf.apply(lambda row: check_for_sum_screen_depression(row), axis=1)\n",
    "check_dep_screen_sum = tia_pdf['dep_screen_sum_yes'].sum()\n",
    "print(\"Number of px with screened PHQ-2 score >2:\", check_dep_screen_sum)"
   ]
  },
  {
   "cell_type": "code",
   "execution_count": 136,
   "metadata": {
    "tags": []
   },
   "outputs": [
    {
     "name": "stdout",
     "output_type": "stream",
     "text": [
      "Depressed Cohort Total: 1350\n"
     ]
    }
   ],
   "source": [
    "depressed_sum = tia_pdf['dep_yes'].sum()\n",
    "print('Depressed Cohort Total:', depressed_sum)"
   ]
  },
  {
   "cell_type": "code",
   "execution_count": 137,
   "metadata": {
    "tags": []
   },
   "outputs": [
    {
     "name": "stdout",
     "output_type": "stream",
     "text": [
      "Control Cohort Total: 2424\n"
     ]
    }
   ],
   "source": [
    "total_number_of_rows = len(tia_pdf)\n",
    "control_sum = total_number_of_rows-depressed_sum\n",
    "print('Control Cohort Total:', control_sum)"
   ]
  },
  {
   "cell_type": "code",
   "execution_count": 138,
   "metadata": {
    "tags": []
   },
   "outputs": [
    {
     "data": {
      "text/plain": [
       "3774"
      ]
     },
     "execution_count": 138,
     "metadata": {},
     "output_type": "execute_result"
    }
   ],
   "source": [
    "# if there is a dep diagnosis, return the time of diagnosis in the dep_dur column\n",
    "def get_dep_cases(row, cols):\n",
    "    for col in cols:\n",
    "        if row[col] > 0:\n",
    "            return row[col]\n",
    "    return None\n",
    "\n",
    "cols_to_check = ['f31_time', 'f32_time', 'f33_time']\n",
    "tia_pdf['dep_dur'] = tia_pdf.apply(lambda row: get_dep_cases(row, cols_to_check), axis=1)\n",
    "len(tia_pdf)"
   ]
  },
  {
   "cell_type": "code",
   "execution_count": 139,
   "metadata": {
    "tags": []
   },
   "outputs": [],
   "source": [
    "tia_pdf['date_i0'] = pd.to_datetime(tia_pdf['date_i0'])\n",
    "tia_pdf['f01_date'] = pd.to_datetime(tia_pdf['f01_date'])\n",
    "tia_pdf['g45_date'] = pd.to_datetime(tia_pdf['g45_date'])\n",
    "tia_pdf['h34_date'] = pd.to_datetime(tia_pdf['h34_date'])\n",
    "tia_pdf['i60_date'] = pd.to_datetime(tia_pdf['i60_date'])\n",
    "tia_pdf['i61_date'] = pd.to_datetime(tia_pdf['i61_date'])\n",
    "tia_pdf['i62_date'] = pd.to_datetime(tia_pdf['i62_date'])\n",
    "tia_pdf['i63_date'] = pd.to_datetime(tia_pdf['i63_date'])\n",
    "tia_pdf['i64_date'] = pd.to_datetime(tia_pdf['i64_date'])\n",
    "tia_pdf['i65_date'] = pd.to_datetime(tia_pdf['i65_date'])\n",
    "tia_pdf['i66_date'] = pd.to_datetime(tia_pdf['i66_date'])\n",
    "tia_pdf['i67_date'] = pd.to_datetime(tia_pdf['i67_date'])\n",
    "tia_pdf['i68_date'] = pd.to_datetime(tia_pdf['i68_date'])\n",
    "tia_pdf['i69_date'] = pd.to_datetime(tia_pdf['i69_date'])"
   ]
  },
  {
   "cell_type": "code",
   "execution_count": 140,
   "metadata": {
    "tags": []
   },
   "outputs": [],
   "source": [
    "pdf_rename = tia_pdf "
   ]
  },
  {
   "cell_type": "code",
   "execution_count": 141,
   "metadata": {
    "tags": []
   },
   "outputs": [],
   "source": [
    "#prep for cox model\n",
    "#if assessment date - event date < 0, then copy absolute value to corresponding column\n",
    "pdf_rename.loc[pdf_rename['f01_time'] < 0, 'f01_t2e'] = abs(pdf_rename['f01_time'])\n",
    "pdf_rename.loc[pdf_rename['g45_time'] < 0, 'g45_t2e'] = abs(pdf_rename['g45_time'])\n",
    "pdf_rename.loc[pdf_rename['g46_time'] < 0, 'g46_t2e'] = abs(pdf_rename['g46_time'])\n",
    "pdf_rename.loc[pdf_rename['h34_time'] < 0, 'h34_t2e'] = abs(pdf_rename['h34_time'])\n",
    "pdf_rename.loc[pdf_rename['i60_time'] < 0, 'i60_t2e'] = abs(pdf_rename['i60_time'])\n",
    "pdf_rename.loc[pdf_rename['i61_time'] < 0, 'i61_t2e'] = abs(pdf_rename['i61_time'])\n",
    "pdf_rename.loc[pdf_rename['i62_time'] < 0, 'i62_t2e'] = abs(pdf_rename['i62_time'])\n",
    "pdf_rename.loc[pdf_rename['i63_time'] < 0, 'i63_t2e'] = abs(pdf_rename['i63_time'])\n",
    "pdf_rename.loc[pdf_rename['i64_time'] < 0, 'i64_t2e'] = abs(pdf_rename['i64_time'])\n",
    "pdf_rename.loc[pdf_rename['i65_time'] < 0, 'i65_t2e'] = abs(pdf_rename['i65_time'])\n",
    "pdf_rename.loc[pdf_rename['i66_time'] < 0, 'i66_t2e'] = abs(pdf_rename['i66_time'])\n",
    "pdf_rename.loc[pdf_rename['i67_time'] < 0, 'i67_t2e'] = abs(pdf_rename['i67_time'])\n",
    "pdf_rename.loc[pdf_rename['i68_time'] < 0, 'i68_t2e'] = abs(pdf_rename['i68_time'])\n",
    "pdf_rename.loc[pdf_rename['i69_time'] < 0, 'i69_t2e'] = abs(pdf_rename['i69_time'])"
   ]
  },
  {
   "cell_type": "code",
   "execution_count": 142,
   "metadata": {
    "tags": []
   },
   "outputs": [],
   "source": [
    "#if there is a time-to-event in XXX_t2e, then place 1 in outcome column for each CeVD\n",
    "pdf_rename.loc[pdf_rename['f01_t2e'].notna(), 'f01_event'] = 1\n",
    "pdf_rename.loc[pdf_rename['g45_t2e'].notna(), 'g45_event'] = 1\n",
    "pdf_rename.loc[pdf_rename['g46_t2e'].notna(), 'g46_event'] = 1\n",
    "pdf_rename.loc[pdf_rename['h34_t2e'].notna(), 'h34_event'] = 1\n",
    "pdf_rename.loc[pdf_rename['i60_t2e'].notna(), 'i60_event'] = 1\n",
    "pdf_rename.loc[pdf_rename['i61_t2e'].notna(), 'i61_event'] = 1\n",
    "pdf_rename.loc[pdf_rename['i62_t2e'].notna(), 'i62_event'] = 1\n",
    "pdf_rename.loc[pdf_rename['i63_t2e'].notna(), 'i63_event'] = 1\n",
    "pdf_rename.loc[pdf_rename['i64_t2e'].notna(), 'i64_event'] = 1\n",
    "pdf_rename.loc[pdf_rename['i65_t2e'].notna(), 'i65_event'] = 1\n",
    "pdf_rename.loc[pdf_rename['i66_t2e'].notna(), 'i66_event'] = 1\n",
    "pdf_rename.loc[pdf_rename['i67_t2e'].notna(), 'i67_event'] = 1\n",
    "pdf_rename.loc[pdf_rename['i68_t2e'].notna(), 'i68_event'] = 1\n",
    "pdf_rename.loc[pdf_rename['i69_t2e'].notna(), 'i69_event'] = 1"
   ]
  },
  {
   "cell_type": "code",
   "execution_count": 143,
   "metadata": {
    "tags": []
   },
   "outputs": [],
   "source": [
    "#prep for cox model\n",
    "#if assessment date - event date < 0, then copy absolute value to corresponding column\n",
    "pdf_rename.loc[pdf_rename['f01_time'] > 0, 'f01_t2e_p'] = abs(pdf_rename['f01_time'])\n",
    "pdf_rename.loc[pdf_rename['g45_time'] > 0, 'g45_t2e_p'] = abs(pdf_rename['g45_time'])\n",
    "pdf_rename.loc[pdf_rename['g46_time'] > 0, 'g46_t2e_p'] = abs(pdf_rename['g46_time'])\n",
    "pdf_rename.loc[pdf_rename['h34_time'] > 0, 'h34_t2e_p'] = abs(pdf_rename['h34_time'])\n",
    "pdf_rename.loc[pdf_rename['i60_time'] > 0, 'i60_t2e_p'] = abs(pdf_rename['i60_time'])\n",
    "pdf_rename.loc[pdf_rename['i61_time'] > 0, 'i61_t2e_p'] = abs(pdf_rename['i61_time'])\n",
    "pdf_rename.loc[pdf_rename['i62_time'] > 0, 'i62_t2e_p'] = abs(pdf_rename['i62_time'])\n",
    "pdf_rename.loc[pdf_rename['i63_time'] > 0, 'i63_t2e_p'] = abs(pdf_rename['i63_time'])\n",
    "pdf_rename.loc[pdf_rename['i64_time'] > 0, 'i64_t2e_p'] = abs(pdf_rename['i64_time'])\n",
    "pdf_rename.loc[pdf_rename['i65_time'] > 0, 'i65_t2e_p'] = abs(pdf_rename['i65_time'])\n",
    "pdf_rename.loc[pdf_rename['i66_time'] > 0, 'i66_t2e_p'] = abs(pdf_rename['i66_time'])\n",
    "pdf_rename.loc[pdf_rename['i67_time'] > 0, 'i67_t2e_p'] = abs(pdf_rename['i67_time'])\n",
    "pdf_rename.loc[pdf_rename['i68_time'] > 0, 'i68_t2e_p'] = abs(pdf_rename['i68_time'])\n",
    "pdf_rename.loc[pdf_rename['i69_time'] > 0, 'i69_t2e_p'] = abs(pdf_rename['i69_time'])"
   ]
  },
  {
   "cell_type": "code",
   "execution_count": 144,
   "metadata": {
    "tags": []
   },
   "outputs": [],
   "source": [
    "#if there is a time-to-event in XXX_t2e, then place 1 in outcome column for each CeVD\n",
    "pdf_rename.loc[pdf_rename['f01_t2e_p'].notna(), 'f01_event_p'] = 1\n",
    "pdf_rename.loc[pdf_rename['g45_t2e_p'].notna(), 'g45_event_p'] = 1\n",
    "pdf_rename.loc[pdf_rename['g46_t2e_p'].notna(), 'g46_event_p'] = 1\n",
    "pdf_rename.loc[pdf_rename['h34_t2e_p'].notna(), 'h34_event_p'] = 1\n",
    "pdf_rename.loc[pdf_rename['i60_t2e_p'].notna(), 'i60_event_p'] = 1\n",
    "pdf_rename.loc[pdf_rename['i61_t2e_p'].notna(), 'i61_event_p'] = 1\n",
    "pdf_rename.loc[pdf_rename['i62_t2e_p'].notna(), 'i62_event_p'] = 1\n",
    "pdf_rename.loc[pdf_rename['i63_t2e_p'].notna(), 'i63_event_p'] = 1\n",
    "pdf_rename.loc[pdf_rename['i64_t2e_p'].notna(), 'i64_event_p'] = 1\n",
    "pdf_rename.loc[pdf_rename['i65_t2e_p'].notna(), 'i65_event_p'] = 1\n",
    "pdf_rename.loc[pdf_rename['i66_t2e_p'].notna(), 'i66_event_p'] = 1\n",
    "pdf_rename.loc[pdf_rename['i67_t2e_p'].notna(), 'i67_event_p'] = 1\n",
    "pdf_rename.loc[pdf_rename['i68_t2e_p'].notna(), 'i68_event_p'] = 1\n",
    "pdf_rename.loc[pdf_rename['i69_t2e_p'].notna(), 'i69_event_p'] = 1"
   ]
  },
  {
   "cell_type": "code",
   "execution_count": 145,
   "metadata": {
    "tags": []
   },
   "outputs": [
    {
     "name": "stdout",
     "output_type": "stream",
     "text": [
      "Number of CeVD events (total) 791.0\n"
     ]
    }
   ],
   "source": [
    "#create cevd outcome value\n",
    "pdf_rename.loc[(pdf_rename['f01_event'].notna()) | (pdf_rename['g45_event'].notna()) | (pdf_rename['g46_event'].notna()) | (pdf_rename['h34_event'].notna()) | (pdf_rename['i60_event'].notna()) | (pdf_rename['i61_event'].notna()) | (pdf_rename['i62_event'].notna()) | (pdf_rename['i63_event'].notna()) | (pdf_rename['i64_event'].notna()) | (pdf_rename['i65_event'].notna()) | (pdf_rename['i66_event'].notna()) | (pdf_rename['i67_event'].notna()) | (pdf_rename['i68_event'].notna()) | (pdf_rename['i69_event'].notna()), 'cevd_event'] = 1\n",
    "pdf_rename['cevd_event'] = pdf_rename['cevd_event'].fillna(0)\n",
    "\n",
    "#check number of cevd_events \n",
    "sum_cevdevents = pdf_rename['cevd_event'].sum()\n",
    "print('Number of CeVD events (total)', sum_cevdevents)"
   ]
  },
  {
   "cell_type": "code",
   "execution_count": 146,
   "metadata": {
    "tags": []
   },
   "outputs": [],
   "source": [
    "#create cevd time-to-event value for earliest cevd event\n",
    "pdf_rename['cevd_t2e'] = pdf_rename[['f01_t2e', 'g45_t2e', 'g46_t2e', 'h34_t2e', 'i60_t2e', 'i61_t2e', 'i62_t2e', 'i63_t2e', 'i64_t2e', 'i65_t2e', 'i66_t2e', 'i67_t2e', 'i68_t2e', 'i69_t2e']].min(axis=1)"
   ]
  },
  {
   "cell_type": "code",
   "execution_count": 147,
   "metadata": {
    "tags": []
   },
   "outputs": [],
   "source": [
    "def convert_columns_to_int(df):\n",
    "    df['f01_t2e'] = pd.to_numeric(df['f01_t2e'], errors='coerce').astype(pd.Int64Dtype())\n",
    "    df['g45_t2e'] = pd.to_numeric(df['g45_t2e'], errors='coerce').astype(pd.Int64Dtype())\n",
    "    df['g46_t2e'] = pd.to_numeric(df['g46_t2e'], errors='coerce').astype(pd.Int64Dtype())\n",
    "    df['h34_t2e'] = pd.to_numeric(df['h34_t2e'], errors='coerce').astype(pd.Int64Dtype())\n",
    "    df['i60_t2e'] = pd.to_numeric(df['i60_t2e'], errors='coerce').astype(pd.Int64Dtype())\n",
    "    df['i61_t2e'] = pd.to_numeric(df['i61_t2e'], errors='coerce').astype(pd.Int64Dtype())\n",
    "    df['i62_t2e'] = pd.to_numeric(df['i62_t2e'], errors='coerce').astype(pd.Int64Dtype())\n",
    "    df['i63_t2e'] = pd.to_numeric(df['i63_t2e'], errors='coerce').astype(pd.Int64Dtype())\n",
    "    df['i64_t2e'] = pd.to_numeric(df['i64_t2e'], errors='coerce').astype(pd.Int64Dtype())\n",
    "    df['i65_t2e'] = pd.to_numeric(df['i65_t2e'], errors='coerce').astype(pd.Int64Dtype())\n",
    "    df['i66_t2e'] = pd.to_numeric(df['i66_t2e'], errors='coerce').astype(pd.Int64Dtype())\n",
    "    df['i67_t2e'] = pd.to_numeric(df['i67_t2e'], errors='coerce').astype(pd.Int64Dtype())\n",
    "    df['i68_t2e'] = pd.to_numeric(df['i68_t2e'], errors='coerce').astype(pd.Int64Dtype())\n",
    "    df['i69_t2e'] = pd.to_numeric(df['i69_t2e'], errors='coerce').astype(pd.Int64Dtype())\n",
    "    df['cevd_t2e'] = pd.to_numeric(df['cevd_t2e'], errors='coerce').astype(pd.Int64Dtype())\n",
    "    return df\n",
    "\n",
    "pdf_rename = convert_columns_to_int(pdf_rename)"
   ]
  },
  {
   "cell_type": "code",
   "execution_count": 148,
   "metadata": {
    "tags": []
   },
   "outputs": [],
   "source": [
    "def check_cevd_types(df):\n",
    "    for index, row in df.iterrows():\n",
    "        if pd.notna(row['f01_t2e']):\n",
    "            if row['f01_t2e'] != row['cevd_t2e']:\n",
    "                df.at[index, 'f01_t2e'] = None\n",
    "        if pd.notna(row['g45_t2e']):\n",
    "            if row['g45_t2e'] != row['cevd_t2e']:\n",
    "                 df.at[index, 'g45_t2e'] = None\n",
    "        if pd.notna(row['g46_t2e']):\n",
    "            if row['g46_t2e'] != row['cevd_t2e']:\n",
    "                 df.at[index, 'g46_t2e'] = None\n",
    "        if pd.notna(row['h34_t2e']):\n",
    "            if row['h34_t2e'] != row['cevd_t2e']:\n",
    "                 df.at[index, 'h34_t2e'] = None\n",
    "        if pd.notna(row['i60_t2e']):\n",
    "            if row['i60_t2e'] != row['cevd_t2e']:\n",
    "                 df.at[index, 'i60_t2e'] = None\n",
    "        if pd.notna(row['i61_t2e']):\n",
    "            if row['i61_t2e'] != row['cevd_t2e']:\n",
    "                 df.at[index, 'i61_t2e'] = None\n",
    "        if pd.notna(row['i62_t2e']):\n",
    "            if row['i62_t2e'] != row['cevd_t2e']:\n",
    "                 df.at[index, 'i62_t2e'] = None\n",
    "        if pd.notna(row['i63_t2e']):\n",
    "            if row['i63_t2e'] != row['cevd_t2e']:\n",
    "                 df.at[index, 'i63_t2e'] = None\n",
    "        if pd.notna(row['i64_t2e']):\n",
    "            if row['i64_t2e'] != row['cevd_t2e']:\n",
    "                 df.at[index, 'i64_t2e'] = None\n",
    "        if pd.notna(row['i65_t2e']):\n",
    "            if row['i65_t2e'] != row['cevd_t2e']:\n",
    "                 df.at[index, 'i65_t2e'] = None\n",
    "        if pd.notna(row['i66_t2e']):\n",
    "            if row['i66_t2e'] != row['cevd_t2e']:\n",
    "                 df.at[index, 'i66_t2e'] = None\n",
    "        if pd.notna(row['i67_t2e']):\n",
    "            if row['i67_t2e'] != row['cevd_t2e']:\n",
    "                 df.at[index, 'i67_t2e'] = None\n",
    "        if pd.notna(row['i68_t2e']):\n",
    "            if row['i68_t2e'] != row['cevd_t2e']:\n",
    "                 df.at[index, 'i68_t2e'] = None\n",
    "        if pd.notna(row['i69_t2e']):\n",
    "            if row['i69_t2e'] != row['cevd_t2e']:\n",
    "                 df.at[index, 'i69_t2e'] = None\n",
    "    return df\n",
    "\n",
    "cevd_df_first = check_cevd_types(pdf_rename)"
   ]
  },
  {
   "cell_type": "code",
   "execution_count": 161,
   "metadata": {
    "tags": []
   },
   "outputs": [
    {
     "data": {
      "text/plain": [
       "3774"
      ]
     },
     "execution_count": 161,
     "metadata": {},
     "output_type": "execute_result"
    }
   ],
   "source": [
    "len(cevd_df_first)"
   ]
  },
  {
   "cell_type": "code",
   "execution_count": 162,
   "metadata": {
    "tags": []
   },
   "outputs": [
    {
     "data": {
      "text/plain": [
       "3773"
      ]
     },
     "execution_count": 162,
     "metadata": {},
     "output_type": "execute_result"
    }
   ],
   "source": [
    "#drop px who had a f01 diagnosis between TIA and baseline visit\n",
    "def filter_f01(dataframe):\n",
    "    dataframe_new = dataframe.copy()\n",
    "    \n",
    "    for index, row in dataframe.iterrows():\n",
    "        if row['cevd_event'] == 1:\n",
    "            date_target = row['f01_date']\n",
    "            date_1 = row['g45_date']\n",
    "            date_check = row['date_i0']\n",
    "            if date_1 < date_target < date_check:\n",
    "                dataframe_new.drop(index, inplace=True)\n",
    "    \n",
    "    return dataframe_new\n",
    "\n",
    "filtered_1 = filter_f01(cevd_df_first)\n",
    "len(filtered_1)"
   ]
  },
  {
   "cell_type": "code",
   "execution_count": 164,
   "metadata": {
    "tags": []
   },
   "outputs": [
    {
     "ename": "TypeError",
     "evalue": "'<' not supported between instances of 'Timestamp' and 'NoneType'",
     "output_type": "error",
     "traceback": [
      "\u001b[0;31m---------------------------------------------------------------------------\u001b[0m",
      "\u001b[0;31mTypeError\u001b[0m                                 Traceback (most recent call last)",
      "Cell \u001b[0;32mIn[164], line 15\u001b[0m\n\u001b[1;32m     11\u001b[0m                 dataframe_new\u001b[38;5;241m.\u001b[39mdrop(index, inplace\u001b[38;5;241m=\u001b[39m\u001b[38;5;28;01mTrue\u001b[39;00m)\n\u001b[1;32m     13\u001b[0m     \u001b[38;5;28;01mreturn\u001b[39;00m dataframe_new\n\u001b[0;32m---> 15\u001b[0m filtered_1 \u001b[38;5;241m=\u001b[39m \u001b[43mfilter_g46\u001b[49m\u001b[43m(\u001b[49m\u001b[43mfiltered_1\u001b[49m\u001b[43m)\u001b[49m\n\u001b[1;32m     16\u001b[0m \u001b[38;5;28mlen\u001b[39m(filtered_1)\n",
      "Cell \u001b[0;32mIn[164], line 10\u001b[0m, in \u001b[0;36mfilter_g46\u001b[0;34m(dataframe)\u001b[0m\n\u001b[1;32m      8\u001b[0m         date_1 \u001b[38;5;241m=\u001b[39m row[\u001b[38;5;124m'\u001b[39m\u001b[38;5;124mg45_date\u001b[39m\u001b[38;5;124m'\u001b[39m]\n\u001b[1;32m      9\u001b[0m         date_check \u001b[38;5;241m=\u001b[39m row[\u001b[38;5;124m'\u001b[39m\u001b[38;5;124mdate_i0\u001b[39m\u001b[38;5;124m'\u001b[39m]\n\u001b[0;32m---> 10\u001b[0m         \u001b[38;5;28;01mif\u001b[39;00m date_1 \u001b[38;5;241m<\u001b[39m date_target \u001b[38;5;241m<\u001b[39m date_check:\n\u001b[1;32m     11\u001b[0m             dataframe_new\u001b[38;5;241m.\u001b[39mdrop(index, inplace\u001b[38;5;241m=\u001b[39m\u001b[38;5;28;01mTrue\u001b[39;00m)\n\u001b[1;32m     13\u001b[0m \u001b[38;5;28;01mreturn\u001b[39;00m dataframe_new\n",
      "\u001b[0;31mTypeError\u001b[0m: '<' not supported between instances of 'Timestamp' and 'NoneType'"
     ]
    }
   ],
   "source": [
    "#drop px who had a f01 diagnosis between TIA and baseline visit\n",
    "def filter_g46(dataframe):\n",
    "    dataframe_new = dataframe.copy()\n",
    "    \n",
    "    for index, row in dataframe.iterrows():\n",
    "        if row['cevd_event'] == 1:\n",
    "            date_target = row['g46_date']\n",
    "            date_1 = row['g45_date']\n",
    "            date_check = row['date_i0']\n",
    "            if date_1 < date_target < date_check:\n",
    "                dataframe_new.drop(index, inplace=True)\n",
    "    \n",
    "    return dataframe_new\n",
    "\n",
    "filtered_1 = filter_g46(filtered_1)\n",
    "len(filtered_1)"
   ]
  },
  {
   "cell_type": "code",
   "execution_count": 165,
   "metadata": {
    "tags": []
   },
   "outputs": [
    {
     "data": {
      "text/plain": [
       "3768"
      ]
     },
     "execution_count": 165,
     "metadata": {},
     "output_type": "execute_result"
    }
   ],
   "source": [
    "#drop px who had a h34 diagnosis between TIA and baseline visit\n",
    "def filter_h34(dataframe):\n",
    "    dataframe_new = dataframe.copy()\n",
    "    \n",
    "    for index, row in dataframe.iterrows():\n",
    "        if row['cevd_event'] == 1:\n",
    "            date_target = row['h34_date']\n",
    "            date_1 = row['g45_date']\n",
    "            date_check = row['date_i0']\n",
    "            if date_1 < date_target < date_check:\n",
    "                dataframe_new.drop(index, inplace=True)\n",
    "    \n",
    "    return dataframe_new\n",
    "\n",
    "filtered_1 = filter_h34(filtered_1)\n",
    "len(filtered_1)"
   ]
  },
  {
   "cell_type": "code",
   "execution_count": 166,
   "metadata": {
    "tags": []
   },
   "outputs": [
    {
     "data": {
      "text/plain": [
       "3768"
      ]
     },
     "execution_count": 166,
     "metadata": {},
     "output_type": "execute_result"
    }
   ],
   "source": [
    "#drop px who had an i60 after TIA and before baseline\n",
    "def filter_i60(dataframe):\n",
    "    dataframe_new = dataframe.copy()\n",
    "    \n",
    "    for index, row in dataframe.iterrows():\n",
    "        if row['cevd_event'] == 1:\n",
    "            date_target = row['i60_date']\n",
    "            date_1 = row['g45_date']\n",
    "            date_check = row['date_i0']\n",
    "            if date_1 < date_target < date_check:\n",
    "                dataframe_new.drop(index, inplace=True)\n",
    "    \n",
    "    return dataframe_new\n",
    "\n",
    "filtered_1 = filter_i60(filtered_1)\n",
    "len(filtered_1)"
   ]
  },
  {
   "cell_type": "code",
   "execution_count": 167,
   "metadata": {
    "tags": []
   },
   "outputs": [
    {
     "data": {
      "text/plain": [
       "3764"
      ]
     },
     "execution_count": 167,
     "metadata": {},
     "output_type": "execute_result"
    }
   ],
   "source": [
    "#drop px who had an i61 after TIA and before baseline\n",
    "def filter_i61(dataframe):\n",
    "    dataframe_new = dataframe.copy()\n",
    "    \n",
    "    for index, row in dataframe.iterrows():\n",
    "        if row['cevd_event'] == 1:\n",
    "            date_target = row['i61_date']\n",
    "            date_1 = row['g45_date']\n",
    "            date_check = row['date_i0']\n",
    "            if date_1 < date_target < date_check:\n",
    "                dataframe_new.drop(index, inplace=True)\n",
    "    \n",
    "    return dataframe_new\n",
    "\n",
    "filtered_1 = filter_i61(filtered_1)\n",
    "len(filtered_1)"
   ]
  },
  {
   "cell_type": "code",
   "execution_count": 168,
   "metadata": {
    "tags": []
   },
   "outputs": [
    {
     "data": {
      "text/plain": [
       "3759"
      ]
     },
     "execution_count": 168,
     "metadata": {},
     "output_type": "execute_result"
    }
   ],
   "source": [
    "#drop px who had an i62 after TIA and before baseline\n",
    "def filter_i62(dataframe):\n",
    "    dataframe_new = dataframe.copy()\n",
    "    \n",
    "    for index, row in dataframe.iterrows():\n",
    "        if row['cevd_event'] == 1:\n",
    "            date_target = row['i62_date']\n",
    "            date_1 = row['g45_date']\n",
    "            date_check = row['date_i0']\n",
    "            if date_1 < date_target < date_check:\n",
    "                dataframe_new.drop(index, inplace=True)\n",
    "    \n",
    "    return dataframe_new\n",
    "\n",
    "filtered_1 = filter_i62(filtered_1)\n",
    "len(filtered_1)"
   ]
  },
  {
   "cell_type": "code",
   "execution_count": 169,
   "metadata": {
    "tags": []
   },
   "outputs": [
    {
     "data": {
      "text/plain": [
       "3722"
      ]
     },
     "execution_count": 169,
     "metadata": {},
     "output_type": "execute_result"
    }
   ],
   "source": [
    "#drop px who had an i63 after TIA and before baseline\n",
    "def filter_i63(dataframe):\n",
    "    dataframe_new = dataframe.copy()\n",
    "    \n",
    "    for index, row in dataframe.iterrows():\n",
    "        if row['cevd_event'] == 1:\n",
    "            date_target = row['i63_date']\n",
    "            date_1 = row['g45_date']\n",
    "            date_check = row['date_i0']\n",
    "            if date_1 < date_target < date_check:\n",
    "                dataframe_new.drop(index, inplace=True)\n",
    "    \n",
    "    return dataframe_new\n",
    "\n",
    "filtered_1 = filter_i63(filtered_1)\n",
    "len(filtered_1)"
   ]
  },
  {
   "cell_type": "code",
   "execution_count": 170,
   "metadata": {
    "tags": []
   },
   "outputs": [
    {
     "data": {
      "text/plain": [
       "3597"
      ]
     },
     "execution_count": 170,
     "metadata": {},
     "output_type": "execute_result"
    }
   ],
   "source": [
    "#drop px who had an i64 after TIA and before baseline\n",
    "def filter_i64(dataframe):\n",
    "    dataframe_new = dataframe.copy()\n",
    "    \n",
    "    for index, row in dataframe.iterrows():\n",
    "        if row['cevd_event'] == 1:\n",
    "            date_target = row['i64_date']\n",
    "            date_1 = row['g45_date']\n",
    "            date_check = row['date_i0']\n",
    "            if date_1 < date_target < date_check:\n",
    "                dataframe_new.drop(index, inplace=True)\n",
    "    \n",
    "    return dataframe_new\n",
    "\n",
    "filtered_1 = filter_i64(filtered_1)\n",
    "len(filtered_1)"
   ]
  },
  {
   "cell_type": "code",
   "execution_count": 171,
   "metadata": {
    "tags": []
   },
   "outputs": [
    {
     "data": {
      "text/plain": [
       "3573"
      ]
     },
     "execution_count": 171,
     "metadata": {},
     "output_type": "execute_result"
    }
   ],
   "source": [
    "#drop px who had an i65 after TIA and before baseline\n",
    "def filter_i65(dataframe):\n",
    "    dataframe_new = dataframe.copy()\n",
    "    \n",
    "    for index, row in dataframe.iterrows():\n",
    "        if row['cevd_event'] == 1:\n",
    "            date_target = row['i65_date']\n",
    "            date_1 = row['g45_date']\n",
    "            date_check = row['date_i0']\n",
    "            if date_1 < date_target < date_check:\n",
    "                dataframe_new.drop(index, inplace=True)\n",
    "    \n",
    "    return dataframe_new\n",
    "\n",
    "filtered_1 = filter_i65(filtered_1)\n",
    "len(filtered_1)"
   ]
  },
  {
   "cell_type": "code",
   "execution_count": 172,
   "metadata": {
    "tags": []
   },
   "outputs": [
    {
     "data": {
      "text/plain": [
       "3572"
      ]
     },
     "execution_count": 172,
     "metadata": {},
     "output_type": "execute_result"
    }
   ],
   "source": [
    "#drop px who had an i66 after TIA and before baseline\n",
    "def filter_i66(dataframe):\n",
    "    dataframe_new = dataframe.copy()\n",
    "    \n",
    "    for index, row in dataframe.iterrows():\n",
    "        if row['cevd_event'] == 1:\n",
    "            date_target = row['i66_date']\n",
    "            date_1 = row['g45_date']\n",
    "            date_check = row['date_i0']\n",
    "            if date_1 < date_target < date_check:\n",
    "                dataframe_new.drop(index, inplace=True)\n",
    "    \n",
    "    return dataframe_new\n",
    "\n",
    "filtered_1 = filter_i66(filtered_1)\n",
    "len(filtered_1)"
   ]
  },
  {
   "cell_type": "code",
   "execution_count": 173,
   "metadata": {
    "tags": []
   },
   "outputs": [
    {
     "data": {
      "text/plain": [
       "3555"
      ]
     },
     "execution_count": 173,
     "metadata": {},
     "output_type": "execute_result"
    }
   ],
   "source": [
    "#drop px who have a case after TIA and before baseline\n",
    "def filter_i67(dataframe):\n",
    "    dataframe_new = dataframe.copy()\n",
    "    \n",
    "    for index, row in dataframe.iterrows():\n",
    "        if row['cevd_event'] == 1:\n",
    "            date_target = row['i67_date']\n",
    "            date_1 = row['g45_date']\n",
    "            date_check = row['date_i0']\n",
    "            if date_1 < date_target < date_check:\n",
    "                dataframe_new.drop(index, inplace=True)\n",
    "    \n",
    "    return dataframe_new\n",
    "\n",
    "filtered_1 = filter_i67(filtered_1)\n",
    "len(filtered_1)"
   ]
  },
  {
   "cell_type": "code",
   "execution_count": 174,
   "metadata": {
    "tags": []
   },
   "outputs": [
    {
     "data": {
      "text/plain": [
       "3555"
      ]
     },
     "execution_count": 174,
     "metadata": {},
     "output_type": "execute_result"
    }
   ],
   "source": [
    "#drop px who have a case after TIA and before baseline\n",
    "def filter_i68(dataframe):\n",
    "    dataframe_new = dataframe.copy()\n",
    "    \n",
    "    for index, row in dataframe.iterrows():\n",
    "        if row['cevd_event'] == 1:\n",
    "            date_target = row['i68_date']\n",
    "            date_1 = row['g45_date']\n",
    "            date_check = row['date_i0']\n",
    "            if date_1 < date_target < date_check:\n",
    "                dataframe_new.drop(index, inplace=True)\n",
    "    \n",
    "    return dataframe_new\n",
    "\n",
    "filtered_1 = filter_i68(filtered_1)\n",
    "len(filtered_1)"
   ]
  },
  {
   "cell_type": "code",
   "execution_count": 175,
   "metadata": {
    "tags": []
   },
   "outputs": [
    {
     "data": {
      "text/plain": [
       "3545"
      ]
     },
     "execution_count": 175,
     "metadata": {},
     "output_type": "execute_result"
    }
   ],
   "source": [
    "#drop px who have a case after TIA and before baseline\n",
    "def filter_i69(dataframe):\n",
    "    dataframe_new = dataframe.copy()\n",
    "    \n",
    "    for index, row in dataframe.iterrows():\n",
    "        if row['cevd_event'] == 1:\n",
    "            date_target = row['i69_date']\n",
    "            date_1 = row['g45_date']\n",
    "            date_check = row['date_i0']\n",
    "            if date_1 < date_target < date_check:\n",
    "                dataframe_new.drop(index, inplace=True)\n",
    "    \n",
    "    return dataframe_new\n",
    "\n",
    "filtered_1 = filter_i69(filtered_1)\n",
    "len(filtered_1)"
   ]
  },
  {
   "cell_type": "code",
   "execution_count": 176,
   "metadata": {
    "tags": []
   },
   "outputs": [],
   "source": [
    "#dataset filtered_1 contains no px with events in betweeen g45 (TIA) and date_i0 (baseline)"
   ]
  },
  {
   "cell_type": "code",
   "execution_count": null,
   "metadata": {},
   "outputs": [],
   "source": [
    "#"
   ]
  },
  {
   "cell_type": "code",
   "execution_count": null,
   "metadata": {},
   "outputs": [],
   "source": [
    "#calculate baseline data"
   ]
  },
  {
   "cell_type": "code",
   "execution_count": 83,
   "metadata": {
    "tags": []
   },
   "outputs": [],
   "source": [
    "#"
   ]
  },
  {
   "cell_type": "code",
   "execution_count": 178,
   "metadata": {
    "tags": []
   },
   "outputs": [],
   "source": [
    "pdf_rename = filtered_1"
   ]
  },
  {
   "cell_type": "code",
   "execution_count": 179,
   "metadata": {
    "tags": []
   },
   "outputs": [],
   "source": [
    "pdf_rename['date_i0'] = pd.to_datetime(pdf_rename['date_i0']).dt.date  # Convert to datetime.date\n",
    "pdf_rename['i10_date'] = pd.to_datetime(pdf_rename['i10_date']).dt.date  # Convert to datetime.date\n",
    "pdf_rename['i15_date'] = pd.to_datetime(pdf_rename['i15_date']).dt.date  # Convert to datetime.date\n",
    "\n",
    "\n",
    "#create hypertension category\n",
    "#prep htn cases\n",
    "pdf_rename['i10_time'] = (pdf_rename['date_i0'] - pdf_rename['i10_date']).dt.days\n",
    "pdf_rename['i15_time'] = (pdf_rename['date_i0'] - pdf_rename['i15_date']).dt.days"
   ]
  },
  {
   "cell_type": "code",
   "execution_count": 180,
   "metadata": {
    "tags": []
   },
   "outputs": [
    {
     "data": {
      "text/plain": [
       "39      139.0\n",
       "159     237.0\n",
       "248    1031.0\n",
       "292    3415.0\n",
       "Name: g45_t2e_p, dtype: float64"
      ]
     },
     "execution_count": 180,
     "metadata": {},
     "output_type": "execute_result"
    }
   ],
   "source": [
    "pdf_rename['g45_date'] = pd.to_datetime(pdf_rename['g45_date'])\n",
    "pdf_rename['date_i0'] = pd.to_datetime(pdf_rename['date_i0'])\n",
    "pdf_rename['g45_to_baseline'] = pdf_rename['date_i0']-pdf_rename['g45_date']\n",
    "pdf_rename['g45_to_baseline'] = pd.to_timedelta(pdf_rename['g45_to_baseline'])\n",
    "pdf_rename['g45_t2e_p'].head(4)"
   ]
  },
  {
   "cell_type": "code",
   "execution_count": 181,
   "metadata": {
    "tags": []
   },
   "outputs": [
    {
     "name": "stdout",
     "output_type": "stream",
     "text": [
      "1810.0\n"
     ]
    }
   ],
   "source": [
    "# Sum the timedelta values\n",
    "sum_timedelta = pdf_rename['g45_t2e_p'].median()\n",
    "print(sum_timedelta)"
   ]
  },
  {
   "cell_type": "code",
   "execution_count": 182,
   "metadata": {
    "tags": []
   },
   "outputs": [
    {
     "data": {
      "image/png": "[encoded data removed]",
      "text/plain": [
       "<Figure size 800x600 with 1 Axes>"
      ]
     },
     "metadata": {},
     "output_type": "display_data"
    }
   ],
   "source": [
    "import matplotlib.pyplot as plt\n",
    "import seaborn as sns\n",
    "# Plot histogram\n",
    "plt.figure(figsize=(8, 6))\n",
    "plt.hist(pdf_rename['g45_t2e_p'], bins=10, edgecolor='black', alpha=0.7)\n",
    "plt.xlabel('Values')\n",
    "plt.ylabel('Frequency')\n",
    "plt.title('Histogram of Values')\n",
    "plt.grid(True)\n",
    "plt.show()"
   ]
  },
  {
   "cell_type": "code",
   "execution_count": 183,
   "metadata": {
    "tags": []
   },
   "outputs": [
    {
     "data": {
      "text/plain": [
       "3543"
      ]
     },
     "execution_count": 183,
     "metadata": {},
     "output_type": "execute_result"
    }
   ],
   "source": [
    "#drop px with missing diagnostic data\n",
    "df_nooutlier = pdf_rename[pdf_rename['g45_t2e_p'] < 20000]\n",
    "len(df_nooutlier)"
   ]
  },
  {
   "cell_type": "code",
   "execution_count": 184,
   "metadata": {
    "tags": []
   },
   "outputs": [],
   "source": [
    "#df_nooutlier is full dataset for analysis; n=3543"
   ]
  },
  {
   "cell_type": "code",
   "execution_count": 185,
   "metadata": {
    "tags": []
   },
   "outputs": [
    {
     "name": "stdout",
     "output_type": "stream",
     "text": [
      "Depressed Cohort Total: 1251\n",
      "Control Cohort Total: 2292\n"
     ]
    }
   ],
   "source": [
    "depressed_sum = df_nooutlier['dep_yes'].sum()\n",
    "print('Depressed Cohort Total:', depressed_sum)\n",
    "total_number_of_rows = len(df_nooutlier)\n",
    "control_sum = total_number_of_rows-depressed_sum\n",
    "print('Control Cohort Total:', control_sum)"
   ]
  },
  {
   "cell_type": "code",
   "execution_count": 186,
   "metadata": {
    "tags": []
   },
   "outputs": [
    {
     "name": "stdout",
     "output_type": "stream",
     "text": [
      "1809.0\n"
     ]
    }
   ],
   "source": [
    "median_pretime = df_nooutlier['g45_t2e_p'].median()\n",
    "print(median_pretime)"
   ]
  },
  {
   "cell_type": "code",
   "execution_count": 187,
   "metadata": {
    "tags": []
   },
   "outputs": [
    {
     "name": "stdout",
     "output_type": "stream",
     "text": [
      "824.0\n"
     ]
    }
   ],
   "source": [
    "median_pretime = df_nooutlier['g45_t2e_p'].quantile(0.25)\n",
    "print(median_pretime)"
   ]
  },
  {
   "cell_type": "code",
   "execution_count": 188,
   "metadata": {
    "tags": []
   },
   "outputs": [
    {
     "name": "stdout",
     "output_type": "stream",
     "text": [
      "3205.5\n"
     ]
    }
   ],
   "source": [
    "median_pretime = df_nooutlier['g45_t2e_p'].quantile(0.75)\n",
    "print(median_pretime)"
   ]
  },
  {
   "cell_type": "code",
   "execution_count": 190,
   "metadata": {
    "tags": []
   },
   "outputs": [
    {
     "name": "stdout",
     "output_type": "stream",
     "text": [
      "Number of px with depression diagnosis (F31, F32, F33): 474\n"
     ]
    },
    {
     "name": "stderr",
     "output_type": "stream",
     "text": [
      "/tmp/ipykernel_111/1929880988.py:8: SettingWithCopyWarning: \n",
      "A value is trying to be set on a copy of a slice from a DataFrame.\n",
      "Try using .loc[row_indexer,col_indexer] = value instead\n",
      "\n",
      "See the caveats in the documentation: https://pandas.pydata.org/pandas-docs/stable/user_guide/indexing.html#returning-a-view-versus-a-copy\n",
      "  df_nooutlier['dep_diag_yes'] = df_nooutlier.apply(check_for_dep_diag, axis=1)\n"
     ]
    }
   ],
   "source": [
    "# check for diagnosed depression; if yes, return 1\n",
    "def check_for_dep_diag(row):\n",
    "    if row['f31_time'] > 0 or row['f32_time'] > 0 or row['f33_time'] > 0:\n",
    "        return 1\n",
    "    else:\n",
    "        return 0\n",
    "\n",
    "df_nooutlier['dep_diag_yes'] = df_nooutlier.apply(check_for_dep_diag, axis=1)\n",
    "check_dep_diag = df_nooutlier['dep_diag_yes'].sum()\n",
    "print(\"Number of px with depression diagnosis (F31, F32, F33):\", check_dep_diag)"
   ]
  },
  {
   "cell_type": "code",
   "execution_count": 191,
   "metadata": {
    "tags": []
   },
   "outputs": [
    {
     "name": "stdout",
     "output_type": "stream",
     "text": [
      "Number of px with self-reported depression that do not have F31-33 diagnoses: 5\n"
     ]
    },
    {
     "name": "stderr",
     "output_type": "stream",
     "text": [
      "/tmp/ipykernel_111/1712754248.py:8: SettingWithCopyWarning: \n",
      "A value is trying to be set on a copy of a slice from a DataFrame.\n",
      "Try using .loc[row_indexer,col_indexer] = value instead\n",
      "\n",
      "See the caveats in the documentation: https://pandas.pydata.org/pandas-docs/stable/user_guide/indexing.html#returning-a-view-versus-a-copy\n",
      "  df_nooutlier['dep_sr_yes'] = df_nooutlier.apply(lambda row: check_for_sr_depression(row), axis=1)\n"
     ]
    }
   ],
   "source": [
    "# check for self-reported depression; if yes, return 1\n",
    "def check_for_sr_depression(row):\n",
    "    if row['dep_diag_yes'] == 0:\n",
    "        if '1286' in row['sr_illness'] or '1291' in row['sr_illness']:\n",
    "            return 1\n",
    "    return 0\n",
    "\n",
    "df_nooutlier['dep_sr_yes'] = df_nooutlier.apply(lambda row: check_for_sr_depression(row), axis=1)\n",
    "check_dep_sr = df_nooutlier['dep_sr_yes'].sum()\n",
    "print(\"Number of px with self-reported depression that do not have F31-33 diagnoses:\", check_dep_sr)"
   ]
  },
  {
   "cell_type": "code",
   "execution_count": 193,
   "metadata": {
    "tags": []
   },
   "outputs": [
    {
     "name": "stdout",
     "output_type": "stream",
     "text": [
      "Number of px with screened PHQ-2 score >2 who do not self-report or have an F31-33 diagnosis: 772\n"
     ]
    },
    {
     "name": "stderr",
     "output_type": "stream",
     "text": [
      "/tmp/ipykernel_111/2019318095.py:8: SettingWithCopyWarning: \n",
      "A value is trying to be set on a copy of a slice from a DataFrame.\n",
      "Try using .loc[row_indexer,col_indexer] = value instead\n",
      "\n",
      "See the caveats in the documentation: https://pandas.pydata.org/pandas-docs/stable/user_guide/indexing.html#returning-a-view-versus-a-copy\n",
      "  df_nooutlier['dep_screen_yes'] = df_nooutlier.apply(lambda row: check_for_screen_depression(row), axis=1)\n"
     ]
    }
   ],
   "source": [
    "\n",
    "# check for self-reported depression; if yes, return 1\n",
    "def check_for_screen_depression(row):\n",
    "    if row['dep_diag_yes'] == 0 and row['dep_sr_yes'] == 0:\n",
    "        if row['phq2_sum'] > 2:\n",
    "            return 1\n",
    "    return 0\n",
    "\n",
    "df_nooutlier['dep_screen_yes'] = df_nooutlier.apply(lambda row: check_for_screen_depression(row), axis=1)\n",
    "check_dep_screen = df_nooutlier['dep_screen_yes'].sum()\n",
    "print(\"Number of px with screened PHQ-2 score >2 who do not self-report or have an F31-33 diagnosis:\", check_dep_screen)"
   ]
  },
  {
   "cell_type": "code",
   "execution_count": 194,
   "metadata": {
    "tags": []
   },
   "outputs": [
    {
     "name": "stdout",
     "output_type": "stream",
     "text": [
      "Number of px with screened PHQ-2 score >2 who do not self-report or have an F31-33 diagnosis: 1050\n"
     ]
    },
    {
     "name": "stderr",
     "output_type": "stream",
     "text": [
      "/tmp/ipykernel_111/2228519320.py:7: SettingWithCopyWarning: \n",
      "A value is trying to be set on a copy of a slice from a DataFrame.\n",
      "Try using .loc[row_indexer,col_indexer] = value instead\n",
      "\n",
      "See the caveats in the documentation: https://pandas.pydata.org/pandas-docs/stable/user_guide/indexing.html#returning-a-view-versus-a-copy\n",
      "  df_nooutlier['dep_screen_yes'] = df_nooutlier.apply(lambda row: check_for_screen_depression(row), axis=1)\n"
     ]
    }
   ],
   "source": [
    "\n",
    "# check for self-reported depression; if yes, return 1\n",
    "def check_for_screen_depression(row):\n",
    "    if row['phq2_sum'] > 2:\n",
    "            return 1\n",
    "    return 0\n",
    "\n",
    "df_nooutlier['dep_screen_yes'] = df_nooutlier.apply(lambda row: check_for_screen_depression(row), axis=1)\n",
    "check_dep_screen = df_nooutlier['dep_screen_yes'].sum()\n",
    "print(\"Number of px with screened PHQ-2 score >2 who do not self-report or have an F31-33 diagnosis:\", check_dep_screen)\n"
   ]
  },
  {
   "cell_type": "code",
   "execution_count": 195,
   "metadata": {
    "tags": []
   },
   "outputs": [
    {
     "name": "stdout",
     "output_type": "stream",
     "text": [
      "Most frequent value(s): 0    1.0\n",
      "Name: phq2_1, dtype: float64\n"
     ]
    }
   ],
   "source": [
    "most_frequent = df_nooutlier['phq2_1'].mode()\n",
    "\n",
    "print(\"Most frequent value(s):\", most_frequent)"
   ]
  },
  {
   "cell_type": "code",
   "execution_count": 196,
   "metadata": {
    "tags": []
   },
   "outputs": [
    {
     "name": "stdout",
     "output_type": "stream",
     "text": [
      "Most frequent value(s): 0    1.0\n",
      "Name: phq2_2, dtype: float64\n"
     ]
    }
   ],
   "source": [
    "most_frequent = df_nooutlier['phq2_2'].mode()\n",
    "\n",
    "print(\"Most frequent value(s):\", most_frequent)"
   ]
  },
  {
   "cell_type": "code",
   "execution_count": 197,
   "metadata": {
    "tags": []
   },
   "outputs": [
    {
     "name": "stdout",
     "output_type": "stream",
     "text": [
      "Percentage of phq22 equal to 1: 71.23906294101045\n"
     ]
    }
   ],
   "source": [
    "count_1 = df_nooutlier['phq2_1'].eq(1).sum()\n",
    "total_values = len(df_nooutlier)\n",
    "percentage_1 = (count_1 / total_values) * 100\n",
    "print(\"Percentage of phq22 equal to 1:\", percentage_1)"
   ]
  },
  {
   "cell_type": "code",
   "execution_count": 198,
   "metadata": {
    "tags": []
   },
   "outputs": [
    {
     "name": "stdout",
     "output_type": "stream",
     "text": [
      "Percentage of phq12 equal to 1: 72.98899237933955\n"
     ]
    }
   ],
   "source": [
    "count_1 = df_nooutlier['phq2_2'].eq(1).sum()\n",
    "total_values = len(df_nooutlier)\n",
    "percentage_1 = (count_1 / total_values) * 100\n",
    "print(\"Percentage of phq12 equal to 1:\", percentage_1)"
   ]
  },
  {
   "cell_type": "code",
   "execution_count": 199,
   "metadata": {
    "tags": []
   },
   "outputs": [],
   "source": [
    "pdf_rename = df_nooutlier"
   ]
  },
  {
   "cell_type": "code",
   "execution_count": 215,
   "metadata": {
    "tags": []
   },
   "outputs": [
    {
     "name": "stdout",
     "output_type": "stream",
     "text": [
      "Depressed Age Median: 62.0\n",
      "Depressed Age IQR: 57.0 66.0\n",
      "Control Age Median: 64.0\n",
      "Control Age IQR: 60.0 67.0\n",
      "Median Age (full): 63.0\n",
      "STDev Age (full): 5.930258948895708\n",
      "P-value for age:\n"
     ]
    },
    {
     "data": {
      "text/plain": [
       "MannwhitneyuResult(statistic=12552849.0, pvalue=0.0)"
      ]
     },
     "execution_count": 215,
     "metadata": {},
     "output_type": "execute_result"
    }
   ],
   "source": [
    "#begin data analysis\n",
    "# get the median and IQR for depressed cohort\n",
    "median_age_dep = pdf_rename.loc[pdf_rename['dep_yes'] == 1, 'age_i0'].median()\n",
    "iqr_1_dep = pdf_rename.loc[pdf_rename['dep_yes'] == 1, 'age_i0'].quantile(0.25)\n",
    "iqr_2_dep = pdf_rename.loc[pdf_rename['dep_yes'] == 1, 'age_i0'].quantile(0.75)\n",
    "print('Depressed Age Median:', median_age_dep)\n",
    "print('Depressed Age IQR:', iqr_1_dep, iqr_2_dep)\n",
    "\n",
    "# get the median and IQR for control cohort\n",
    "median_age_cont = pdf_rename.loc[pdf_rename['dep_yes'] == 0, 'age_i0'].median()\n",
    "iqr_1_cont = pdf_rename.loc[pdf_rename['dep_yes'] == 0, 'age_i0'].quantile(0.25)\n",
    "iqr_2_cont = pdf_rename.loc[pdf_rename['dep_yes'] == 0, 'age_i0'].quantile(0.75)\n",
    "print('Control Age Median:', median_age_cont)\n",
    "print('Control Age IQR:', iqr_1_cont, iqr_2_cont)\n",
    "\n",
    "#get full dataset age info\n",
    "median_age_full = pdf_rename['age_i0'].median()\n",
    "std_age_full = pdf_rename['age_i0'].std()\n",
    "print(\"Median Age (full):\", median_age_full)\n",
    "print(\"STDev Age (full):\", std_age_full)\n",
    "\n",
    "import scipy.stats as stats\n",
    "# perform the Mann-Whitney U test for age\n",
    "print('P-value for age:')\n",
    "stats.mannwhitneyu(x=pdf_rename['age_i0'], y=pdf_rename['dep_yes'], alternative = 'two-sided')"
   ]
  },
  {
   "cell_type": "code",
   "execution_count": 216,
   "metadata": {
    "tags": []
   },
   "outputs": [
    {
     "name": "stdout",
     "output_type": "stream",
     "text": [
      "Depressed Cohort Percent male: 51.159072741806554\n",
      "Depressed Cohort Total male: 640\n",
      "Control Cohort Percent male: 59.59860383944153\n",
      "Control Cohort Total male: 1366\n",
      "% of men in total 1364 cohort 147.0674486803519\n",
      "MALE - Chi-square test statistic: 23.125592642138976\n",
      "MALE - P-value: 1.5175730231205395e-06\n"
     ]
    }
   ],
   "source": [
    "#get male/female data\n",
    "percent_male_d = pdf_rename.loc[pdf_rename['dep_yes'] == 1, 'male'].mean() * 100\n",
    "male_sum_d = pdf_rename.loc[pdf_rename['dep_yes'] == 1, 'male'].sum()\n",
    "print('Depressed Cohort Percent male:', percent_male_d)\n",
    "print('Depressed Cohort Total male:', male_sum_d)\n",
    "percent_male_c = pdf_rename.loc[pdf_rename['dep_yes'] == 0, 'male'].mean() * 100\n",
    "male_sum_c = pdf_rename.loc[pdf_rename['dep_yes'] == 0, 'male'].sum()\n",
    "print('Control Cohort Percent male:', percent_male_c)\n",
    "print('Control Cohort Total male:', male_sum_c)\n",
    "perc_men_total = ((male_sum_d+male_sum_c)/1364)*100\n",
    "print('% of men in total 1364 cohort', perc_men_total)\n",
    "from scipy.stats import chi2_contingency\n",
    "data = pd.crosstab(pdf_rename['male'], pdf_rename['dep_yes']).to_numpy()\n",
    "# chi-square test for independence for male data\n",
    "chi2_stat, p_val, dof, expected = chi2_contingency(data)\n",
    "print('MALE - Chi-square test statistic:', chi2_stat)\n",
    "print('MALE - P-value:', p_val)"
   ]
  },
  {
   "cell_type": "code",
   "execution_count": 217,
   "metadata": {
    "tags": []
   },
   "outputs": [
    {
     "name": "stdout",
     "output_type": "stream",
     "text": [
      "Depressed Cohort Percent white: 95.04396482813749\n",
      "Depressed Cohort Total white: 1189\n",
      "Control Cohort Percent white: 97.33856893542757\n",
      "Control Cohort Total white: 2231\n",
      "WHITE - Chi-square test statistic: 12.039811913902332\n",
      "WHITE - P-value: 0.0005207622598826235\n"
     ]
    }
   ],
   "source": [
    "#get white data\n",
    "percent_white_d = pdf_rename.loc[pdf_rename['dep_yes'] == 1, 'white_yes'].mean() * 100\n",
    "white_sum_d = pdf_rename.loc[pdf_rename['dep_yes'] == 1, 'white_yes'].sum()\n",
    "print('Depressed Cohort Percent white:', percent_white_d)\n",
    "print('Depressed Cohort Total white:', white_sum_d)\n",
    "percent_white_c = pdf_rename.loc[pdf_rename['dep_yes'] == 0, 'white_yes'].mean() * 100\n",
    "white_sum_c = pdf_rename.loc[pdf_rename['dep_yes'] == 0, 'white_yes'].sum()\n",
    "print('Control Cohort Percent white:', percent_white_c)\n",
    "print('Control Cohort Total white:', white_sum_c)\n",
    "\n",
    "data = pd.crosstab(pdf_rename['white_yes'], pdf_rename['dep_yes']).to_numpy()\n",
    "# chi-square test for independence for white\n",
    "chi2_stat, p_val, dof, expected = chi2_contingency(data)\n",
    "print('WHITE - Chi-square test statistic:', chi2_stat)\n",
    "print('WHITE - P-value:', p_val)"
   ]
  },
  {
   "cell_type": "code",
   "execution_count": 218,
   "metadata": {
    "tags": []
   },
   "outputs": [
    {
     "name": "stdout",
     "output_type": "stream",
     "text": [
      "Depressed TDI Median: -1.34501\n",
      "Depressed TDI IQR: -3.233425 1.89694\n",
      "Control TDI Median: -2.2940199999999997\n",
      "Control TDI IQR: -3.683835 0.141765\n",
      "P-value for tdi:\n"
     ]
    }
   ],
   "source": [
    "# get  TDI data\n",
    "median_tdi_d = pdf_rename.loc[pdf_rename['dep_yes'] == 1, 'tdi'].median()\n",
    "iqr_1_d = pdf_rename.loc[pdf_rename['dep_yes'] == 1, 'tdi'].quantile(0.25)\n",
    "iqr_2_d = pdf_rename.loc[pdf_rename['dep_yes'] == 1, 'tdi'].quantile(0.75)\n",
    "print('Depressed TDI Median:', median_tdi_d)\n",
    "print('Depressed TDI IQR:', iqr_1_d, iqr_2_d)\n",
    "# get the median and IQR for depressed cohort TDI\n",
    "median_tdi_c = pdf_rename.loc[pdf_rename['dep_yes'] == 0, 'tdi'].median()\n",
    "iqr_1_c = pdf_rename.loc[pdf_rename['dep_yes'] == 0, 'tdi'].quantile(0.25)\n",
    "iqr_2_c = pdf_rename.loc[pdf_rename['dep_yes'] == 0, 'tdi'].quantile(0.75)\n",
    "print('Control TDI Median:', median_tdi_c)\n",
    "print('Control TDI IQR:', iqr_1_c, iqr_2_c)\n",
    "# perform the Mann-Whitney U test\n",
    "print('P-value for tdi:')\n",
    "#pdf_rename_tdi = pdf_rename.dropna(subset=['tdi'], inplace=True)\n",
    "pdf_rename_tdi = pdf_rename.dropna(subset=['tdi']).copy()"
   ]
  },
  {
   "cell_type": "code",
   "execution_count": 219,
   "metadata": {
    "tags": []
   },
   "outputs": [
    {
     "data": {
      "text/plain": [
       "MannwhitneyuResult(statistic=3496737.0, pvalue=1.5383747979038802e-235)"
      ]
     },
     "execution_count": 219,
     "metadata": {},
     "output_type": "execute_result"
    }
   ],
   "source": [
    "stats.mannwhitneyu(x=pdf_rename_tdi['tdi'], y=pdf_rename_tdi['dep_yes'], alternative = 'two-sided')"
   ]
  },
  {
   "cell_type": "code",
   "execution_count": 220,
   "metadata": {
    "tags": []
   },
   "outputs": [
    {
     "data": {
      "text/plain": [
       "3540"
      ]
     },
     "execution_count": 220,
     "metadata": {},
     "output_type": "execute_result"
    }
   ],
   "source": [
    "merged_df_2 = pdf_rename[~(pdf_rename['alc_freq'] == -3)]\n",
    "len(merged_df_2)"
   ]
  },
  {
   "cell_type": "code",
   "execution_count": 221,
   "metadata": {
    "tags": []
   },
   "outputs": [
    {
     "name": "stderr",
     "output_type": "stream",
     "text": [
      "/tmp/ipykernel_111/1908887074.py:5: SettingWithCopyWarning: \n",
      "A value is trying to be set on a copy of a slice from a DataFrame.\n",
      "Try using .loc[row_indexer,col_indexer] = value instead\n",
      "\n",
      "See the caveats in the documentation: https://pandas.pydata.org/pandas-docs/stable/user_guide/indexing.html#returning-a-view-versus-a-copy\n",
      "  merged_df_2['alc_freq_filter'] = np.where(merged_df_2['alc_freq'].isin([4, 5, 6]), 1,\n"
     ]
    }
   ],
   "source": [
    "#reorder alc_freq values \n",
    "#if 4\tOne to three times a month | 5\tSpecial occasions only | 6\tNever, then make seldom=1\n",
    "#if 2\tThree or four times a week | 3\tOnce or twice a week, then make sometimes=2\n",
    "#if 1\tDaily or almost daily, then make daily=3\n",
    "merged_df_2['alc_freq_filter'] = np.where(merged_df_2['alc_freq'].isin([4, 5, 6]), 1, \n",
    "                    np.where(merged_df_2['alc_freq'].isin([2, 3]), 2, \n",
    "                             np.where(merged_df_2['alc_freq'].isin([1]), 3, np.nan)))"
   ]
  },
  {
   "cell_type": "code",
   "execution_count": 222,
   "metadata": {
    "tags": []
   },
   "outputs": [
    {
     "name": "stdout",
     "output_type": "stream",
     "text": [
      "DEPRESSED Percentages of alc freq\n",
      "1.0    44.08\n",
      "2.0    36.80\n",
      "3.0    19.12\n",
      "Name: alc_freq_filter, dtype: float64\n",
      "CONTROL Percentages of alc freq\n",
      "2.0    44.779380\n",
      "1.0    31.760594\n",
      "3.0    23.460026\n",
      "Name: alc_freq_filter, dtype: float64\n",
      "ALC FREQ - Chi-square test statistic: 53.19145212752525\n",
      "ALC FREQ - P-value: 2.8159369613638715e-12\n"
     ]
    }
   ],
   "source": [
    "# get the %s of each category for alcohol frequency \n",
    "perc_alc_freq_d = merged_df_2.loc[merged_df_2['dep_yes'] == 1, 'alc_freq_filter'].value_counts(normalize=True)\n",
    "print('DEPRESSED Percentages of alc freq')\n",
    "print(perc_alc_freq_d * 100)\n",
    "perc_alc_freq_c = merged_df_2.loc[merged_df_2['dep_yes'] == 0, 'alc_freq_filter'].value_counts(normalize=True)\n",
    "# print the value counts as percentages\n",
    "print('CONTROL Percentages of alc freq')\n",
    "print(perc_alc_freq_c * 100)\n",
    "\n",
    "data = pd.crosstab(merged_df_2['alc_freq_filter'], merged_df_2['dep_yes']).to_numpy()\n",
    "# chi-square test for independence\n",
    "chi2_stat, p_val, dof, expected = chi2_contingency(data)\n",
    "print('ALC FREQ - Chi-square test statistic:', chi2_stat)\n",
    "print('ALC FREQ - P-value:', p_val)"
   ]
  },
  {
   "cell_type": "code",
   "execution_count": 223,
   "metadata": {
    "tags": []
   },
   "outputs": [
    {
     "name": "stderr",
     "output_type": "stream",
     "text": [
      "/tmp/ipykernel_111/1671262805.py:2: SettingWithCopyWarning: \n",
      "A value is trying to be set on a copy of a slice from a DataFrame.\n",
      "Try using .loc[row_indexer,col_indexer] = value instead\n",
      "\n",
      "See the caveats in the documentation: https://pandas.pydata.org/pandas-docs/stable/user_guide/indexing.html#returning-a-view-versus-a-copy\n",
      "  merged_df_2['smok_stat'] = merged_df_2['smok_stat'].astype(str)\n"
     ]
    },
    {
     "data": {
      "text/plain": [
       "3517"
      ]
     },
     "execution_count": 223,
     "metadata": {},
     "output_type": "execute_result"
    }
   ],
   "source": [
    "#for smoking status, drop anyone who answered \"-3/prefer not to answer\"\n",
    "merged_df_2['smok_stat'] = merged_df_2['smok_stat'].astype(str)\n",
    "merged_df_2 = merged_df_2[~merged_df_2['smok_stat'].str.contains('-3')]\n",
    "merged_df_2 = merged_df_2[~merged_df_2['smok_stat'].str.contains('nan')]\n",
    "len(merged_df_2)"
   ]
  },
  {
   "cell_type": "code",
   "execution_count": 224,
   "metadata": {
    "tags": []
   },
   "outputs": [
    {
     "name": "stdout",
     "output_type": "stream",
     "text": [
      "DEPRESSED Percentages of smok stat\n",
      "1.0    41.559486\n",
      "0.0    41.237942\n",
      "2.0    17.202572\n",
      "Name: smok_stat, dtype: float64\n",
      "CONTROL Percentages of smok stat\n",
      "0.0    47.514298\n",
      "1.0    43.246810\n",
      "2.0     9.238891\n",
      "Name: smok_stat, dtype: float64\n",
      "SMOK FRQ - Chi-square test statistic: 49.82326276715028\n",
      "SMOK FREQ -  P-value: 1.5171061011625913e-11\n"
     ]
    }
   ],
   "source": [
    "# get the smoking status data\n",
    "perc_smok_stat_d = merged_df_2.loc[merged_df_2['dep_yes'] == 1, 'smok_stat'].value_counts(normalize=True)\n",
    "print('DEPRESSED Percentages of smok stat')\n",
    "print(perc_smok_stat_d * 100)\n",
    "perc_smok_stat_c = merged_df_2.loc[merged_df_2['dep_yes'] == 0, 'smok_stat'].value_counts(normalize=True)\n",
    "print('CONTROL Percentages of smok stat')\n",
    "print(perc_smok_stat_c * 100)\n",
    "\n",
    "data = pd.crosstab(merged_df_2['smok_stat'], merged_df_2['dep_yes']).to_numpy()\n",
    "# chi-square test for independence\n",
    "chi2_stat, p_val, dof, expected = chi2_contingency(data)\n",
    "print('SMOK FRQ - Chi-square test statistic:', chi2_stat)\n",
    "print('SMOK FREQ -  P-value:', p_val)"
   ]
  },
  {
   "cell_type": "code",
   "execution_count": 225,
   "metadata": {
    "tags": []
   },
   "outputs": [
    {
     "name": "stdout",
     "output_type": "stream",
     "text": [
      "Depressed BMI Median: 28.4384\n",
      "Depressed BMI IQR: 25.57575 32.093\n",
      "Control BMI Median: 27.7381\n",
      "Control BMI IQR: 25.0595 30.9304\n",
      "P-value for BMI:\n"
     ]
    },
    {
     "data": {
      "text/plain": [
       "MannwhitneyuResult(statistic=12362256.0, pvalue=0.0)"
      ]
     },
     "execution_count": 225,
     "metadata": {},
     "output_type": "execute_result"
    }
   ],
   "source": [
    "# get BMI data\n",
    "median_bmi_d = pdf_rename.loc[pdf_rename['dep_yes'] == 1, 'bmi'].median()\n",
    "iqr_1_d = pdf_rename.loc[pdf_rename['dep_yes'] == 1, 'bmi'].quantile(0.25)\n",
    "iqr_2_d = pdf_rename.loc[pdf_rename['dep_yes'] == 1, 'bmi'].quantile(0.75)\n",
    "print('Depressed BMI Median:', median_bmi_d)\n",
    "print('Depressed BMI IQR:', iqr_1_d, iqr_2_d)\n",
    "# get the median and IQR for depressed cohort BMI\n",
    "median_bmi_c = pdf_rename.loc[pdf_rename['dep_yes'] == 0, 'bmi'].median()\n",
    "iqr_1_c = pdf_rename.loc[pdf_rename['dep_yes'] == 0, 'bmi'].quantile(0.25)\n",
    "iqr_2_c = pdf_rename.loc[pdf_rename['dep_yes'] == 0, 'bmi'].quantile(0.75)\n",
    "print('Control BMI Median:', median_bmi_c)\n",
    "print('Control BMI IQR:', iqr_1_c, iqr_2_c)\n",
    "# use the Mann-Whitney U test\n",
    "print('P-value for BMI:')\n",
    "pdf_rename_bmi = pdf_rename.dropna(subset=['bmi']).copy()\n",
    "stats.mannwhitneyu(x=pdf_rename_bmi['bmi'], y=pdf_rename_bmi['dep_yes'], alternative = 'two-sided')"
   ]
  },
  {
   "cell_type": "code",
   "execution_count": 226,
   "metadata": {
    "tags": []
   },
   "outputs": [
    {
     "name": "stdout",
     "output_type": "stream",
     "text": [
      "Depressed PP Median: 58.0\n",
      "Depressed PP IQR: 48.0 69.0\n",
      "Control PP Median: 59.5\n",
      "Control PP IQR: 50.0 71.0\n",
      "P-value for PP:\n"
     ]
    },
    {
     "data": {
      "text/plain": [
       "MannwhitneyuResult(statistic=12552849.0, pvalue=0.0)"
      ]
     },
     "execution_count": 226,
     "metadata": {},
     "output_type": "execute_result"
    }
   ],
   "source": [
    "# get pulse pressure data\n",
    "median_pp_d = pdf_rename.loc[pdf_rename['dep_yes'] == 1, 'pp'].median()\n",
    "iqr_1_d = pdf_rename.loc[pdf_rename['dep_yes'] == 1, 'pp'].quantile(0.25)\n",
    "iqr_2_d = pdf_rename.loc[pdf_rename['dep_yes'] == 1, 'pp'].quantile(0.75)\n",
    "print('Depressed PP Median:', median_pp_d)\n",
    "print('Depressed PP IQR:', iqr_1_d, iqr_2_d)\n",
    "median_pp_c = pdf_rename.loc[pdf_rename['dep_yes'] == 0, 'pp'].median()\n",
    "iqr_1_c = pdf_rename.loc[pdf_rename['dep_yes'] == 0, 'pp'].quantile(0.25)\n",
    "iqr_2_c = pdf_rename.loc[pdf_rename['dep_yes'] == 0, 'pp'].quantile(0.75)\n",
    "print('Control PP Median:', median_pp_c)\n",
    "print('Control PP IQR:', iqr_1_c, iqr_2_c)\n",
    "# Mann-Whitney U test\n",
    "print('P-value for PP:')\n",
    "pdf_rename_pp = pdf_rename.dropna(subset=['pp']).copy()\n",
    "stats.mannwhitneyu(x=pdf_rename_pp['pp'], y=pdf_rename_pp['dep_yes'], alternative = 'two-sided')"
   ]
  },
  {
   "cell_type": "code",
   "execution_count": 227,
   "metadata": {
    "tags": []
   },
   "outputs": [
    {
     "name": "stdout",
     "output_type": "stream",
     "text": [
      "DEPRESSED Percentages of htn\n",
      "1    77.93765\n",
      "0    22.06235\n",
      "Name: htn_yes, dtype: float64\n",
      "Control Percentages of htn\n",
      "1    75.95986\n",
      "0    24.04014\n",
      "Name: htn_yes, dtype: float64\n",
      "htn Chi-square test statistic: 1.6603579999161746\n",
      "htn  P-value: 0.19755499436518087\n"
     ]
    },
    {
     "name": "stderr",
     "output_type": "stream",
     "text": [
      "/tmp/ipykernel_111/3757033138.py:8: SettingWithCopyWarning: \n",
      "A value is trying to be set on a copy of a slice from a DataFrame.\n",
      "Try using .loc[row_indexer,col_indexer] = value instead\n",
      "\n",
      "See the caveats in the documentation: https://pandas.pydata.org/pandas-docs/stable/user_guide/indexing.html#returning-a-view-versus-a-copy\n",
      "  pdf_rename['htn_yes'] = pdf_rename.apply(check_htn_criteria, axis=1)\n"
     ]
    }
   ],
   "source": [
    "# check for htn; if yes, return 1\n",
    "def check_htn_criteria(row):\n",
    "    if row['i10_time'] > 0 or row['i15_time'] > 0 or row['sys_bp'] > 140 or row['dias_bp'] > 90 or '1065' in row['sr_illness'] or '1072' in row['sr_illness']:\n",
    "        return 1\n",
    "    else:\n",
    "        return 0\n",
    "\n",
    "pdf_rename['htn_yes'] = pdf_rename.apply(check_htn_criteria, axis=1)\n",
    "# get the %s of each category in htn_yes\n",
    "perc_htn_d = pdf_rename.loc[pdf_rename['dep_yes'] == 1, 'htn_yes'].value_counts(normalize=True)\n",
    "# print the value counts as percentages\n",
    "print('DEPRESSED Percentages of htn')\n",
    "print(perc_htn_d * 100)\n",
    "# get the %s of each category in htn_yes \n",
    "perc_htn_c = pdf_rename.loc[pdf_rename['dep_yes'] == 0, 'htn_yes'].value_counts(normalize=True)\n",
    "# print the value counts as percentages\n",
    "print('Control Percentages of htn')\n",
    "print(perc_htn_c * 100)\n",
    "\n",
    "data = pd.crosstab(pdf_rename['htn_yes'], pdf_rename['dep_yes']).to_numpy()\n",
    "# chi-square test for independence\n",
    "chi2_stat, p_val, dof, expected = chi2_contingency(data)\n",
    "print('htn Chi-square test statistic:', chi2_stat)\n",
    "print('htn  P-value:', p_val)"
   ]
  },
  {
   "cell_type": "code",
   "execution_count": 228,
   "metadata": {
    "tags": []
   },
   "outputs": [
    {
     "name": "stderr",
     "output_type": "stream",
     "text": [
      "/tmp/ipykernel_111/1438442210.py:1: SettingWithCopyWarning: \n",
      "A value is trying to be set on a copy of a slice from a DataFrame.\n",
      "Try using .loc[row_indexer,col_indexer] = value instead\n",
      "\n",
      "See the caveats in the documentation: https://pandas.pydata.org/pandas-docs/stable/user_guide/indexing.html#returning-a-view-versus-a-copy\n",
      "  pdf_rename['e78_date'] = pd.to_datetime(pdf_rename['e78_date']).dt.date  # Convert to datetime.date\n",
      "/tmp/ipykernel_111/1438442210.py:2: SettingWithCopyWarning: \n",
      "A value is trying to be set on a copy of a slice from a DataFrame.\n",
      "Try using .loc[row_indexer,col_indexer] = value instead\n",
      "\n",
      "See the caveats in the documentation: https://pandas.pydata.org/pandas-docs/stable/user_guide/indexing.html#returning-a-view-versus-a-copy\n",
      "  pdf_rename['date_i0'] = pd.to_datetime(pdf_rename['date_i0']).dt.date  # Convert to datetime.date\n"
     ]
    }
   ],
   "source": [
    "pdf_rename['e78_date'] = pd.to_datetime(pdf_rename['e78_date']).dt.date  # Convert to datetime.date\n",
    "pdf_rename['date_i0'] = pd.to_datetime(pdf_rename['date_i0']).dt.date  # Convert to datetime.date"
   ]
  },
  {
   "cell_type": "code",
   "execution_count": 229,
   "metadata": {
    "tags": []
   },
   "outputs": [
    {
     "name": "stdout",
     "output_type": "stream",
     "text": [
      "DEPRESSED Percentages of hchol\n",
      "1    53.317346\n",
      "0    46.682654\n",
      "Name: hchol_yes, dtype: float64\n",
      "Control Percentages of hchol\n",
      "1    51.00349\n",
      "0    48.99651\n",
      "Name: hchol_yes, dtype: float64\n",
      "hchol Chi-square test statistic: 1.6439995129422593\n",
      "hchol  P-value: 0.19977760111790288\n"
     ]
    },
    {
     "name": "stderr",
     "output_type": "stream",
     "text": [
      "/tmp/ipykernel_111/2497235162.py:3: SettingWithCopyWarning: \n",
      "A value is trying to be set on a copy of a slice from a DataFrame.\n",
      "Try using .loc[row_indexer,col_indexer] = value instead\n",
      "\n",
      "See the caveats in the documentation: https://pandas.pydata.org/pandas-docs/stable/user_guide/indexing.html#returning-a-view-versus-a-copy\n",
      "  pdf_rename['e78_time'] = (pdf_rename['date_i0'] - pdf_rename['e78_date']).dt.days\n",
      "/tmp/ipykernel_111/2497235162.py:10: SettingWithCopyWarning: \n",
      "A value is trying to be set on a copy of a slice from a DataFrame.\n",
      "Try using .loc[row_indexer,col_indexer] = value instead\n",
      "\n",
      "See the caveats in the documentation: https://pandas.pydata.org/pandas-docs/stable/user_guide/indexing.html#returning-a-view-versus-a-copy\n",
      "  pdf_rename['hchol_yes'] = pdf_rename.apply(check_hchol_criteria, axis=1)\n"
     ]
    }
   ],
   "source": [
    "#create hyperlipidemia category\n",
    "#prep hchol cases\n",
    "pdf_rename['e78_time'] = (pdf_rename['date_i0'] - pdf_rename['e78_date']).dt.days\n",
    "def check_hchol_criteria(row):\n",
    "    if row['e78_time'] > 0 or '1473' in row['sr_illness']:\n",
    "        return 1\n",
    "    else:\n",
    "        return 0\n",
    "    \n",
    "pdf_rename['hchol_yes'] = pdf_rename.apply(check_hchol_criteria, axis=1)\n",
    "perc_hchol_d = pdf_rename.loc[pdf_rename['dep_yes'] == 1, 'hchol_yes'].value_counts(normalize=True)\n",
    "print('DEPRESSED Percentages of hchol')\n",
    "print(perc_hchol_d * 100)\n",
    "perc_hchol_c = pdf_rename.loc[pdf_rename['dep_yes'] == 0, 'hchol_yes'].value_counts(normalize=True)\n",
    "print('Control Percentages of hchol')\n",
    "print(perc_hchol_c * 100)\n",
    "\n",
    "data = pd.crosstab(pdf_rename['hchol_yes'], pdf_rename['dep_yes']).to_numpy()\n",
    "# chi-square test for independence\n",
    "chi2_stat, p_val, dof, expected = chi2_contingency(data)\n",
    "print('hchol Chi-square test statistic:', chi2_stat)\n",
    "print('hchol  P-value:', p_val)"
   ]
  },
  {
   "cell_type": "code",
   "execution_count": 230,
   "metadata": {
    "tags": []
   },
   "outputs": [
    {
     "name": "stdout",
     "output_type": "stream",
     "text": [
      "DEPRESSED Percentages of diabetic\n",
      "0    88.649081\n",
      "1    11.350919\n",
      "Name: diab_yes, dtype: float64\n",
      "CONTROL Percentages of diabetic\n",
      "0    93.019197\n",
      "1     6.980803\n",
      "Name: diab_yes, dtype: float64\n",
      "diabetes Chi-square test statistic: 19.26529735023505\n",
      "diabetes  P-value: 1.1375525299729147e-05\n"
     ]
    },
    {
     "name": "stderr",
     "output_type": "stream",
     "text": [
      "/tmp/ipykernel_111/901177947.py:3: SettingWithCopyWarning: \n",
      "A value is trying to be set on a copy of a slice from a DataFrame.\n",
      "Try using .loc[row_indexer,col_indexer] = value instead\n",
      "\n",
      "See the caveats in the documentation: https://pandas.pydata.org/pandas-docs/stable/user_guide/indexing.html#returning-a-view-versus-a-copy\n",
      "  pdf_rename['e10_time'] = (pdf_rename['date_i0'] - pdf_rename['e10_date']).dt.days\n",
      "/tmp/ipykernel_111/901177947.py:4: SettingWithCopyWarning: \n",
      "A value is trying to be set on a copy of a slice from a DataFrame.\n",
      "Try using .loc[row_indexer,col_indexer] = value instead\n",
      "\n",
      "See the caveats in the documentation: https://pandas.pydata.org/pandas-docs/stable/user_guide/indexing.html#returning-a-view-versus-a-copy\n",
      "  pdf_rename['e11_time'] = (pdf_rename['date_i0'] - pdf_rename['e11_date']).dt.days\n",
      "/tmp/ipykernel_111/901177947.py:12: SettingWithCopyWarning: \n",
      "A value is trying to be set on a copy of a slice from a DataFrame.\n",
      "Try using .loc[row_indexer,col_indexer] = value instead\n",
      "\n",
      "See the caveats in the documentation: https://pandas.pydata.org/pandas-docs/stable/user_guide/indexing.html#returning-a-view-versus-a-copy\n",
      "  pdf_rename['diab_yes'] = pdf_rename.apply(check_diab_criteria, axis=1)\n"
     ]
    }
   ],
   "source": [
    "#create diabetes category\n",
    "#prep diabetes cases\n",
    "pdf_rename['e10_time'] = (pdf_rename['date_i0'] - pdf_rename['e10_date']).dt.days\n",
    "pdf_rename['e11_time'] = (pdf_rename['date_i0'] - pdf_rename['e11_date']).dt.days\n",
    "\n",
    "def check_diab_criteria(row):\n",
    "    if row['e10_time'] > 0 or row['e11_time'] > 0 or '1222' in row['sr_illness'] or '1223' in row['sr_illness']:\n",
    "        return 1\n",
    "    else:\n",
    "        return 0\n",
    "\n",
    "pdf_rename['diab_yes'] = pdf_rename.apply(check_diab_criteria, axis=1)\n",
    "perc_diab_d = pdf_rename.loc[pdf_rename['dep_yes'] == 1, 'diab_yes'].value_counts(normalize=True)\n",
    "print('DEPRESSED Percentages of diabetic')\n",
    "print(perc_diab_d * 100)\n",
    "perc_diab_c = pdf_rename.loc[pdf_rename['dep_yes'] == 0, 'diab_yes'].value_counts(normalize=True)\n",
    "print('CONTROL Percentages of diabetic')\n",
    "print(perc_diab_c * 100)\n",
    "\n",
    "data = pd.crosstab(pdf_rename['diab_yes'], pdf_rename['dep_yes']).to_numpy()\n",
    "# chi-square test for independence\n",
    "chi2_stat, p_val, dof, expected = chi2_contingency(data)\n",
    "print('diabetes Chi-square test statistic:', chi2_stat)\n",
    "print('diabetes  P-value:', p_val)"
   ]
  },
  {
   "cell_type": "code",
   "execution_count": 231,
   "metadata": {
    "tags": []
   },
   "outputs": [
    {
     "name": "stderr",
     "output_type": "stream",
     "text": [
      "/tmp/ipykernel_111/1620261707.py:2: SettingWithCopyWarning: \n",
      "A value is trying to be set on a copy of a slice from a DataFrame.\n",
      "Try using .loc[row_indexer,col_indexer] = value instead\n",
      "\n",
      "See the caveats in the documentation: https://pandas.pydata.org/pandas-docs/stable/user_guide/indexing.html#returning-a-view-versus-a-copy\n",
      "  pdf_rename['rx'] = pdf_rename['rx'].astype(str)\n",
      "/tmp/ipykernel_111/1620261707.py:8: SettingWithCopyWarning: \n",
      "A value is trying to be set on a copy of a slice from a DataFrame.\n",
      "Try using .loc[row_indexer,col_indexer] = value instead\n",
      "\n",
      "See the caveats in the documentation: https://pandas.pydata.org/pandas-docs/stable/user_guide/indexing.html#returning-a-view-versus-a-copy\n",
      "  df.at[index, 'rx_dep_yes'] = 0\n"
     ]
    },
    {
     "name": "stdout",
     "output_type": "stream",
     "text": [
      "DEPRESSED Percentages on Depression Rx\n",
      "0.0    72.342126\n",
      "1.0    27.657874\n",
      "Name: rx_dep_yes, dtype: float64\n",
      "CONTROL Percentages on Depression Rx\n",
      "0.0    95.636998\n",
      "1.0     4.363002\n",
      "Name: rx_dep_yes, dtype: float64\n",
      "Dep Rx Chi-square test statistic: 396.9912370534553\n",
      "Dep Rx  P-value: 2.488345227135064e-88\n"
     ]
    }
   ],
   "source": [
    "#RX for depression\n",
    "pdf_rename['rx'] = pdf_rename['rx'].astype(str)\n",
    "def check_substrings(df):\n",
    "    for index, row in df.iterrows():\n",
    "        if '1140879616' in row['rx'] or '1140921600' in row['rx'] or '1140879540' in row['rx'] or '1140867878' in row['rx'] or '1140916282' in row['rx'] or '1140909806' in row['rx'] or '1140867888' in row['rx'] or '1141152732' in row['rx'] or '1141180212' in row['rx'] or '1140879634' in row['rx'] or '1140867876' in row['rx'] or '1140882236' in row['rx'] or '1141190158' in row['rx'] or '1141200564' in row['rx'] or '1140867726' in row['rx'] or '1140879620' in row['rx'] or '1140867818' in row['rx'] or '1140879630' in row['rx'] or '1140879628' in row['rx'] or '1141151946' in row['rx'] or '1140867948' in row['rx'] or '1140867624' in row['rx'] or '1140867756' in row['rx'] or '1140867884' in row['rx'] or '1141151978' in row['rx'] or '1141152736' in row['rx'] or '1141201834' in row['rx'] or '1140867690' in row['rx'] or '1140867640' in row['rx'] or '1140867920' in row['rx'] or '1140867850' in row['rx'] or '1140879544' in row['rx'] or '1141200570' in row['rx'] or '1140867934' in row['rx'] or '1140867758' in row['rx'] or '1140867914' in row['rx'] or '1140867820' in row['rx'] or '1141151982' in row['rx'] or '1140882244' in row['rx'] or '1140879556' in row['rx'] or '1140867852' in row['rx'] or '1140867860' in row['rx'] or '1140917460' in row['rx'] or '1140867938' in row['rx'] or '1140867856' in row['rx'] or '1140867922' in row['rx'] or '1140910820' in row['rx'] or '1140882312' in row['rx'] or '1140867944' in row['rx'] or '1140867784' in row['rx'] or '1140867812' in row['rx'] or '1140867668' in row['rx']:\n",
    "            df.at[index, 'rx_dep_yes'] = 1\n",
    "        else:\n",
    "            df.at[index, 'rx_dep_yes'] = 0\n",
    "    return df     \n",
    "       \n",
    "pdf_rename = check_substrings(pdf_rename)\n",
    "\n",
    "perc_dep_rx_d = pdf_rename.loc[pdf_rename['dep_yes'] == 1, 'rx_dep_yes'].value_counts(normalize=True)\n",
    "print('DEPRESSED Percentages on Depression Rx')\n",
    "print(perc_dep_rx_d * 100)\n",
    "perc_dep_rx_no = pdf_rename.loc[pdf_rename['dep_yes'] == 0, 'rx_dep_yes'].value_counts(normalize=True)\n",
    "print('CONTROL Percentages on Depression Rx')\n",
    "print(perc_dep_rx_no * 100)\n",
    "\n",
    "data = pd.crosstab(pdf_rename['rx_dep_yes'], pdf_rename['dep_yes']).to_numpy()\n",
    "# chi-square test for independence\n",
    "chi2_stat, p_val, dof, expected = chi2_contingency(data)\n",
    "print('Dep Rx Chi-square test statistic:', chi2_stat)\n",
    "print('Dep Rx  P-value:', p_val)"
   ]
  },
  {
   "cell_type": "code",
   "execution_count": 232,
   "metadata": {
    "tags": []
   },
   "outputs": [
    {
     "name": "stderr",
     "output_type": "stream",
     "text": [
      "/tmp/ipykernel_111/2303910870.py:2: SettingWithCopyWarning: \n",
      "A value is trying to be set on a copy of a slice from a DataFrame.\n",
      "Try using .loc[row_indexer,col_indexer] = value instead\n",
      "\n",
      "See the caveats in the documentation: https://pandas.pydata.org/pandas-docs/stable/user_guide/indexing.html#returning-a-view-versus-a-copy\n",
      "  pdf_rename['rx'] = pdf_rename['rx'].astype(str)\n",
      "/tmp/ipykernel_111/2303910870.py:6: SettingWithCopyWarning: \n",
      "A value is trying to be set on a copy of a slice from a DataFrame.\n",
      "Try using .loc[row_indexer,col_indexer] = value instead\n",
      "\n",
      "See the caveats in the documentation: https://pandas.pydata.org/pandas-docs/stable/user_guide/indexing.html#returning-a-view-versus-a-copy\n",
      "  df.at[index, 'rx_bb_yes'] = 1\n"
     ]
    },
    {
     "name": "stdout",
     "output_type": "stream",
     "text": [
      "DEPRESSED Percentages on Beta Blocker Rx\n",
      "0.0    81.454836\n",
      "1.0    18.545164\n",
      "Name: rx_bb_yes, dtype: float64\n",
      "CONTROL Percentages on Beta Blocker Rx\n",
      "0.0    80.191972\n",
      "1.0    19.808028\n",
      "Name: rx_bb_yes, dtype: float64\n",
      "BB Rx Chi-square test statistic: 0.7477446724884687\n",
      "BB Rx  P-value: 0.38719122154137264\n"
     ]
    }
   ],
   "source": [
    "#RX for beta blockers\n",
    "pdf_rename['rx'] = pdf_rename['rx'].astype(str)\n",
    "def check_substrings(df):\n",
    "    for index, row in df.iterrows():\n",
    "        if '1140866738' in row['rx'] or '1140879760' in row['rx'] or '1140879818' in row['rx'] or '1140909368' in row['rx'] or '1140879842' in row['rx'] or '1140866804' in row['rx'] or '1140866764' in row['rx'] or '1140866766' in row['rx'] or '1140879854' in row['rx'] or '1141164276' in row['rx'] or '1141169516' in row['rx'] or '1141194810' in row['rx'] or '1141184722' in row['rx'] or '1140879758' in row['rx'] or '1141146126' in row['rx'] or '1140860192' in row['rx'] or '1140910614' in row['rx'] or '1140875840' in row['rx'] or '1140884298' in row['rx'] or '1140860292' in row['rx'] or '1141180778' in row['rx'] or '1140860426' in row['rx'] or '1141146124' in row['rx'] or '1141146128' in row['rx'] or '1141194804' in row['rx'] or '1141194808' in row['rx'] or '1140864950' in row['rx'] or '1140879762' in row['rx'] or '1140879824' in row['rx'] or '1140879830' in row['rx'] or '1140866724' in row['rx'] or '1140860418' in row['rx'] or '1140860332' in row['rx'] or '1140860404' in row['rx'] or '1140916342' in row['rx'] or '1140866756' in row['rx'] or '1140851556' in row['rx'] or '1140879826' in row['rx'] or '1140860332' in row['rx'] or '1140860418' in row['rx'] or '1140879822' in row['rx'] or '1140860308' in row['rx'] or '1140866802' in row['rx'] or '1140866782' in row['rx'] or '1140860336' in row['rx'] or '1140866712' in row['rx']:\n",
    "            df.at[index, 'rx_bb_yes'] = 1\n",
    "        else:\n",
    "            df.at[index, 'rx_bb_yes'] = 0\n",
    "    return df     \n",
    "       \n",
    "pdf_rename = check_substrings(pdf_rename)\n",
    "\n",
    "perc_bb_rx_d = pdf_rename.loc[pdf_rename['dep_yes'] == 1, 'rx_bb_yes'].value_counts(normalize=True)\n",
    "print('DEPRESSED Percentages on Beta Blocker Rx')\n",
    "print(perc_bb_rx_d * 100)\n",
    "perc_bb_rx_no = pdf_rename.loc[pdf_rename['dep_yes'] == 0, 'rx_bb_yes'].value_counts(normalize=True)\n",
    "print('CONTROL Percentages on Beta Blocker Rx')\n",
    "print(perc_bb_rx_no * 100)\n",
    " \n",
    "data = pd.crosstab(pdf_rename['rx_bb_yes'], pdf_rename['dep_yes']).to_numpy()\n",
    "# chi-square test for independence\n",
    "chi2_stat, p_val, dof, expected = chi2_contingency(data)\n",
    "print('BB Rx Chi-square test statistic:', chi2_stat)\n",
    "print('BB Rx  P-value:', p_val)"
   ]
  },
  {
   "cell_type": "code",
   "execution_count": 233,
   "metadata": {
    "tags": []
   },
   "outputs": [
    {
     "name": "stderr",
     "output_type": "stream",
     "text": [
      "/tmp/ipykernel_111/3205030750.py:9: SettingWithCopyWarning: \n",
      "A value is trying to be set on a copy of a slice from a DataFrame.\n",
      "Try using .loc[row_indexer,col_indexer] = value instead\n",
      "\n",
      "See the caveats in the documentation: https://pandas.pydata.org/pandas-docs/stable/user_guide/indexing.html#returning-a-view-versus-a-copy\n",
      "  pdf_rename['dep_dur'] = pdf_rename.apply(lambda row: get_dep_cases(row, cols_to_check), axis=1)\n"
     ]
    },
    {
     "data": {
      "text/plain": [
       "3543"
      ]
     },
     "execution_count": 233,
     "metadata": {},
     "output_type": "execute_result"
    }
   ],
   "source": [
    "# if there is a dep diagnosis, return the time of diagnosis in the dep_dur column\n",
    "def get_dep_cases(row, cols):\n",
    "    for col in cols:\n",
    "        if row[col] > 0:\n",
    "            return row[col]\n",
    "    return None\n",
    "\n",
    "cols_to_check = ['f31_time', 'f32_time', 'f33_time']\n",
    "pdf_rename['dep_dur'] = pdf_rename.apply(lambda row: get_dep_cases(row, cols_to_check), axis=1)\n",
    "len(pdf_rename)"
   ]
  },
  {
   "cell_type": "code",
   "execution_count": 234,
   "metadata": {
    "tags": []
   },
   "outputs": [
    {
     "name": "stdout",
     "output_type": "stream",
     "text": [
      "this works\n"
     ]
    },
    {
     "name": "stderr",
     "output_type": "stream",
     "text": [
      "/tmp/ipykernel_111/2457977204.py:3: SettingWithCopyWarning: \n",
      "A value is trying to be set on a copy of a slice from a DataFrame.\n",
      "Try using .loc[row_indexer,col_indexer] = value instead\n",
      "\n",
      "See the caveats in the documentation: https://pandas.pydata.org/pandas-docs/stable/user_guide/indexing.html#returning-a-view-versus-a-copy\n",
      "  pdf_rename.loc[pdf_rename['dep_dur'].notna(), 'dep_dur_yrs'] = pdf_rename.loc[pdf_rename['dep_dur'].notna(), 'dep_dur']\n"
     ]
    }
   ],
   "source": [
    "#START AGE AT DIAGNOSIS ANALYSIS COX MODEL\n",
    "# Divide by 365 only if value is not missing\n",
    "pdf_rename.loc[pdf_rename['dep_dur'].notna(), 'dep_dur_yrs'] = pdf_rename.loc[pdf_rename['dep_dur'].notna(), 'dep_dur']\n",
    "pdf_rename.loc[pdf_rename['dep_dur_yrs'].notna(), 'dep_dur_yrs'] = round(pdf_rename.loc[pdf_rename['dep_dur_yrs'].notna(), 'dep_dur_yrs'] / 365, 1)\n",
    "print('this works')"
   ]
  },
  {
   "cell_type": "code",
   "execution_count": 235,
   "metadata": {
    "tags": []
   },
   "outputs": [
    {
     "name": "stdout",
     "output_type": "stream",
     "text": [
      "Depressed BMI Median: 8.95\n",
      "Depressed BMI IQR: 4.0 19.975\n",
      "Depressed BMI Median: nan\n",
      "Depressed BMI IQR: nan nan\n",
      "P-value for BMI:\n"
     ]
    },
    {
     "data": {
      "text/plain": [
       "MannwhitneyuResult(statistic=208086.0, pvalue=1.7287671413374247e-130)"
      ]
     },
     "execution_count": 235,
     "metadata": {},
     "output_type": "execute_result"
    }
   ],
   "source": [
    "# get BMI data\n",
    "median_bmi_d = pdf_rename.loc[pdf_rename['dep_yes'] == 1, 'dep_dur_yrs'].median()\n",
    "iqr_1_d = pdf_rename.loc[pdf_rename['dep_yes'] == 1, 'dep_dur_yrs'].quantile(0.25)\n",
    "iqr_2_d = pdf_rename.loc[pdf_rename['dep_yes'] == 1, 'dep_dur_yrs'].quantile(0.75)\n",
    "print('Depressed BMI Median:', median_bmi_d)\n",
    "print('Depressed BMI IQR:', iqr_1_d, iqr_2_d)\n",
    "# get the median and IQR for depressed cohort BMI\n",
    "median_bmi_d = pdf_rename.loc[pdf_rename['dep_yes'] == 0, 'dep_dur_yrs'].median()\n",
    "iqr_1_d = pdf_rename.loc[pdf_rename['dep_yes'] == 0, 'dep_dur_yrs'].quantile(0.25)\n",
    "iqr_2_d = pdf_rename.loc[pdf_rename['dep_yes'] == 0, 'dep_dur_yrs'].quantile(0.75)\n",
    "print('Depressed BMI Median:', median_bmi_d)\n",
    "print('Depressed BMI IQR:', iqr_1_d, iqr_2_d)\n",
    "# use the Mann-Whitney U test\n",
    "print('P-value for BMI:')\n",
    "pdf_rename_bmi = pdf_rename.dropna(subset=['dep_dur_yrs']).copy()\n",
    "stats.mannwhitneyu(x=pdf_rename_bmi['dep_dur_yrs'], y=pdf_rename_bmi['dep_yes'], alternative = 'two-sided')"
   ]
  },
  {
   "cell_type": "code",
   "execution_count": 236,
   "metadata": {
    "tags": []
   },
   "outputs": [],
   "source": [
    "#this is where you create a dataset for cox models"
   ]
  },
  {
   "cell_type": "code",
   "execution_count": 237,
   "metadata": {
    "tags": []
   },
   "outputs": [],
   "source": [
    "#FOR UNIMPUTED ANALYSIS - SENSITIVITY\n",
    "cevd_df_first.to_csv('cevd_unimputed.csv')"
   ]
  },
  {
   "cell_type": "code",
   "execution_count": 238,
   "metadata": {
    "tags": []
   },
   "outputs": [
    {
     "name": "stdout",
     "output_type": "stream",
     "text": [
      "Index(['tdi', 'bmi', 'alc_freq', 'i21_date', 'i10_date', 'i15_date',\n",
      "       'e78_date', 'e10_date', 'e11_date', 'asi',\n",
      "       ...\n",
      "       'i67_event_p', 'i68_event_p', 'i69_event_p', 'cevd_t2e', 'i10_time',\n",
      "       'i15_time', 'e78_time', 'e10_time', 'e11_time', 'dep_dur_yrs'],\n",
      "      dtype='object', length=117)\n"
     ]
    }
   ],
   "source": [
    "#Find covariates with missing values\n",
    "covariates_missingdata = pdf_rename.columns[pdf_rename.isnull().any()]\n",
    "#Check that only tdi and bmi have missing values\n",
    "print(covariates_missingdata)"
   ]
  },
  {
   "cell_type": "code",
   "execution_count": 240,
   "metadata": {
    "tags": []
   },
   "outputs": [
    {
     "name": "stderr",
     "output_type": "stream",
     "text": [
      "/tmp/ipykernel_111/264798684.py:9: SettingWithCopyWarning: \n",
      "A value is trying to be set on a copy of a slice from a DataFrame.\n",
      "Try using .loc[row_indexer,col_indexer] = value instead\n",
      "\n",
      "See the caveats in the documentation: https://pandas.pydata.org/pandas-docs/stable/user_guide/indexing.html#returning-a-view-versus-a-copy\n",
      "  pdf_rename[cols_to_impute] = imputer.fit_transform(pdf_rename[cols_to_impute])\n"
     ]
    }
   ],
   "source": [
    "#USE MUTIPLE CHAIN IMPUTATION FOR MISSING TDI AND BMI DATA\n",
    "# Cleaning the data :\n",
    "from fancyimpute import IterativeImputer\n",
    "# define the column(s) that you want to impute\n",
    "cols_to_impute = ['tdi', 'bmi']\n",
    "# create an instance of the IterativeImputer class with MICE algorithm\n",
    "imputer = IterativeImputer(max_iter=10, sample_posterior=True)\n",
    "# impute the selected columns using multiple chains\n",
    "pdf_rename[cols_to_impute] = imputer.fit_transform(pdf_rename[cols_to_impute])"
   ]
  },
  {
   "cell_type": "code",
   "execution_count": 245,
   "metadata": {
    "tags": []
   },
   "outputs": [
    {
     "data": {
      "text/plain": [
       "3543"
      ]
     },
     "execution_count": 245,
     "metadata": {},
     "output_type": "execute_result"
    }
   ],
   "source": [
    "len(pdf_rename)"
   ]
  },
  {
   "cell_type": "code",
   "execution_count": 246,
   "metadata": {
    "tags": []
   },
   "outputs": [],
   "source": [
    "pdf_rename.to_csv('printtia.csv')"
   ]
  },
  {
   "cell_type": "code",
   "execution_count": 247,
   "metadata": {
    "tags": []
   },
   "outputs": [
    {
     "name": "stderr",
     "output_type": "stream",
     "text": [
      "/tmp/ipykernel_111/1466106906.py:1: SettingWithCopyWarning: \n",
      "A value is trying to be set on a copy of a slice from a DataFrame.\n",
      "Try using .loc[row_indexer,col_indexer] = value instead\n",
      "\n",
      "See the caveats in the documentation: https://pandas.pydata.org/pandas-docs/stable/user_guide/indexing.html#returning-a-view-versus-a-copy\n",
      "  pdf_rename['phq2_1_1'] = pdf_rename['phq2_1_1'].replace(-1, 0)\n",
      "/tmp/ipykernel_111/1466106906.py:2: SettingWithCopyWarning: \n",
      "A value is trying to be set on a copy of a slice from a DataFrame.\n",
      "Try using .loc[row_indexer,col_indexer] = value instead\n",
      "\n",
      "See the caveats in the documentation: https://pandas.pydata.org/pandas-docs/stable/user_guide/indexing.html#returning-a-view-versus-a-copy\n",
      "  pdf_rename['phq2_2_1'] = pdf_rename['phq2_2_1'].replace(-1, 0)\n",
      "/tmp/ipykernel_111/1466106906.py:3: SettingWithCopyWarning: \n",
      "A value is trying to be set on a copy of a slice from a DataFrame.\n",
      "Try using .loc[row_indexer,col_indexer] = value instead\n",
      "\n",
      "See the caveats in the documentation: https://pandas.pydata.org/pandas-docs/stable/user_guide/indexing.html#returning-a-view-versus-a-copy\n",
      "  pdf_rename['phq2_sum_1'] = pdf_rename['phq2_1_1']+pdf_rename['phq2_2_1']\n",
      "/tmp/ipykernel_111/1466106906.py:4: SettingWithCopyWarning: \n",
      "A value is trying to be set on a copy of a slice from a DataFrame.\n",
      "Try using .loc[row_indexer,col_indexer] = value instead\n",
      "\n",
      "See the caveats in the documentation: https://pandas.pydata.org/pandas-docs/stable/user_guide/indexing.html#returning-a-view-versus-a-copy\n",
      "  pdf_rename['phq2_diff'] = pdf_rename['phq2_sum_1']-pdf_rename['phq2_sum']\n",
      "/tmp/ipykernel_111/1466106906.py:7: SettingWithCopyWarning: \n",
      "A value is trying to be set on a copy of a slice from a DataFrame.\n",
      "Try using .loc[row_indexer,col_indexer] = value instead\n",
      "\n",
      "See the caveats in the documentation: https://pandas.pydata.org/pandas-docs/stable/user_guide/indexing.html#returning-a-view-versus-a-copy\n",
      "  pdf_rename['phq2_q1_diff'] = pdf_rename['phq2_1_1']-pdf_rename['phq2_1']\n"
     ]
    },
    {
     "data": {
      "text/plain": [
       "3543"
      ]
     },
     "execution_count": 247,
     "metadata": {},
     "output_type": "execute_result"
    }
   ],
   "source": [
    "pdf_rename['phq2_1_1'] = pdf_rename['phq2_1_1'].replace(-1, 0)\n",
    "pdf_rename['phq2_2_1'] = pdf_rename['phq2_2_1'].replace(-1, 0)\n",
    "pdf_rename['phq2_sum_1'] = pdf_rename['phq2_1_1']+pdf_rename['phq2_2_1']\n",
    "pdf_rename['phq2_diff'] = pdf_rename['phq2_sum_1']-pdf_rename['phq2_sum']\n",
    "#pdf_rename = pdf_rename.drop(pdf_rename.loc[pdf_rename['phq2_1_1'] < -1].index)\n",
    "#pdf_rename = pdf_rename.drop(pdf_rename.loc[pdf_rename['phq2_2_1'] < -1].index)\n",
    "pdf_rename['phq2_q1_diff'] = pdf_rename['phq2_1_1']-pdf_rename['phq2_1']\n",
    "len(pdf_rename)"
   ]
  },
  {
   "cell_type": "code",
   "execution_count": 248,
   "metadata": {
    "tags": []
   },
   "outputs": [],
   "source": [
    "#pdf_rename.dropna(subset=['phq2_q1_diff'], inplace=True)\n",
    "#len(pdf_rename)"
   ]
  },
  {
   "cell_type": "code",
   "execution_count": 249,
   "metadata": {
    "tags": []
   },
   "outputs": [],
   "source": [
    "cevd_df_first = pdf_rename"
   ]
  },
  {
   "cell_type": "code",
   "execution_count": 250,
   "metadata": {
    "tags": []
   },
   "outputs": [
    {
     "name": "stdout",
     "output_type": "stream",
     "text": [
      "previous f01: 1\n",
      "previous g45: 3543\n",
      "previous g46: 9\n",
      "previous h34: 33\n",
      "previous i60: 33\n",
      "previous i61: 20\n",
      "previous i62: 7\n",
      "previous i63: 203\n",
      "previous i64: 1167\n",
      "previous i65: 134\n",
      "previous i66: 2\n",
      "previous i67: 173\n",
      "previous i68: 0\n",
      "previous i69: 61\n"
     ]
    }
   ],
   "source": [
    "prior_f01 = cevd_df_first[cevd_df_first['f01_event_p']==1]\n",
    "print('previous f01:', len(prior_f01))\n",
    "prior_g45 = cevd_df_first[cevd_df_first['g45_event_p']==1]\n",
    "print('previous g45:', len(prior_g45))\n",
    "prior_g46 = cevd_df_first[cevd_df_first['g46_event_p']==1]\n",
    "print('previous g46:', len(prior_g46))\n",
    "prior_h34 = cevd_df_first[cevd_df_first['h34_event_p']==1]\n",
    "print('previous h34:', len(prior_h34))\n",
    "prior_i60 = cevd_df_first[cevd_df_first['i60_event_p']==1]\n",
    "print('previous i60:', len(prior_i60))\n",
    "prior_i61 = cevd_df_first[cevd_df_first['i61_event_p']==1]\n",
    "print('previous i61:', len(prior_i61))\n",
    "prior_i62 = cevd_df_first[cevd_df_first['i62_event_p']==1]\n",
    "print('previous i62:', len(prior_i62))\n",
    "prior_i63 = cevd_df_first[cevd_df_first['i63_event_p']==1]\n",
    "print('previous i63:', len(prior_i63))\n",
    "prior_i64 = cevd_df_first[cevd_df_first['i64_event_p']==1]\n",
    "print('previous i64:', len(prior_i64))\n",
    "prior_i65 = cevd_df_first[cevd_df_first['i65_event_p']==1]\n",
    "print('previous i65:', len(prior_i65))\n",
    "prior_i66 = cevd_df_first[cevd_df_first['i66_event_p']==1]\n",
    "print('previous i66:', len(prior_i66))\n",
    "prior_i67 = cevd_df_first[cevd_df_first['i67_event_p']==1]\n",
    "print('previous i67:', len(prior_i67))\n",
    "prior_i68 = cevd_df_first[cevd_df_first['i68_event_p']==1]\n",
    "print('previous i68:', len(prior_i68))\n",
    "prior_i69 = cevd_df_first[cevd_df_first['i69_event_p']==1]\n",
    "print('previous i69:', len(prior_i69))"
   ]
  },
  {
   "cell_type": "code",
   "execution_count": 251,
   "metadata": {
    "tags": []
   },
   "outputs": [
    {
     "name": "stdout",
     "output_type": "stream",
     "text": [
      "Depressed Cohort Total: 1251\n",
      "Control Cohort Total: 2292\n"
     ]
    }
   ],
   "source": [
    "depressed_sum = cevd_df_first['dep_yes'].sum()\n",
    "print('Depressed Cohort Total:', depressed_sum)\n",
    "total_number_of_rows = len(cevd_df_first)\n",
    "control_sum = total_number_of_rows-depressed_sum\n",
    "print('Control Cohort Total:', control_sum)"
   ]
  },
  {
   "cell_type": "code",
   "execution_count": 253,
   "metadata": {
    "tags": []
   },
   "outputs": [],
   "source": [
    "#if there is a time-to-event in XXX_t2e, then place 1 in outcome column for each CeVD\n",
    "cevd_df_first.loc[cevd_df_first['f01_t2e'].notna(), 'f01_event'] = 1\n",
    "cevd_df_first.loc[cevd_df_first['g45_t2e'].notna(), 'g45_event'] = 1\n",
    "cevd_df_first.loc[cevd_df_first['g46_t2e'].notna(), 'g46_event'] = 1\n",
    "cevd_df_first.loc[cevd_df_first['h34_t2e'].notna(), 'h34_event'] = 1\n",
    "cevd_df_first.loc[cevd_df_first['i60_t2e'].notna(), 'i60_event'] = 1\n",
    "cevd_df_first.loc[cevd_df_first['i61_t2e'].notna(), 'i61_event'] = 1\n",
    "cevd_df_first.loc[cevd_df_first['i62_t2e'].notna(), 'i62_event'] = 1\n",
    "cevd_df_first.loc[cevd_df_first['i63_t2e'].notna(), 'i63_event'] = 1\n",
    "cevd_df_first.loc[cevd_df_first['i64_t2e'].notna(), 'i64_event'] = 1\n",
    "cevd_df_first.loc[cevd_df_first['i65_t2e'].notna(), 'i65_event'] = 1\n",
    "cevd_df_first.loc[cevd_df_first['i66_t2e'].notna(), 'i66_event'] = 1\n",
    "cevd_df_first.loc[cevd_df_first['i67_t2e'].notna(), 'i67_event'] = 1\n",
    "cevd_df_first.loc[cevd_df_first['i68_t2e'].notna(), 'i68_event'] = 1\n",
    "cevd_df_first.loc[cevd_df_first['i69_t2e'].notna(), 'i69_event'] = 1"
   ]
  },
  {
   "cell_type": "code",
   "execution_count": 255,
   "metadata": {
    "tags": []
   },
   "outputs": [
    {
     "name": "stderr",
     "output_type": "stream",
     "text": [
      "/tmp/ipykernel_111/3276398401.py:3: SettingWithCopyWarning: \n",
      "A value is trying to be set on a copy of a slice from a DataFrame\n",
      "\n",
      "See the caveats in the documentation: https://pandas.pydata.org/pandas-docs/stable/user_guide/indexing.html#returning-a-view-versus-a-copy\n",
      "  df.dropna(subset=['cevd_t2e'], inplace=True)\n"
     ]
    }
   ],
   "source": [
    "#drop rows without an initial cevd event. unlike CRR file, this version doesn't have deaths\n",
    "def drop_rows_with_empty_cevdt2e(df):\n",
    "    df.dropna(subset=['cevd_t2e'], inplace=True)\n",
    "    return df\n",
    "\n",
    "cevd_df_first = drop_rows_with_empty_cevdt2e(cevd_df_first)\n",
    "#FOR LR (IMPUTED)\n",
    "cevd_df_first.to_csv('cevd_lr.csv', index=False)"
   ]
  },
  {
   "cell_type": "code",
   "execution_count": 256,
   "metadata": {
    "tags": []
   },
   "outputs": [],
   "source": [
    "#"
   ]
  },
  {
   "cell_type": "code",
   "execution_count": 257,
   "metadata": {
    "tags": []
   },
   "outputs": [],
   "source": [
    "####MAIN COX MODEL"
   ]
  },
  {
   "cell_type": "code",
   "execution_count": 258,
   "metadata": {
    "tags": []
   },
   "outputs": [],
   "source": [
    "#"
   ]
  },
  {
   "cell_type": "code",
   "execution_count": 259,
   "metadata": {
    "tags": []
   },
   "outputs": [],
   "source": [
    "import matplotlib.pyplot as plt\n",
    "from lifelines import KaplanMeierFitter\n",
    "from lifelines import CoxPHFitter\n",
    "from lifelines.utils import concordance_index as cindex"
   ]
  },
  {
   "cell_type": "code",
   "execution_count": 260,
   "metadata": {
    "tags": []
   },
   "outputs": [],
   "source": [
    "#for all cevd types"
   ]
  },
  {
   "cell_type": "code",
   "execution_count": 261,
   "metadata": {
    "tags": []
   },
   "outputs": [
    {
     "data": {
      "text/plain": [
       "562"
      ]
     },
     "execution_count": 261,
     "metadata": {},
     "output_type": "execute_result"
    }
   ],
   "source": [
    "len(cevd_df_first)"
   ]
  },
  {
   "cell_type": "code",
   "execution_count": 262,
   "metadata": {
    "tags": []
   },
   "outputs": [
    {
     "data": {
      "text/plain": [
       "562"
      ]
     },
     "execution_count": 262,
     "metadata": {},
     "output_type": "execute_result"
    }
   ],
   "source": [
    "def update_comp_columns(dataframe):\n",
    "    dataframe_new = dataframe.copy()\n",
    "    \n",
    "    for index, row in dataframe.iterrows():\n",
    "        if not pd.isna(row['i60_t2e']) or not pd.isna(row['i61_t2e']) or not pd.isna(row['i62_t2e']) or not pd.isna(row['i63_t2e']) or not pd.isna(row['i64_t2e']):\n",
    "            dataframe_new.at[index, 'stroke_event'] = 1\n",
    "            if not pd.isna(row['i60_t2e']):\n",
    "                dataframe_new.at[index, 'stroke_t2e'] = row['i60_t2e']\n",
    "            elif not pd.isna(row['i61_t2e']):\n",
    "                dataframe_new.at[index, 'stroke_t2e'] = row['i61_t2e']\n",
    "            elif not pd.isna(row['i62_t2e']):\n",
    "                dataframe_new.at[index, 'stroke_t2e'] = row['i62_t2e']\n",
    "            elif not pd.isna(row['i63_t2e']):\n",
    "                dataframe_new.at[index, 'stroke_t2e'] = row['i63_t2e']\n",
    "            else:\n",
    "                dataframe_new.at[index, 'stroke_t2e'] = row['i64_t2e'] \n",
    "\n",
    "\n",
    "    return dataframe_new\n",
    "\n",
    "updated_df = update_comp_columns(cevd_df_first)\n",
    "len(updated_df)"
   ]
  },
  {
   "cell_type": "code",
   "execution_count": 263,
   "metadata": {
    "tags": []
   },
   "outputs": [
    {
     "data": {
      "text/plain": [
       "Int64Dtype()"
      ]
     },
     "execution_count": 263,
     "metadata": {},
     "output_type": "execute_result"
    }
   ],
   "source": [
    "updated_df['cevd_t2e'].dtype"
   ]
  },
  {
   "cell_type": "code",
   "execution_count": 264,
   "metadata": {
    "tags": []
   },
   "outputs": [],
   "source": [
    "cevd_df_first = updated_df"
   ]
  },
  {
   "cell_type": "code",
   "execution_count": 265,
   "metadata": {
    "tags": []
   },
   "outputs": [],
   "source": [
    "cevd_df_first['i67_t2e'] = pd.to_numeric(cevd_df_first['i67_t2e'], errors='coerce')\n",
    "cevd_df_first['alc_freq_filter'] = pd.to_numeric(cevd_df_first['alc_freq_filter'], errors='coerce')\n",
    "cevd_df_first['smok_stat_filter'] = pd.to_numeric(cevd_df_first['smok_stat_filter'], errors='coerce')\n"
   ]
  },
  {
   "cell_type": "code",
   "execution_count": 268,
   "metadata": {
    "tags": []
   },
   "outputs": [
    {
     "data": {
      "text/plain": [
       "562"
      ]
     },
     "execution_count": 268,
     "metadata": {},
     "output_type": "execute_result"
    }
   ],
   "source": [
    "#cox model for CEVD - fully adjusted\n",
    "fulladjust_allcevd = cevd_df_first.dropna(subset=['cevd_t2e'])\n",
    "len(fulladjust_allcevd)"
   ]
  },
  {
   "cell_type": "code",
   "execution_count": 269,
   "metadata": {
    "tags": []
   },
   "outputs": [
    {
     "data": {
      "text/plain": [
       "328"
      ]
     },
     "execution_count": 269,
     "metadata": {},
     "output_type": "execute_result"
    }
   ],
   "source": [
    "len(fulladjust_allcevd[fulladjust_allcevd['dep_yes']==0])"
   ]
  },
  {
   "cell_type": "code",
   "execution_count": 270,
   "metadata": {
    "tags": []
   },
   "outputs": [
    {
     "data": {
      "text/html": [
       "<style type=\"text/css\">\n",
       "</style>\n",
       "<table id=\"T_0fb25\">\n",
       "  <thead>\n",
       "    <tr>\n",
       "      <th class=\"blank level0\" >&nbsp;</th>\n",
       "      <th id=\"T_0fb25_level0_col0\" class=\"col_heading level0 col0\" >coef</th>\n",
       "      <th id=\"T_0fb25_level0_col1\" class=\"col_heading level0 col1\" >exp(coef)</th>\n",
       "      <th id=\"T_0fb25_level0_col2\" class=\"col_heading level0 col2\" >se(coef)</th>\n",
       "      <th id=\"T_0fb25_level0_col3\" class=\"col_heading level0 col3\" >coef lower 95%</th>\n",
       "      <th id=\"T_0fb25_level0_col4\" class=\"col_heading level0 col4\" >coef upper 95%</th>\n",
       "      <th id=\"T_0fb25_level0_col5\" class=\"col_heading level0 col5\" >exp(coef) lower 95%</th>\n",
       "      <th id=\"T_0fb25_level0_col6\" class=\"col_heading level0 col6\" >exp(coef) upper 95%</th>\n",
       "      <th id=\"T_0fb25_level0_col7\" class=\"col_heading level0 col7\" >cmp to</th>\n",
       "      <th id=\"T_0fb25_level0_col8\" class=\"col_heading level0 col8\" >z</th>\n",
       "      <th id=\"T_0fb25_level0_col9\" class=\"col_heading level0 col9\" >p</th>\n",
       "      <th id=\"T_0fb25_level0_col10\" class=\"col_heading level0 col10\" >-log2(p)</th>\n",
       "    </tr>\n",
       "    <tr>\n",
       "      <th class=\"index_name level0\" >covariate</th>\n",
       "      <th class=\"blank col0\" >&nbsp;</th>\n",
       "      <th class=\"blank col1\" >&nbsp;</th>\n",
       "      <th class=\"blank col2\" >&nbsp;</th>\n",
       "      <th class=\"blank col3\" >&nbsp;</th>\n",
       "      <th class=\"blank col4\" >&nbsp;</th>\n",
       "      <th class=\"blank col5\" >&nbsp;</th>\n",
       "      <th class=\"blank col6\" >&nbsp;</th>\n",
       "      <th class=\"blank col7\" >&nbsp;</th>\n",
       "      <th class=\"blank col8\" >&nbsp;</th>\n",
       "      <th class=\"blank col9\" >&nbsp;</th>\n",
       "      <th class=\"blank col10\" >&nbsp;</th>\n",
       "    </tr>\n",
       "  </thead>\n",
       "  <tbody>\n",
       "    <tr>\n",
       "      <th id=\"T_0fb25_level0_row0\" class=\"row_heading level0 row0\" >age_i0</th>\n",
       "      <td id=\"T_0fb25_row0_col0\" class=\"data row0 col0\" >-0.015733</td>\n",
       "      <td id=\"T_0fb25_row0_col1\" class=\"data row0 col1\" >0.984390</td>\n",
       "      <td id=\"T_0fb25_row0_col2\" class=\"data row0 col2\" >0.008077</td>\n",
       "      <td id=\"T_0fb25_row0_col3\" class=\"data row0 col3\" >-0.031564</td>\n",
       "      <td id=\"T_0fb25_row0_col4\" class=\"data row0 col4\" >0.000098</td>\n",
       "      <td id=\"T_0fb25_row0_col5\" class=\"data row0 col5\" >0.968929</td>\n",
       "      <td id=\"T_0fb25_row0_col6\" class=\"data row0 col6\" >1.000098</td>\n",
       "      <td id=\"T_0fb25_row0_col7\" class=\"data row0 col7\" >0.000000</td>\n",
       "      <td id=\"T_0fb25_row0_col8\" class=\"data row0 col8\" >-1.947874</td>\n",
       "      <td id=\"T_0fb25_row0_col9\" class=\"data row0 col9\" >0.05143</td>\n",
       "      <td id=\"T_0fb25_row0_col10\" class=\"data row0 col10\" >4.281246</td>\n",
       "    </tr>\n",
       "    <tr>\n",
       "      <th id=\"T_0fb25_level0_row1\" class=\"row_heading level0 row1\" >male</th>\n",
       "      <td id=\"T_0fb25_row1_col0\" class=\"data row1 col0\" >0.103835</td>\n",
       "      <td id=\"T_0fb25_row1_col1\" class=\"data row1 col1\" >1.109418</td>\n",
       "      <td id=\"T_0fb25_row1_col2\" class=\"data row1 col2\" >0.087094</td>\n",
       "      <td id=\"T_0fb25_row1_col3\" class=\"data row1 col3\" >-0.066865</td>\n",
       "      <td id=\"T_0fb25_row1_col4\" class=\"data row1 col4\" >0.274536</td>\n",
       "      <td id=\"T_0fb25_row1_col5\" class=\"data row1 col5\" >0.935321</td>\n",
       "      <td id=\"T_0fb25_row1_col6\" class=\"data row1 col6\" >1.315920</td>\n",
       "      <td id=\"T_0fb25_row1_col7\" class=\"data row1 col7\" >0.000000</td>\n",
       "      <td id=\"T_0fb25_row1_col8\" class=\"data row1 col8\" >1.192227</td>\n",
       "      <td id=\"T_0fb25_row1_col9\" class=\"data row1 col9\" >0.23317</td>\n",
       "      <td id=\"T_0fb25_row1_col10\" class=\"data row1 col10\" >2.100531</td>\n",
       "    </tr>\n",
       "    <tr>\n",
       "      <th id=\"T_0fb25_level0_row2\" class=\"row_heading level0 row2\" >bmi</th>\n",
       "      <td id=\"T_0fb25_row2_col0\" class=\"data row2 col0\" >0.000525</td>\n",
       "      <td id=\"T_0fb25_row2_col1\" class=\"data row2 col1\" >1.000526</td>\n",
       "      <td id=\"T_0fb25_row2_col2\" class=\"data row2 col2\" >0.008534</td>\n",
       "      <td id=\"T_0fb25_row2_col3\" class=\"data row2 col3\" >-0.016202</td>\n",
       "      <td id=\"T_0fb25_row2_col4\" class=\"data row2 col4\" >0.017253</td>\n",
       "      <td id=\"T_0fb25_row2_col5\" class=\"data row2 col5\" >0.983929</td>\n",
       "      <td id=\"T_0fb25_row2_col6\" class=\"data row2 col6\" >1.017402</td>\n",
       "      <td id=\"T_0fb25_row2_col7\" class=\"data row2 col7\" >0.000000</td>\n",
       "      <td id=\"T_0fb25_row2_col8\" class=\"data row2 col8\" >0.061566</td>\n",
       "      <td id=\"T_0fb25_row2_col9\" class=\"data row2 col9\" >0.95091</td>\n",
       "      <td id=\"T_0fb25_row2_col10\" class=\"data row2 col10\" >0.072622</td>\n",
       "    </tr>\n",
       "    <tr>\n",
       "      <th id=\"T_0fb25_level0_row3\" class=\"row_heading level0 row3\" >pp</th>\n",
       "      <td id=\"T_0fb25_row3_col0\" class=\"data row3 col0\" >0.005428</td>\n",
       "      <td id=\"T_0fb25_row3_col1\" class=\"data row3 col1\" >1.005443</td>\n",
       "      <td id=\"T_0fb25_row3_col2\" class=\"data row3 col2\" >0.002576</td>\n",
       "      <td id=\"T_0fb25_row3_col3\" class=\"data row3 col3\" >0.000380</td>\n",
       "      <td id=\"T_0fb25_row3_col4\" class=\"data row3 col4\" >0.010476</td>\n",
       "      <td id=\"T_0fb25_row3_col5\" class=\"data row3 col5\" >1.000380</td>\n",
       "      <td id=\"T_0fb25_row3_col6\" class=\"data row3 col6\" >1.010531</td>\n",
       "      <td id=\"T_0fb25_row3_col7\" class=\"data row3 col7\" >0.000000</td>\n",
       "      <td id=\"T_0fb25_row3_col8\" class=\"data row3 col8\" >2.107632</td>\n",
       "      <td id=\"T_0fb25_row3_col9\" class=\"data row3 col9\" >0.03506</td>\n",
       "      <td id=\"T_0fb25_row3_col10\" class=\"data row3 col10\" >4.833913</td>\n",
       "    </tr>\n",
       "    <tr>\n",
       "      <th id=\"T_0fb25_level0_row4\" class=\"row_heading level0 row4\" >dep_yes</th>\n",
       "      <td id=\"T_0fb25_row4_col0\" class=\"data row4 col0\" >0.204438</td>\n",
       "      <td id=\"T_0fb25_row4_col1\" class=\"data row4 col1\" >1.226835</td>\n",
       "      <td id=\"T_0fb25_row4_col2\" class=\"data row4 col2\" >0.090992</td>\n",
       "      <td id=\"T_0fb25_row4_col3\" class=\"data row4 col3\" >0.026096</td>\n",
       "      <td id=\"T_0fb25_row4_col4\" class=\"data row4 col4\" >0.382780</td>\n",
       "      <td id=\"T_0fb25_row4_col5\" class=\"data row4 col5\" >1.026440</td>\n",
       "      <td id=\"T_0fb25_row4_col6\" class=\"data row4 col6\" >1.466355</td>\n",
       "      <td id=\"T_0fb25_row4_col7\" class=\"data row4 col7\" >0.000000</td>\n",
       "      <td id=\"T_0fb25_row4_col8\" class=\"data row4 col8\" >2.246762</td>\n",
       "      <td id=\"T_0fb25_row4_col9\" class=\"data row4 col9\" >0.02466</td>\n",
       "      <td id=\"T_0fb25_row4_col10\" class=\"data row4 col10\" >5.341962</td>\n",
       "    </tr>\n",
       "  </tbody>\n",
       "</table>\n"
      ],
      "text/plain": [
       "<pandas.io.formats.style.Styler at 0x7f68fbb3ce80>"
      ]
     },
     "execution_count": 270,
     "metadata": {},
     "output_type": "execute_result"
    }
   ],
   "source": [
    "fulladjust_allcevd = fulladjust_allcevd.loc[:, ['cevd_event', 'cevd_t2e', 'age_i0', 'male',  'bmi',   'pp', 'dep_yes']]\n",
    "fulladjust_allcevd = fulladjust_allcevd[['cevd_event', 'cevd_t2e', 'age_i0', 'male',  'bmi',  'pp', 'dep_yes']]\n",
    "#fulladjust_allcevd_data = pd.get_dummies(fulladjust_allcevd, columns=['alc_freq', 'smok_stat'])\n",
    "cph = CoxPHFitter(penalizer=0.0001)\n",
    "cph.fit(fulladjust_allcevd, duration_col='cevd_t2e', event_col='cevd_event') \n",
    "summary_df = cph.summary \n",
    "summary_df.style.format({'p': '{:.5f}'})"
   ]
  },
  {
   "cell_type": "code",
   "execution_count": 271,
   "metadata": {
    "tags": []
   },
   "outputs": [
    {
     "data": {
      "text/plain": [
       "213"
      ]
     },
     "execution_count": 271,
     "metadata": {},
     "output_type": "execute_result"
    }
   ],
   "source": [
    "#cox model for CEVD - fully adjusted\n",
    "fulladjust_allcevd = cevd_df_first.dropna(subset=['stroke_t2e', 'pp'])\n",
    "len(fulladjust_allcevd)"
   ]
  },
  {
   "cell_type": "code",
   "execution_count": 272,
   "metadata": {
    "tags": []
   },
   "outputs": [
    {
     "data": {
      "text/html": [
       "<style type=\"text/css\">\n",
       "</style>\n",
       "<table id=\"T_f0c9d\">\n",
       "  <thead>\n",
       "    <tr>\n",
       "      <th class=\"blank level0\" >&nbsp;</th>\n",
       "      <th id=\"T_f0c9d_level0_col0\" class=\"col_heading level0 col0\" >coef</th>\n",
       "      <th id=\"T_f0c9d_level0_col1\" class=\"col_heading level0 col1\" >exp(coef)</th>\n",
       "      <th id=\"T_f0c9d_level0_col2\" class=\"col_heading level0 col2\" >se(coef)</th>\n",
       "      <th id=\"T_f0c9d_level0_col3\" class=\"col_heading level0 col3\" >coef lower 95%</th>\n",
       "      <th id=\"T_f0c9d_level0_col4\" class=\"col_heading level0 col4\" >coef upper 95%</th>\n",
       "      <th id=\"T_f0c9d_level0_col5\" class=\"col_heading level0 col5\" >exp(coef) lower 95%</th>\n",
       "      <th id=\"T_f0c9d_level0_col6\" class=\"col_heading level0 col6\" >exp(coef) upper 95%</th>\n",
       "      <th id=\"T_f0c9d_level0_col7\" class=\"col_heading level0 col7\" >cmp to</th>\n",
       "      <th id=\"T_f0c9d_level0_col8\" class=\"col_heading level0 col8\" >z</th>\n",
       "      <th id=\"T_f0c9d_level0_col9\" class=\"col_heading level0 col9\" >p</th>\n",
       "      <th id=\"T_f0c9d_level0_col10\" class=\"col_heading level0 col10\" >-log2(p)</th>\n",
       "    </tr>\n",
       "    <tr>\n",
       "      <th class=\"index_name level0\" >covariate</th>\n",
       "      <th class=\"blank col0\" >&nbsp;</th>\n",
       "      <th class=\"blank col1\" >&nbsp;</th>\n",
       "      <th class=\"blank col2\" >&nbsp;</th>\n",
       "      <th class=\"blank col3\" >&nbsp;</th>\n",
       "      <th class=\"blank col4\" >&nbsp;</th>\n",
       "      <th class=\"blank col5\" >&nbsp;</th>\n",
       "      <th class=\"blank col6\" >&nbsp;</th>\n",
       "      <th class=\"blank col7\" >&nbsp;</th>\n",
       "      <th class=\"blank col8\" >&nbsp;</th>\n",
       "      <th class=\"blank col9\" >&nbsp;</th>\n",
       "      <th class=\"blank col10\" >&nbsp;</th>\n",
       "    </tr>\n",
       "  </thead>\n",
       "  <tbody>\n",
       "    <tr>\n",
       "      <th id=\"T_f0c9d_level0_row0\" class=\"row_heading level0 row0\" >age_i0</th>\n",
       "      <td id=\"T_f0c9d_row0_col0\" class=\"data row0 col0\" >-0.026043</td>\n",
       "      <td id=\"T_f0c9d_row0_col1\" class=\"data row0 col1\" >0.974293</td>\n",
       "      <td id=\"T_f0c9d_row0_col2\" class=\"data row0 col2\" >0.014388</td>\n",
       "      <td id=\"T_f0c9d_row0_col3\" class=\"data row0 col3\" >-0.054244</td>\n",
       "      <td id=\"T_f0c9d_row0_col4\" class=\"data row0 col4\" >0.002158</td>\n",
       "      <td id=\"T_f0c9d_row0_col5\" class=\"data row0 col5\" >0.947201</td>\n",
       "      <td id=\"T_f0c9d_row0_col6\" class=\"data row0 col6\" >1.002160</td>\n",
       "      <td id=\"T_f0c9d_row0_col7\" class=\"data row0 col7\" >0.000000</td>\n",
       "      <td id=\"T_f0c9d_row0_col8\" class=\"data row0 col8\" >-1.810001</td>\n",
       "      <td id=\"T_f0c9d_row0_col9\" class=\"data row0 col9\" >0.07030</td>\n",
       "      <td id=\"T_f0c9d_row0_col10\" class=\"data row0 col10\" >3.830420</td>\n",
       "    </tr>\n",
       "    <tr>\n",
       "      <th id=\"T_f0c9d_level0_row1\" class=\"row_heading level0 row1\" >male</th>\n",
       "      <td id=\"T_f0c9d_row1_col0\" class=\"data row1 col0\" >-0.188743</td>\n",
       "      <td id=\"T_f0c9d_row1_col1\" class=\"data row1 col1\" >0.827999</td>\n",
       "      <td id=\"T_f0c9d_row1_col2\" class=\"data row1 col2\" >0.144053</td>\n",
       "      <td id=\"T_f0c9d_row1_col3\" class=\"data row1 col3\" >-0.471082</td>\n",
       "      <td id=\"T_f0c9d_row1_col4\" class=\"data row1 col4\" >0.093596</td>\n",
       "      <td id=\"T_f0c9d_row1_col5\" class=\"data row1 col5\" >0.624326</td>\n",
       "      <td id=\"T_f0c9d_row1_col6\" class=\"data row1 col6\" >1.098115</td>\n",
       "      <td id=\"T_f0c9d_row1_col7\" class=\"data row1 col7\" >0.000000</td>\n",
       "      <td id=\"T_f0c9d_row1_col8\" class=\"data row1 col8\" >-1.310234</td>\n",
       "      <td id=\"T_f0c9d_row1_col9\" class=\"data row1 col9\" >0.19012</td>\n",
       "      <td id=\"T_f0c9d_row1_col10\" class=\"data row1 col10\" >2.395044</td>\n",
       "    </tr>\n",
       "    <tr>\n",
       "      <th id=\"T_f0c9d_level0_row2\" class=\"row_heading level0 row2\" >bmi</th>\n",
       "      <td id=\"T_f0c9d_row2_col0\" class=\"data row2 col0\" >-0.004341</td>\n",
       "      <td id=\"T_f0c9d_row2_col1\" class=\"data row2 col1\" >0.995669</td>\n",
       "      <td id=\"T_f0c9d_row2_col2\" class=\"data row2 col2\" >0.012738</td>\n",
       "      <td id=\"T_f0c9d_row2_col3\" class=\"data row2 col3\" >-0.029306</td>\n",
       "      <td id=\"T_f0c9d_row2_col4\" class=\"data row2 col4\" >0.020625</td>\n",
       "      <td id=\"T_f0c9d_row2_col5\" class=\"data row2 col5\" >0.971119</td>\n",
       "      <td id=\"T_f0c9d_row2_col6\" class=\"data row2 col6\" >1.020839</td>\n",
       "      <td id=\"T_f0c9d_row2_col7\" class=\"data row2 col7\" >0.000000</td>\n",
       "      <td id=\"T_f0c9d_row2_col8\" class=\"data row2 col8\" >-0.340780</td>\n",
       "      <td id=\"T_f0c9d_row2_col9\" class=\"data row2 col9\" >0.73327</td>\n",
       "      <td id=\"T_f0c9d_row2_col10\" class=\"data row2 col10\" >0.447585</td>\n",
       "    </tr>\n",
       "    <tr>\n",
       "      <th id=\"T_f0c9d_level0_row3\" class=\"row_heading level0 row3\" >pp</th>\n",
       "      <td id=\"T_f0c9d_row3_col0\" class=\"data row3 col0\" >0.006918</td>\n",
       "      <td id=\"T_f0c9d_row3_col1\" class=\"data row3 col1\" >1.006942</td>\n",
       "      <td id=\"T_f0c9d_row3_col2\" class=\"data row3 col2\" >0.004428</td>\n",
       "      <td id=\"T_f0c9d_row3_col3\" class=\"data row3 col3\" >-0.001762</td>\n",
       "      <td id=\"T_f0c9d_row3_col4\" class=\"data row3 col4\" >0.015597</td>\n",
       "      <td id=\"T_f0c9d_row3_col5\" class=\"data row3 col5\" >0.998240</td>\n",
       "      <td id=\"T_f0c9d_row3_col6\" class=\"data row3 col6\" >1.015719</td>\n",
       "      <td id=\"T_f0c9d_row3_col7\" class=\"data row3 col7\" >0.000000</td>\n",
       "      <td id=\"T_f0c9d_row3_col8\" class=\"data row3 col8\" >1.562137</td>\n",
       "      <td id=\"T_f0c9d_row3_col9\" class=\"data row3 col9\" >0.11826</td>\n",
       "      <td id=\"T_f0c9d_row3_col10\" class=\"data row3 col10\" >3.080020</td>\n",
       "    </tr>\n",
       "    <tr>\n",
       "      <th id=\"T_f0c9d_level0_row4\" class=\"row_heading level0 row4\" >dep_yes</th>\n",
       "      <td id=\"T_f0c9d_row4_col0\" class=\"data row4 col0\" >0.204563</td>\n",
       "      <td id=\"T_f0c9d_row4_col1\" class=\"data row4 col1\" >1.226989</td>\n",
       "      <td id=\"T_f0c9d_row4_col2\" class=\"data row4 col2\" >0.149981</td>\n",
       "      <td id=\"T_f0c9d_row4_col3\" class=\"data row4 col3\" >-0.089395</td>\n",
       "      <td id=\"T_f0c9d_row4_col4\" class=\"data row4 col4\" >0.498521</td>\n",
       "      <td id=\"T_f0c9d_row4_col5\" class=\"data row4 col5\" >0.914484</td>\n",
       "      <td id=\"T_f0c9d_row4_col6\" class=\"data row4 col6\" >1.646284</td>\n",
       "      <td id=\"T_f0c9d_row4_col7\" class=\"data row4 col7\" >0.000000</td>\n",
       "      <td id=\"T_f0c9d_row4_col8\" class=\"data row4 col8\" >1.363924</td>\n",
       "      <td id=\"T_f0c9d_row4_col9\" class=\"data row4 col9\" >0.17259</td>\n",
       "      <td id=\"T_f0c9d_row4_col10\" class=\"data row4 col10\" >2.534566</td>\n",
       "    </tr>\n",
       "  </tbody>\n",
       "</table>\n"
      ],
      "text/plain": [
       "<pandas.io.formats.style.Styler at 0x7f68ed0f1c10>"
      ]
     },
     "execution_count": 272,
     "metadata": {},
     "output_type": "execute_result"
    }
   ],
   "source": [
    "fulladjust_allcevd = fulladjust_allcevd.loc[:, ['stroke_event', 'stroke_t2e', 'age_i0', 'male',  'bmi', 'pp',  'dep_yes']]\n",
    "fulladjust_allcevd = fulladjust_allcevd[['stroke_event', 'stroke_t2e', 'age_i0', 'male',  'bmi', 'pp', 'dep_yes']]\n",
    "#fulladjust_allcevd_data = pd.get_dummies(fulladjust_allcevd, columns=['alc_freq', 'smok_stat'])\n",
    "cph = CoxPHFitter(penalizer=0.0001)\n",
    "cph.fit(fulladjust_allcevd, duration_col='stroke_t2e', event_col='stroke_event') \n",
    "summary_df = cph.summary \n",
    "summary_df.style.format({'p': '{:.5f}'})"
   ]
  },
  {
   "cell_type": "code",
   "execution_count": 273,
   "metadata": {
    "tags": []
   },
   "outputs": [],
   "source": [
    "#no combined risk for stroke; only for hemorrhage"
   ]
  },
  {
   "cell_type": "code",
   "execution_count": 274,
   "metadata": {
    "tags": []
   },
   "outputs": [
    {
     "name": "stdout",
     "output_type": "stream",
     "text": [
      "Schoenfeld residuals results for ALL CEVD:\n",
      "Proportional hazard assumption looks okay.\n"
     ]
    }
   ],
   "source": [
    "print('Schoenfeld residuals results for ALL CEVD:')\n",
    "schoenfeld_results = cph.check_assumptions(fulladjust_allcevd, p_value_threshold=0.05)"
   ]
  },
  {
   "cell_type": "code",
   "execution_count": 275,
   "metadata": {
    "tags": []
   },
   "outputs": [
    {
     "data": {
      "text/html": [
       "<style type=\"text/css\">\n",
       "</style>\n",
       "<table id=\"T_4f85c\">\n",
       "  <thead>\n",
       "    <tr>\n",
       "      <th class=\"blank level0\" >&nbsp;</th>\n",
       "      <th id=\"T_4f85c_level0_col0\" class=\"col_heading level0 col0\" >coef</th>\n",
       "      <th id=\"T_4f85c_level0_col1\" class=\"col_heading level0 col1\" >exp(coef)</th>\n",
       "      <th id=\"T_4f85c_level0_col2\" class=\"col_heading level0 col2\" >se(coef)</th>\n",
       "      <th id=\"T_4f85c_level0_col3\" class=\"col_heading level0 col3\" >coef lower 95%</th>\n",
       "      <th id=\"T_4f85c_level0_col4\" class=\"col_heading level0 col4\" >coef upper 95%</th>\n",
       "      <th id=\"T_4f85c_level0_col5\" class=\"col_heading level0 col5\" >exp(coef) lower 95%</th>\n",
       "      <th id=\"T_4f85c_level0_col6\" class=\"col_heading level0 col6\" >exp(coef) upper 95%</th>\n",
       "      <th id=\"T_4f85c_level0_col7\" class=\"col_heading level0 col7\" >cmp to</th>\n",
       "      <th id=\"T_4f85c_level0_col8\" class=\"col_heading level0 col8\" >z</th>\n",
       "      <th id=\"T_4f85c_level0_col9\" class=\"col_heading level0 col9\" >p</th>\n",
       "      <th id=\"T_4f85c_level0_col10\" class=\"col_heading level0 col10\" >-log2(p)</th>\n",
       "    </tr>\n",
       "    <tr>\n",
       "      <th class=\"index_name level0\" >covariate</th>\n",
       "      <th class=\"blank col0\" >&nbsp;</th>\n",
       "      <th class=\"blank col1\" >&nbsp;</th>\n",
       "      <th class=\"blank col2\" >&nbsp;</th>\n",
       "      <th class=\"blank col3\" >&nbsp;</th>\n",
       "      <th class=\"blank col4\" >&nbsp;</th>\n",
       "      <th class=\"blank col5\" >&nbsp;</th>\n",
       "      <th class=\"blank col6\" >&nbsp;</th>\n",
       "      <th class=\"blank col7\" >&nbsp;</th>\n",
       "      <th class=\"blank col8\" >&nbsp;</th>\n",
       "      <th class=\"blank col9\" >&nbsp;</th>\n",
       "      <th class=\"blank col10\" >&nbsp;</th>\n",
       "    </tr>\n",
       "  </thead>\n",
       "  <tbody>\n",
       "    <tr>\n",
       "      <th id=\"T_4f85c_level0_row0\" class=\"row_heading level0 row0\" >age_i0</th>\n",
       "      <td id=\"T_4f85c_row0_col0\" class=\"data row0 col0\" >-0.014033</td>\n",
       "      <td id=\"T_4f85c_row0_col1\" class=\"data row0 col1\" >0.986065</td>\n",
       "      <td id=\"T_4f85c_row0_col2\" class=\"data row0 col2\" >0.007676</td>\n",
       "      <td id=\"T_4f85c_row0_col3\" class=\"data row0 col3\" >-0.029077</td>\n",
       "      <td id=\"T_4f85c_row0_col4\" class=\"data row0 col4\" >0.001011</td>\n",
       "      <td id=\"T_4f85c_row0_col5\" class=\"data row0 col5\" >0.971341</td>\n",
       "      <td id=\"T_4f85c_row0_col6\" class=\"data row0 col6\" >1.001012</td>\n",
       "      <td id=\"T_4f85c_row0_col7\" class=\"data row0 col7\" >0.000000</td>\n",
       "      <td id=\"T_4f85c_row0_col8\" class=\"data row0 col8\" >-1.828208</td>\n",
       "      <td id=\"T_4f85c_row0_col9\" class=\"data row0 col9\" >0.06752</td>\n",
       "      <td id=\"T_4f85c_row0_col10\" class=\"data row0 col10\" >3.888576</td>\n",
       "    </tr>\n",
       "    <tr>\n",
       "      <th id=\"T_4f85c_level0_row1\" class=\"row_heading level0 row1\" >male</th>\n",
       "      <td id=\"T_4f85c_row1_col0\" class=\"data row1 col0\" >0.090514</td>\n",
       "      <td id=\"T_4f85c_row1_col1\" class=\"data row1 col1\" >1.094737</td>\n",
       "      <td id=\"T_4f85c_row1_col2\" class=\"data row1 col2\" >0.086701</td>\n",
       "      <td id=\"T_4f85c_row1_col3\" class=\"data row1 col3\" >-0.079416</td>\n",
       "      <td id=\"T_4f85c_row1_col4\" class=\"data row1 col4\" >0.260444</td>\n",
       "      <td id=\"T_4f85c_row1_col5\" class=\"data row1 col5\" >0.923656</td>\n",
       "      <td id=\"T_4f85c_row1_col6\" class=\"data row1 col6\" >1.297506</td>\n",
       "      <td id=\"T_4f85c_row1_col7\" class=\"data row1 col7\" >0.000000</td>\n",
       "      <td id=\"T_4f85c_row1_col8\" class=\"data row1 col8\" >1.043986</td>\n",
       "      <td id=\"T_4f85c_row1_col9\" class=\"data row1 col9\" >0.29649</td>\n",
       "      <td id=\"T_4f85c_row1_col10\" class=\"data row1 col10\" >1.753936</td>\n",
       "    </tr>\n",
       "    <tr>\n",
       "      <th id=\"T_4f85c_level0_row2\" class=\"row_heading level0 row2\" >dep_diag_yes</th>\n",
       "      <td id=\"T_4f85c_row2_col0\" class=\"data row2 col0\" >0.123186</td>\n",
       "      <td id=\"T_4f85c_row2_col1\" class=\"data row2 col1\" >1.131095</td>\n",
       "      <td id=\"T_4f85c_row2_col2\" class=\"data row2 col2\" >0.112343</td>\n",
       "      <td id=\"T_4f85c_row2_col3\" class=\"data row2 col3\" >-0.097001</td>\n",
       "      <td id=\"T_4f85c_row2_col4\" class=\"data row2 col4\" >0.343373</td>\n",
       "      <td id=\"T_4f85c_row2_col5\" class=\"data row2 col5\" >0.907555</td>\n",
       "      <td id=\"T_4f85c_row2_col6\" class=\"data row2 col6\" >1.409695</td>\n",
       "      <td id=\"T_4f85c_row2_col7\" class=\"data row2 col7\" >0.000000</td>\n",
       "      <td id=\"T_4f85c_row2_col8\" class=\"data row2 col8\" >1.096521</td>\n",
       "      <td id=\"T_4f85c_row2_col9\" class=\"data row2 col9\" >0.27285</td>\n",
       "      <td id=\"T_4f85c_row2_col10\" class=\"data row2 col10\" >1.873817</td>\n",
       "    </tr>\n",
       "  </tbody>\n",
       "</table>\n"
      ],
      "text/plain": [
       "<pandas.io.formats.style.Styler at 0x7f690758a850>"
      ]
     },
     "execution_count": 275,
     "metadata": {},
     "output_type": "execute_result"
    }
   ],
   "source": [
    "#cox model for CEVD - age- and sex-adjusted\n",
    "asadjust_allcevd = cevd_df_first.dropna(subset=['cevd_t2e'])\n",
    "asadjust_allcevd = asadjust_allcevd[['cevd_event', 'cevd_t2e', 'age_i0', 'male', 'dep_diag_yes']]\n",
    "cph = CoxPHFitter(penalizer=0.0001)\n",
    "cph.fit(asadjust_allcevd, duration_col='cevd_t2e', event_col='cevd_event') \n",
    "summary_df = cph.summary \n",
    "summary_df.style.format({'p': '{:.5f}'})"
   ]
  },
  {
   "cell_type": "code",
   "execution_count": 276,
   "metadata": {
    "tags": []
   },
   "outputs": [
    {
     "data": {
      "text/html": [
       "<style type=\"text/css\">\n",
       "</style>\n",
       "<table id=\"T_12ef1\">\n",
       "  <thead>\n",
       "    <tr>\n",
       "      <th class=\"blank level0\" >&nbsp;</th>\n",
       "      <th id=\"T_12ef1_level0_col0\" class=\"col_heading level0 col0\" >coef</th>\n",
       "      <th id=\"T_12ef1_level0_col1\" class=\"col_heading level0 col1\" >exp(coef)</th>\n",
       "      <th id=\"T_12ef1_level0_col2\" class=\"col_heading level0 col2\" >se(coef)</th>\n",
       "      <th id=\"T_12ef1_level0_col3\" class=\"col_heading level0 col3\" >coef lower 95%</th>\n",
       "      <th id=\"T_12ef1_level0_col4\" class=\"col_heading level0 col4\" >coef upper 95%</th>\n",
       "      <th id=\"T_12ef1_level0_col5\" class=\"col_heading level0 col5\" >exp(coef) lower 95%</th>\n",
       "      <th id=\"T_12ef1_level0_col6\" class=\"col_heading level0 col6\" >exp(coef) upper 95%</th>\n",
       "      <th id=\"T_12ef1_level0_col7\" class=\"col_heading level0 col7\" >cmp to</th>\n",
       "      <th id=\"T_12ef1_level0_col8\" class=\"col_heading level0 col8\" >z</th>\n",
       "      <th id=\"T_12ef1_level0_col9\" class=\"col_heading level0 col9\" >p</th>\n",
       "      <th id=\"T_12ef1_level0_col10\" class=\"col_heading level0 col10\" >-log2(p)</th>\n",
       "    </tr>\n",
       "    <tr>\n",
       "      <th class=\"index_name level0\" >covariate</th>\n",
       "      <th class=\"blank col0\" >&nbsp;</th>\n",
       "      <th class=\"blank col1\" >&nbsp;</th>\n",
       "      <th class=\"blank col2\" >&nbsp;</th>\n",
       "      <th class=\"blank col3\" >&nbsp;</th>\n",
       "      <th class=\"blank col4\" >&nbsp;</th>\n",
       "      <th class=\"blank col5\" >&nbsp;</th>\n",
       "      <th class=\"blank col6\" >&nbsp;</th>\n",
       "      <th class=\"blank col7\" >&nbsp;</th>\n",
       "      <th class=\"blank col8\" >&nbsp;</th>\n",
       "      <th class=\"blank col9\" >&nbsp;</th>\n",
       "      <th class=\"blank col10\" >&nbsp;</th>\n",
       "    </tr>\n",
       "  </thead>\n",
       "  <tbody>\n",
       "    <tr>\n",
       "      <th id=\"T_12ef1_level0_row0\" class=\"row_heading level0 row0\" >dep_yes</th>\n",
       "      <td id=\"T_12ef1_row0_col0\" class=\"data row0 col0\" >0.189122</td>\n",
       "      <td id=\"T_12ef1_row0_col1\" class=\"data row0 col1\" >1.208188</td>\n",
       "      <td id=\"T_12ef1_row0_col2\" class=\"data row0 col2\" >0.085970</td>\n",
       "      <td id=\"T_12ef1_row0_col3\" class=\"data row0 col3\" >0.020624</td>\n",
       "      <td id=\"T_12ef1_row0_col4\" class=\"data row0 col4\" >0.357620</td>\n",
       "      <td id=\"T_12ef1_row0_col5\" class=\"data row0 col5\" >1.020838</td>\n",
       "      <td id=\"T_12ef1_row0_col6\" class=\"data row0 col6\" >1.429922</td>\n",
       "      <td id=\"T_12ef1_row0_col7\" class=\"data row0 col7\" >0.000000</td>\n",
       "      <td id=\"T_12ef1_row0_col8\" class=\"data row0 col8\" >2.199858</td>\n",
       "      <td id=\"T_12ef1_row0_col9\" class=\"data row0 col9\" >0.02782</td>\n",
       "      <td id=\"T_12ef1_row0_col10\" class=\"data row0 col10\" >5.167890</td>\n",
       "    </tr>\n",
       "  </tbody>\n",
       "</table>\n"
      ],
      "text/plain": [
       "<pandas.io.formats.style.Styler at 0x7f68fbd7af10>"
      ]
     },
     "execution_count": 276,
     "metadata": {},
     "output_type": "execute_result"
    }
   ],
   "source": [
    "#cox model for CEVD - unadjusted\n",
    "unadjust_allcevd = cevd_df_first.dropna(subset=['cevd_t2e'])\n",
    "unadjust_allcevd = unadjust_allcevd[['cevd_event', 'cevd_t2e', 'dep_yes']]\n",
    "cph = CoxPHFitter(penalizer=0.0001)\n",
    "cph.fit(unadjust_allcevd, duration_col='cevd_t2e', event_col='cevd_event') \n",
    "summary_df = cph.summary \n",
    "summary_df.style.format({'p': '{:.5f}'})"
   ]
  },
  {
   "cell_type": "code",
   "execution_count": 277,
   "metadata": {
    "tags": []
   },
   "outputs": [
    {
     "name": "stdout",
     "output_type": "stream",
     "text": [
      "Number of depressed CeVD events, Number of control CeVD events: (82, 131)\n"
     ]
    }
   ],
   "source": [
    "def count_cevd(df):\n",
    "    dep_count = 0\n",
    "    cont_count = 0\n",
    "    for index, row in df.iterrows():\n",
    "        if row['dep_yes'] == 1:\n",
    "            dep_count += 1\n",
    "        if row['dep_yes'] == 0:\n",
    "            cont_count += 1\n",
    "    return dep_count, cont_count\n",
    "\n",
    "cevd_dep_yes = count_cevd(fulladjust_allcevd)\n",
    "print('Number of depressed CeVD events, Number of control CeVD events:', cevd_dep_yes)"
   ]
  },
  {
   "cell_type": "code",
   "execution_count": 278,
   "metadata": {
    "tags": []
   },
   "outputs": [],
   "source": [
    "#for all f01 types"
   ]
  },
  {
   "cell_type": "code",
   "execution_count": 279,
   "metadata": {
    "tags": []
   },
   "outputs": [
    {
     "name": "stdout",
     "output_type": "stream",
     "text": [
      "Number of depressed CeVD events, Number of control CeVD events: (16, 13)\n"
     ]
    }
   ],
   "source": [
    "#cox model for f01 - fully adjusted\n",
    "fulladjust_f01 = cevd_df_first.dropna(subset=['f01_t2e'])\n",
    "def count_cevd(df):\n",
    "    dep_count = 0\n",
    "    cont_count = 0\n",
    "    for index, row in df.iterrows():\n",
    "        if row['dep_yes'] == 1:\n",
    "            dep_count += 1\n",
    "        if row['dep_yes'] == 0:\n",
    "            cont_count += 1\n",
    "    return dep_count, cont_count\n",
    "\n",
    "cevd_dep_yes = count_cevd(fulladjust_f01)\n",
    "print('Number of depressed CeVD events, Number of control CeVD events:', cevd_dep_yes)"
   ]
  },
  {
   "cell_type": "code",
   "execution_count": 280,
   "metadata": {
    "tags": []
   },
   "outputs": [
    {
     "data": {
      "text/html": [
       "<style type=\"text/css\">\n",
       "</style>\n",
       "<table id=\"T_50aa6\">\n",
       "  <thead>\n",
       "    <tr>\n",
       "      <th class=\"blank level0\" >&nbsp;</th>\n",
       "      <th id=\"T_50aa6_level0_col0\" class=\"col_heading level0 col0\" >coef</th>\n",
       "      <th id=\"T_50aa6_level0_col1\" class=\"col_heading level0 col1\" >exp(coef)</th>\n",
       "      <th id=\"T_50aa6_level0_col2\" class=\"col_heading level0 col2\" >se(coef)</th>\n",
       "      <th id=\"T_50aa6_level0_col3\" class=\"col_heading level0 col3\" >coef lower 95%</th>\n",
       "      <th id=\"T_50aa6_level0_col4\" class=\"col_heading level0 col4\" >coef upper 95%</th>\n",
       "      <th id=\"T_50aa6_level0_col5\" class=\"col_heading level0 col5\" >exp(coef) lower 95%</th>\n",
       "      <th id=\"T_50aa6_level0_col6\" class=\"col_heading level0 col6\" >exp(coef) upper 95%</th>\n",
       "      <th id=\"T_50aa6_level0_col7\" class=\"col_heading level0 col7\" >cmp to</th>\n",
       "      <th id=\"T_50aa6_level0_col8\" class=\"col_heading level0 col8\" >z</th>\n",
       "      <th id=\"T_50aa6_level0_col9\" class=\"col_heading level0 col9\" >p</th>\n",
       "      <th id=\"T_50aa6_level0_col10\" class=\"col_heading level0 col10\" >-log2(p)</th>\n",
       "    </tr>\n",
       "    <tr>\n",
       "      <th class=\"index_name level0\" >covariate</th>\n",
       "      <th class=\"blank col0\" >&nbsp;</th>\n",
       "      <th class=\"blank col1\" >&nbsp;</th>\n",
       "      <th class=\"blank col2\" >&nbsp;</th>\n",
       "      <th class=\"blank col3\" >&nbsp;</th>\n",
       "      <th class=\"blank col4\" >&nbsp;</th>\n",
       "      <th class=\"blank col5\" >&nbsp;</th>\n",
       "      <th class=\"blank col6\" >&nbsp;</th>\n",
       "      <th class=\"blank col7\" >&nbsp;</th>\n",
       "      <th class=\"blank col8\" >&nbsp;</th>\n",
       "      <th class=\"blank col9\" >&nbsp;</th>\n",
       "      <th class=\"blank col10\" >&nbsp;</th>\n",
       "    </tr>\n",
       "  </thead>\n",
       "  <tbody>\n",
       "    <tr>\n",
       "      <th id=\"T_50aa6_level0_row0\" class=\"row_heading level0 row0\" >age_i0</th>\n",
       "      <td id=\"T_50aa6_row0_col0\" class=\"data row0 col0\" >-0.047130</td>\n",
       "      <td id=\"T_50aa6_row0_col1\" class=\"data row0 col1\" >0.953963</td>\n",
       "      <td id=\"T_50aa6_row0_col2\" class=\"data row0 col2\" >0.098744</td>\n",
       "      <td id=\"T_50aa6_row0_col3\" class=\"data row0 col3\" >-0.240665</td>\n",
       "      <td id=\"T_50aa6_row0_col4\" class=\"data row0 col4\" >0.146405</td>\n",
       "      <td id=\"T_50aa6_row0_col5\" class=\"data row0 col5\" >0.786105</td>\n",
       "      <td id=\"T_50aa6_row0_col6\" class=\"data row0 col6\" >1.157665</td>\n",
       "      <td id=\"T_50aa6_row0_col7\" class=\"data row0 col7\" >0.000000</td>\n",
       "      <td id=\"T_50aa6_row0_col8\" class=\"data row0 col8\" >-0.477292</td>\n",
       "      <td id=\"T_50aa6_row0_col9\" class=\"data row0 col9\" >0.63315</td>\n",
       "      <td id=\"T_50aa6_row0_col10\" class=\"data row0 col10\" >0.659372</td>\n",
       "    </tr>\n",
       "    <tr>\n",
       "      <th id=\"T_50aa6_level0_row1\" class=\"row_heading level0 row1\" >male</th>\n",
       "      <td id=\"T_50aa6_row1_col0\" class=\"data row1 col0\" >1.326333</td>\n",
       "      <td id=\"T_50aa6_row1_col1\" class=\"data row1 col1\" >3.767205</td>\n",
       "      <td id=\"T_50aa6_row1_col2\" class=\"data row1 col2\" >0.824123</td>\n",
       "      <td id=\"T_50aa6_row1_col3\" class=\"data row1 col3\" >-0.288918</td>\n",
       "      <td id=\"T_50aa6_row1_col4\" class=\"data row1 col4\" >2.941584</td>\n",
       "      <td id=\"T_50aa6_row1_col5\" class=\"data row1 col5\" >0.749074</td>\n",
       "      <td id=\"T_50aa6_row1_col6\" class=\"data row1 col6\" >18.945842</td>\n",
       "      <td id=\"T_50aa6_row1_col7\" class=\"data row1 col7\" >0.000000</td>\n",
       "      <td id=\"T_50aa6_row1_col8\" class=\"data row1 col8\" >1.609388</td>\n",
       "      <td id=\"T_50aa6_row1_col9\" class=\"data row1 col9\" >0.10753</td>\n",
       "      <td id=\"T_50aa6_row1_col10\" class=\"data row1 col10\" >3.217169</td>\n",
       "    </tr>\n",
       "    <tr>\n",
       "      <th id=\"T_50aa6_level0_row2\" class=\"row_heading level0 row2\" >bmi</th>\n",
       "      <td id=\"T_50aa6_row2_col0\" class=\"data row2 col0\" >0.028359</td>\n",
       "      <td id=\"T_50aa6_row2_col1\" class=\"data row2 col1\" >1.028765</td>\n",
       "      <td id=\"T_50aa6_row2_col2\" class=\"data row2 col2\" >0.073907</td>\n",
       "      <td id=\"T_50aa6_row2_col3\" class=\"data row2 col3\" >-0.116496</td>\n",
       "      <td id=\"T_50aa6_row2_col4\" class=\"data row2 col4\" >0.173213</td>\n",
       "      <td id=\"T_50aa6_row2_col5\" class=\"data row2 col5\" >0.890033</td>\n",
       "      <td id=\"T_50aa6_row2_col6\" class=\"data row2 col6\" >1.189120</td>\n",
       "      <td id=\"T_50aa6_row2_col7\" class=\"data row2 col7\" >0.000000</td>\n",
       "      <td id=\"T_50aa6_row2_col8\" class=\"data row2 col8\" >0.383707</td>\n",
       "      <td id=\"T_50aa6_row2_col9\" class=\"data row2 col9\" >0.70120</td>\n",
       "      <td id=\"T_50aa6_row2_col10\" class=\"data row2 col10\" >0.512112</td>\n",
       "    </tr>\n",
       "    <tr>\n",
       "      <th id=\"T_50aa6_level0_row3\" class=\"row_heading level0 row3\" >pp</th>\n",
       "      <td id=\"T_50aa6_row3_col0\" class=\"data row3 col0\" >-0.012777</td>\n",
       "      <td id=\"T_50aa6_row3_col1\" class=\"data row3 col1\" >0.987304</td>\n",
       "      <td id=\"T_50aa6_row3_col2\" class=\"data row3 col2\" >0.011368</td>\n",
       "      <td id=\"T_50aa6_row3_col3\" class=\"data row3 col3\" >-0.035058</td>\n",
       "      <td id=\"T_50aa6_row3_col4\" class=\"data row3 col4\" >0.009504</td>\n",
       "      <td id=\"T_50aa6_row3_col5\" class=\"data row3 col5\" >0.965549</td>\n",
       "      <td id=\"T_50aa6_row3_col6\" class=\"data row3 col6\" >1.009549</td>\n",
       "      <td id=\"T_50aa6_row3_col7\" class=\"data row3 col7\" >0.000000</td>\n",
       "      <td id=\"T_50aa6_row3_col8\" class=\"data row3 col8\" >-1.123930</td>\n",
       "      <td id=\"T_50aa6_row3_col9\" class=\"data row3 col9\" >0.26104</td>\n",
       "      <td id=\"T_50aa6_row3_col10\" class=\"data row3 col10\" >1.937642</td>\n",
       "    </tr>\n",
       "    <tr>\n",
       "      <th id=\"T_50aa6_level0_row4\" class=\"row_heading level0 row4\" >dep_yes</th>\n",
       "      <td id=\"T_50aa6_row4_col0\" class=\"data row4 col0\" >0.684208</td>\n",
       "      <td id=\"T_50aa6_row4_col1\" class=\"data row4 col1\" >1.982202</td>\n",
       "      <td id=\"T_50aa6_row4_col2\" class=\"data row4 col2\" >0.470885</td>\n",
       "      <td id=\"T_50aa6_row4_col3\" class=\"data row4 col3\" >-0.238710</td>\n",
       "      <td id=\"T_50aa6_row4_col4\" class=\"data row4 col4\" >1.607126</td>\n",
       "      <td id=\"T_50aa6_row4_col5\" class=\"data row4 col5\" >0.787644</td>\n",
       "      <td id=\"T_50aa6_row4_col6\" class=\"data row4 col6\" >4.988455</td>\n",
       "      <td id=\"T_50aa6_row4_col7\" class=\"data row4 col7\" >0.000000</td>\n",
       "      <td id=\"T_50aa6_row4_col8\" class=\"data row4 col8\" >1.453026</td>\n",
       "      <td id=\"T_50aa6_row4_col9\" class=\"data row4 col9\" >0.14622</td>\n",
       "      <td id=\"T_50aa6_row4_col10\" class=\"data row4 col10\" >2.773821</td>\n",
       "    </tr>\n",
       "  </tbody>\n",
       "</table>\n"
      ],
      "text/plain": [
       "<pandas.io.formats.style.Styler at 0x7f68eb9e4dc0>"
      ]
     },
     "execution_count": 280,
     "metadata": {},
     "output_type": "execute_result"
    }
   ],
   "source": [
    "#cox model for f01 - fully adjusted\n",
    "fulladjust_f01 = cevd_df_first.dropna(subset=['f01_t2e'])\n",
    "fulladjust_f01 = fulladjust_f01.loc[:, ['f01_event', 'f01_t2e', 'age_i0', 'male',  'bmi', 'pp', 'dep_yes']]\n",
    "fulladjust_f01 = fulladjust_f01[['f01_event', 'f01_t2e', 'age_i0', 'male',  'bmi', 'pp','dep_yes']]\n",
    "#fulladjust_f01_date = pd.get_dummies(fulladjust_f01, columns=['ipaq', 'smok_stat', 'alc_freq_filter'])\n",
    "cph = CoxPHFitter(penalizer=0.0001)\n",
    "cph.fit(fulladjust_f01, duration_col='f01_t2e', event_col='f01_event') \n",
    "summary_df = cph.summary \n",
    "summary_df.style.format({'p': '{:.5f}'})"
   ]
  },
  {
   "cell_type": "code",
   "execution_count": 281,
   "metadata": {
    "tags": []
   },
   "outputs": [
    {
     "name": "stdout",
     "output_type": "stream",
     "text": [
      "Schoenfeld residuals results for F01:\n",
      "The ``p_value_threshold`` is set at 0.05. Even under the null hypothesis of no violations, some\n",
      "covariates will be below the threshold by chance. This is compounded when there are many covariates.\n",
      "Similarly, when there are lots of observations, even minor deviances from the proportional hazard\n",
      "assumption will be flagged.\n",
      "\n",
      "With that in mind, it's best to use a combination of statistical tests and visual tests to determine\n",
      "the most serious violations. Produce visual plots using ``check_assumptions(..., show_plots=True)``\n",
      "and looking for non-constant lines. See link [A] below for a full example.\n",
      "\n"
     ]
    },
    {
     "data": {
      "text/html": [
       "<div>\n",
       "<style scoped>\n",
       "    .dataframe tbody tr th:only-of-type {\n",
       "        vertical-align: middle;\n",
       "    }\n",
       "\n",
       "    .dataframe tbody tr th {\n",
       "        vertical-align: top;\n",
       "    }\n",
       "\n",
       "    .dataframe thead th {\n",
       "        text-align: right;\n",
       "    }\n",
       "</style>\n",
       "<table border=\"1\" class=\"dataframe\">\n",
       "  <tbody>\n",
       "    <tr>\n",
       "      <th>null_distribution</th>\n",
       "      <td>chi squared</td>\n",
       "    </tr>\n",
       "    <tr>\n",
       "      <th>degrees_of_freedom</th>\n",
       "      <td>1</td>\n",
       "    </tr>\n",
       "    <tr>\n",
       "      <th>model</th>\n",
       "      <td>&lt;lifelines.CoxPHFitter: fitted with 29 total o...</td>\n",
       "    </tr>\n",
       "    <tr>\n",
       "      <th>test_name</th>\n",
       "      <td>proportional_hazard_test</td>\n",
       "    </tr>\n",
       "  </tbody>\n",
       "</table>\n",
       "</div><table border=\"1\" class=\"dataframe\">\n",
       "  <thead>\n",
       "    <tr style=\"text-align: right;\">\n",
       "      <th></th>\n",
       "      <th></th>\n",
       "      <th>test_statistic</th>\n",
       "      <th>p</th>\n",
       "      <th>-log2(p)</th>\n",
       "    </tr>\n",
       "  </thead>\n",
       "  <tbody>\n",
       "    <tr>\n",
       "      <th rowspan=\"2\" valign=\"top\">age_i0</th>\n",
       "      <th>km</th>\n",
       "      <td>2.44</td>\n",
       "      <td>0.12</td>\n",
       "      <td>3.08</td>\n",
       "    </tr>\n",
       "    <tr>\n",
       "      <th>rank</th>\n",
       "      <td>2.44</td>\n",
       "      <td>0.12</td>\n",
       "      <td>3.08</td>\n",
       "    </tr>\n",
       "    <tr>\n",
       "      <th rowspan=\"2\" valign=\"top\">bmi</th>\n",
       "      <th>km</th>\n",
       "      <td>4.40</td>\n",
       "      <td>0.04</td>\n",
       "      <td>4.80</td>\n",
       "    </tr>\n",
       "    <tr>\n",
       "      <th>rank</th>\n",
       "      <td>4.40</td>\n",
       "      <td>0.04</td>\n",
       "      <td>4.80</td>\n",
       "    </tr>\n",
       "    <tr>\n",
       "      <th rowspan=\"2\" valign=\"top\">dep_yes</th>\n",
       "      <th>km</th>\n",
       "      <td>2.16</td>\n",
       "      <td>0.14</td>\n",
       "      <td>2.82</td>\n",
       "    </tr>\n",
       "    <tr>\n",
       "      <th>rank</th>\n",
       "      <td>2.16</td>\n",
       "      <td>0.14</td>\n",
       "      <td>2.82</td>\n",
       "    </tr>\n",
       "    <tr>\n",
       "      <th rowspan=\"2\" valign=\"top\">male</th>\n",
       "      <th>km</th>\n",
       "      <td>1.90</td>\n",
       "      <td>0.17</td>\n",
       "      <td>2.58</td>\n",
       "    </tr>\n",
       "    <tr>\n",
       "      <th>rank</th>\n",
       "      <td>1.90</td>\n",
       "      <td>0.17</td>\n",
       "      <td>2.58</td>\n",
       "    </tr>\n",
       "    <tr>\n",
       "      <th rowspan=\"2\" valign=\"top\">pp</th>\n",
       "      <th>km</th>\n",
       "      <td>0.33</td>\n",
       "      <td>0.56</td>\n",
       "      <td>0.83</td>\n",
       "    </tr>\n",
       "    <tr>\n",
       "      <th>rank</th>\n",
       "      <td>0.33</td>\n",
       "      <td>0.56</td>\n",
       "      <td>0.83</td>\n",
       "    </tr>\n",
       "  </tbody>\n",
       "</table>"
      ],
      "text/latex": [
       "\\begin{tabular}{llrrr}\n",
       " &  & test_statistic & p & -log2(p) \\\\\n",
       "\\multirow[c]{2}{*}{age_i0} & km & 2.44 & 0.12 & 3.08 \\\\\n",
       " & rank & 2.44 & 0.12 & 3.08 \\\\\n",
       "\\multirow[c]{2}{*}{bmi} & km & 4.40 & 0.04 & 4.80 \\\\\n",
       " & rank & 4.40 & 0.04 & 4.80 \\\\\n",
       "\\multirow[c]{2}{*}{dep_yes} & km & 2.16 & 0.14 & 2.82 \\\\\n",
       " & rank & 2.16 & 0.14 & 2.82 \\\\\n",
       "\\multirow[c]{2}{*}{male} & km & 1.90 & 0.17 & 2.58 \\\\\n",
       " & rank & 1.90 & 0.17 & 2.58 \\\\\n",
       "\\multirow[c]{2}{*}{pp} & km & 0.33 & 0.56 & 0.83 \\\\\n",
       " & rank & 0.33 & 0.56 & 0.83 \\\\\n",
       "\\end{tabular}\n"
      ],
      "text/plain": [
       "<lifelines.StatisticalResult: proportional_hazard_test>\n",
       " null_distribution = chi squared\n",
       "degrees_of_freedom = 1\n",
       "             model = <lifelines.CoxPHFitter: fitted with 29 total observations, 0 right-censored observations>\n",
       "         test_name = proportional_hazard_test\n",
       "\n",
       "---\n",
       "              test_statistic    p  -log2(p)\n",
       "age_i0  km              2.44 0.12      3.08\n",
       "        rank            2.44 0.12      3.08\n",
       "bmi     km              4.40 0.04      4.80\n",
       "        rank            4.40 0.04      4.80\n",
       "dep_yes km              2.16 0.14      2.82\n",
       "        rank            2.16 0.14      2.82\n",
       "male    km              1.90 0.17      2.58\n",
       "        rank            1.90 0.17      2.58\n",
       "pp      km              0.33 0.56      0.83\n",
       "        rank            0.33 0.56      0.83"
      ]
     },
     "metadata": {},
     "output_type": "display_data"
    },
    {
     "name": "stdout",
     "output_type": "stream",
     "text": [
      "\n",
      "\n",
      "1. Variable 'bmi' failed the non-proportional test: p-value is 0.0359.\n",
      "\n",
      "   Advice 1: the functional form of the variable 'bmi' might be incorrect. That is, there may be\n",
      "non-linear terms missing. The proportional hazard test used is very sensitive to incorrect\n",
      "functional forms. See documentation in link [D] below on how to specify a functional form.\n",
      "\n",
      "   Advice 2: try binning the variable 'bmi' using pd.cut, and then specify it in `strata=['bmi',\n",
      "...]` in the call in `.fit`. See documentation in link [B] below.\n",
      "\n",
      "   Advice 3: try adding an interaction term with your time variable. See documentation in link [C]\n",
      "below.\n",
      "\n",
      "\n",
      "---\n",
      "[A]  https://lifelines.readthedocs.io/en/latest/jupyter_notebooks/Proportional%20hazard%20assumption.html\n",
      "[B]  https://lifelines.readthedocs.io/en/latest/jupyter_notebooks/Proportional%20hazard%20assumption.html#Bin-variable-and-stratify-on-it\n",
      "[C]  https://lifelines.readthedocs.io/en/latest/jupyter_notebooks/Proportional%20hazard%20assumption.html#Introduce-time-varying-covariates\n",
      "[D]  https://lifelines.readthedocs.io/en/latest/jupyter_notebooks/Proportional%20hazard%20assumption.html#Modify-the-functional-form\n",
      "[E]  https://lifelines.readthedocs.io/en/latest/jupyter_notebooks/Proportional%20hazard%20assumption.html#Stratification\n",
      "\n"
     ]
    }
   ],
   "source": [
    "print('Schoenfeld residuals results for F01:')\n",
    "schoenfeld_results_f01 = cph.check_assumptions(fulladjust_f01, p_value_threshold=0.05)"
   ]
  },
  {
   "cell_type": "code",
   "execution_count": 282,
   "metadata": {
    "tags": []
   },
   "outputs": [
    {
     "data": {
      "text/html": [
       "<style type=\"text/css\">\n",
       "</style>\n",
       "<table id=\"T_f7a91\">\n",
       "  <thead>\n",
       "    <tr>\n",
       "      <th class=\"blank level0\" >&nbsp;</th>\n",
       "      <th id=\"T_f7a91_level0_col0\" class=\"col_heading level0 col0\" >coef</th>\n",
       "      <th id=\"T_f7a91_level0_col1\" class=\"col_heading level0 col1\" >exp(coef)</th>\n",
       "      <th id=\"T_f7a91_level0_col2\" class=\"col_heading level0 col2\" >se(coef)</th>\n",
       "      <th id=\"T_f7a91_level0_col3\" class=\"col_heading level0 col3\" >coef lower 95%</th>\n",
       "      <th id=\"T_f7a91_level0_col4\" class=\"col_heading level0 col4\" >coef upper 95%</th>\n",
       "      <th id=\"T_f7a91_level0_col5\" class=\"col_heading level0 col5\" >exp(coef) lower 95%</th>\n",
       "      <th id=\"T_f7a91_level0_col6\" class=\"col_heading level0 col6\" >exp(coef) upper 95%</th>\n",
       "      <th id=\"T_f7a91_level0_col7\" class=\"col_heading level0 col7\" >cmp to</th>\n",
       "      <th id=\"T_f7a91_level0_col8\" class=\"col_heading level0 col8\" >z</th>\n",
       "      <th id=\"T_f7a91_level0_col9\" class=\"col_heading level0 col9\" >p</th>\n",
       "      <th id=\"T_f7a91_level0_col10\" class=\"col_heading level0 col10\" >-log2(p)</th>\n",
       "    </tr>\n",
       "    <tr>\n",
       "      <th class=\"index_name level0\" >covariate</th>\n",
       "      <th class=\"blank col0\" >&nbsp;</th>\n",
       "      <th class=\"blank col1\" >&nbsp;</th>\n",
       "      <th class=\"blank col2\" >&nbsp;</th>\n",
       "      <th class=\"blank col3\" >&nbsp;</th>\n",
       "      <th class=\"blank col4\" >&nbsp;</th>\n",
       "      <th class=\"blank col5\" >&nbsp;</th>\n",
       "      <th class=\"blank col6\" >&nbsp;</th>\n",
       "      <th class=\"blank col7\" >&nbsp;</th>\n",
       "      <th class=\"blank col8\" >&nbsp;</th>\n",
       "      <th class=\"blank col9\" >&nbsp;</th>\n",
       "      <th class=\"blank col10\" >&nbsp;</th>\n",
       "    </tr>\n",
       "  </thead>\n",
       "  <tbody>\n",
       "    <tr>\n",
       "      <th id=\"T_f7a91_level0_row0\" class=\"row_heading level0 row0\" >age_i0</th>\n",
       "      <td id=\"T_f7a91_row0_col0\" class=\"data row0 col0\" >-0.024283</td>\n",
       "      <td id=\"T_f7a91_row0_col1\" class=\"data row0 col1\" >0.976009</td>\n",
       "      <td id=\"T_f7a91_row0_col2\" class=\"data row0 col2\" >0.082168</td>\n",
       "      <td id=\"T_f7a91_row0_col3\" class=\"data row0 col3\" >-0.185330</td>\n",
       "      <td id=\"T_f7a91_row0_col4\" class=\"data row0 col4\" >0.136764</td>\n",
       "      <td id=\"T_f7a91_row0_col5\" class=\"data row0 col5\" >0.830830</td>\n",
       "      <td id=\"T_f7a91_row0_col6\" class=\"data row0 col6\" >1.146557</td>\n",
       "      <td id=\"T_f7a91_row0_col7\" class=\"data row0 col7\" >0.000000</td>\n",
       "      <td id=\"T_f7a91_row0_col8\" class=\"data row0 col8\" >-0.295528</td>\n",
       "      <td id=\"T_f7a91_row0_col9\" class=\"data row0 col9\" >0.76759</td>\n",
       "      <td id=\"T_f7a91_row0_col10\" class=\"data row0 col10\" >0.381592</td>\n",
       "    </tr>\n",
       "    <tr>\n",
       "      <th id=\"T_f7a91_level0_row1\" class=\"row_heading level0 row1\" >male</th>\n",
       "      <td id=\"T_f7a91_row1_col0\" class=\"data row1 col0\" >1.292184</td>\n",
       "      <td id=\"T_f7a91_row1_col1\" class=\"data row1 col1\" >3.640728</td>\n",
       "      <td id=\"T_f7a91_row1_col2\" class=\"data row1 col2\" >0.617245</td>\n",
       "      <td id=\"T_f7a91_row1_col3\" class=\"data row1 col3\" >0.082406</td>\n",
       "      <td id=\"T_f7a91_row1_col4\" class=\"data row1 col4\" >2.501961</td>\n",
       "      <td id=\"T_f7a91_row1_col5\" class=\"data row1 col5\" >1.085897</td>\n",
       "      <td id=\"T_f7a91_row1_col6\" class=\"data row1 col6\" >12.206409</td>\n",
       "      <td id=\"T_f7a91_row1_col7\" class=\"data row1 col7\" >0.000000</td>\n",
       "      <td id=\"T_f7a91_row1_col8\" class=\"data row1 col8\" >2.093470</td>\n",
       "      <td id=\"T_f7a91_row1_col9\" class=\"data row1 col9\" >0.03631</td>\n",
       "      <td id=\"T_f7a91_row1_col10\" class=\"data row1 col10\" >4.783601</td>\n",
       "    </tr>\n",
       "    <tr>\n",
       "      <th id=\"T_f7a91_level0_row2\" class=\"row_heading level0 row2\" >dep_yes</th>\n",
       "      <td id=\"T_f7a91_row2_col0\" class=\"data row2 col0\" >0.647367</td>\n",
       "      <td id=\"T_f7a91_row2_col1\" class=\"data row2 col1\" >1.910504</td>\n",
       "      <td id=\"T_f7a91_row2_col2\" class=\"data row2 col2\" >0.451689</td>\n",
       "      <td id=\"T_f7a91_row2_col3\" class=\"data row2 col3\" >-0.237926</td>\n",
       "      <td id=\"T_f7a91_row2_col4\" class=\"data row2 col4\" >1.532660</td>\n",
       "      <td id=\"T_f7a91_row2_col5\" class=\"data row2 col5\" >0.788261</td>\n",
       "      <td id=\"T_f7a91_row2_col6\" class=\"data row2 col6\" >4.630480</td>\n",
       "      <td id=\"T_f7a91_row2_col7\" class=\"data row2 col7\" >0.000000</td>\n",
       "      <td id=\"T_f7a91_row2_col8\" class=\"data row2 col8\" >1.433216</td>\n",
       "      <td id=\"T_f7a91_row2_col9\" class=\"data row2 col9\" >0.15180</td>\n",
       "      <td id=\"T_f7a91_row2_col10\" class=\"data row2 col10\" >2.719792</td>\n",
       "    </tr>\n",
       "  </tbody>\n",
       "</table>\n"
      ],
      "text/plain": [
       "<pandas.io.formats.style.Styler at 0x7f68ed0d5b20>"
      ]
     },
     "execution_count": 282,
     "metadata": {},
     "output_type": "execute_result"
    }
   ],
   "source": [
    "#cox model for f01 - age- and sex-adjusted\n",
    "asadjust_f01 = cevd_df_first.dropna(subset=['f01_t2e'])\n",
    "asadjust_f01 = asadjust_f01.loc[:, ['f01_event', 'f01_t2e', 'age_i0', 'male', 'dep_yes']]\n",
    "asadjust_f01 = asadjust_f01[['f01_event', 'f01_t2e', 'age_i0', 'male', 'dep_yes']]\n",
    "cph = CoxPHFitter(penalizer=0.0001)\n",
    "cph.fit(asadjust_f01, duration_col='f01_t2e', event_col='f01_event') \n",
    "summary_df = cph.summary \n",
    "summary_df.style.format({'p': '{:.5f}'})"
   ]
  },
  {
   "cell_type": "code",
   "execution_count": 283,
   "metadata": {
    "tags": []
   },
   "outputs": [
    {
     "data": {
      "text/html": [
       "<style type=\"text/css\">\n",
       "</style>\n",
       "<table id=\"T_e94be\">\n",
       "  <thead>\n",
       "    <tr>\n",
       "      <th class=\"blank level0\" >&nbsp;</th>\n",
       "      <th id=\"T_e94be_level0_col0\" class=\"col_heading level0 col0\" >coef</th>\n",
       "      <th id=\"T_e94be_level0_col1\" class=\"col_heading level0 col1\" >exp(coef)</th>\n",
       "      <th id=\"T_e94be_level0_col2\" class=\"col_heading level0 col2\" >se(coef)</th>\n",
       "      <th id=\"T_e94be_level0_col3\" class=\"col_heading level0 col3\" >coef lower 95%</th>\n",
       "      <th id=\"T_e94be_level0_col4\" class=\"col_heading level0 col4\" >coef upper 95%</th>\n",
       "      <th id=\"T_e94be_level0_col5\" class=\"col_heading level0 col5\" >exp(coef) lower 95%</th>\n",
       "      <th id=\"T_e94be_level0_col6\" class=\"col_heading level0 col6\" >exp(coef) upper 95%</th>\n",
       "      <th id=\"T_e94be_level0_col7\" class=\"col_heading level0 col7\" >cmp to</th>\n",
       "      <th id=\"T_e94be_level0_col8\" class=\"col_heading level0 col8\" >z</th>\n",
       "      <th id=\"T_e94be_level0_col9\" class=\"col_heading level0 col9\" >p</th>\n",
       "      <th id=\"T_e94be_level0_col10\" class=\"col_heading level0 col10\" >-log2(p)</th>\n",
       "    </tr>\n",
       "    <tr>\n",
       "      <th class=\"index_name level0\" >covariate</th>\n",
       "      <th class=\"blank col0\" >&nbsp;</th>\n",
       "      <th class=\"blank col1\" >&nbsp;</th>\n",
       "      <th class=\"blank col2\" >&nbsp;</th>\n",
       "      <th class=\"blank col3\" >&nbsp;</th>\n",
       "      <th class=\"blank col4\" >&nbsp;</th>\n",
       "      <th class=\"blank col5\" >&nbsp;</th>\n",
       "      <th class=\"blank col6\" >&nbsp;</th>\n",
       "      <th class=\"blank col7\" >&nbsp;</th>\n",
       "      <th class=\"blank col8\" >&nbsp;</th>\n",
       "      <th class=\"blank col9\" >&nbsp;</th>\n",
       "      <th class=\"blank col10\" >&nbsp;</th>\n",
       "    </tr>\n",
       "  </thead>\n",
       "  <tbody>\n",
       "    <tr>\n",
       "      <th id=\"T_e94be_level0_row0\" class=\"row_heading level0 row0\" >dep_yes</th>\n",
       "      <td id=\"T_e94be_row0_col0\" class=\"data row0 col0\" >0.131302</td>\n",
       "      <td id=\"T_e94be_row0_col1\" class=\"data row0 col1\" >1.140312</td>\n",
       "      <td id=\"T_e94be_row0_col2\" class=\"data row0 col2\" >0.385405</td>\n",
       "      <td id=\"T_e94be_row0_col3\" class=\"data row0 col3\" >-0.624078</td>\n",
       "      <td id=\"T_e94be_row0_col4\" class=\"data row0 col4\" >0.886681</td>\n",
       "      <td id=\"T_e94be_row0_col5\" class=\"data row0 col5\" >0.535755</td>\n",
       "      <td id=\"T_e94be_row0_col6\" class=\"data row0 col6\" >2.427061</td>\n",
       "      <td id=\"T_e94be_row0_col7\" class=\"data row0 col7\" >0.000000</td>\n",
       "      <td id=\"T_e94be_row0_col8\" class=\"data row0 col8\" >0.340685</td>\n",
       "      <td id=\"T_e94be_row0_col9\" class=\"data row0 col9\" >0.73334</td>\n",
       "      <td id=\"T_e94be_row0_col10\" class=\"data row0 col10\" >0.447445</td>\n",
       "    </tr>\n",
       "  </tbody>\n",
       "</table>\n"
      ],
      "text/plain": [
       "<pandas.io.formats.style.Styler at 0x7f68ed1092b0>"
      ]
     },
     "execution_count": 283,
     "metadata": {},
     "output_type": "execute_result"
    }
   ],
   "source": [
    "#cox model for f01 - unadjusted\n",
    "unadjust_f01 = cevd_df_first.dropna(subset=['f01_t2e'])\n",
    "unadjust_f01 = unadjust_f01.loc[:, ['f01_event', 'f01_t2e', 'dep_yes']]\n",
    "unadjust_f01 = unadjust_f01[['f01_event', 'f01_t2e', 'dep_yes']]\n",
    "cph = CoxPHFitter(penalizer=0.0001)\n",
    "cph.fit(unadjust_f01, duration_col='f01_t2e', event_col='f01_event') \n",
    "summary_df = cph.summary \n",
    "summary_df.style.format({'p': '{:.5f}'})"
   ]
  },
  {
   "cell_type": "code",
   "execution_count": 284,
   "metadata": {
    "tags": []
   },
   "outputs": [
    {
     "name": "stdout",
     "output_type": "stream",
     "text": [
      "Number of depressed f01 events, Number of control f01 events: (16, 13)\n"
     ]
    }
   ],
   "source": [
    "f01_dep_yes = count_cevd(fulladjust_f01)\n",
    "print('Number of depressed f01 events, Number of control f01 events:', f01_dep_yes)"
   ]
  },
  {
   "cell_type": "code",
   "execution_count": 286,
   "metadata": {
    "tags": []
   },
   "outputs": [],
   "source": [
    "#g46"
   ]
  },
  {
   "cell_type": "code",
   "execution_count": 287,
   "metadata": {
    "tags": []
   },
   "outputs": [
    {
     "name": "stderr",
     "output_type": "stream",
     "text": [
      "/opt/conda/lib/python3.9/site-packages/lifelines/fitters/coxph_fitter.py:1527: LinAlgWarning: Ill-conditioned matrix (rcond=0): result may not be accurate.\n",
      "  inv_h_dot_g_T = spsolve(-h, g, assume_a=\"pos\", check_finite=False)\n"
     ]
    },
    {
     "ename": "ValueError",
     "evalue": "x and y must have length at least 2.",
     "output_type": "error",
     "traceback": [
      "\u001b[0;31m---------------------------------------------------------------------------\u001b[0m",
      "\u001b[0;31mValueError\u001b[0m                                Traceback (most recent call last)",
      "Cell \u001b[0;32mIn[287], line 7\u001b[0m\n\u001b[1;32m      5\u001b[0m \u001b[38;5;66;03m#fulladjust_g46_date = pd.get_dummies(fulladjust_g46, columns=['ipaq', 'smok_stat', 'alc_freq_filter'])\u001b[39;00m\n\u001b[1;32m      6\u001b[0m cph \u001b[38;5;241m=\u001b[39m CoxPHFitter(penalizer\u001b[38;5;241m=\u001b[39m\u001b[38;5;241m0.0001\u001b[39m)\n\u001b[0;32m----> 7\u001b[0m \u001b[43mcph\u001b[49m\u001b[38;5;241;43m.\u001b[39;49m\u001b[43mfit\u001b[49m\u001b[43m(\u001b[49m\u001b[43mfulladjust_g46\u001b[49m\u001b[43m,\u001b[49m\u001b[43m \u001b[49m\u001b[43mduration_col\u001b[49m\u001b[38;5;241;43m=\u001b[39;49m\u001b[38;5;124;43m'\u001b[39;49m\u001b[38;5;124;43mg46_t2e\u001b[39;49m\u001b[38;5;124;43m'\u001b[39;49m\u001b[43m,\u001b[49m\u001b[43m \u001b[49m\u001b[43mevent_col\u001b[49m\u001b[38;5;241;43m=\u001b[39;49m\u001b[38;5;124;43m'\u001b[39;49m\u001b[38;5;124;43mg46_event\u001b[39;49m\u001b[38;5;124;43m'\u001b[39;49m\u001b[43m)\u001b[49m \n\u001b[1;32m      8\u001b[0m summary_df \u001b[38;5;241m=\u001b[39m cph\u001b[38;5;241m.\u001b[39msummary \n\u001b[1;32m      9\u001b[0m summary_df\u001b[38;5;241m.\u001b[39mstyle\u001b[38;5;241m.\u001b[39mformat({\u001b[38;5;124m'\u001b[39m\u001b[38;5;124mp\u001b[39m\u001b[38;5;124m'\u001b[39m: \u001b[38;5;124m'\u001b[39m\u001b[38;5;132;01m{:.5f}\u001b[39;00m\u001b[38;5;124m'\u001b[39m})\n",
      "File \u001b[0;32m/opt/conda/lib/python3.9/site-packages/lifelines/utils/__init__.py:56\u001b[0m, in \u001b[0;36mCensoringType.right_censoring.<locals>.f\u001b[0;34m(model, *args, **kwargs)\u001b[0m\n\u001b[1;32m     53\u001b[0m \u001b[38;5;129m@wraps\u001b[39m(function)\n\u001b[1;32m     54\u001b[0m \u001b[38;5;28;01mdef\u001b[39;00m \u001b[38;5;21mf\u001b[39m(model, \u001b[38;5;241m*\u001b[39margs, \u001b[38;5;241m*\u001b[39m\u001b[38;5;241m*\u001b[39mkwargs):\n\u001b[1;32m     55\u001b[0m     \u001b[38;5;28mcls\u001b[39m\u001b[38;5;241m.\u001b[39mset_censoring_type(model, \u001b[38;5;28mcls\u001b[39m\u001b[38;5;241m.\u001b[39mRIGHT)\n\u001b[0;32m---> 56\u001b[0m     \u001b[38;5;28;01mreturn\u001b[39;00m \u001b[43mfunction\u001b[49m\u001b[43m(\u001b[49m\u001b[43mmodel\u001b[49m\u001b[43m,\u001b[49m\u001b[43m \u001b[49m\u001b[38;5;241;43m*\u001b[39;49m\u001b[43margs\u001b[49m\u001b[43m,\u001b[49m\u001b[43m \u001b[49m\u001b[38;5;241;43m*\u001b[39;49m\u001b[38;5;241;43m*\u001b[39;49m\u001b[43mkwargs\u001b[49m\u001b[43m)\u001b[49m\n",
      "File \u001b[0;32m/opt/conda/lib/python3.9/site-packages/lifelines/fitters/coxph_fitter.py:290\u001b[0m, in \u001b[0;36mCoxPHFitter.fit\u001b[0;34m(self, df, duration_col, event_col, show_progress, initial_point, strata, weights_col, cluster_col, robust, batch_mode, timeline, formula, entry_col, fit_options)\u001b[0m\n\u001b[1;32m    184\u001b[0m \u001b[38;5;250m\u001b[39m\u001b[38;5;124;03m\"\"\"\u001b[39;00m\n\u001b[1;32m    185\u001b[0m \u001b[38;5;124;03mFit the Cox proportional hazard model to a right-censored dataset. Alias of `fit_right_censoring`.\u001b[39;00m\n\u001b[1;32m    186\u001b[0m \n\u001b[0;32m   (...)\u001b[0m\n\u001b[1;32m    287\u001b[0m \n\u001b[1;32m    288\u001b[0m \u001b[38;5;124;03m\"\"\"\u001b[39;00m\n\u001b[1;32m    289\u001b[0m \u001b[38;5;28mself\u001b[39m\u001b[38;5;241m.\u001b[39mstrata \u001b[38;5;241m=\u001b[39m utils\u001b[38;5;241m.\u001b[39m_to_list_or_singleton(utils\u001b[38;5;241m.\u001b[39mcoalesce(strata, \u001b[38;5;28mself\u001b[39m\u001b[38;5;241m.\u001b[39mstrata))\n\u001b[0;32m--> 290\u001b[0m \u001b[38;5;28mself\u001b[39m\u001b[38;5;241m.\u001b[39m_model \u001b[38;5;241m=\u001b[39m \u001b[38;5;28;43mself\u001b[39;49m\u001b[38;5;241;43m.\u001b[39;49m\u001b[43m_fit_model\u001b[49m\u001b[43m(\u001b[49m\n\u001b[1;32m    291\u001b[0m \u001b[43m    \u001b[49m\u001b[43mdf\u001b[49m\u001b[43m,\u001b[49m\n\u001b[1;32m    292\u001b[0m \u001b[43m    \u001b[49m\u001b[43mduration_col\u001b[49m\u001b[43m,\u001b[49m\n\u001b[1;32m    293\u001b[0m \u001b[43m    \u001b[49m\u001b[43mevent_col\u001b[49m\u001b[38;5;241;43m=\u001b[39;49m\u001b[43mevent_col\u001b[49m\u001b[43m,\u001b[49m\n\u001b[1;32m    294\u001b[0m \u001b[43m    \u001b[49m\u001b[43mshow_progress\u001b[49m\u001b[38;5;241;43m=\u001b[39;49m\u001b[43mshow_progress\u001b[49m\u001b[43m,\u001b[49m\n\u001b[1;32m    295\u001b[0m \u001b[43m    \u001b[49m\u001b[43minitial_point\u001b[49m\u001b[38;5;241;43m=\u001b[39;49m\u001b[43minitial_point\u001b[49m\u001b[43m,\u001b[49m\n\u001b[1;32m    296\u001b[0m \u001b[43m    \u001b[49m\u001b[43mstrata\u001b[49m\u001b[38;5;241;43m=\u001b[39;49m\u001b[38;5;28;43mself\u001b[39;49m\u001b[38;5;241;43m.\u001b[39;49m\u001b[43mstrata\u001b[49m\u001b[43m,\u001b[49m\n\u001b[1;32m    297\u001b[0m \u001b[43m    \u001b[49m\u001b[43mweights_col\u001b[49m\u001b[38;5;241;43m=\u001b[39;49m\u001b[43mweights_col\u001b[49m\u001b[43m,\u001b[49m\n\u001b[1;32m    298\u001b[0m \u001b[43m    \u001b[49m\u001b[43mcluster_col\u001b[49m\u001b[38;5;241;43m=\u001b[39;49m\u001b[43mcluster_col\u001b[49m\u001b[43m,\u001b[49m\n\u001b[1;32m    299\u001b[0m \u001b[43m    \u001b[49m\u001b[43mrobust\u001b[49m\u001b[38;5;241;43m=\u001b[39;49m\u001b[43mrobust\u001b[49m\u001b[43m,\u001b[49m\n\u001b[1;32m    300\u001b[0m \u001b[43m    \u001b[49m\u001b[43mbatch_mode\u001b[49m\u001b[38;5;241;43m=\u001b[39;49m\u001b[43mbatch_mode\u001b[49m\u001b[43m,\u001b[49m\n\u001b[1;32m    301\u001b[0m \u001b[43m    \u001b[49m\u001b[43mtimeline\u001b[49m\u001b[38;5;241;43m=\u001b[39;49m\u001b[43mtimeline\u001b[49m\u001b[43m,\u001b[49m\n\u001b[1;32m    302\u001b[0m \u001b[43m    \u001b[49m\u001b[43mformula\u001b[49m\u001b[38;5;241;43m=\u001b[39;49m\u001b[43mformula\u001b[49m\u001b[43m,\u001b[49m\n\u001b[1;32m    303\u001b[0m \u001b[43m    \u001b[49m\u001b[43mentry_col\u001b[49m\u001b[38;5;241;43m=\u001b[39;49m\u001b[43mentry_col\u001b[49m\u001b[43m,\u001b[49m\n\u001b[1;32m    304\u001b[0m \u001b[43m    \u001b[49m\u001b[43mfit_options\u001b[49m\u001b[38;5;241;43m=\u001b[39;49m\u001b[43mfit_options\u001b[49m\u001b[43m,\u001b[49m\n\u001b[1;32m    305\u001b[0m \u001b[43m\u001b[49m\u001b[43m)\u001b[49m\n\u001b[1;32m    306\u001b[0m \u001b[38;5;28;01mreturn\u001b[39;00m \u001b[38;5;28mself\u001b[39m\n",
      "File \u001b[0;32m/opt/conda/lib/python3.9/site-packages/lifelines/fitters/coxph_fitter.py:610\u001b[0m, in \u001b[0;36mCoxPHFitter._fit_model\u001b[0;34m(self, *args, **kwargs)\u001b[0m\n\u001b[1;32m    608\u001b[0m \u001b[38;5;28;01mdef\u001b[39;00m \u001b[38;5;21m_fit_model\u001b[39m(\u001b[38;5;28mself\u001b[39m, \u001b[38;5;241m*\u001b[39margs, \u001b[38;5;241m*\u001b[39m\u001b[38;5;241m*\u001b[39mkwargs):\n\u001b[1;32m    609\u001b[0m     \u001b[38;5;28;01mif\u001b[39;00m \u001b[38;5;28mself\u001b[39m\u001b[38;5;241m.\u001b[39mbaseline_estimation_method \u001b[38;5;241m==\u001b[39m \u001b[38;5;124m\"\u001b[39m\u001b[38;5;124mbreslow\u001b[39m\u001b[38;5;124m\"\u001b[39m:\n\u001b[0;32m--> 610\u001b[0m         \u001b[38;5;28;01mreturn\u001b[39;00m \u001b[38;5;28;43mself\u001b[39;49m\u001b[38;5;241;43m.\u001b[39;49m\u001b[43m_fit_model_breslow\u001b[49m\u001b[43m(\u001b[49m\u001b[38;5;241;43m*\u001b[39;49m\u001b[43margs\u001b[49m\u001b[43m,\u001b[49m\u001b[43m \u001b[49m\u001b[38;5;241;43m*\u001b[39;49m\u001b[38;5;241;43m*\u001b[39;49m\u001b[43mkwargs\u001b[49m\u001b[43m)\u001b[49m\n\u001b[1;32m    611\u001b[0m     \u001b[38;5;28;01melif\u001b[39;00m \u001b[38;5;28mself\u001b[39m\u001b[38;5;241m.\u001b[39mbaseline_estimation_method \u001b[38;5;241m==\u001b[39m \u001b[38;5;124m\"\u001b[39m\u001b[38;5;124mspline\u001b[39m\u001b[38;5;124m\"\u001b[39m:\n\u001b[1;32m    612\u001b[0m         \u001b[38;5;28;01mreturn\u001b[39;00m \u001b[38;5;28mself\u001b[39m\u001b[38;5;241m.\u001b[39m_fit_model_spline(\u001b[38;5;241m*\u001b[39margs, \u001b[38;5;241m*\u001b[39m\u001b[38;5;241m*\u001b[39mkwargs)\n",
      "File \u001b[0;32m/opt/conda/lib/python3.9/site-packages/lifelines/fitters/coxph_fitter.py:623\u001b[0m, in \u001b[0;36mCoxPHFitter._fit_model_breslow\u001b[0;34m(self, *args, **kwargs)\u001b[0m\n\u001b[1;32m    619\u001b[0m model \u001b[38;5;241m=\u001b[39m SemiParametricPHFitter(\n\u001b[1;32m    620\u001b[0m     penalizer\u001b[38;5;241m=\u001b[39m\u001b[38;5;28mself\u001b[39m\u001b[38;5;241m.\u001b[39mpenalizer, l1_ratio\u001b[38;5;241m=\u001b[39m\u001b[38;5;28mself\u001b[39m\u001b[38;5;241m.\u001b[39ml1_ratio, strata\u001b[38;5;241m=\u001b[39m\u001b[38;5;28mself\u001b[39m\u001b[38;5;241m.\u001b[39mstrata, alpha\u001b[38;5;241m=\u001b[39m\u001b[38;5;28mself\u001b[39m\u001b[38;5;241m.\u001b[39malpha, label\u001b[38;5;241m=\u001b[39m\u001b[38;5;28mself\u001b[39m\u001b[38;5;241m.\u001b[39m_label\n\u001b[1;32m    621\u001b[0m )\n\u001b[1;32m    622\u001b[0m \u001b[38;5;28;01mif\u001b[39;00m utils\u001b[38;5;241m.\u001b[39mCensoringType\u001b[38;5;241m.\u001b[39mis_right_censoring(\u001b[38;5;28mself\u001b[39m):\n\u001b[0;32m--> 623\u001b[0m     \u001b[43mmodel\u001b[49m\u001b[38;5;241;43m.\u001b[39;49m\u001b[43mfit\u001b[49m\u001b[43m(\u001b[49m\u001b[38;5;241;43m*\u001b[39;49m\u001b[43margs\u001b[49m\u001b[43m,\u001b[49m\u001b[43m \u001b[49m\u001b[38;5;241;43m*\u001b[39;49m\u001b[38;5;241;43m*\u001b[39;49m\u001b[43mkwargs\u001b[49m\u001b[43m)\u001b[49m\n\u001b[1;32m    624\u001b[0m     \u001b[38;5;28;01mreturn\u001b[39;00m model\n\u001b[1;32m    625\u001b[0m \u001b[38;5;28;01melse\u001b[39;00m:\n",
      "File \u001b[0;32m/opt/conda/lib/python3.9/site-packages/lifelines/utils/__init__.py:56\u001b[0m, in \u001b[0;36mCensoringType.right_censoring.<locals>.f\u001b[0;34m(model, *args, **kwargs)\u001b[0m\n\u001b[1;32m     53\u001b[0m \u001b[38;5;129m@wraps\u001b[39m(function)\n\u001b[1;32m     54\u001b[0m \u001b[38;5;28;01mdef\u001b[39;00m \u001b[38;5;21mf\u001b[39m(model, \u001b[38;5;241m*\u001b[39margs, \u001b[38;5;241m*\u001b[39m\u001b[38;5;241m*\u001b[39mkwargs):\n\u001b[1;32m     55\u001b[0m     \u001b[38;5;28mcls\u001b[39m\u001b[38;5;241m.\u001b[39mset_censoring_type(model, \u001b[38;5;28mcls\u001b[39m\u001b[38;5;241m.\u001b[39mRIGHT)\n\u001b[0;32m---> 56\u001b[0m     \u001b[38;5;28;01mreturn\u001b[39;00m \u001b[43mfunction\u001b[49m\u001b[43m(\u001b[49m\u001b[43mmodel\u001b[49m\u001b[43m,\u001b[49m\u001b[43m \u001b[49m\u001b[38;5;241;43m*\u001b[39;49m\u001b[43margs\u001b[49m\u001b[43m,\u001b[49m\u001b[43m \u001b[49m\u001b[38;5;241;43m*\u001b[39;49m\u001b[38;5;241;43m*\u001b[39;49m\u001b[43mkwargs\u001b[49m\u001b[43m)\u001b[49m\n",
      "File \u001b[0;32m/opt/conda/lib/python3.9/site-packages/lifelines/fitters/coxph_fitter.py:1252\u001b[0m, in \u001b[0;36mSemiParametricPHFitter.fit\u001b[0;34m(self, df, duration_col, event_col, show_progress, initial_point, strata, weights_col, cluster_col, robust, batch_mode, timeline, formula, entry_col, fit_options)\u001b[0m\n\u001b[1;32m   1247\u001b[0m \u001b[38;5;66;03m# this is surprisingly faster to do...\u001b[39;00m\n\u001b[1;32m   1248\u001b[0m X_norm \u001b[38;5;241m=\u001b[39m pd\u001b[38;5;241m.\u001b[39mDataFrame(\n\u001b[1;32m   1249\u001b[0m     utils\u001b[38;5;241m.\u001b[39mnormalize(X\u001b[38;5;241m.\u001b[39mvalues, \u001b[38;5;28mself\u001b[39m\u001b[38;5;241m.\u001b[39m_norm_mean\u001b[38;5;241m.\u001b[39mvalues, \u001b[38;5;28mself\u001b[39m\u001b[38;5;241m.\u001b[39m_norm_std\u001b[38;5;241m.\u001b[39mvalues), index\u001b[38;5;241m=\u001b[39mX\u001b[38;5;241m.\u001b[39mindex, columns\u001b[38;5;241m=\u001b[39mX\u001b[38;5;241m.\u001b[39mcolumns\n\u001b[1;32m   1250\u001b[0m )\n\u001b[0;32m-> 1252\u001b[0m params_, ll_, variance_matrix_, baseline_hazard_, baseline_cumulative_hazard_, model \u001b[38;5;241m=\u001b[39m \u001b[38;5;28;43mself\u001b[39;49m\u001b[38;5;241;43m.\u001b[39;49m\u001b[43m_fit_model\u001b[49m\u001b[43m(\u001b[49m\n\u001b[1;32m   1253\u001b[0m \u001b[43m    \u001b[49m\u001b[43mX_norm\u001b[49m\u001b[43m,\u001b[49m\n\u001b[1;32m   1254\u001b[0m \u001b[43m    \u001b[49m\u001b[43mT\u001b[49m\u001b[43m,\u001b[49m\n\u001b[1;32m   1255\u001b[0m \u001b[43m    \u001b[49m\u001b[43mE\u001b[49m\u001b[43m,\u001b[49m\n\u001b[1;32m   1256\u001b[0m \u001b[43m    \u001b[49m\u001b[43mweights\u001b[49m\u001b[38;5;241;43m=\u001b[39;49m\u001b[43mweights\u001b[49m\u001b[43m,\u001b[49m\n\u001b[1;32m   1257\u001b[0m \u001b[43m    \u001b[49m\u001b[43mentries\u001b[49m\u001b[38;5;241;43m=\u001b[39;49m\u001b[43mentries\u001b[49m\u001b[43m,\u001b[49m\n\u001b[1;32m   1258\u001b[0m \u001b[43m    \u001b[49m\u001b[43mfit_options\u001b[49m\u001b[38;5;241;43m=\u001b[39;49m\u001b[43mutils\u001b[49m\u001b[38;5;241;43m.\u001b[39;49m\u001b[43mcoalesce\u001b[49m\u001b[43m(\u001b[49m\u001b[43mfit_options\u001b[49m\u001b[43m,\u001b[49m\u001b[43m \u001b[49m\u001b[38;5;28;43mdict\u001b[39;49m\u001b[43m(\u001b[49m\u001b[43m)\u001b[49m\u001b[43m)\u001b[49m\u001b[43m,\u001b[49m\n\u001b[1;32m   1259\u001b[0m \u001b[43m    \u001b[49m\u001b[43minitial_point\u001b[49m\u001b[38;5;241;43m=\u001b[39;49m\u001b[43minitial_point\u001b[49m\u001b[43m,\u001b[49m\n\u001b[1;32m   1260\u001b[0m \u001b[43m    \u001b[49m\u001b[43mshow_progress\u001b[49m\u001b[38;5;241;43m=\u001b[39;49m\u001b[43mshow_progress\u001b[49m\u001b[43m,\u001b[49m\n\u001b[1;32m   1261\u001b[0m \u001b[43m\u001b[49m\u001b[43m)\u001b[49m\n\u001b[1;32m   1263\u001b[0m \u001b[38;5;28mself\u001b[39m\u001b[38;5;241m.\u001b[39mlog_likelihood_ \u001b[38;5;241m=\u001b[39m ll_\n\u001b[1;32m   1264\u001b[0m \u001b[38;5;28mself\u001b[39m\u001b[38;5;241m.\u001b[39mmodel \u001b[38;5;241m=\u001b[39m model\n",
      "File \u001b[0;32m/opt/conda/lib/python3.9/site-packages/lifelines/fitters/coxph_fitter.py:1380\u001b[0m, in \u001b[0;36mSemiParametricPHFitter._fit_model\u001b[0;34m(self, X, T, E, weights, entries, fit_options, initial_point, show_progress)\u001b[0m\n\u001b[1;32m   1369\u001b[0m \u001b[38;5;28;01mdef\u001b[39;00m \u001b[38;5;21m_fit_model\u001b[39m(\n\u001b[1;32m   1370\u001b[0m     \u001b[38;5;28mself\u001b[39m,\n\u001b[1;32m   1371\u001b[0m     X: DataFrame,\n\u001b[0;32m   (...)\u001b[0m\n\u001b[1;32m   1378\u001b[0m     show_progress: \u001b[38;5;28mbool\u001b[39m \u001b[38;5;241m=\u001b[39m \u001b[38;5;28;01mTrue\u001b[39;00m,\n\u001b[1;32m   1379\u001b[0m ):\n\u001b[0;32m-> 1380\u001b[0m     beta_, ll_, hessian_ \u001b[38;5;241m=\u001b[39m \u001b[38;5;28;43mself\u001b[39;49m\u001b[38;5;241;43m.\u001b[39;49m\u001b[43m_newton_raphson_for_efron_model\u001b[49m\u001b[43m(\u001b[49m\n\u001b[1;32m   1381\u001b[0m \u001b[43m        \u001b[49m\u001b[43mX\u001b[49m\u001b[43m,\u001b[49m\n\u001b[1;32m   1382\u001b[0m \u001b[43m        \u001b[49m\u001b[43mT\u001b[49m\u001b[43m,\u001b[49m\n\u001b[1;32m   1383\u001b[0m \u001b[43m        \u001b[49m\u001b[43mE\u001b[49m\u001b[43m,\u001b[49m\n\u001b[1;32m   1384\u001b[0m \u001b[43m        \u001b[49m\u001b[43mweights\u001b[49m\u001b[43m,\u001b[49m\n\u001b[1;32m   1385\u001b[0m \u001b[43m        \u001b[49m\u001b[43mentries\u001b[49m\u001b[43m,\u001b[49m\n\u001b[1;32m   1386\u001b[0m \u001b[43m        \u001b[49m\u001b[43minitial_point\u001b[49m\u001b[38;5;241;43m=\u001b[39;49m\u001b[43minitial_point\u001b[49m\u001b[43m,\u001b[49m\n\u001b[1;32m   1387\u001b[0m \u001b[43m        \u001b[49m\u001b[43mshow_progress\u001b[49m\u001b[38;5;241;43m=\u001b[39;49m\u001b[43mshow_progress\u001b[49m\u001b[43m,\u001b[49m\n\u001b[1;32m   1388\u001b[0m \u001b[43m        \u001b[49m\u001b[38;5;241;43m*\u001b[39;49m\u001b[38;5;241;43m*\u001b[39;49m\u001b[43mfit_options\u001b[49m\u001b[43m,\u001b[49m\n\u001b[1;32m   1389\u001b[0m \u001b[43m    \u001b[49m\u001b[43m)\u001b[49m\n\u001b[1;32m   1391\u001b[0m     \u001b[38;5;66;03m# compute the baseline hazard here.\u001b[39;00m\n\u001b[1;32m   1392\u001b[0m     predicted_partial_hazards_ \u001b[38;5;241m=\u001b[39m (\n\u001b[1;32m   1393\u001b[0m         pd\u001b[38;5;241m.\u001b[39mDataFrame(np\u001b[38;5;241m.\u001b[39mexp(dot(X, beta_)), columns\u001b[38;5;241m=\u001b[39m[\u001b[38;5;124m\"\u001b[39m\u001b[38;5;124mP\u001b[39m\u001b[38;5;124m\"\u001b[39m])\u001b[38;5;241m.\u001b[39massign(T\u001b[38;5;241m=\u001b[39mT\u001b[38;5;241m.\u001b[39mvalues, E\u001b[38;5;241m=\u001b[39mE\u001b[38;5;241m.\u001b[39mvalues, W\u001b[38;5;241m=\u001b[39mweights\u001b[38;5;241m.\u001b[39mvalues)\u001b[38;5;241m.\u001b[39mset_index(X\u001b[38;5;241m.\u001b[39mindex)\n\u001b[1;32m   1394\u001b[0m     )\n",
      "File \u001b[0;32m/opt/conda/lib/python3.9/site-packages/lifelines/fitters/coxph_fitter.py:1549\u001b[0m, in \u001b[0;36mSemiParametricPHFitter._newton_raphson_for_efron_model\u001b[0;34m(self, X, T, E, weights, entries, initial_point, show_progress, step_size, precision, max_steps)\u001b[0m\n\u001b[1;32m   1546\u001b[0m delta \u001b[38;5;241m=\u001b[39m inv_h_dot_g_T\n\u001b[1;32m   1548\u001b[0m \u001b[38;5;28;01mif\u001b[39;00m np\u001b[38;5;241m.\u001b[39many(np\u001b[38;5;241m.\u001b[39misnan(delta)):\n\u001b[0;32m-> 1549\u001b[0m     \u001b[38;5;28;43mself\u001b[39;49m\u001b[38;5;241;43m.\u001b[39;49m\u001b[43m_check_values_post_fitting\u001b[49m\u001b[43m(\u001b[49m\u001b[43mX\u001b[49m\u001b[43m,\u001b[49m\u001b[43m \u001b[49m\u001b[43mT\u001b[49m\u001b[43m,\u001b[49m\u001b[43m \u001b[49m\u001b[43mE\u001b[49m\u001b[43m,\u001b[49m\u001b[43m \u001b[49m\u001b[43mweights\u001b[49m\u001b[43m)\u001b[49m\n\u001b[1;32m   1550\u001b[0m     \u001b[38;5;28;01mraise\u001b[39;00m exceptions\u001b[38;5;241m.\u001b[39mConvergenceError(\n\u001b[1;32m   1551\u001b[0m \u001b[38;5;250m        \u001b[39m\u001b[38;5;124;03m\"\"\"delta contains nan value(s). Convergence halted. {0}\"\"\"\u001b[39;00m\u001b[38;5;241m.\u001b[39mformat(CONVERGENCE_DOCS)\n\u001b[1;32m   1552\u001b[0m     )\n\u001b[1;32m   1554\u001b[0m \u001b[38;5;66;03m# Save these as pending result\u001b[39;00m\n",
      "File \u001b[0;32m/opt/conda/lib/python3.9/site-packages/lifelines/fitters/coxph_fitter.py:1343\u001b[0m, in \u001b[0;36mSemiParametricPHFitter._check_values_post_fitting\u001b[0;34m(self, X, T, E, W)\u001b[0m\n\u001b[1;32m   1339\u001b[0m \u001b[38;5;250m\u001b[39m\u001b[38;5;124;03m\"\"\"\u001b[39;00m\n\u001b[1;32m   1340\u001b[0m \u001b[38;5;124;03mFunctions here check why a fit may have non-obviously failed\u001b[39;00m\n\u001b[1;32m   1341\u001b[0m \u001b[38;5;124;03m\"\"\"\u001b[39;00m\n\u001b[1;32m   1342\u001b[0m utils\u001b[38;5;241m.\u001b[39mcheck_dimensions(X)\n\u001b[0;32m-> 1343\u001b[0m \u001b[43mutils\u001b[49m\u001b[38;5;241;43m.\u001b[39;49m\u001b[43mcheck_complete_separation\u001b[49m\u001b[43m(\u001b[49m\u001b[43mX\u001b[49m\u001b[43m,\u001b[49m\u001b[43m \u001b[49m\u001b[43mE\u001b[49m\u001b[43m,\u001b[49m\u001b[43m \u001b[49m\u001b[43mT\u001b[49m\u001b[43m,\u001b[49m\u001b[43m \u001b[49m\u001b[38;5;28;43mself\u001b[39;49m\u001b[38;5;241;43m.\u001b[39;49m\u001b[43mevent_col\u001b[49m\u001b[43m)\u001b[49m\n",
      "File \u001b[0;32m/opt/conda/lib/python3.9/site-packages/lifelines/utils/__init__.py:1170\u001b[0m, in \u001b[0;36mcheck_complete_separation\u001b[0;34m(df, events, durations, event_col)\u001b[0m\n\u001b[1;32m   1168\u001b[0m \u001b[38;5;28;01mdef\u001b[39;00m \u001b[38;5;21mcheck_complete_separation\u001b[39m(df, events, durations, event_col):\n\u001b[1;32m   1169\u001b[0m     check_complete_separation_low_variance(df, events, event_col)\n\u001b[0;32m-> 1170\u001b[0m     \u001b[43mcheck_complete_separation_close_to_perfect_correlation\u001b[49m\u001b[43m(\u001b[49m\u001b[43mdf\u001b[49m\u001b[43m,\u001b[49m\u001b[43m \u001b[49m\u001b[43mpd\u001b[49m\u001b[38;5;241;43m.\u001b[39;49m\u001b[43mSeries\u001b[49m\u001b[43m(\u001b[49m\u001b[43mdurations\u001b[49m\u001b[43m)\u001b[49m\u001b[43m)\u001b[49m\n",
      "File \u001b[0;32m/opt/conda/lib/python3.9/site-packages/lifelines/utils/__init__.py:1159\u001b[0m, in \u001b[0;36mcheck_complete_separation_close_to_perfect_correlation\u001b[0;34m(df, durations)\u001b[0m\n\u001b[1;32m   1157\u001b[0m     \u001b[38;5;28;01mwith\u001b[39;00m np\u001b[38;5;241m.\u001b[39merrstate(invalid\u001b[38;5;241m=\u001b[39m\u001b[38;5;124m\"\u001b[39m\u001b[38;5;124mignore\u001b[39m\u001b[38;5;124m\"\u001b[39m, divide\u001b[38;5;241m=\u001b[39m\u001b[38;5;124m\"\u001b[39m\u001b[38;5;124mignore\u001b[39m\u001b[38;5;124m\"\u001b[39m):\n\u001b[1;32m   1158\u001b[0m         rank_series \u001b[38;5;241m=\u001b[39m series\u001b[38;5;241m.\u001b[39mvalues\u001b[38;5;241m.\u001b[39margsort()\n\u001b[0;32m-> 1159\u001b[0m         \u001b[38;5;28;01mif\u001b[39;00m \u001b[38;5;28mabs\u001b[39m(\u001b[43mpearson_correlation\u001b[49m\u001b[43m(\u001b[49m\u001b[43mrank_durations\u001b[49m\u001b[43m,\u001b[49m\u001b[43m \u001b[49m\u001b[43mrank_series\u001b[49m\u001b[43m)\u001b[49m) \u001b[38;5;241m>\u001b[39m\u001b[38;5;241m=\u001b[39m THRESHOLD:\n\u001b[1;32m   1160\u001b[0m             warning_text \u001b[38;5;241m=\u001b[39m (\n\u001b[1;32m   1161\u001b[0m                 \u001b[38;5;124m\"\u001b[39m\u001b[38;5;124mColumn \u001b[39m\u001b[38;5;132;01m%s\u001b[39;00m\u001b[38;5;124m has high sample correlation with the duration column. This may harm convergence. This could be a form of \u001b[39m\u001b[38;5;124m'\u001b[39m\u001b[38;5;124mcomplete separation\u001b[39m\u001b[38;5;124m'\u001b[39m\u001b[38;5;124m. \u001b[39m\u001b[38;5;130;01m\\\u001b[39;00m\n\u001b[1;32m   1162\u001b[0m \u001b[38;5;124mSee https://stats.stackexchange.com/questions/11109/how-to-deal-with-perfect-separation-in-logistic-regression\u001b[39m\u001b[38;5;130;01m\\n\u001b[39;00m\u001b[38;5;124m\"\u001b[39m\n\u001b[1;32m   1163\u001b[0m                 \u001b[38;5;241m%\u001b[39m (\u001b[38;5;28mstr\u001b[39m(col))\n\u001b[1;32m   1164\u001b[0m             )\n\u001b[1;32m   1165\u001b[0m             warnings\u001b[38;5;241m.\u001b[39mwarn(dedent(warning_text), ConvergenceWarning)\n",
      "File \u001b[0;32m/opt/conda/lib/python3.9/site-packages/lifelines/utils/__init__.py:1126\u001b[0m, in \u001b[0;36mpearson_correlation\u001b[0;34m(x, y)\u001b[0m\n\u001b[1;32m   1125\u001b[0m \u001b[38;5;28;01mdef\u001b[39;00m \u001b[38;5;21mpearson_correlation\u001b[39m(x: np\u001b[38;5;241m.\u001b[39mndarray, y: np\u001b[38;5;241m.\u001b[39mndarray):\n\u001b[0;32m-> 1126\u001b[0m     \u001b[38;5;28;01mreturn\u001b[39;00m \u001b[43mstats\u001b[49m\u001b[38;5;241;43m.\u001b[39;49m\u001b[43mpearsonr\u001b[49m\u001b[43m(\u001b[49m\u001b[43mx\u001b[49m\u001b[43m,\u001b[49m\u001b[43m \u001b[49m\u001b[43my\u001b[49m\u001b[43m)\u001b[49m[\u001b[38;5;241m0\u001b[39m]\n",
      "File \u001b[0;32m/opt/conda/lib/python3.9/site-packages/scipy/stats/_stats_py.py:4418\u001b[0m, in \u001b[0;36mpearsonr\u001b[0;34m(x, y, alternative)\u001b[0m\n\u001b[1;32m   4415\u001b[0m     \u001b[38;5;28;01mraise\u001b[39;00m \u001b[38;5;167;01mValueError\u001b[39;00m(\u001b[38;5;124m'\u001b[39m\u001b[38;5;124mx and y must have the same length.\u001b[39m\u001b[38;5;124m'\u001b[39m)\n\u001b[1;32m   4417\u001b[0m \u001b[38;5;28;01mif\u001b[39;00m n \u001b[38;5;241m<\u001b[39m \u001b[38;5;241m2\u001b[39m:\n\u001b[0;32m-> 4418\u001b[0m     \u001b[38;5;28;01mraise\u001b[39;00m \u001b[38;5;167;01mValueError\u001b[39;00m(\u001b[38;5;124m'\u001b[39m\u001b[38;5;124mx and y must have length at least 2.\u001b[39m\u001b[38;5;124m'\u001b[39m)\n\u001b[1;32m   4420\u001b[0m x \u001b[38;5;241m=\u001b[39m np\u001b[38;5;241m.\u001b[39masarray(x)\n\u001b[1;32m   4421\u001b[0m y \u001b[38;5;241m=\u001b[39m np\u001b[38;5;241m.\u001b[39masarray(y)\n",
      "\u001b[0;31mValueError\u001b[0m: x and y must have length at least 2."
     ]
    }
   ],
   "source": [
    "#cox model for g46 - fully adjusted\n",
    "fulladjust_g46 = cevd_df_first.dropna(subset=['g46_t2e'])\n",
    "fulladjust_g46 = fulladjust_g46.loc[:, ['g46_event', 'g46_t2e', 'age_i0', 'male',  'bmi', 'pp', 'dep_yes']]\n",
    "fulladjust_g46 = fulladjust_g46[['g46_event', 'g46_t2e', 'age_i0', 'male',  'bmi', 'pp', 'dep_yes']]\n",
    "#fulladjust_g46_date = pd.get_dummies(fulladjust_g46, columns=['ipaq', 'smok_stat', 'alc_freq_filter'])\n",
    "cph = CoxPHFitter(penalizer=0.0001)\n",
    "cph.fit(fulladjust_g46, duration_col='g46_t2e', event_col='g46_event') \n",
    "summary_df = cph.summary \n",
    "summary_df.style.format({'p': '{:.5f}'})"
   ]
  },
  {
   "cell_type": "code",
   "execution_count": 288,
   "metadata": {
    "tags": []
   },
   "outputs": [
    {
     "name": "stdout",
     "output_type": "stream",
     "text": [
      "Number of depressed CeVD events, Number of control CeVD events: (1, 0)\n"
     ]
    }
   ],
   "source": [
    "def count_cevd(df):\n",
    "    dep_count = 0\n",
    "    cont_count = 0\n",
    "    for index, row in df.iterrows():\n",
    "        if row['dep_yes'] == 1:\n",
    "            dep_count += 1\n",
    "        if row['dep_yes'] == 0:\n",
    "            cont_count += 1\n",
    "    return dep_count, cont_count\n",
    "\n",
    "cevd_dep_yes = count_cevd(fulladjust_g46)\n",
    "print('Number of depressed CeVD events, Number of control CeVD events:', cevd_dep_yes)"
   ]
  },
  {
   "cell_type": "code",
   "execution_count": 289,
   "metadata": {
    "tags": []
   },
   "outputs": [
    {
     "name": "stdout",
     "output_type": "stream",
     "text": [
      "Number of depressed g46 events, Number of control g46 events: (1, 0)\n"
     ]
    }
   ],
   "source": [
    "g46_dep_yes = count_cevd(fulladjust_g46)\n",
    "print('Number of depressed g46 events, Number of control g46 events:', g46_dep_yes)"
   ]
  },
  {
   "cell_type": "code",
   "execution_count": 290,
   "metadata": {
    "tags": []
   },
   "outputs": [
    {
     "name": "stdout",
     "output_type": "stream",
     "text": [
      "Schoenfeld residuals results for G46:\n"
     ]
    },
    {
     "ename": "NameError",
     "evalue": "name 'fulladjust_g46_date' is not defined",
     "output_type": "error",
     "traceback": [
      "\u001b[0;31m---------------------------------------------------------------------------\u001b[0m",
      "\u001b[0;31mNameError\u001b[0m                                 Traceback (most recent call last)",
      "Cell \u001b[0;32mIn[290], line 2\u001b[0m\n\u001b[1;32m      1\u001b[0m \u001b[38;5;28mprint\u001b[39m(\u001b[38;5;124m'\u001b[39m\u001b[38;5;124mSchoenfeld residuals results for G46:\u001b[39m\u001b[38;5;124m'\u001b[39m)\n\u001b[0;32m----> 2\u001b[0m schoenfeld_results_G46 \u001b[38;5;241m=\u001b[39m cph\u001b[38;5;241m.\u001b[39mcheck_assumptions(\u001b[43mfulladjust_g46_date\u001b[49m, p_value_threshold\u001b[38;5;241m=\u001b[39m\u001b[38;5;241m0.05\u001b[39m)\n",
      "\u001b[0;31mNameError\u001b[0m: name 'fulladjust_g46_date' is not defined"
     ]
    }
   ],
   "source": [
    "print('Schoenfeld residuals results for G46:')\n",
    "schoenfeld_results_G46 = cph.check_assumptions(fulladjust_g46_date, p_value_threshold=0.05)"
   ]
  },
  {
   "cell_type": "code",
   "execution_count": 291,
   "metadata": {
    "tags": []
   },
   "outputs": [
    {
     "name": "stderr",
     "output_type": "stream",
     "text": [
      "/opt/conda/lib/python3.9/site-packages/lifelines/fitters/coxph_fitter.py:1527: LinAlgWarning: Ill-conditioned matrix (rcond=0): result may not be accurate.\n",
      "  inv_h_dot_g_T = spsolve(-h, g, assume_a=\"pos\", check_finite=False)\n"
     ]
    },
    {
     "ename": "ValueError",
     "evalue": "x and y must have length at least 2.",
     "output_type": "error",
     "traceback": [
      "\u001b[0;31m---------------------------------------------------------------------------\u001b[0m",
      "\u001b[0;31mValueError\u001b[0m                                Traceback (most recent call last)",
      "Cell \u001b[0;32mIn[291], line 6\u001b[0m\n\u001b[1;32m      4\u001b[0m asadjust_g46 \u001b[38;5;241m=\u001b[39m asadjust_g46[[\u001b[38;5;124m'\u001b[39m\u001b[38;5;124mg46_event\u001b[39m\u001b[38;5;124m'\u001b[39m, \u001b[38;5;124m'\u001b[39m\u001b[38;5;124mg46_t2e\u001b[39m\u001b[38;5;124m'\u001b[39m, \u001b[38;5;124m'\u001b[39m\u001b[38;5;124mage_i0\u001b[39m\u001b[38;5;124m'\u001b[39m, \u001b[38;5;124m'\u001b[39m\u001b[38;5;124mmale\u001b[39m\u001b[38;5;124m'\u001b[39m, \u001b[38;5;124m'\u001b[39m\u001b[38;5;124mdep_yes\u001b[39m\u001b[38;5;124m'\u001b[39m]]\n\u001b[1;32m      5\u001b[0m cph \u001b[38;5;241m=\u001b[39m CoxPHFitter(penalizer\u001b[38;5;241m=\u001b[39m\u001b[38;5;241m0.0001\u001b[39m)\n\u001b[0;32m----> 6\u001b[0m \u001b[43mcph\u001b[49m\u001b[38;5;241;43m.\u001b[39;49m\u001b[43mfit\u001b[49m\u001b[43m(\u001b[49m\u001b[43masadjust_g46\u001b[49m\u001b[43m,\u001b[49m\u001b[43m \u001b[49m\u001b[43mduration_col\u001b[49m\u001b[38;5;241;43m=\u001b[39;49m\u001b[38;5;124;43m'\u001b[39;49m\u001b[38;5;124;43mg46_t2e\u001b[39;49m\u001b[38;5;124;43m'\u001b[39;49m\u001b[43m,\u001b[49m\u001b[43m \u001b[49m\u001b[43mevent_col\u001b[49m\u001b[38;5;241;43m=\u001b[39;49m\u001b[38;5;124;43m'\u001b[39;49m\u001b[38;5;124;43mg46_event\u001b[39;49m\u001b[38;5;124;43m'\u001b[39;49m\u001b[43m)\u001b[49m \n\u001b[1;32m      7\u001b[0m summary_df \u001b[38;5;241m=\u001b[39m cph\u001b[38;5;241m.\u001b[39msummary \n\u001b[1;32m      8\u001b[0m summary_df\u001b[38;5;241m.\u001b[39mstyle\u001b[38;5;241m.\u001b[39mformat({\u001b[38;5;124m'\u001b[39m\u001b[38;5;124mp\u001b[39m\u001b[38;5;124m'\u001b[39m: \u001b[38;5;124m'\u001b[39m\u001b[38;5;132;01m{:.5f}\u001b[39;00m\u001b[38;5;124m'\u001b[39m})\n",
      "File \u001b[0;32m/opt/conda/lib/python3.9/site-packages/lifelines/utils/__init__.py:56\u001b[0m, in \u001b[0;36mCensoringType.right_censoring.<locals>.f\u001b[0;34m(model, *args, **kwargs)\u001b[0m\n\u001b[1;32m     53\u001b[0m \u001b[38;5;129m@wraps\u001b[39m(function)\n\u001b[1;32m     54\u001b[0m \u001b[38;5;28;01mdef\u001b[39;00m \u001b[38;5;21mf\u001b[39m(model, \u001b[38;5;241m*\u001b[39margs, \u001b[38;5;241m*\u001b[39m\u001b[38;5;241m*\u001b[39mkwargs):\n\u001b[1;32m     55\u001b[0m     \u001b[38;5;28mcls\u001b[39m\u001b[38;5;241m.\u001b[39mset_censoring_type(model, \u001b[38;5;28mcls\u001b[39m\u001b[38;5;241m.\u001b[39mRIGHT)\n\u001b[0;32m---> 56\u001b[0m     \u001b[38;5;28;01mreturn\u001b[39;00m \u001b[43mfunction\u001b[49m\u001b[43m(\u001b[49m\u001b[43mmodel\u001b[49m\u001b[43m,\u001b[49m\u001b[43m \u001b[49m\u001b[38;5;241;43m*\u001b[39;49m\u001b[43margs\u001b[49m\u001b[43m,\u001b[49m\u001b[43m \u001b[49m\u001b[38;5;241;43m*\u001b[39;49m\u001b[38;5;241;43m*\u001b[39;49m\u001b[43mkwargs\u001b[49m\u001b[43m)\u001b[49m\n",
      "File \u001b[0;32m/opt/conda/lib/python3.9/site-packages/lifelines/fitters/coxph_fitter.py:290\u001b[0m, in \u001b[0;36mCoxPHFitter.fit\u001b[0;34m(self, df, duration_col, event_col, show_progress, initial_point, strata, weights_col, cluster_col, robust, batch_mode, timeline, formula, entry_col, fit_options)\u001b[0m\n\u001b[1;32m    184\u001b[0m \u001b[38;5;250m\u001b[39m\u001b[38;5;124;03m\"\"\"\u001b[39;00m\n\u001b[1;32m    185\u001b[0m \u001b[38;5;124;03mFit the Cox proportional hazard model to a right-censored dataset. Alias of `fit_right_censoring`.\u001b[39;00m\n\u001b[1;32m    186\u001b[0m \n\u001b[0;32m   (...)\u001b[0m\n\u001b[1;32m    287\u001b[0m \n\u001b[1;32m    288\u001b[0m \u001b[38;5;124;03m\"\"\"\u001b[39;00m\n\u001b[1;32m    289\u001b[0m \u001b[38;5;28mself\u001b[39m\u001b[38;5;241m.\u001b[39mstrata \u001b[38;5;241m=\u001b[39m utils\u001b[38;5;241m.\u001b[39m_to_list_or_singleton(utils\u001b[38;5;241m.\u001b[39mcoalesce(strata, \u001b[38;5;28mself\u001b[39m\u001b[38;5;241m.\u001b[39mstrata))\n\u001b[0;32m--> 290\u001b[0m \u001b[38;5;28mself\u001b[39m\u001b[38;5;241m.\u001b[39m_model \u001b[38;5;241m=\u001b[39m \u001b[38;5;28;43mself\u001b[39;49m\u001b[38;5;241;43m.\u001b[39;49m\u001b[43m_fit_model\u001b[49m\u001b[43m(\u001b[49m\n\u001b[1;32m    291\u001b[0m \u001b[43m    \u001b[49m\u001b[43mdf\u001b[49m\u001b[43m,\u001b[49m\n\u001b[1;32m    292\u001b[0m \u001b[43m    \u001b[49m\u001b[43mduration_col\u001b[49m\u001b[43m,\u001b[49m\n\u001b[1;32m    293\u001b[0m \u001b[43m    \u001b[49m\u001b[43mevent_col\u001b[49m\u001b[38;5;241;43m=\u001b[39;49m\u001b[43mevent_col\u001b[49m\u001b[43m,\u001b[49m\n\u001b[1;32m    294\u001b[0m \u001b[43m    \u001b[49m\u001b[43mshow_progress\u001b[49m\u001b[38;5;241;43m=\u001b[39;49m\u001b[43mshow_progress\u001b[49m\u001b[43m,\u001b[49m\n\u001b[1;32m    295\u001b[0m \u001b[43m    \u001b[49m\u001b[43minitial_point\u001b[49m\u001b[38;5;241;43m=\u001b[39;49m\u001b[43minitial_point\u001b[49m\u001b[43m,\u001b[49m\n\u001b[1;32m    296\u001b[0m \u001b[43m    \u001b[49m\u001b[43mstrata\u001b[49m\u001b[38;5;241;43m=\u001b[39;49m\u001b[38;5;28;43mself\u001b[39;49m\u001b[38;5;241;43m.\u001b[39;49m\u001b[43mstrata\u001b[49m\u001b[43m,\u001b[49m\n\u001b[1;32m    297\u001b[0m \u001b[43m    \u001b[49m\u001b[43mweights_col\u001b[49m\u001b[38;5;241;43m=\u001b[39;49m\u001b[43mweights_col\u001b[49m\u001b[43m,\u001b[49m\n\u001b[1;32m    298\u001b[0m \u001b[43m    \u001b[49m\u001b[43mcluster_col\u001b[49m\u001b[38;5;241;43m=\u001b[39;49m\u001b[43mcluster_col\u001b[49m\u001b[43m,\u001b[49m\n\u001b[1;32m    299\u001b[0m \u001b[43m    \u001b[49m\u001b[43mrobust\u001b[49m\u001b[38;5;241;43m=\u001b[39;49m\u001b[43mrobust\u001b[49m\u001b[43m,\u001b[49m\n\u001b[1;32m    300\u001b[0m \u001b[43m    \u001b[49m\u001b[43mbatch_mode\u001b[49m\u001b[38;5;241;43m=\u001b[39;49m\u001b[43mbatch_mode\u001b[49m\u001b[43m,\u001b[49m\n\u001b[1;32m    301\u001b[0m \u001b[43m    \u001b[49m\u001b[43mtimeline\u001b[49m\u001b[38;5;241;43m=\u001b[39;49m\u001b[43mtimeline\u001b[49m\u001b[43m,\u001b[49m\n\u001b[1;32m    302\u001b[0m \u001b[43m    \u001b[49m\u001b[43mformula\u001b[49m\u001b[38;5;241;43m=\u001b[39;49m\u001b[43mformula\u001b[49m\u001b[43m,\u001b[49m\n\u001b[1;32m    303\u001b[0m \u001b[43m    \u001b[49m\u001b[43mentry_col\u001b[49m\u001b[38;5;241;43m=\u001b[39;49m\u001b[43mentry_col\u001b[49m\u001b[43m,\u001b[49m\n\u001b[1;32m    304\u001b[0m \u001b[43m    \u001b[49m\u001b[43mfit_options\u001b[49m\u001b[38;5;241;43m=\u001b[39;49m\u001b[43mfit_options\u001b[49m\u001b[43m,\u001b[49m\n\u001b[1;32m    305\u001b[0m \u001b[43m\u001b[49m\u001b[43m)\u001b[49m\n\u001b[1;32m    306\u001b[0m \u001b[38;5;28;01mreturn\u001b[39;00m \u001b[38;5;28mself\u001b[39m\n",
      "File \u001b[0;32m/opt/conda/lib/python3.9/site-packages/lifelines/fitters/coxph_fitter.py:610\u001b[0m, in \u001b[0;36mCoxPHFitter._fit_model\u001b[0;34m(self, *args, **kwargs)\u001b[0m\n\u001b[1;32m    608\u001b[0m \u001b[38;5;28;01mdef\u001b[39;00m \u001b[38;5;21m_fit_model\u001b[39m(\u001b[38;5;28mself\u001b[39m, \u001b[38;5;241m*\u001b[39margs, \u001b[38;5;241m*\u001b[39m\u001b[38;5;241m*\u001b[39mkwargs):\n\u001b[1;32m    609\u001b[0m     \u001b[38;5;28;01mif\u001b[39;00m \u001b[38;5;28mself\u001b[39m\u001b[38;5;241m.\u001b[39mbaseline_estimation_method \u001b[38;5;241m==\u001b[39m \u001b[38;5;124m\"\u001b[39m\u001b[38;5;124mbreslow\u001b[39m\u001b[38;5;124m\"\u001b[39m:\n\u001b[0;32m--> 610\u001b[0m         \u001b[38;5;28;01mreturn\u001b[39;00m \u001b[38;5;28;43mself\u001b[39;49m\u001b[38;5;241;43m.\u001b[39;49m\u001b[43m_fit_model_breslow\u001b[49m\u001b[43m(\u001b[49m\u001b[38;5;241;43m*\u001b[39;49m\u001b[43margs\u001b[49m\u001b[43m,\u001b[49m\u001b[43m \u001b[49m\u001b[38;5;241;43m*\u001b[39;49m\u001b[38;5;241;43m*\u001b[39;49m\u001b[43mkwargs\u001b[49m\u001b[43m)\u001b[49m\n\u001b[1;32m    611\u001b[0m     \u001b[38;5;28;01melif\u001b[39;00m \u001b[38;5;28mself\u001b[39m\u001b[38;5;241m.\u001b[39mbaseline_estimation_method \u001b[38;5;241m==\u001b[39m \u001b[38;5;124m\"\u001b[39m\u001b[38;5;124mspline\u001b[39m\u001b[38;5;124m\"\u001b[39m:\n\u001b[1;32m    612\u001b[0m         \u001b[38;5;28;01mreturn\u001b[39;00m \u001b[38;5;28mself\u001b[39m\u001b[38;5;241m.\u001b[39m_fit_model_spline(\u001b[38;5;241m*\u001b[39margs, \u001b[38;5;241m*\u001b[39m\u001b[38;5;241m*\u001b[39mkwargs)\n",
      "File \u001b[0;32m/opt/conda/lib/python3.9/site-packages/lifelines/fitters/coxph_fitter.py:623\u001b[0m, in \u001b[0;36mCoxPHFitter._fit_model_breslow\u001b[0;34m(self, *args, **kwargs)\u001b[0m\n\u001b[1;32m    619\u001b[0m model \u001b[38;5;241m=\u001b[39m SemiParametricPHFitter(\n\u001b[1;32m    620\u001b[0m     penalizer\u001b[38;5;241m=\u001b[39m\u001b[38;5;28mself\u001b[39m\u001b[38;5;241m.\u001b[39mpenalizer, l1_ratio\u001b[38;5;241m=\u001b[39m\u001b[38;5;28mself\u001b[39m\u001b[38;5;241m.\u001b[39ml1_ratio, strata\u001b[38;5;241m=\u001b[39m\u001b[38;5;28mself\u001b[39m\u001b[38;5;241m.\u001b[39mstrata, alpha\u001b[38;5;241m=\u001b[39m\u001b[38;5;28mself\u001b[39m\u001b[38;5;241m.\u001b[39malpha, label\u001b[38;5;241m=\u001b[39m\u001b[38;5;28mself\u001b[39m\u001b[38;5;241m.\u001b[39m_label\n\u001b[1;32m    621\u001b[0m )\n\u001b[1;32m    622\u001b[0m \u001b[38;5;28;01mif\u001b[39;00m utils\u001b[38;5;241m.\u001b[39mCensoringType\u001b[38;5;241m.\u001b[39mis_right_censoring(\u001b[38;5;28mself\u001b[39m):\n\u001b[0;32m--> 623\u001b[0m     \u001b[43mmodel\u001b[49m\u001b[38;5;241;43m.\u001b[39;49m\u001b[43mfit\u001b[49m\u001b[43m(\u001b[49m\u001b[38;5;241;43m*\u001b[39;49m\u001b[43margs\u001b[49m\u001b[43m,\u001b[49m\u001b[43m \u001b[49m\u001b[38;5;241;43m*\u001b[39;49m\u001b[38;5;241;43m*\u001b[39;49m\u001b[43mkwargs\u001b[49m\u001b[43m)\u001b[49m\n\u001b[1;32m    624\u001b[0m     \u001b[38;5;28;01mreturn\u001b[39;00m model\n\u001b[1;32m    625\u001b[0m \u001b[38;5;28;01melse\u001b[39;00m:\n",
      "File \u001b[0;32m/opt/conda/lib/python3.9/site-packages/lifelines/utils/__init__.py:56\u001b[0m, in \u001b[0;36mCensoringType.right_censoring.<locals>.f\u001b[0;34m(model, *args, **kwargs)\u001b[0m\n\u001b[1;32m     53\u001b[0m \u001b[38;5;129m@wraps\u001b[39m(function)\n\u001b[1;32m     54\u001b[0m \u001b[38;5;28;01mdef\u001b[39;00m \u001b[38;5;21mf\u001b[39m(model, \u001b[38;5;241m*\u001b[39margs, \u001b[38;5;241m*\u001b[39m\u001b[38;5;241m*\u001b[39mkwargs):\n\u001b[1;32m     55\u001b[0m     \u001b[38;5;28mcls\u001b[39m\u001b[38;5;241m.\u001b[39mset_censoring_type(model, \u001b[38;5;28mcls\u001b[39m\u001b[38;5;241m.\u001b[39mRIGHT)\n\u001b[0;32m---> 56\u001b[0m     \u001b[38;5;28;01mreturn\u001b[39;00m \u001b[43mfunction\u001b[49m\u001b[43m(\u001b[49m\u001b[43mmodel\u001b[49m\u001b[43m,\u001b[49m\u001b[43m \u001b[49m\u001b[38;5;241;43m*\u001b[39;49m\u001b[43margs\u001b[49m\u001b[43m,\u001b[49m\u001b[43m \u001b[49m\u001b[38;5;241;43m*\u001b[39;49m\u001b[38;5;241;43m*\u001b[39;49m\u001b[43mkwargs\u001b[49m\u001b[43m)\u001b[49m\n",
      "File \u001b[0;32m/opt/conda/lib/python3.9/site-packages/lifelines/fitters/coxph_fitter.py:1252\u001b[0m, in \u001b[0;36mSemiParametricPHFitter.fit\u001b[0;34m(self, df, duration_col, event_col, show_progress, initial_point, strata, weights_col, cluster_col, robust, batch_mode, timeline, formula, entry_col, fit_options)\u001b[0m\n\u001b[1;32m   1247\u001b[0m \u001b[38;5;66;03m# this is surprisingly faster to do...\u001b[39;00m\n\u001b[1;32m   1248\u001b[0m X_norm \u001b[38;5;241m=\u001b[39m pd\u001b[38;5;241m.\u001b[39mDataFrame(\n\u001b[1;32m   1249\u001b[0m     utils\u001b[38;5;241m.\u001b[39mnormalize(X\u001b[38;5;241m.\u001b[39mvalues, \u001b[38;5;28mself\u001b[39m\u001b[38;5;241m.\u001b[39m_norm_mean\u001b[38;5;241m.\u001b[39mvalues, \u001b[38;5;28mself\u001b[39m\u001b[38;5;241m.\u001b[39m_norm_std\u001b[38;5;241m.\u001b[39mvalues), index\u001b[38;5;241m=\u001b[39mX\u001b[38;5;241m.\u001b[39mindex, columns\u001b[38;5;241m=\u001b[39mX\u001b[38;5;241m.\u001b[39mcolumns\n\u001b[1;32m   1250\u001b[0m )\n\u001b[0;32m-> 1252\u001b[0m params_, ll_, variance_matrix_, baseline_hazard_, baseline_cumulative_hazard_, model \u001b[38;5;241m=\u001b[39m \u001b[38;5;28;43mself\u001b[39;49m\u001b[38;5;241;43m.\u001b[39;49m\u001b[43m_fit_model\u001b[49m\u001b[43m(\u001b[49m\n\u001b[1;32m   1253\u001b[0m \u001b[43m    \u001b[49m\u001b[43mX_norm\u001b[49m\u001b[43m,\u001b[49m\n\u001b[1;32m   1254\u001b[0m \u001b[43m    \u001b[49m\u001b[43mT\u001b[49m\u001b[43m,\u001b[49m\n\u001b[1;32m   1255\u001b[0m \u001b[43m    \u001b[49m\u001b[43mE\u001b[49m\u001b[43m,\u001b[49m\n\u001b[1;32m   1256\u001b[0m \u001b[43m    \u001b[49m\u001b[43mweights\u001b[49m\u001b[38;5;241;43m=\u001b[39;49m\u001b[43mweights\u001b[49m\u001b[43m,\u001b[49m\n\u001b[1;32m   1257\u001b[0m \u001b[43m    \u001b[49m\u001b[43mentries\u001b[49m\u001b[38;5;241;43m=\u001b[39;49m\u001b[43mentries\u001b[49m\u001b[43m,\u001b[49m\n\u001b[1;32m   1258\u001b[0m \u001b[43m    \u001b[49m\u001b[43mfit_options\u001b[49m\u001b[38;5;241;43m=\u001b[39;49m\u001b[43mutils\u001b[49m\u001b[38;5;241;43m.\u001b[39;49m\u001b[43mcoalesce\u001b[49m\u001b[43m(\u001b[49m\u001b[43mfit_options\u001b[49m\u001b[43m,\u001b[49m\u001b[43m \u001b[49m\u001b[38;5;28;43mdict\u001b[39;49m\u001b[43m(\u001b[49m\u001b[43m)\u001b[49m\u001b[43m)\u001b[49m\u001b[43m,\u001b[49m\n\u001b[1;32m   1259\u001b[0m \u001b[43m    \u001b[49m\u001b[43minitial_point\u001b[49m\u001b[38;5;241;43m=\u001b[39;49m\u001b[43minitial_point\u001b[49m\u001b[43m,\u001b[49m\n\u001b[1;32m   1260\u001b[0m \u001b[43m    \u001b[49m\u001b[43mshow_progress\u001b[49m\u001b[38;5;241;43m=\u001b[39;49m\u001b[43mshow_progress\u001b[49m\u001b[43m,\u001b[49m\n\u001b[1;32m   1261\u001b[0m \u001b[43m\u001b[49m\u001b[43m)\u001b[49m\n\u001b[1;32m   1263\u001b[0m \u001b[38;5;28mself\u001b[39m\u001b[38;5;241m.\u001b[39mlog_likelihood_ \u001b[38;5;241m=\u001b[39m ll_\n\u001b[1;32m   1264\u001b[0m \u001b[38;5;28mself\u001b[39m\u001b[38;5;241m.\u001b[39mmodel \u001b[38;5;241m=\u001b[39m model\n",
      "File \u001b[0;32m/opt/conda/lib/python3.9/site-packages/lifelines/fitters/coxph_fitter.py:1380\u001b[0m, in \u001b[0;36mSemiParametricPHFitter._fit_model\u001b[0;34m(self, X, T, E, weights, entries, fit_options, initial_point, show_progress)\u001b[0m\n\u001b[1;32m   1369\u001b[0m \u001b[38;5;28;01mdef\u001b[39;00m \u001b[38;5;21m_fit_model\u001b[39m(\n\u001b[1;32m   1370\u001b[0m     \u001b[38;5;28mself\u001b[39m,\n\u001b[1;32m   1371\u001b[0m     X: DataFrame,\n\u001b[0;32m   (...)\u001b[0m\n\u001b[1;32m   1378\u001b[0m     show_progress: \u001b[38;5;28mbool\u001b[39m \u001b[38;5;241m=\u001b[39m \u001b[38;5;28;01mTrue\u001b[39;00m,\n\u001b[1;32m   1379\u001b[0m ):\n\u001b[0;32m-> 1380\u001b[0m     beta_, ll_, hessian_ \u001b[38;5;241m=\u001b[39m \u001b[38;5;28;43mself\u001b[39;49m\u001b[38;5;241;43m.\u001b[39;49m\u001b[43m_newton_raphson_for_efron_model\u001b[49m\u001b[43m(\u001b[49m\n\u001b[1;32m   1381\u001b[0m \u001b[43m        \u001b[49m\u001b[43mX\u001b[49m\u001b[43m,\u001b[49m\n\u001b[1;32m   1382\u001b[0m \u001b[43m        \u001b[49m\u001b[43mT\u001b[49m\u001b[43m,\u001b[49m\n\u001b[1;32m   1383\u001b[0m \u001b[43m        \u001b[49m\u001b[43mE\u001b[49m\u001b[43m,\u001b[49m\n\u001b[1;32m   1384\u001b[0m \u001b[43m        \u001b[49m\u001b[43mweights\u001b[49m\u001b[43m,\u001b[49m\n\u001b[1;32m   1385\u001b[0m \u001b[43m        \u001b[49m\u001b[43mentries\u001b[49m\u001b[43m,\u001b[49m\n\u001b[1;32m   1386\u001b[0m \u001b[43m        \u001b[49m\u001b[43minitial_point\u001b[49m\u001b[38;5;241;43m=\u001b[39;49m\u001b[43minitial_point\u001b[49m\u001b[43m,\u001b[49m\n\u001b[1;32m   1387\u001b[0m \u001b[43m        \u001b[49m\u001b[43mshow_progress\u001b[49m\u001b[38;5;241;43m=\u001b[39;49m\u001b[43mshow_progress\u001b[49m\u001b[43m,\u001b[49m\n\u001b[1;32m   1388\u001b[0m \u001b[43m        \u001b[49m\u001b[38;5;241;43m*\u001b[39;49m\u001b[38;5;241;43m*\u001b[39;49m\u001b[43mfit_options\u001b[49m\u001b[43m,\u001b[49m\n\u001b[1;32m   1389\u001b[0m \u001b[43m    \u001b[49m\u001b[43m)\u001b[49m\n\u001b[1;32m   1391\u001b[0m     \u001b[38;5;66;03m# compute the baseline hazard here.\u001b[39;00m\n\u001b[1;32m   1392\u001b[0m     predicted_partial_hazards_ \u001b[38;5;241m=\u001b[39m (\n\u001b[1;32m   1393\u001b[0m         pd\u001b[38;5;241m.\u001b[39mDataFrame(np\u001b[38;5;241m.\u001b[39mexp(dot(X, beta_)), columns\u001b[38;5;241m=\u001b[39m[\u001b[38;5;124m\"\u001b[39m\u001b[38;5;124mP\u001b[39m\u001b[38;5;124m\"\u001b[39m])\u001b[38;5;241m.\u001b[39massign(T\u001b[38;5;241m=\u001b[39mT\u001b[38;5;241m.\u001b[39mvalues, E\u001b[38;5;241m=\u001b[39mE\u001b[38;5;241m.\u001b[39mvalues, W\u001b[38;5;241m=\u001b[39mweights\u001b[38;5;241m.\u001b[39mvalues)\u001b[38;5;241m.\u001b[39mset_index(X\u001b[38;5;241m.\u001b[39mindex)\n\u001b[1;32m   1394\u001b[0m     )\n",
      "File \u001b[0;32m/opt/conda/lib/python3.9/site-packages/lifelines/fitters/coxph_fitter.py:1549\u001b[0m, in \u001b[0;36mSemiParametricPHFitter._newton_raphson_for_efron_model\u001b[0;34m(self, X, T, E, weights, entries, initial_point, show_progress, step_size, precision, max_steps)\u001b[0m\n\u001b[1;32m   1546\u001b[0m delta \u001b[38;5;241m=\u001b[39m inv_h_dot_g_T\n\u001b[1;32m   1548\u001b[0m \u001b[38;5;28;01mif\u001b[39;00m np\u001b[38;5;241m.\u001b[39many(np\u001b[38;5;241m.\u001b[39misnan(delta)):\n\u001b[0;32m-> 1549\u001b[0m     \u001b[38;5;28;43mself\u001b[39;49m\u001b[38;5;241;43m.\u001b[39;49m\u001b[43m_check_values_post_fitting\u001b[49m\u001b[43m(\u001b[49m\u001b[43mX\u001b[49m\u001b[43m,\u001b[49m\u001b[43m \u001b[49m\u001b[43mT\u001b[49m\u001b[43m,\u001b[49m\u001b[43m \u001b[49m\u001b[43mE\u001b[49m\u001b[43m,\u001b[49m\u001b[43m \u001b[49m\u001b[43mweights\u001b[49m\u001b[43m)\u001b[49m\n\u001b[1;32m   1550\u001b[0m     \u001b[38;5;28;01mraise\u001b[39;00m exceptions\u001b[38;5;241m.\u001b[39mConvergenceError(\n\u001b[1;32m   1551\u001b[0m \u001b[38;5;250m        \u001b[39m\u001b[38;5;124;03m\"\"\"delta contains nan value(s). Convergence halted. {0}\"\"\"\u001b[39;00m\u001b[38;5;241m.\u001b[39mformat(CONVERGENCE_DOCS)\n\u001b[1;32m   1552\u001b[0m     )\n\u001b[1;32m   1554\u001b[0m \u001b[38;5;66;03m# Save these as pending result\u001b[39;00m\n",
      "File \u001b[0;32m/opt/conda/lib/python3.9/site-packages/lifelines/fitters/coxph_fitter.py:1343\u001b[0m, in \u001b[0;36mSemiParametricPHFitter._check_values_post_fitting\u001b[0;34m(self, X, T, E, W)\u001b[0m\n\u001b[1;32m   1339\u001b[0m \u001b[38;5;250m\u001b[39m\u001b[38;5;124;03m\"\"\"\u001b[39;00m\n\u001b[1;32m   1340\u001b[0m \u001b[38;5;124;03mFunctions here check why a fit may have non-obviously failed\u001b[39;00m\n\u001b[1;32m   1341\u001b[0m \u001b[38;5;124;03m\"\"\"\u001b[39;00m\n\u001b[1;32m   1342\u001b[0m utils\u001b[38;5;241m.\u001b[39mcheck_dimensions(X)\n\u001b[0;32m-> 1343\u001b[0m \u001b[43mutils\u001b[49m\u001b[38;5;241;43m.\u001b[39;49m\u001b[43mcheck_complete_separation\u001b[49m\u001b[43m(\u001b[49m\u001b[43mX\u001b[49m\u001b[43m,\u001b[49m\u001b[43m \u001b[49m\u001b[43mE\u001b[49m\u001b[43m,\u001b[49m\u001b[43m \u001b[49m\u001b[43mT\u001b[49m\u001b[43m,\u001b[49m\u001b[43m \u001b[49m\u001b[38;5;28;43mself\u001b[39;49m\u001b[38;5;241;43m.\u001b[39;49m\u001b[43mevent_col\u001b[49m\u001b[43m)\u001b[49m\n",
      "File \u001b[0;32m/opt/conda/lib/python3.9/site-packages/lifelines/utils/__init__.py:1170\u001b[0m, in \u001b[0;36mcheck_complete_separation\u001b[0;34m(df, events, durations, event_col)\u001b[0m\n\u001b[1;32m   1168\u001b[0m \u001b[38;5;28;01mdef\u001b[39;00m \u001b[38;5;21mcheck_complete_separation\u001b[39m(df, events, durations, event_col):\n\u001b[1;32m   1169\u001b[0m     check_complete_separation_low_variance(df, events, event_col)\n\u001b[0;32m-> 1170\u001b[0m     \u001b[43mcheck_complete_separation_close_to_perfect_correlation\u001b[49m\u001b[43m(\u001b[49m\u001b[43mdf\u001b[49m\u001b[43m,\u001b[49m\u001b[43m \u001b[49m\u001b[43mpd\u001b[49m\u001b[38;5;241;43m.\u001b[39;49m\u001b[43mSeries\u001b[49m\u001b[43m(\u001b[49m\u001b[43mdurations\u001b[49m\u001b[43m)\u001b[49m\u001b[43m)\u001b[49m\n",
      "File \u001b[0;32m/opt/conda/lib/python3.9/site-packages/lifelines/utils/__init__.py:1159\u001b[0m, in \u001b[0;36mcheck_complete_separation_close_to_perfect_correlation\u001b[0;34m(df, durations)\u001b[0m\n\u001b[1;32m   1157\u001b[0m     \u001b[38;5;28;01mwith\u001b[39;00m np\u001b[38;5;241m.\u001b[39merrstate(invalid\u001b[38;5;241m=\u001b[39m\u001b[38;5;124m\"\u001b[39m\u001b[38;5;124mignore\u001b[39m\u001b[38;5;124m\"\u001b[39m, divide\u001b[38;5;241m=\u001b[39m\u001b[38;5;124m\"\u001b[39m\u001b[38;5;124mignore\u001b[39m\u001b[38;5;124m\"\u001b[39m):\n\u001b[1;32m   1158\u001b[0m         rank_series \u001b[38;5;241m=\u001b[39m series\u001b[38;5;241m.\u001b[39mvalues\u001b[38;5;241m.\u001b[39margsort()\n\u001b[0;32m-> 1159\u001b[0m         \u001b[38;5;28;01mif\u001b[39;00m \u001b[38;5;28mabs\u001b[39m(\u001b[43mpearson_correlation\u001b[49m\u001b[43m(\u001b[49m\u001b[43mrank_durations\u001b[49m\u001b[43m,\u001b[49m\u001b[43m \u001b[49m\u001b[43mrank_series\u001b[49m\u001b[43m)\u001b[49m) \u001b[38;5;241m>\u001b[39m\u001b[38;5;241m=\u001b[39m THRESHOLD:\n\u001b[1;32m   1160\u001b[0m             warning_text \u001b[38;5;241m=\u001b[39m (\n\u001b[1;32m   1161\u001b[0m                 \u001b[38;5;124m\"\u001b[39m\u001b[38;5;124mColumn \u001b[39m\u001b[38;5;132;01m%s\u001b[39;00m\u001b[38;5;124m has high sample correlation with the duration column. This may harm convergence. This could be a form of \u001b[39m\u001b[38;5;124m'\u001b[39m\u001b[38;5;124mcomplete separation\u001b[39m\u001b[38;5;124m'\u001b[39m\u001b[38;5;124m. \u001b[39m\u001b[38;5;130;01m\\\u001b[39;00m\n\u001b[1;32m   1162\u001b[0m \u001b[38;5;124mSee https://stats.stackexchange.com/questions/11109/how-to-deal-with-perfect-separation-in-logistic-regression\u001b[39m\u001b[38;5;130;01m\\n\u001b[39;00m\u001b[38;5;124m\"\u001b[39m\n\u001b[1;32m   1163\u001b[0m                 \u001b[38;5;241m%\u001b[39m (\u001b[38;5;28mstr\u001b[39m(col))\n\u001b[1;32m   1164\u001b[0m             )\n\u001b[1;32m   1165\u001b[0m             warnings\u001b[38;5;241m.\u001b[39mwarn(dedent(warning_text), ConvergenceWarning)\n",
      "File \u001b[0;32m/opt/conda/lib/python3.9/site-packages/lifelines/utils/__init__.py:1126\u001b[0m, in \u001b[0;36mpearson_correlation\u001b[0;34m(x, y)\u001b[0m\n\u001b[1;32m   1125\u001b[0m \u001b[38;5;28;01mdef\u001b[39;00m \u001b[38;5;21mpearson_correlation\u001b[39m(x: np\u001b[38;5;241m.\u001b[39mndarray, y: np\u001b[38;5;241m.\u001b[39mndarray):\n\u001b[0;32m-> 1126\u001b[0m     \u001b[38;5;28;01mreturn\u001b[39;00m \u001b[43mstats\u001b[49m\u001b[38;5;241;43m.\u001b[39;49m\u001b[43mpearsonr\u001b[49m\u001b[43m(\u001b[49m\u001b[43mx\u001b[49m\u001b[43m,\u001b[49m\u001b[43m \u001b[49m\u001b[43my\u001b[49m\u001b[43m)\u001b[49m[\u001b[38;5;241m0\u001b[39m]\n",
      "File \u001b[0;32m/opt/conda/lib/python3.9/site-packages/scipy/stats/_stats_py.py:4418\u001b[0m, in \u001b[0;36mpearsonr\u001b[0;34m(x, y, alternative)\u001b[0m\n\u001b[1;32m   4415\u001b[0m     \u001b[38;5;28;01mraise\u001b[39;00m \u001b[38;5;167;01mValueError\u001b[39;00m(\u001b[38;5;124m'\u001b[39m\u001b[38;5;124mx and y must have the same length.\u001b[39m\u001b[38;5;124m'\u001b[39m)\n\u001b[1;32m   4417\u001b[0m \u001b[38;5;28;01mif\u001b[39;00m n \u001b[38;5;241m<\u001b[39m \u001b[38;5;241m2\u001b[39m:\n\u001b[0;32m-> 4418\u001b[0m     \u001b[38;5;28;01mraise\u001b[39;00m \u001b[38;5;167;01mValueError\u001b[39;00m(\u001b[38;5;124m'\u001b[39m\u001b[38;5;124mx and y must have length at least 2.\u001b[39m\u001b[38;5;124m'\u001b[39m)\n\u001b[1;32m   4420\u001b[0m x \u001b[38;5;241m=\u001b[39m np\u001b[38;5;241m.\u001b[39masarray(x)\n\u001b[1;32m   4421\u001b[0m y \u001b[38;5;241m=\u001b[39m np\u001b[38;5;241m.\u001b[39masarray(y)\n",
      "\u001b[0;31mValueError\u001b[0m: x and y must have length at least 2."
     ]
    }
   ],
   "source": [
    "#FOR G46 age and sex COX MODEL\n",
    "asadjust_g46 = cevd_df_first.dropna(subset=['g46_t2e'])\n",
    "asadjust_g46 = asadjust_g46.loc[:, ['g46_event', 'g46_t2e', 'age_i0', 'male', 'dep_yes']]\n",
    "asadjust_g46 = asadjust_g46[['g46_event', 'g46_t2e', 'age_i0', 'male', 'dep_yes']]\n",
    "cph = CoxPHFitter(penalizer=0.0001)\n",
    "cph.fit(asadjust_g46, duration_col='g46_t2e', event_col='g46_event') \n",
    "summary_df = cph.summary \n",
    "summary_df.style.format({'p': '{:.5f}'})"
   ]
  },
  {
   "cell_type": "code",
   "execution_count": 292,
   "metadata": {
    "tags": []
   },
   "outputs": [
    {
     "ename": "ValueError",
     "evalue": "x and y must have length at least 2.",
     "output_type": "error",
     "traceback": [
      "\u001b[0;31m---------------------------------------------------------------------------\u001b[0m",
      "\u001b[0;31mValueError\u001b[0m                                Traceback (most recent call last)",
      "Cell \u001b[0;32mIn[292], line 6\u001b[0m\n\u001b[1;32m      4\u001b[0m unadjust_g46 \u001b[38;5;241m=\u001b[39m unadjust_g46[[\u001b[38;5;124m'\u001b[39m\u001b[38;5;124mg46_event\u001b[39m\u001b[38;5;124m'\u001b[39m, \u001b[38;5;124m'\u001b[39m\u001b[38;5;124mg46_t2e\u001b[39m\u001b[38;5;124m'\u001b[39m, \u001b[38;5;124m'\u001b[39m\u001b[38;5;124mdep_yes\u001b[39m\u001b[38;5;124m'\u001b[39m]]\n\u001b[1;32m      5\u001b[0m cph \u001b[38;5;241m=\u001b[39m CoxPHFitter(penalizer\u001b[38;5;241m=\u001b[39m\u001b[38;5;241m0.0001\u001b[39m)\n\u001b[0;32m----> 6\u001b[0m \u001b[43mcph\u001b[49m\u001b[38;5;241;43m.\u001b[39;49m\u001b[43mfit\u001b[49m\u001b[43m(\u001b[49m\u001b[43munadjust_g46\u001b[49m\u001b[43m,\u001b[49m\u001b[43m \u001b[49m\u001b[43mduration_col\u001b[49m\u001b[38;5;241;43m=\u001b[39;49m\u001b[38;5;124;43m'\u001b[39;49m\u001b[38;5;124;43mg46_t2e\u001b[39;49m\u001b[38;5;124;43m'\u001b[39;49m\u001b[43m,\u001b[49m\u001b[43m \u001b[49m\u001b[43mevent_col\u001b[49m\u001b[38;5;241;43m=\u001b[39;49m\u001b[38;5;124;43m'\u001b[39;49m\u001b[38;5;124;43mg46_event\u001b[39;49m\u001b[38;5;124;43m'\u001b[39;49m\u001b[43m)\u001b[49m \n\u001b[1;32m      7\u001b[0m summary_df \u001b[38;5;241m=\u001b[39m cph\u001b[38;5;241m.\u001b[39msummary \n\u001b[1;32m      8\u001b[0m summary_df\u001b[38;5;241m.\u001b[39mstyle\u001b[38;5;241m.\u001b[39mformat({\u001b[38;5;124m'\u001b[39m\u001b[38;5;124mp\u001b[39m\u001b[38;5;124m'\u001b[39m: \u001b[38;5;124m'\u001b[39m\u001b[38;5;132;01m{:.5f}\u001b[39;00m\u001b[38;5;124m'\u001b[39m})\n",
      "File \u001b[0;32m/opt/conda/lib/python3.9/site-packages/lifelines/utils/__init__.py:56\u001b[0m, in \u001b[0;36mCensoringType.right_censoring.<locals>.f\u001b[0;34m(model, *args, **kwargs)\u001b[0m\n\u001b[1;32m     53\u001b[0m \u001b[38;5;129m@wraps\u001b[39m(function)\n\u001b[1;32m     54\u001b[0m \u001b[38;5;28;01mdef\u001b[39;00m \u001b[38;5;21mf\u001b[39m(model, \u001b[38;5;241m*\u001b[39margs, \u001b[38;5;241m*\u001b[39m\u001b[38;5;241m*\u001b[39mkwargs):\n\u001b[1;32m     55\u001b[0m     \u001b[38;5;28mcls\u001b[39m\u001b[38;5;241m.\u001b[39mset_censoring_type(model, \u001b[38;5;28mcls\u001b[39m\u001b[38;5;241m.\u001b[39mRIGHT)\n\u001b[0;32m---> 56\u001b[0m     \u001b[38;5;28;01mreturn\u001b[39;00m \u001b[43mfunction\u001b[49m\u001b[43m(\u001b[49m\u001b[43mmodel\u001b[49m\u001b[43m,\u001b[49m\u001b[43m \u001b[49m\u001b[38;5;241;43m*\u001b[39;49m\u001b[43margs\u001b[49m\u001b[43m,\u001b[49m\u001b[43m \u001b[49m\u001b[38;5;241;43m*\u001b[39;49m\u001b[38;5;241;43m*\u001b[39;49m\u001b[43mkwargs\u001b[49m\u001b[43m)\u001b[49m\n",
      "File \u001b[0;32m/opt/conda/lib/python3.9/site-packages/lifelines/fitters/coxph_fitter.py:290\u001b[0m, in \u001b[0;36mCoxPHFitter.fit\u001b[0;34m(self, df, duration_col, event_col, show_progress, initial_point, strata, weights_col, cluster_col, robust, batch_mode, timeline, formula, entry_col, fit_options)\u001b[0m\n\u001b[1;32m    184\u001b[0m \u001b[38;5;250m\u001b[39m\u001b[38;5;124;03m\"\"\"\u001b[39;00m\n\u001b[1;32m    185\u001b[0m \u001b[38;5;124;03mFit the Cox proportional hazard model to a right-censored dataset. Alias of `fit_right_censoring`.\u001b[39;00m\n\u001b[1;32m    186\u001b[0m \n\u001b[0;32m   (...)\u001b[0m\n\u001b[1;32m    287\u001b[0m \n\u001b[1;32m    288\u001b[0m \u001b[38;5;124;03m\"\"\"\u001b[39;00m\n\u001b[1;32m    289\u001b[0m \u001b[38;5;28mself\u001b[39m\u001b[38;5;241m.\u001b[39mstrata \u001b[38;5;241m=\u001b[39m utils\u001b[38;5;241m.\u001b[39m_to_list_or_singleton(utils\u001b[38;5;241m.\u001b[39mcoalesce(strata, \u001b[38;5;28mself\u001b[39m\u001b[38;5;241m.\u001b[39mstrata))\n\u001b[0;32m--> 290\u001b[0m \u001b[38;5;28mself\u001b[39m\u001b[38;5;241m.\u001b[39m_model \u001b[38;5;241m=\u001b[39m \u001b[38;5;28;43mself\u001b[39;49m\u001b[38;5;241;43m.\u001b[39;49m\u001b[43m_fit_model\u001b[49m\u001b[43m(\u001b[49m\n\u001b[1;32m    291\u001b[0m \u001b[43m    \u001b[49m\u001b[43mdf\u001b[49m\u001b[43m,\u001b[49m\n\u001b[1;32m    292\u001b[0m \u001b[43m    \u001b[49m\u001b[43mduration_col\u001b[49m\u001b[43m,\u001b[49m\n\u001b[1;32m    293\u001b[0m \u001b[43m    \u001b[49m\u001b[43mevent_col\u001b[49m\u001b[38;5;241;43m=\u001b[39;49m\u001b[43mevent_col\u001b[49m\u001b[43m,\u001b[49m\n\u001b[1;32m    294\u001b[0m \u001b[43m    \u001b[49m\u001b[43mshow_progress\u001b[49m\u001b[38;5;241;43m=\u001b[39;49m\u001b[43mshow_progress\u001b[49m\u001b[43m,\u001b[49m\n\u001b[1;32m    295\u001b[0m \u001b[43m    \u001b[49m\u001b[43minitial_point\u001b[49m\u001b[38;5;241;43m=\u001b[39;49m\u001b[43minitial_point\u001b[49m\u001b[43m,\u001b[49m\n\u001b[1;32m    296\u001b[0m \u001b[43m    \u001b[49m\u001b[43mstrata\u001b[49m\u001b[38;5;241;43m=\u001b[39;49m\u001b[38;5;28;43mself\u001b[39;49m\u001b[38;5;241;43m.\u001b[39;49m\u001b[43mstrata\u001b[49m\u001b[43m,\u001b[49m\n\u001b[1;32m    297\u001b[0m \u001b[43m    \u001b[49m\u001b[43mweights_col\u001b[49m\u001b[38;5;241;43m=\u001b[39;49m\u001b[43mweights_col\u001b[49m\u001b[43m,\u001b[49m\n\u001b[1;32m    298\u001b[0m \u001b[43m    \u001b[49m\u001b[43mcluster_col\u001b[49m\u001b[38;5;241;43m=\u001b[39;49m\u001b[43mcluster_col\u001b[49m\u001b[43m,\u001b[49m\n\u001b[1;32m    299\u001b[0m \u001b[43m    \u001b[49m\u001b[43mrobust\u001b[49m\u001b[38;5;241;43m=\u001b[39;49m\u001b[43mrobust\u001b[49m\u001b[43m,\u001b[49m\n\u001b[1;32m    300\u001b[0m \u001b[43m    \u001b[49m\u001b[43mbatch_mode\u001b[49m\u001b[38;5;241;43m=\u001b[39;49m\u001b[43mbatch_mode\u001b[49m\u001b[43m,\u001b[49m\n\u001b[1;32m    301\u001b[0m \u001b[43m    \u001b[49m\u001b[43mtimeline\u001b[49m\u001b[38;5;241;43m=\u001b[39;49m\u001b[43mtimeline\u001b[49m\u001b[43m,\u001b[49m\n\u001b[1;32m    302\u001b[0m \u001b[43m    \u001b[49m\u001b[43mformula\u001b[49m\u001b[38;5;241;43m=\u001b[39;49m\u001b[43mformula\u001b[49m\u001b[43m,\u001b[49m\n\u001b[1;32m    303\u001b[0m \u001b[43m    \u001b[49m\u001b[43mentry_col\u001b[49m\u001b[38;5;241;43m=\u001b[39;49m\u001b[43mentry_col\u001b[49m\u001b[43m,\u001b[49m\n\u001b[1;32m    304\u001b[0m \u001b[43m    \u001b[49m\u001b[43mfit_options\u001b[49m\u001b[38;5;241;43m=\u001b[39;49m\u001b[43mfit_options\u001b[49m\u001b[43m,\u001b[49m\n\u001b[1;32m    305\u001b[0m \u001b[43m\u001b[49m\u001b[43m)\u001b[49m\n\u001b[1;32m    306\u001b[0m \u001b[38;5;28;01mreturn\u001b[39;00m \u001b[38;5;28mself\u001b[39m\n",
      "File \u001b[0;32m/opt/conda/lib/python3.9/site-packages/lifelines/fitters/coxph_fitter.py:610\u001b[0m, in \u001b[0;36mCoxPHFitter._fit_model\u001b[0;34m(self, *args, **kwargs)\u001b[0m\n\u001b[1;32m    608\u001b[0m \u001b[38;5;28;01mdef\u001b[39;00m \u001b[38;5;21m_fit_model\u001b[39m(\u001b[38;5;28mself\u001b[39m, \u001b[38;5;241m*\u001b[39margs, \u001b[38;5;241m*\u001b[39m\u001b[38;5;241m*\u001b[39mkwargs):\n\u001b[1;32m    609\u001b[0m     \u001b[38;5;28;01mif\u001b[39;00m \u001b[38;5;28mself\u001b[39m\u001b[38;5;241m.\u001b[39mbaseline_estimation_method \u001b[38;5;241m==\u001b[39m \u001b[38;5;124m\"\u001b[39m\u001b[38;5;124mbreslow\u001b[39m\u001b[38;5;124m\"\u001b[39m:\n\u001b[0;32m--> 610\u001b[0m         \u001b[38;5;28;01mreturn\u001b[39;00m \u001b[38;5;28;43mself\u001b[39;49m\u001b[38;5;241;43m.\u001b[39;49m\u001b[43m_fit_model_breslow\u001b[49m\u001b[43m(\u001b[49m\u001b[38;5;241;43m*\u001b[39;49m\u001b[43margs\u001b[49m\u001b[43m,\u001b[49m\u001b[43m \u001b[49m\u001b[38;5;241;43m*\u001b[39;49m\u001b[38;5;241;43m*\u001b[39;49m\u001b[43mkwargs\u001b[49m\u001b[43m)\u001b[49m\n\u001b[1;32m    611\u001b[0m     \u001b[38;5;28;01melif\u001b[39;00m \u001b[38;5;28mself\u001b[39m\u001b[38;5;241m.\u001b[39mbaseline_estimation_method \u001b[38;5;241m==\u001b[39m \u001b[38;5;124m\"\u001b[39m\u001b[38;5;124mspline\u001b[39m\u001b[38;5;124m\"\u001b[39m:\n\u001b[1;32m    612\u001b[0m         \u001b[38;5;28;01mreturn\u001b[39;00m \u001b[38;5;28mself\u001b[39m\u001b[38;5;241m.\u001b[39m_fit_model_spline(\u001b[38;5;241m*\u001b[39margs, \u001b[38;5;241m*\u001b[39m\u001b[38;5;241m*\u001b[39mkwargs)\n",
      "File \u001b[0;32m/opt/conda/lib/python3.9/site-packages/lifelines/fitters/coxph_fitter.py:623\u001b[0m, in \u001b[0;36mCoxPHFitter._fit_model_breslow\u001b[0;34m(self, *args, **kwargs)\u001b[0m\n\u001b[1;32m    619\u001b[0m model \u001b[38;5;241m=\u001b[39m SemiParametricPHFitter(\n\u001b[1;32m    620\u001b[0m     penalizer\u001b[38;5;241m=\u001b[39m\u001b[38;5;28mself\u001b[39m\u001b[38;5;241m.\u001b[39mpenalizer, l1_ratio\u001b[38;5;241m=\u001b[39m\u001b[38;5;28mself\u001b[39m\u001b[38;5;241m.\u001b[39ml1_ratio, strata\u001b[38;5;241m=\u001b[39m\u001b[38;5;28mself\u001b[39m\u001b[38;5;241m.\u001b[39mstrata, alpha\u001b[38;5;241m=\u001b[39m\u001b[38;5;28mself\u001b[39m\u001b[38;5;241m.\u001b[39malpha, label\u001b[38;5;241m=\u001b[39m\u001b[38;5;28mself\u001b[39m\u001b[38;5;241m.\u001b[39m_label\n\u001b[1;32m    621\u001b[0m )\n\u001b[1;32m    622\u001b[0m \u001b[38;5;28;01mif\u001b[39;00m utils\u001b[38;5;241m.\u001b[39mCensoringType\u001b[38;5;241m.\u001b[39mis_right_censoring(\u001b[38;5;28mself\u001b[39m):\n\u001b[0;32m--> 623\u001b[0m     \u001b[43mmodel\u001b[49m\u001b[38;5;241;43m.\u001b[39;49m\u001b[43mfit\u001b[49m\u001b[43m(\u001b[49m\u001b[38;5;241;43m*\u001b[39;49m\u001b[43margs\u001b[49m\u001b[43m,\u001b[49m\u001b[43m \u001b[49m\u001b[38;5;241;43m*\u001b[39;49m\u001b[38;5;241;43m*\u001b[39;49m\u001b[43mkwargs\u001b[49m\u001b[43m)\u001b[49m\n\u001b[1;32m    624\u001b[0m     \u001b[38;5;28;01mreturn\u001b[39;00m model\n\u001b[1;32m    625\u001b[0m \u001b[38;5;28;01melse\u001b[39;00m:\n",
      "File \u001b[0;32m/opt/conda/lib/python3.9/site-packages/lifelines/utils/__init__.py:56\u001b[0m, in \u001b[0;36mCensoringType.right_censoring.<locals>.f\u001b[0;34m(model, *args, **kwargs)\u001b[0m\n\u001b[1;32m     53\u001b[0m \u001b[38;5;129m@wraps\u001b[39m(function)\n\u001b[1;32m     54\u001b[0m \u001b[38;5;28;01mdef\u001b[39;00m \u001b[38;5;21mf\u001b[39m(model, \u001b[38;5;241m*\u001b[39margs, \u001b[38;5;241m*\u001b[39m\u001b[38;5;241m*\u001b[39mkwargs):\n\u001b[1;32m     55\u001b[0m     \u001b[38;5;28mcls\u001b[39m\u001b[38;5;241m.\u001b[39mset_censoring_type(model, \u001b[38;5;28mcls\u001b[39m\u001b[38;5;241m.\u001b[39mRIGHT)\n\u001b[0;32m---> 56\u001b[0m     \u001b[38;5;28;01mreturn\u001b[39;00m \u001b[43mfunction\u001b[49m\u001b[43m(\u001b[49m\u001b[43mmodel\u001b[49m\u001b[43m,\u001b[49m\u001b[43m \u001b[49m\u001b[38;5;241;43m*\u001b[39;49m\u001b[43margs\u001b[49m\u001b[43m,\u001b[49m\u001b[43m \u001b[49m\u001b[38;5;241;43m*\u001b[39;49m\u001b[38;5;241;43m*\u001b[39;49m\u001b[43mkwargs\u001b[49m\u001b[43m)\u001b[49m\n",
      "File \u001b[0;32m/opt/conda/lib/python3.9/site-packages/lifelines/fitters/coxph_fitter.py:1252\u001b[0m, in \u001b[0;36mSemiParametricPHFitter.fit\u001b[0;34m(self, df, duration_col, event_col, show_progress, initial_point, strata, weights_col, cluster_col, robust, batch_mode, timeline, formula, entry_col, fit_options)\u001b[0m\n\u001b[1;32m   1247\u001b[0m \u001b[38;5;66;03m# this is surprisingly faster to do...\u001b[39;00m\n\u001b[1;32m   1248\u001b[0m X_norm \u001b[38;5;241m=\u001b[39m pd\u001b[38;5;241m.\u001b[39mDataFrame(\n\u001b[1;32m   1249\u001b[0m     utils\u001b[38;5;241m.\u001b[39mnormalize(X\u001b[38;5;241m.\u001b[39mvalues, \u001b[38;5;28mself\u001b[39m\u001b[38;5;241m.\u001b[39m_norm_mean\u001b[38;5;241m.\u001b[39mvalues, \u001b[38;5;28mself\u001b[39m\u001b[38;5;241m.\u001b[39m_norm_std\u001b[38;5;241m.\u001b[39mvalues), index\u001b[38;5;241m=\u001b[39mX\u001b[38;5;241m.\u001b[39mindex, columns\u001b[38;5;241m=\u001b[39mX\u001b[38;5;241m.\u001b[39mcolumns\n\u001b[1;32m   1250\u001b[0m )\n\u001b[0;32m-> 1252\u001b[0m params_, ll_, variance_matrix_, baseline_hazard_, baseline_cumulative_hazard_, model \u001b[38;5;241m=\u001b[39m \u001b[38;5;28;43mself\u001b[39;49m\u001b[38;5;241;43m.\u001b[39;49m\u001b[43m_fit_model\u001b[49m\u001b[43m(\u001b[49m\n\u001b[1;32m   1253\u001b[0m \u001b[43m    \u001b[49m\u001b[43mX_norm\u001b[49m\u001b[43m,\u001b[49m\n\u001b[1;32m   1254\u001b[0m \u001b[43m    \u001b[49m\u001b[43mT\u001b[49m\u001b[43m,\u001b[49m\n\u001b[1;32m   1255\u001b[0m \u001b[43m    \u001b[49m\u001b[43mE\u001b[49m\u001b[43m,\u001b[49m\n\u001b[1;32m   1256\u001b[0m \u001b[43m    \u001b[49m\u001b[43mweights\u001b[49m\u001b[38;5;241;43m=\u001b[39;49m\u001b[43mweights\u001b[49m\u001b[43m,\u001b[49m\n\u001b[1;32m   1257\u001b[0m \u001b[43m    \u001b[49m\u001b[43mentries\u001b[49m\u001b[38;5;241;43m=\u001b[39;49m\u001b[43mentries\u001b[49m\u001b[43m,\u001b[49m\n\u001b[1;32m   1258\u001b[0m \u001b[43m    \u001b[49m\u001b[43mfit_options\u001b[49m\u001b[38;5;241;43m=\u001b[39;49m\u001b[43mutils\u001b[49m\u001b[38;5;241;43m.\u001b[39;49m\u001b[43mcoalesce\u001b[49m\u001b[43m(\u001b[49m\u001b[43mfit_options\u001b[49m\u001b[43m,\u001b[49m\u001b[43m \u001b[49m\u001b[38;5;28;43mdict\u001b[39;49m\u001b[43m(\u001b[49m\u001b[43m)\u001b[49m\u001b[43m)\u001b[49m\u001b[43m,\u001b[49m\n\u001b[1;32m   1259\u001b[0m \u001b[43m    \u001b[49m\u001b[43minitial_point\u001b[49m\u001b[38;5;241;43m=\u001b[39;49m\u001b[43minitial_point\u001b[49m\u001b[43m,\u001b[49m\n\u001b[1;32m   1260\u001b[0m \u001b[43m    \u001b[49m\u001b[43mshow_progress\u001b[49m\u001b[38;5;241;43m=\u001b[39;49m\u001b[43mshow_progress\u001b[49m\u001b[43m,\u001b[49m\n\u001b[1;32m   1261\u001b[0m \u001b[43m\u001b[49m\u001b[43m)\u001b[49m\n\u001b[1;32m   1263\u001b[0m \u001b[38;5;28mself\u001b[39m\u001b[38;5;241m.\u001b[39mlog_likelihood_ \u001b[38;5;241m=\u001b[39m ll_\n\u001b[1;32m   1264\u001b[0m \u001b[38;5;28mself\u001b[39m\u001b[38;5;241m.\u001b[39mmodel \u001b[38;5;241m=\u001b[39m model\n",
      "File \u001b[0;32m/opt/conda/lib/python3.9/site-packages/lifelines/fitters/coxph_fitter.py:1380\u001b[0m, in \u001b[0;36mSemiParametricPHFitter._fit_model\u001b[0;34m(self, X, T, E, weights, entries, fit_options, initial_point, show_progress)\u001b[0m\n\u001b[1;32m   1369\u001b[0m \u001b[38;5;28;01mdef\u001b[39;00m \u001b[38;5;21m_fit_model\u001b[39m(\n\u001b[1;32m   1370\u001b[0m     \u001b[38;5;28mself\u001b[39m,\n\u001b[1;32m   1371\u001b[0m     X: DataFrame,\n\u001b[0;32m   (...)\u001b[0m\n\u001b[1;32m   1378\u001b[0m     show_progress: \u001b[38;5;28mbool\u001b[39m \u001b[38;5;241m=\u001b[39m \u001b[38;5;28;01mTrue\u001b[39;00m,\n\u001b[1;32m   1379\u001b[0m ):\n\u001b[0;32m-> 1380\u001b[0m     beta_, ll_, hessian_ \u001b[38;5;241m=\u001b[39m \u001b[38;5;28;43mself\u001b[39;49m\u001b[38;5;241;43m.\u001b[39;49m\u001b[43m_newton_raphson_for_efron_model\u001b[49m\u001b[43m(\u001b[49m\n\u001b[1;32m   1381\u001b[0m \u001b[43m        \u001b[49m\u001b[43mX\u001b[49m\u001b[43m,\u001b[49m\n\u001b[1;32m   1382\u001b[0m \u001b[43m        \u001b[49m\u001b[43mT\u001b[49m\u001b[43m,\u001b[49m\n\u001b[1;32m   1383\u001b[0m \u001b[43m        \u001b[49m\u001b[43mE\u001b[49m\u001b[43m,\u001b[49m\n\u001b[1;32m   1384\u001b[0m \u001b[43m        \u001b[49m\u001b[43mweights\u001b[49m\u001b[43m,\u001b[49m\n\u001b[1;32m   1385\u001b[0m \u001b[43m        \u001b[49m\u001b[43mentries\u001b[49m\u001b[43m,\u001b[49m\n\u001b[1;32m   1386\u001b[0m \u001b[43m        \u001b[49m\u001b[43minitial_point\u001b[49m\u001b[38;5;241;43m=\u001b[39;49m\u001b[43minitial_point\u001b[49m\u001b[43m,\u001b[49m\n\u001b[1;32m   1387\u001b[0m \u001b[43m        \u001b[49m\u001b[43mshow_progress\u001b[49m\u001b[38;5;241;43m=\u001b[39;49m\u001b[43mshow_progress\u001b[49m\u001b[43m,\u001b[49m\n\u001b[1;32m   1388\u001b[0m \u001b[43m        \u001b[49m\u001b[38;5;241;43m*\u001b[39;49m\u001b[38;5;241;43m*\u001b[39;49m\u001b[43mfit_options\u001b[49m\u001b[43m,\u001b[49m\n\u001b[1;32m   1389\u001b[0m \u001b[43m    \u001b[49m\u001b[43m)\u001b[49m\n\u001b[1;32m   1391\u001b[0m     \u001b[38;5;66;03m# compute the baseline hazard here.\u001b[39;00m\n\u001b[1;32m   1392\u001b[0m     predicted_partial_hazards_ \u001b[38;5;241m=\u001b[39m (\n\u001b[1;32m   1393\u001b[0m         pd\u001b[38;5;241m.\u001b[39mDataFrame(np\u001b[38;5;241m.\u001b[39mexp(dot(X, beta_)), columns\u001b[38;5;241m=\u001b[39m[\u001b[38;5;124m\"\u001b[39m\u001b[38;5;124mP\u001b[39m\u001b[38;5;124m\"\u001b[39m])\u001b[38;5;241m.\u001b[39massign(T\u001b[38;5;241m=\u001b[39mT\u001b[38;5;241m.\u001b[39mvalues, E\u001b[38;5;241m=\u001b[39mE\u001b[38;5;241m.\u001b[39mvalues, W\u001b[38;5;241m=\u001b[39mweights\u001b[38;5;241m.\u001b[39mvalues)\u001b[38;5;241m.\u001b[39mset_index(X\u001b[38;5;241m.\u001b[39mindex)\n\u001b[1;32m   1394\u001b[0m     )\n",
      "File \u001b[0;32m/opt/conda/lib/python3.9/site-packages/lifelines/fitters/coxph_fitter.py:1549\u001b[0m, in \u001b[0;36mSemiParametricPHFitter._newton_raphson_for_efron_model\u001b[0;34m(self, X, T, E, weights, entries, initial_point, show_progress, step_size, precision, max_steps)\u001b[0m\n\u001b[1;32m   1546\u001b[0m delta \u001b[38;5;241m=\u001b[39m inv_h_dot_g_T\n\u001b[1;32m   1548\u001b[0m \u001b[38;5;28;01mif\u001b[39;00m np\u001b[38;5;241m.\u001b[39many(np\u001b[38;5;241m.\u001b[39misnan(delta)):\n\u001b[0;32m-> 1549\u001b[0m     \u001b[38;5;28;43mself\u001b[39;49m\u001b[38;5;241;43m.\u001b[39;49m\u001b[43m_check_values_post_fitting\u001b[49m\u001b[43m(\u001b[49m\u001b[43mX\u001b[49m\u001b[43m,\u001b[49m\u001b[43m \u001b[49m\u001b[43mT\u001b[49m\u001b[43m,\u001b[49m\u001b[43m \u001b[49m\u001b[43mE\u001b[49m\u001b[43m,\u001b[49m\u001b[43m \u001b[49m\u001b[43mweights\u001b[49m\u001b[43m)\u001b[49m\n\u001b[1;32m   1550\u001b[0m     \u001b[38;5;28;01mraise\u001b[39;00m exceptions\u001b[38;5;241m.\u001b[39mConvergenceError(\n\u001b[1;32m   1551\u001b[0m \u001b[38;5;250m        \u001b[39m\u001b[38;5;124;03m\"\"\"delta contains nan value(s). Convergence halted. {0}\"\"\"\u001b[39;00m\u001b[38;5;241m.\u001b[39mformat(CONVERGENCE_DOCS)\n\u001b[1;32m   1552\u001b[0m     )\n\u001b[1;32m   1554\u001b[0m \u001b[38;5;66;03m# Save these as pending result\u001b[39;00m\n",
      "File \u001b[0;32m/opt/conda/lib/python3.9/site-packages/lifelines/fitters/coxph_fitter.py:1343\u001b[0m, in \u001b[0;36mSemiParametricPHFitter._check_values_post_fitting\u001b[0;34m(self, X, T, E, W)\u001b[0m\n\u001b[1;32m   1339\u001b[0m \u001b[38;5;250m\u001b[39m\u001b[38;5;124;03m\"\"\"\u001b[39;00m\n\u001b[1;32m   1340\u001b[0m \u001b[38;5;124;03mFunctions here check why a fit may have non-obviously failed\u001b[39;00m\n\u001b[1;32m   1341\u001b[0m \u001b[38;5;124;03m\"\"\"\u001b[39;00m\n\u001b[1;32m   1342\u001b[0m utils\u001b[38;5;241m.\u001b[39mcheck_dimensions(X)\n\u001b[0;32m-> 1343\u001b[0m \u001b[43mutils\u001b[49m\u001b[38;5;241;43m.\u001b[39;49m\u001b[43mcheck_complete_separation\u001b[49m\u001b[43m(\u001b[49m\u001b[43mX\u001b[49m\u001b[43m,\u001b[49m\u001b[43m \u001b[49m\u001b[43mE\u001b[49m\u001b[43m,\u001b[49m\u001b[43m \u001b[49m\u001b[43mT\u001b[49m\u001b[43m,\u001b[49m\u001b[43m \u001b[49m\u001b[38;5;28;43mself\u001b[39;49m\u001b[38;5;241;43m.\u001b[39;49m\u001b[43mevent_col\u001b[49m\u001b[43m)\u001b[49m\n",
      "File \u001b[0;32m/opt/conda/lib/python3.9/site-packages/lifelines/utils/__init__.py:1170\u001b[0m, in \u001b[0;36mcheck_complete_separation\u001b[0;34m(df, events, durations, event_col)\u001b[0m\n\u001b[1;32m   1168\u001b[0m \u001b[38;5;28;01mdef\u001b[39;00m \u001b[38;5;21mcheck_complete_separation\u001b[39m(df, events, durations, event_col):\n\u001b[1;32m   1169\u001b[0m     check_complete_separation_low_variance(df, events, event_col)\n\u001b[0;32m-> 1170\u001b[0m     \u001b[43mcheck_complete_separation_close_to_perfect_correlation\u001b[49m\u001b[43m(\u001b[49m\u001b[43mdf\u001b[49m\u001b[43m,\u001b[49m\u001b[43m \u001b[49m\u001b[43mpd\u001b[49m\u001b[38;5;241;43m.\u001b[39;49m\u001b[43mSeries\u001b[49m\u001b[43m(\u001b[49m\u001b[43mdurations\u001b[49m\u001b[43m)\u001b[49m\u001b[43m)\u001b[49m\n",
      "File \u001b[0;32m/opt/conda/lib/python3.9/site-packages/lifelines/utils/__init__.py:1159\u001b[0m, in \u001b[0;36mcheck_complete_separation_close_to_perfect_correlation\u001b[0;34m(df, durations)\u001b[0m\n\u001b[1;32m   1157\u001b[0m     \u001b[38;5;28;01mwith\u001b[39;00m np\u001b[38;5;241m.\u001b[39merrstate(invalid\u001b[38;5;241m=\u001b[39m\u001b[38;5;124m\"\u001b[39m\u001b[38;5;124mignore\u001b[39m\u001b[38;5;124m\"\u001b[39m, divide\u001b[38;5;241m=\u001b[39m\u001b[38;5;124m\"\u001b[39m\u001b[38;5;124mignore\u001b[39m\u001b[38;5;124m\"\u001b[39m):\n\u001b[1;32m   1158\u001b[0m         rank_series \u001b[38;5;241m=\u001b[39m series\u001b[38;5;241m.\u001b[39mvalues\u001b[38;5;241m.\u001b[39margsort()\n\u001b[0;32m-> 1159\u001b[0m         \u001b[38;5;28;01mif\u001b[39;00m \u001b[38;5;28mabs\u001b[39m(\u001b[43mpearson_correlation\u001b[49m\u001b[43m(\u001b[49m\u001b[43mrank_durations\u001b[49m\u001b[43m,\u001b[49m\u001b[43m \u001b[49m\u001b[43mrank_series\u001b[49m\u001b[43m)\u001b[49m) \u001b[38;5;241m>\u001b[39m\u001b[38;5;241m=\u001b[39m THRESHOLD:\n\u001b[1;32m   1160\u001b[0m             warning_text \u001b[38;5;241m=\u001b[39m (\n\u001b[1;32m   1161\u001b[0m                 \u001b[38;5;124m\"\u001b[39m\u001b[38;5;124mColumn \u001b[39m\u001b[38;5;132;01m%s\u001b[39;00m\u001b[38;5;124m has high sample correlation with the duration column. This may harm convergence. This could be a form of \u001b[39m\u001b[38;5;124m'\u001b[39m\u001b[38;5;124mcomplete separation\u001b[39m\u001b[38;5;124m'\u001b[39m\u001b[38;5;124m. \u001b[39m\u001b[38;5;130;01m\\\u001b[39;00m\n\u001b[1;32m   1162\u001b[0m \u001b[38;5;124mSee https://stats.stackexchange.com/questions/11109/how-to-deal-with-perfect-separation-in-logistic-regression\u001b[39m\u001b[38;5;130;01m\\n\u001b[39;00m\u001b[38;5;124m\"\u001b[39m\n\u001b[1;32m   1163\u001b[0m                 \u001b[38;5;241m%\u001b[39m (\u001b[38;5;28mstr\u001b[39m(col))\n\u001b[1;32m   1164\u001b[0m             )\n\u001b[1;32m   1165\u001b[0m             warnings\u001b[38;5;241m.\u001b[39mwarn(dedent(warning_text), ConvergenceWarning)\n",
      "File \u001b[0;32m/opt/conda/lib/python3.9/site-packages/lifelines/utils/__init__.py:1126\u001b[0m, in \u001b[0;36mpearson_correlation\u001b[0;34m(x, y)\u001b[0m\n\u001b[1;32m   1125\u001b[0m \u001b[38;5;28;01mdef\u001b[39;00m \u001b[38;5;21mpearson_correlation\u001b[39m(x: np\u001b[38;5;241m.\u001b[39mndarray, y: np\u001b[38;5;241m.\u001b[39mndarray):\n\u001b[0;32m-> 1126\u001b[0m     \u001b[38;5;28;01mreturn\u001b[39;00m \u001b[43mstats\u001b[49m\u001b[38;5;241;43m.\u001b[39;49m\u001b[43mpearsonr\u001b[49m\u001b[43m(\u001b[49m\u001b[43mx\u001b[49m\u001b[43m,\u001b[49m\u001b[43m \u001b[49m\u001b[43my\u001b[49m\u001b[43m)\u001b[49m[\u001b[38;5;241m0\u001b[39m]\n",
      "File \u001b[0;32m/opt/conda/lib/python3.9/site-packages/scipy/stats/_stats_py.py:4418\u001b[0m, in \u001b[0;36mpearsonr\u001b[0;34m(x, y, alternative)\u001b[0m\n\u001b[1;32m   4415\u001b[0m     \u001b[38;5;28;01mraise\u001b[39;00m \u001b[38;5;167;01mValueError\u001b[39;00m(\u001b[38;5;124m'\u001b[39m\u001b[38;5;124mx and y must have the same length.\u001b[39m\u001b[38;5;124m'\u001b[39m)\n\u001b[1;32m   4417\u001b[0m \u001b[38;5;28;01mif\u001b[39;00m n \u001b[38;5;241m<\u001b[39m \u001b[38;5;241m2\u001b[39m:\n\u001b[0;32m-> 4418\u001b[0m     \u001b[38;5;28;01mraise\u001b[39;00m \u001b[38;5;167;01mValueError\u001b[39;00m(\u001b[38;5;124m'\u001b[39m\u001b[38;5;124mx and y must have length at least 2.\u001b[39m\u001b[38;5;124m'\u001b[39m)\n\u001b[1;32m   4420\u001b[0m x \u001b[38;5;241m=\u001b[39m np\u001b[38;5;241m.\u001b[39masarray(x)\n\u001b[1;32m   4421\u001b[0m y \u001b[38;5;241m=\u001b[39m np\u001b[38;5;241m.\u001b[39masarray(y)\n",
      "\u001b[0;31mValueError\u001b[0m: x and y must have length at least 2."
     ]
    }
   ],
   "source": [
    "#FOR G46 unadjusted COX MODEL\n",
    "unadjust_g46 = cevd_df_first.dropna(subset=['g46_t2e'])\n",
    "unadjust_g46 = unadjust_g46.loc[:, ['g46_event', 'g46_t2e', 'dep_yes']]\n",
    "unadjust_g46 = unadjust_g46[['g46_event', 'g46_t2e', 'dep_yes']]\n",
    "cph = CoxPHFitter(penalizer=0.0001)\n",
    "cph.fit(unadjust_g46, duration_col='g46_t2e', event_col='g46_event') \n",
    "summary_df = cph.summary \n",
    "summary_df.style.format({'p': '{:.5f}'})"
   ]
  },
  {
   "cell_type": "code",
   "execution_count": null,
   "metadata": {
    "tags": []
   },
   "outputs": [],
   "source": [
    "#h34"
   ]
  },
  {
   "cell_type": "code",
   "execution_count": 293,
   "metadata": {
    "tags": []
   },
   "outputs": [
    {
     "data": {
      "text/html": [
       "<style type=\"text/css\">\n",
       "</style>\n",
       "<table id=\"T_45c1c\">\n",
       "  <thead>\n",
       "    <tr>\n",
       "      <th class=\"blank level0\" >&nbsp;</th>\n",
       "      <th id=\"T_45c1c_level0_col0\" class=\"col_heading level0 col0\" >coef</th>\n",
       "      <th id=\"T_45c1c_level0_col1\" class=\"col_heading level0 col1\" >exp(coef)</th>\n",
       "      <th id=\"T_45c1c_level0_col2\" class=\"col_heading level0 col2\" >se(coef)</th>\n",
       "      <th id=\"T_45c1c_level0_col3\" class=\"col_heading level0 col3\" >coef lower 95%</th>\n",
       "      <th id=\"T_45c1c_level0_col4\" class=\"col_heading level0 col4\" >coef upper 95%</th>\n",
       "      <th id=\"T_45c1c_level0_col5\" class=\"col_heading level0 col5\" >exp(coef) lower 95%</th>\n",
       "      <th id=\"T_45c1c_level0_col6\" class=\"col_heading level0 col6\" >exp(coef) upper 95%</th>\n",
       "      <th id=\"T_45c1c_level0_col7\" class=\"col_heading level0 col7\" >cmp to</th>\n",
       "      <th id=\"T_45c1c_level0_col8\" class=\"col_heading level0 col8\" >z</th>\n",
       "      <th id=\"T_45c1c_level0_col9\" class=\"col_heading level0 col9\" >p</th>\n",
       "      <th id=\"T_45c1c_level0_col10\" class=\"col_heading level0 col10\" >-log2(p)</th>\n",
       "    </tr>\n",
       "    <tr>\n",
       "      <th class=\"index_name level0\" >covariate</th>\n",
       "      <th class=\"blank col0\" >&nbsp;</th>\n",
       "      <th class=\"blank col1\" >&nbsp;</th>\n",
       "      <th class=\"blank col2\" >&nbsp;</th>\n",
       "      <th class=\"blank col3\" >&nbsp;</th>\n",
       "      <th class=\"blank col4\" >&nbsp;</th>\n",
       "      <th class=\"blank col5\" >&nbsp;</th>\n",
       "      <th class=\"blank col6\" >&nbsp;</th>\n",
       "      <th class=\"blank col7\" >&nbsp;</th>\n",
       "      <th class=\"blank col8\" >&nbsp;</th>\n",
       "      <th class=\"blank col9\" >&nbsp;</th>\n",
       "      <th class=\"blank col10\" >&nbsp;</th>\n",
       "    </tr>\n",
       "  </thead>\n",
       "  <tbody>\n",
       "    <tr>\n",
       "      <th id=\"T_45c1c_level0_row0\" class=\"row_heading level0 row0\" >age_i0</th>\n",
       "      <td id=\"T_45c1c_row0_col0\" class=\"data row0 col0\" >-0.015674</td>\n",
       "      <td id=\"T_45c1c_row0_col1\" class=\"data row0 col1\" >0.984449</td>\n",
       "      <td id=\"T_45c1c_row0_col2\" class=\"data row0 col2\" >0.068009</td>\n",
       "      <td id=\"T_45c1c_row0_col3\" class=\"data row0 col3\" >-0.148968</td>\n",
       "      <td id=\"T_45c1c_row0_col4\" class=\"data row0 col4\" >0.117621</td>\n",
       "      <td id=\"T_45c1c_row0_col5\" class=\"data row0 col5\" >0.861596</td>\n",
       "      <td id=\"T_45c1c_row0_col6\" class=\"data row0 col6\" >1.124818</td>\n",
       "      <td id=\"T_45c1c_row0_col7\" class=\"data row0 col7\" >0.000000</td>\n",
       "      <td id=\"T_45c1c_row0_col8\" class=\"data row0 col8\" >-0.230464</td>\n",
       "      <td id=\"T_45c1c_row0_col9\" class=\"data row0 col9\" >0.81773</td>\n",
       "      <td id=\"T_45c1c_row0_col10\" class=\"data row0 col10\" >0.290301</td>\n",
       "    </tr>\n",
       "    <tr>\n",
       "      <th id=\"T_45c1c_level0_row1\" class=\"row_heading level0 row1\" >male</th>\n",
       "      <td id=\"T_45c1c_row1_col0\" class=\"data row1 col0\" >0.368895</td>\n",
       "      <td id=\"T_45c1c_row1_col1\" class=\"data row1 col1\" >1.446135</td>\n",
       "      <td id=\"T_45c1c_row1_col2\" class=\"data row1 col2\" >0.477569</td>\n",
       "      <td id=\"T_45c1c_row1_col3\" class=\"data row1 col3\" >-0.567124</td>\n",
       "      <td id=\"T_45c1c_row1_col4\" class=\"data row1 col4\" >1.304913</td>\n",
       "      <td id=\"T_45c1c_row1_col5\" class=\"data row1 col5\" >0.567154</td>\n",
       "      <td id=\"T_45c1c_row1_col6\" class=\"data row1 col6\" >3.687368</td>\n",
       "      <td id=\"T_45c1c_row1_col7\" class=\"data row1 col7\" >0.000000</td>\n",
       "      <td id=\"T_45c1c_row1_col8\" class=\"data row1 col8\" >0.772442</td>\n",
       "      <td id=\"T_45c1c_row1_col9\" class=\"data row1 col9\" >0.43985</td>\n",
       "      <td id=\"T_45c1c_row1_col10\" class=\"data row1 col10\" >1.184908</td>\n",
       "    </tr>\n",
       "    <tr>\n",
       "      <th id=\"T_45c1c_level0_row2\" class=\"row_heading level0 row2\" >bmi</th>\n",
       "      <td id=\"T_45c1c_row2_col0\" class=\"data row2 col0\" >-0.005788</td>\n",
       "      <td id=\"T_45c1c_row2_col1\" class=\"data row2 col1\" >0.994229</td>\n",
       "      <td id=\"T_45c1c_row2_col2\" class=\"data row2 col2\" >0.104831</td>\n",
       "      <td id=\"T_45c1c_row2_col3\" class=\"data row2 col3\" >-0.211253</td>\n",
       "      <td id=\"T_45c1c_row2_col4\" class=\"data row2 col4\" >0.199678</td>\n",
       "      <td id=\"T_45c1c_row2_col5\" class=\"data row2 col5\" >0.809569</td>\n",
       "      <td id=\"T_45c1c_row2_col6\" class=\"data row2 col6\" >1.221009</td>\n",
       "      <td id=\"T_45c1c_row2_col7\" class=\"data row2 col7\" >0.000000</td>\n",
       "      <td id=\"T_45c1c_row2_col8\" class=\"data row2 col8\" >-0.055209</td>\n",
       "      <td id=\"T_45c1c_row2_col9\" class=\"data row2 col9\" >0.95597</td>\n",
       "      <td id=\"T_45c1c_row2_col10\" class=\"data row2 col10\" >0.064960</td>\n",
       "    </tr>\n",
       "    <tr>\n",
       "      <th id=\"T_45c1c_level0_row3\" class=\"row_heading level0 row3\" >pp</th>\n",
       "      <td id=\"T_45c1c_row3_col0\" class=\"data row3 col0\" >0.023703</td>\n",
       "      <td id=\"T_45c1c_row3_col1\" class=\"data row3 col1\" >1.023986</td>\n",
       "      <td id=\"T_45c1c_row3_col2\" class=\"data row3 col2\" >0.020970</td>\n",
       "      <td id=\"T_45c1c_row3_col3\" class=\"data row3 col3\" >-0.017396</td>\n",
       "      <td id=\"T_45c1c_row3_col4\" class=\"data row3 col4\" >0.064803</td>\n",
       "      <td id=\"T_45c1c_row3_col5\" class=\"data row3 col5\" >0.982754</td>\n",
       "      <td id=\"T_45c1c_row3_col6\" class=\"data row3 col6\" >1.066949</td>\n",
       "      <td id=\"T_45c1c_row3_col7\" class=\"data row3 col7\" >0.000000</td>\n",
       "      <td id=\"T_45c1c_row3_col8\" class=\"data row3 col8\" >1.130363</td>\n",
       "      <td id=\"T_45c1c_row3_col9\" class=\"data row3 col9\" >0.25832</td>\n",
       "      <td id=\"T_45c1c_row3_col10\" class=\"data row3 col10\" >1.952751</td>\n",
       "    </tr>\n",
       "    <tr>\n",
       "      <th id=\"T_45c1c_level0_row4\" class=\"row_heading level0 row4\" >dep_yes</th>\n",
       "      <td id=\"T_45c1c_row4_col0\" class=\"data row4 col0\" >0.176414</td>\n",
       "      <td id=\"T_45c1c_row4_col1\" class=\"data row4 col1\" >1.192932</td>\n",
       "      <td id=\"T_45c1c_row4_col2\" class=\"data row4 col2\" >0.497965</td>\n",
       "      <td id=\"T_45c1c_row4_col3\" class=\"data row4 col3\" >-0.799578</td>\n",
       "      <td id=\"T_45c1c_row4_col4\" class=\"data row4 col4\" >1.152407</td>\n",
       "      <td id=\"T_45c1c_row4_col5\" class=\"data row4 col5\" >0.449519</td>\n",
       "      <td id=\"T_45c1c_row4_col6\" class=\"data row4 col6\" >3.165804</td>\n",
       "      <td id=\"T_45c1c_row4_col7\" class=\"data row4 col7\" >0.000000</td>\n",
       "      <td id=\"T_45c1c_row4_col8\" class=\"data row4 col8\" >0.354271</td>\n",
       "      <td id=\"T_45c1c_row4_col9\" class=\"data row4 col9\" >0.72314</td>\n",
       "      <td id=\"T_45c1c_row4_col10\" class=\"data row4 col10\" >0.467662</td>\n",
       "    </tr>\n",
       "  </tbody>\n",
       "</table>\n"
      ],
      "text/plain": [
       "<pandas.io.formats.style.Styler at 0x7f68eb811760>"
      ]
     },
     "execution_count": 293,
     "metadata": {},
     "output_type": "execute_result"
    }
   ],
   "source": [
    "#cox model h34 - fully adjusted\n",
    "fulladjust_h34 = cevd_df_first.dropna(subset=['h34_t2e'])\n",
    "fulladjust_h34 = fulladjust_h34.loc[:, ['h34_event', 'h34_t2e',  'age_i0', 'male',  'bmi', 'pp', 'dep_yes']]\n",
    "fulladjust_h34 = fulladjust_h34[['h34_event', 'h34_t2e', 'age_i0', 'male',   'bmi', 'pp', 'dep_yes']]\n",
    "#fulladjust_h34_date = pd.get_dummies(fulladjust_h34, columns=['ipaq', 'smok_stat', 'alc_freq_filter'])\n",
    "cph = CoxPHFitter(penalizer=0.0001)\n",
    "cph.fit(fulladjust_h34, duration_col='h34_t2e', event_col='h34_event') \n",
    "summary_df = cph.summary \n",
    "summary_df.style.format({'p': '{:.5f}'})"
   ]
  },
  {
   "cell_type": "code",
   "execution_count": 294,
   "metadata": {
    "tags": []
   },
   "outputs": [
    {
     "name": "stdout",
     "output_type": "stream",
     "text": [
      "Number of depressed CeVD events, Number of control CeVD events: (7, 15)\n"
     ]
    }
   ],
   "source": [
    "def count_cevd(df):\n",
    "    dep_count = 0\n",
    "    cont_count = 0\n",
    "    for index, row in df.iterrows():\n",
    "        if row['dep_yes'] == 1:\n",
    "            dep_count += 1\n",
    "        if row['dep_yes'] == 0:\n",
    "            cont_count += 1\n",
    "    return dep_count, cont_count\n",
    "\n",
    "cevd_dep_yes = count_cevd(fulladjust_h34)\n",
    "print('Number of depressed CeVD events, Number of control CeVD events:', cevd_dep_yes)"
   ]
  },
  {
   "cell_type": "code",
   "execution_count": 295,
   "metadata": {
    "tags": []
   },
   "outputs": [
    {
     "name": "stdout",
     "output_type": "stream",
     "text": [
      "Number of depressed h34 events, Number of control h34 events: (7, 15)\n"
     ]
    }
   ],
   "source": [
    "h34_dep_yes = count_cevd(fulladjust_h34)\n",
    "print('Number of depressed h34 events, Number of control h34 events:', h34_dep_yes)"
   ]
  },
  {
   "cell_type": "code",
   "execution_count": 298,
   "metadata": {
    "tags": []
   },
   "outputs": [
    {
     "name": "stdout",
     "output_type": "stream",
     "text": [
      "Schoenfeld residuals results for H34:\n"
     ]
    },
    {
     "ename": "ValueError",
     "evalue": "shapes (22,5) and (3,) not aligned: 5 (dim 1) != 3 (dim 0)",
     "output_type": "error",
     "traceback": [
      "\u001b[0;31m---------------------------------------------------------------------------\u001b[0m",
      "\u001b[0;31mValueError\u001b[0m                                Traceback (most recent call last)",
      "Cell \u001b[0;32mIn[298], line 2\u001b[0m\n\u001b[1;32m      1\u001b[0m \u001b[38;5;28mprint\u001b[39m(\u001b[38;5;124m'\u001b[39m\u001b[38;5;124mSchoenfeld residuals results for H34:\u001b[39m\u001b[38;5;124m'\u001b[39m)\n\u001b[0;32m----> 2\u001b[0m schoenfeld_results_h34 \u001b[38;5;241m=\u001b[39m \u001b[43mcph\u001b[49m\u001b[38;5;241;43m.\u001b[39;49m\u001b[43mcheck_assumptions\u001b[49m\u001b[43m(\u001b[49m\u001b[43mfulladjust_h34\u001b[49m\u001b[43m,\u001b[49m\u001b[43m \u001b[49m\u001b[43mp_value_threshold\u001b[49m\u001b[38;5;241;43m=\u001b[39;49m\u001b[38;5;241;43m0.05\u001b[39;49m\u001b[43m)\u001b[49m\n",
      "File \u001b[0;32m/opt/conda/lib/python3.9/site-packages/lifelines/fitters/mixins.py:98\u001b[0m, in \u001b[0;36mProportionalHazardMixin.check_assumptions\u001b[0;34m(self, training_df, advice, show_plots, p_value_threshold, plot_n_bootstraps, columns)\u001b[0m\n\u001b[1;32m     93\u001b[0m \u001b[38;5;28;01mif\u001b[39;00m \u001b[38;5;129;01mnot\u001b[39;00m training_df\u001b[38;5;241m.\u001b[39mindex\u001b[38;5;241m.\u001b[39mis_unique:\n\u001b[1;32m     94\u001b[0m     \u001b[38;5;28;01mraise\u001b[39;00m \u001b[38;5;167;01mIndexError\u001b[39;00m(\n\u001b[1;32m     95\u001b[0m         \u001b[38;5;124m\"\u001b[39m\u001b[38;5;124m`training_df` index should be unique for this exercise. Please make it unique or use `.reset_index(drop=True)` to force a unique index\u001b[39m\u001b[38;5;124m\"\u001b[39m\n\u001b[1;32m     96\u001b[0m     )\n\u001b[0;32m---> 98\u001b[0m residuals \u001b[38;5;241m=\u001b[39m \u001b[38;5;28;43mself\u001b[39;49m\u001b[38;5;241;43m.\u001b[39;49m\u001b[43mcompute_residuals\u001b[49m\u001b[43m(\u001b[49m\u001b[43mtraining_df\u001b[49m\u001b[43m,\u001b[49m\u001b[43m \u001b[49m\u001b[43mkind\u001b[49m\u001b[38;5;241;43m=\u001b[39;49m\u001b[38;5;124;43m\"\u001b[39;49m\u001b[38;5;124;43mscaled_schoenfeld\u001b[39;49m\u001b[38;5;124;43m\"\u001b[39;49m\u001b[43m)\u001b[49m\n\u001b[1;32m     99\u001b[0m test_results \u001b[38;5;241m=\u001b[39m proportional_hazard_test(\u001b[38;5;28mself\u001b[39m, training_df, time_transform\u001b[38;5;241m=\u001b[39m[\u001b[38;5;124m\"\u001b[39m\u001b[38;5;124mrank\u001b[39m\u001b[38;5;124m\"\u001b[39m, \u001b[38;5;124m\"\u001b[39m\u001b[38;5;124mkm\u001b[39m\u001b[38;5;124m\"\u001b[39m], precomputed_residuals\u001b[38;5;241m=\u001b[39mresiduals)\n\u001b[1;32m    101\u001b[0m residuals_and_duration \u001b[38;5;241m=\u001b[39m residuals\u001b[38;5;241m.\u001b[39mjoin(training_df[\u001b[38;5;28mself\u001b[39m\u001b[38;5;241m.\u001b[39mduration_col])\n",
      "File \u001b[0;32m/opt/conda/lib/python3.9/site-packages/lifelines/fitters/__init__.py:1323\u001b[0m, in \u001b[0;36mRegressionFitter.compute_residuals\u001b[0;34m(self, training_dataframe, kind)\u001b[0m\n\u001b[1;32m   1320\u001b[0m warnings\u001b[38;5;241m.\u001b[39mfilterwarnings(\u001b[38;5;124m\"\u001b[39m\u001b[38;5;124mignore\u001b[39m\u001b[38;5;124m\"\u001b[39m, category\u001b[38;5;241m=\u001b[39mexceptions\u001b[38;5;241m.\u001b[39mConvergenceWarning)\n\u001b[1;32m   1321\u001b[0m X, Ts, E, weights, _, shuffled_original_index, _ \u001b[38;5;241m=\u001b[39m \u001b[38;5;28mself\u001b[39m\u001b[38;5;241m.\u001b[39m_preprocess_dataframe(training_dataframe)\n\u001b[0;32m-> 1323\u001b[0m resids \u001b[38;5;241m=\u001b[39m \u001b[38;5;28;43mgetattr\u001b[39;49m\u001b[43m(\u001b[49m\u001b[38;5;28;43mself\u001b[39;49m\u001b[43m,\u001b[49m\u001b[43m \u001b[49m\u001b[38;5;124;43m\"\u001b[39;49m\u001b[38;5;124;43m_compute_\u001b[39;49m\u001b[38;5;132;43;01m%s\u001b[39;49;00m\u001b[38;5;124;43m\"\u001b[39;49m\u001b[43m \u001b[49m\u001b[38;5;241;43m%\u001b[39;49m\u001b[43m \u001b[49m\u001b[43mkind\u001b[49m\u001b[43m)\u001b[49m\u001b[43m(\u001b[49m\u001b[43mX\u001b[49m\u001b[43m,\u001b[49m\u001b[43m \u001b[49m\u001b[43mTs\u001b[49m\u001b[43m,\u001b[49m\u001b[43m \u001b[49m\u001b[43mE\u001b[49m\u001b[43m,\u001b[49m\u001b[43m \u001b[49m\u001b[43mweights\u001b[49m\u001b[43m,\u001b[49m\u001b[43m \u001b[49m\u001b[43mindex\u001b[49m\u001b[38;5;241;43m=\u001b[39;49m\u001b[43mshuffled_original_index\u001b[49m\u001b[43m)\u001b[49m\n\u001b[1;32m   1324\u001b[0m \u001b[38;5;28;01mreturn\u001b[39;00m resids\n",
      "File \u001b[0;32m/opt/conda/lib/python3.9/site-packages/lifelines/fitters/coxph_fitter.py:1932\u001b[0m, in \u001b[0;36mSemiParametricPHFitter._compute_scaled_schoenfeld\u001b[0;34m(self, X, T, E, weights, index)\u001b[0m\n\u001b[1;32m   1912\u001b[0m \u001b[38;5;250m\u001b[39m\u001b[38;5;124mr\u001b[39m\u001b[38;5;124;03m\"\"\"\u001b[39;00m\n\u001b[1;32m   1913\u001b[0m \u001b[38;5;124;03mLet s_k be the kth schoenfeld residuals. Then E[s_k] = 0.\u001b[39;00m\n\u001b[1;32m   1914\u001b[0m \u001b[38;5;124;03mFor tests of proportionality, we want to test if \\beta_i(t) is \\beta_i (constant) or not.\u001b[39;00m\n\u001b[0;32m   (...)\u001b[0m\n\u001b[1;32m   1928\u001b[0m \n\u001b[1;32m   1929\u001b[0m \u001b[38;5;124;03m\"\"\"\u001b[39;00m\n\u001b[1;32m   1931\u001b[0m n_deaths \u001b[38;5;241m=\u001b[39m \u001b[38;5;28mself\u001b[39m\u001b[38;5;241m.\u001b[39mevent_observed\u001b[38;5;241m.\u001b[39msum()\n\u001b[0;32m-> 1932\u001b[0m scaled_schoenfeld_resids \u001b[38;5;241m=\u001b[39m n_deaths \u001b[38;5;241m*\u001b[39m \u001b[38;5;28;43mself\u001b[39;49m\u001b[38;5;241;43m.\u001b[39;49m\u001b[43m_compute_schoenfeld\u001b[49m\u001b[43m(\u001b[49m\u001b[43mX\u001b[49m\u001b[43m,\u001b[49m\u001b[43m \u001b[49m\u001b[43mT\u001b[49m\u001b[43m,\u001b[49m\u001b[43m \u001b[49m\u001b[43mE\u001b[49m\u001b[43m,\u001b[49m\u001b[43m \u001b[49m\u001b[43mweights\u001b[49m\u001b[43m,\u001b[49m\u001b[43m \u001b[49m\u001b[43mindex\u001b[49m\u001b[43m)\u001b[49m\u001b[38;5;241m.\u001b[39mdot(\u001b[38;5;28mself\u001b[39m\u001b[38;5;241m.\u001b[39mvariance_matrix_)\n\u001b[1;32m   1934\u001b[0m scaled_schoenfeld_resids\u001b[38;5;241m.\u001b[39mcolumns \u001b[38;5;241m=\u001b[39m \u001b[38;5;28mself\u001b[39m\u001b[38;5;241m.\u001b[39mparams_\u001b[38;5;241m.\u001b[39mindex\n\u001b[1;32m   1935\u001b[0m \u001b[38;5;28;01mreturn\u001b[39;00m scaled_schoenfeld_resids\n",
      "File \u001b[0;32m/opt/conda/lib/python3.9/site-packages/lifelines/fitters/coxph_fitter.py:1956\u001b[0m, in \u001b[0;36mSemiParametricPHFitter._compute_schoenfeld\u001b[0;34m(self, X, T, E, weights, index)\u001b[0m\n\u001b[1;32m   1953\u001b[0m         schoenfeld_residuals \u001b[38;5;241m=\u001b[39m np\u001b[38;5;241m.\u001b[39mappend(schoenfeld_residuals, schoenfeld_residuals_in_strata, axis\u001b[38;5;241m=\u001b[39m\u001b[38;5;241m0\u001b[39m)\n\u001b[1;32m   1955\u001b[0m \u001b[38;5;28;01melse\u001b[39;00m:\n\u001b[0;32m-> 1956\u001b[0m     schoenfeld_residuals \u001b[38;5;241m=\u001b[39m \u001b[38;5;28;43mself\u001b[39;49m\u001b[38;5;241;43m.\u001b[39;49m\u001b[43m_compute_schoenfeld_within_strata\u001b[49m\u001b[43m(\u001b[49m\u001b[43mX\u001b[49m\u001b[43m,\u001b[49m\u001b[43m \u001b[49m\u001b[43mT\u001b[49m\u001b[43m,\u001b[49m\u001b[43m \u001b[49m\u001b[43mE\u001b[49m\u001b[43m,\u001b[49m\u001b[43m \u001b[49m\u001b[43mweights\u001b[49m\u001b[43m,\u001b[49m\u001b[43m \u001b[49m\u001b[38;5;28;43;01mNone\u001b[39;49;00m\u001b[43m)\u001b[49m\n\u001b[1;32m   1958\u001b[0m \u001b[38;5;66;03m# schoenfeld residuals are only defined for subjects with a non-zero event.\u001b[39;00m\n\u001b[1;32m   1959\u001b[0m df \u001b[38;5;241m=\u001b[39m pd\u001b[38;5;241m.\u001b[39mDataFrame(schoenfeld_residuals[E, :], columns\u001b[38;5;241m=\u001b[39m\u001b[38;5;28mself\u001b[39m\u001b[38;5;241m.\u001b[39mparams_\u001b[38;5;241m.\u001b[39mindex, index\u001b[38;5;241m=\u001b[39mindex[E])\n",
      "File \u001b[0;32m/opt/conda/lib/python3.9/site-packages/lifelines/fitters/coxph_fitter.py:1990\u001b[0m, in \u001b[0;36mSemiParametricPHFitter._compute_schoenfeld_within_strata\u001b[0;34m(self, X, T, E, weights, entries)\u001b[0m\n\u001b[1;32m   1987\u001b[0m weight_count \u001b[38;5;241m=\u001b[39m \u001b[38;5;241m0.0\u001b[39m\n\u001b[1;32m   1988\u001b[0m tie_count \u001b[38;5;241m=\u001b[39m \u001b[38;5;241m0\u001b[39m\n\u001b[0;32m-> 1990\u001b[0m scores \u001b[38;5;241m=\u001b[39m weights \u001b[38;5;241m*\u001b[39m exp(\u001b[43mdot\u001b[49m\u001b[43m(\u001b[49m\u001b[43mX\u001b[49m\u001b[43m,\u001b[49m\u001b[43m \u001b[49m\u001b[38;5;28;43mself\u001b[39;49m\u001b[38;5;241;43m.\u001b[39;49m\u001b[43mparams_\u001b[49m\u001b[43m)\u001b[49m)\n\u001b[1;32m   1992\u001b[0m diff_against \u001b[38;5;241m=\u001b[39m []\n\u001b[1;32m   1994\u001b[0m schoenfeld_residuals \u001b[38;5;241m=\u001b[39m np\u001b[38;5;241m.\u001b[39mempty((\u001b[38;5;241m0\u001b[39m, d))\n",
      "File \u001b[0;32m<__array_function__ internals>:180\u001b[0m, in \u001b[0;36mdot\u001b[0;34m(*args, **kwargs)\u001b[0m\n",
      "\u001b[0;31mValueError\u001b[0m: shapes (22,5) and (3,) not aligned: 5 (dim 1) != 3 (dim 0)"
     ]
    }
   ],
   "source": [
    "print('Schoenfeld residuals results for H34:')\n",
    "schoenfeld_results_h34 = cph.check_assumptions(fulladjust_h34, p_value_threshold=0.05)"
   ]
  },
  {
   "cell_type": "code",
   "execution_count": 299,
   "metadata": {
    "tags": []
   },
   "outputs": [
    {
     "data": {
      "text/html": [
       "<style type=\"text/css\">\n",
       "</style>\n",
       "<table id=\"T_555de\">\n",
       "  <thead>\n",
       "    <tr>\n",
       "      <th class=\"blank level0\" >&nbsp;</th>\n",
       "      <th id=\"T_555de_level0_col0\" class=\"col_heading level0 col0\" >coef</th>\n",
       "      <th id=\"T_555de_level0_col1\" class=\"col_heading level0 col1\" >exp(coef)</th>\n",
       "      <th id=\"T_555de_level0_col2\" class=\"col_heading level0 col2\" >se(coef)</th>\n",
       "      <th id=\"T_555de_level0_col3\" class=\"col_heading level0 col3\" >coef lower 95%</th>\n",
       "      <th id=\"T_555de_level0_col4\" class=\"col_heading level0 col4\" >coef upper 95%</th>\n",
       "      <th id=\"T_555de_level0_col5\" class=\"col_heading level0 col5\" >exp(coef) lower 95%</th>\n",
       "      <th id=\"T_555de_level0_col6\" class=\"col_heading level0 col6\" >exp(coef) upper 95%</th>\n",
       "      <th id=\"T_555de_level0_col7\" class=\"col_heading level0 col7\" >cmp to</th>\n",
       "      <th id=\"T_555de_level0_col8\" class=\"col_heading level0 col8\" >z</th>\n",
       "      <th id=\"T_555de_level0_col9\" class=\"col_heading level0 col9\" >p</th>\n",
       "      <th id=\"T_555de_level0_col10\" class=\"col_heading level0 col10\" >-log2(p)</th>\n",
       "    </tr>\n",
       "    <tr>\n",
       "      <th class=\"index_name level0\" >covariate</th>\n",
       "      <th class=\"blank col0\" >&nbsp;</th>\n",
       "      <th class=\"blank col1\" >&nbsp;</th>\n",
       "      <th class=\"blank col2\" >&nbsp;</th>\n",
       "      <th class=\"blank col3\" >&nbsp;</th>\n",
       "      <th class=\"blank col4\" >&nbsp;</th>\n",
       "      <th class=\"blank col5\" >&nbsp;</th>\n",
       "      <th class=\"blank col6\" >&nbsp;</th>\n",
       "      <th class=\"blank col7\" >&nbsp;</th>\n",
       "      <th class=\"blank col8\" >&nbsp;</th>\n",
       "      <th class=\"blank col9\" >&nbsp;</th>\n",
       "      <th class=\"blank col10\" >&nbsp;</th>\n",
       "    </tr>\n",
       "  </thead>\n",
       "  <tbody>\n",
       "    <tr>\n",
       "      <th id=\"T_555de_level0_row0\" class=\"row_heading level0 row0\" >age_i0</th>\n",
       "      <td id=\"T_555de_row0_col0\" class=\"data row0 col0\" >0.014867</td>\n",
       "      <td id=\"T_555de_row0_col1\" class=\"data row0 col1\" >1.014978</td>\n",
       "      <td id=\"T_555de_row0_col2\" class=\"data row0 col2\" >0.064538</td>\n",
       "      <td id=\"T_555de_row0_col3\" class=\"data row0 col3\" >-0.111626</td>\n",
       "      <td id=\"T_555de_row0_col4\" class=\"data row0 col4\" >0.141360</td>\n",
       "      <td id=\"T_555de_row0_col5\" class=\"data row0 col5\" >0.894378</td>\n",
       "      <td id=\"T_555de_row0_col6\" class=\"data row0 col6\" >1.151839</td>\n",
       "      <td id=\"T_555de_row0_col7\" class=\"data row0 col7\" >0.000000</td>\n",
       "      <td id=\"T_555de_row0_col8\" class=\"data row0 col8\" >0.230354</td>\n",
       "      <td id=\"T_555de_row0_col9\" class=\"data row0 col9\" >0.81782</td>\n",
       "      <td id=\"T_555de_row0_col10\" class=\"data row0 col10\" >0.290151</td>\n",
       "    </tr>\n",
       "    <tr>\n",
       "      <th id=\"T_555de_level0_row1\" class=\"row_heading level0 row1\" >male</th>\n",
       "      <td id=\"T_555de_row1_col0\" class=\"data row1 col0\" >0.283248</td>\n",
       "      <td id=\"T_555de_row1_col1\" class=\"data row1 col1\" >1.327435</td>\n",
       "      <td id=\"T_555de_row1_col2\" class=\"data row1 col2\" >0.450570</td>\n",
       "      <td id=\"T_555de_row1_col3\" class=\"data row1 col3\" >-0.599853</td>\n",
       "      <td id=\"T_555de_row1_col4\" class=\"data row1 col4\" >1.166349</td>\n",
       "      <td id=\"T_555de_row1_col5\" class=\"data row1 col5\" >0.548892</td>\n",
       "      <td id=\"T_555de_row1_col6\" class=\"data row1 col6\" >3.210251</td>\n",
       "      <td id=\"T_555de_row1_col7\" class=\"data row1 col7\" >0.000000</td>\n",
       "      <td id=\"T_555de_row1_col8\" class=\"data row1 col8\" >0.628644</td>\n",
       "      <td id=\"T_555de_row1_col9\" class=\"data row1 col9\" >0.52958</td>\n",
       "      <td id=\"T_555de_row1_col10\" class=\"data row1 col10\" >0.917074</td>\n",
       "    </tr>\n",
       "    <tr>\n",
       "      <th id=\"T_555de_level0_row2\" class=\"row_heading level0 row2\" >dep_yes</th>\n",
       "      <td id=\"T_555de_row2_col0\" class=\"data row2 col0\" >0.201476</td>\n",
       "      <td id=\"T_555de_row2_col1\" class=\"data row2 col1\" >1.223207</td>\n",
       "      <td id=\"T_555de_row2_col2\" class=\"data row2 col2\" >0.481680</td>\n",
       "      <td id=\"T_555de_row2_col3\" class=\"data row2 col3\" >-0.742600</td>\n",
       "      <td id=\"T_555de_row2_col4\" class=\"data row2 col4\" >1.145552</td>\n",
       "      <td id=\"T_555de_row2_col5\" class=\"data row2 col5\" >0.475875</td>\n",
       "      <td id=\"T_555de_row2_col6\" class=\"data row2 col6\" >3.144175</td>\n",
       "      <td id=\"T_555de_row2_col7\" class=\"data row2 col7\" >0.000000</td>\n",
       "      <td id=\"T_555de_row2_col8\" class=\"data row2 col8\" >0.418278</td>\n",
       "      <td id=\"T_555de_row2_col9\" class=\"data row2 col9\" >0.67574</td>\n",
       "      <td id=\"T_555de_row2_col10\" class=\"data row2 col10\" >0.565451</td>\n",
       "    </tr>\n",
       "  </tbody>\n",
       "</table>\n"
      ],
      "text/plain": [
       "<pandas.io.formats.style.Styler at 0x7f6917a313d0>"
      ]
     },
     "execution_count": 299,
     "metadata": {},
     "output_type": "execute_result"
    }
   ],
   "source": [
    "#FOR H34 age and sex COX MODEL\n",
    "asadjust_h34 = cevd_df_first.dropna(subset=['h34_t2e'])\n",
    "asadjust_h34 = asadjust_h34.loc[:, ['h34_event', 'h34_t2e', 'age_i0', 'male', 'dep_yes']]\n",
    "asadjust_h34 = asadjust_h34[['h34_event', 'h34_t2e', 'age_i0', 'male', 'dep_yes']]\n",
    "cph = CoxPHFitter(penalizer=0.0001)\n",
    "cph.fit(asadjust_h34, duration_col='h34_t2e', event_col='h34_event') \n",
    "summary_df = cph.summary \n",
    "summary_df.style.format({'p': '{:.5f}'})"
   ]
  },
  {
   "cell_type": "code",
   "execution_count": 300,
   "metadata": {
    "tags": []
   },
   "outputs": [
    {
     "data": {
      "text/html": [
       "<style type=\"text/css\">\n",
       "</style>\n",
       "<table id=\"T_eadda\">\n",
       "  <thead>\n",
       "    <tr>\n",
       "      <th class=\"blank level0\" >&nbsp;</th>\n",
       "      <th id=\"T_eadda_level0_col0\" class=\"col_heading level0 col0\" >coef</th>\n",
       "      <th id=\"T_eadda_level0_col1\" class=\"col_heading level0 col1\" >exp(coef)</th>\n",
       "      <th id=\"T_eadda_level0_col2\" class=\"col_heading level0 col2\" >se(coef)</th>\n",
       "      <th id=\"T_eadda_level0_col3\" class=\"col_heading level0 col3\" >coef lower 95%</th>\n",
       "      <th id=\"T_eadda_level0_col4\" class=\"col_heading level0 col4\" >coef upper 95%</th>\n",
       "      <th id=\"T_eadda_level0_col5\" class=\"col_heading level0 col5\" >exp(coef) lower 95%</th>\n",
       "      <th id=\"T_eadda_level0_col6\" class=\"col_heading level0 col6\" >exp(coef) upper 95%</th>\n",
       "      <th id=\"T_eadda_level0_col7\" class=\"col_heading level0 col7\" >cmp to</th>\n",
       "      <th id=\"T_eadda_level0_col8\" class=\"col_heading level0 col8\" >z</th>\n",
       "      <th id=\"T_eadda_level0_col9\" class=\"col_heading level0 col9\" >p</th>\n",
       "      <th id=\"T_eadda_level0_col10\" class=\"col_heading level0 col10\" >-log2(p)</th>\n",
       "    </tr>\n",
       "    <tr>\n",
       "      <th class=\"index_name level0\" >covariate</th>\n",
       "      <th class=\"blank col0\" >&nbsp;</th>\n",
       "      <th class=\"blank col1\" >&nbsp;</th>\n",
       "      <th class=\"blank col2\" >&nbsp;</th>\n",
       "      <th class=\"blank col3\" >&nbsp;</th>\n",
       "      <th class=\"blank col4\" >&nbsp;</th>\n",
       "      <th class=\"blank col5\" >&nbsp;</th>\n",
       "      <th class=\"blank col6\" >&nbsp;</th>\n",
       "      <th class=\"blank col7\" >&nbsp;</th>\n",
       "      <th class=\"blank col8\" >&nbsp;</th>\n",
       "      <th class=\"blank col9\" >&nbsp;</th>\n",
       "      <th class=\"blank col10\" >&nbsp;</th>\n",
       "    </tr>\n",
       "  </thead>\n",
       "  <tbody>\n",
       "    <tr>\n",
       "      <th id=\"T_eadda_level0_row0\" class=\"row_heading level0 row0\" >dep_yes</th>\n",
       "      <td id=\"T_eadda_row0_col0\" class=\"data row0 col0\" >0.225497</td>\n",
       "      <td id=\"T_eadda_row0_col1\" class=\"data row0 col1\" >1.252946</td>\n",
       "      <td id=\"T_eadda_row0_col2\" class=\"data row0 col2\" >0.477873</td>\n",
       "      <td id=\"T_eadda_row0_col3\" class=\"data row0 col3\" >-0.711117</td>\n",
       "      <td id=\"T_eadda_row0_col4\" class=\"data row0 col4\" >1.162112</td>\n",
       "      <td id=\"T_eadda_row0_col5\" class=\"data row0 col5\" >0.491095</td>\n",
       "      <td id=\"T_eadda_row0_col6\" class=\"data row0 col6\" >3.196677</td>\n",
       "      <td id=\"T_eadda_row0_col7\" class=\"data row0 col7\" >0.000000</td>\n",
       "      <td id=\"T_eadda_row0_col8\" class=\"data row0 col8\" >0.471877</td>\n",
       "      <td id=\"T_eadda_row0_col9\" class=\"data row0 col9\" >0.63701</td>\n",
       "      <td id=\"T_eadda_row0_col10\" class=\"data row0 col10\" >0.650601</td>\n",
       "    </tr>\n",
       "  </tbody>\n",
       "</table>\n"
      ],
      "text/plain": [
       "<pandas.io.formats.style.Styler at 0x7f69159ac430>"
      ]
     },
     "execution_count": 300,
     "metadata": {},
     "output_type": "execute_result"
    }
   ],
   "source": [
    "#FOR H34 unadjusted COX MODEL\n",
    "unadjust_h34 = cevd_df_first.dropna(subset=['h34_t2e'])\n",
    "unadjust_h34 = unadjust_h34.loc[:, ['h34_event', 'h34_t2e', 'dep_yes']]\n",
    "unadjust_h34 = unadjust_h34[['h34_event', 'h34_t2e', 'dep_yes']]\n",
    "cph = CoxPHFitter(penalizer=0.0001)\n",
    "cph.fit(unadjust_h34, duration_col='h34_t2e', event_col='h34_event') \n",
    "summary_df = cph.summary \n",
    "summary_df.style.format({'p': '{:.5f}'})"
   ]
  },
  {
   "cell_type": "code",
   "execution_count": 301,
   "metadata": {
    "tags": []
   },
   "outputs": [],
   "source": [
    "#i60"
   ]
  },
  {
   "cell_type": "code",
   "execution_count": 302,
   "metadata": {
    "tags": []
   },
   "outputs": [
    {
     "data": {
      "text/html": [
       "<style type=\"text/css\">\n",
       "</style>\n",
       "<table id=\"T_4d40d\">\n",
       "  <thead>\n",
       "    <tr>\n",
       "      <th class=\"blank level0\" >&nbsp;</th>\n",
       "      <th id=\"T_4d40d_level0_col0\" class=\"col_heading level0 col0\" >coef</th>\n",
       "      <th id=\"T_4d40d_level0_col1\" class=\"col_heading level0 col1\" >exp(coef)</th>\n",
       "      <th id=\"T_4d40d_level0_col2\" class=\"col_heading level0 col2\" >se(coef)</th>\n",
       "      <th id=\"T_4d40d_level0_col3\" class=\"col_heading level0 col3\" >coef lower 95%</th>\n",
       "      <th id=\"T_4d40d_level0_col4\" class=\"col_heading level0 col4\" >coef upper 95%</th>\n",
       "      <th id=\"T_4d40d_level0_col5\" class=\"col_heading level0 col5\" >exp(coef) lower 95%</th>\n",
       "      <th id=\"T_4d40d_level0_col6\" class=\"col_heading level0 col6\" >exp(coef) upper 95%</th>\n",
       "      <th id=\"T_4d40d_level0_col7\" class=\"col_heading level0 col7\" >cmp to</th>\n",
       "      <th id=\"T_4d40d_level0_col8\" class=\"col_heading level0 col8\" >z</th>\n",
       "      <th id=\"T_4d40d_level0_col9\" class=\"col_heading level0 col9\" >p</th>\n",
       "      <th id=\"T_4d40d_level0_col10\" class=\"col_heading level0 col10\" >-log2(p)</th>\n",
       "    </tr>\n",
       "    <tr>\n",
       "      <th class=\"index_name level0\" >covariate</th>\n",
       "      <th class=\"blank col0\" >&nbsp;</th>\n",
       "      <th class=\"blank col1\" >&nbsp;</th>\n",
       "      <th class=\"blank col2\" >&nbsp;</th>\n",
       "      <th class=\"blank col3\" >&nbsp;</th>\n",
       "      <th class=\"blank col4\" >&nbsp;</th>\n",
       "      <th class=\"blank col5\" >&nbsp;</th>\n",
       "      <th class=\"blank col6\" >&nbsp;</th>\n",
       "      <th class=\"blank col7\" >&nbsp;</th>\n",
       "      <th class=\"blank col8\" >&nbsp;</th>\n",
       "      <th class=\"blank col9\" >&nbsp;</th>\n",
       "      <th class=\"blank col10\" >&nbsp;</th>\n",
       "    </tr>\n",
       "  </thead>\n",
       "  <tbody>\n",
       "    <tr>\n",
       "      <th id=\"T_4d40d_level0_row0\" class=\"row_heading level0 row0\" >age_i0</th>\n",
       "      <td id=\"T_4d40d_row0_col0\" class=\"data row0 col0\" >-0.058764</td>\n",
       "      <td id=\"T_4d40d_row0_col1\" class=\"data row0 col1\" >0.942930</td>\n",
       "      <td id=\"T_4d40d_row0_col2\" class=\"data row0 col2\" >0.115421</td>\n",
       "      <td id=\"T_4d40d_row0_col3\" class=\"data row0 col3\" >-0.284986</td>\n",
       "      <td id=\"T_4d40d_row0_col4\" class=\"data row0 col4\" >0.167458</td>\n",
       "      <td id=\"T_4d40d_row0_col5\" class=\"data row0 col5\" >0.752025</td>\n",
       "      <td id=\"T_4d40d_row0_col6\" class=\"data row0 col6\" >1.182296</td>\n",
       "      <td id=\"T_4d40d_row0_col7\" class=\"data row0 col7\" >0.000000</td>\n",
       "      <td id=\"T_4d40d_row0_col8\" class=\"data row0 col8\" >-0.509123</td>\n",
       "      <td id=\"T_4d40d_row0_col9\" class=\"data row0 col9\" >0.61067</td>\n",
       "      <td id=\"T_4d40d_row0_col10\" class=\"data row0 col10\" >0.711545</td>\n",
       "    </tr>\n",
       "    <tr>\n",
       "      <th id=\"T_4d40d_level0_row1\" class=\"row_heading level0 row1\" >male</th>\n",
       "      <td id=\"T_4d40d_row1_col0\" class=\"data row1 col0\" >6.260125</td>\n",
       "      <td id=\"T_4d40d_row1_col1\" class=\"data row1 col1\" >523.284209</td>\n",
       "      <td id=\"T_4d40d_row1_col2\" class=\"data row1 col2\" >8.977789</td>\n",
       "      <td id=\"T_4d40d_row1_col3\" class=\"data row1 col3\" >-11.336019</td>\n",
       "      <td id=\"T_4d40d_row1_col4\" class=\"data row1 col4\" >23.856268</td>\n",
       "      <td id=\"T_4d40d_row1_col5\" class=\"data row1 col5\" >0.000012</td>\n",
       "      <td id=\"T_4d40d_row1_col6\" class=\"data row1 col6\" >22942755882.356979</td>\n",
       "      <td id=\"T_4d40d_row1_col7\" class=\"data row1 col7\" >0.000000</td>\n",
       "      <td id=\"T_4d40d_row1_col8\" class=\"data row1 col8\" >0.697290</td>\n",
       "      <td id=\"T_4d40d_row1_col9\" class=\"data row1 col9\" >0.48562</td>\n",
       "      <td id=\"T_4d40d_row1_col10\" class=\"data row1 col10\" >1.042097</td>\n",
       "    </tr>\n",
       "    <tr>\n",
       "      <th id=\"T_4d40d_level0_row2\" class=\"row_heading level0 row2\" >bmi</th>\n",
       "      <td id=\"T_4d40d_row2_col0\" class=\"data row2 col0\" >-0.726979</td>\n",
       "      <td id=\"T_4d40d_row2_col1\" class=\"data row2 col1\" >0.483367</td>\n",
       "      <td id=\"T_4d40d_row2_col2\" class=\"data row2 col2\" >0.806794</td>\n",
       "      <td id=\"T_4d40d_row2_col3\" class=\"data row2 col3\" >-2.308267</td>\n",
       "      <td id=\"T_4d40d_row2_col4\" class=\"data row2 col4\" >0.854309</td>\n",
       "      <td id=\"T_4d40d_row2_col5\" class=\"data row2 col5\" >0.099433</td>\n",
       "      <td id=\"T_4d40d_row2_col6\" class=\"data row2 col6\" >2.349749</td>\n",
       "      <td id=\"T_4d40d_row2_col7\" class=\"data row2 col7\" >0.000000</td>\n",
       "      <td id=\"T_4d40d_row2_col8\" class=\"data row2 col8\" >-0.901071</td>\n",
       "      <td id=\"T_4d40d_row2_col9\" class=\"data row2 col9\" >0.36755</td>\n",
       "      <td id=\"T_4d40d_row2_col10\" class=\"data row2 col10\" >1.443986</td>\n",
       "    </tr>\n",
       "    <tr>\n",
       "      <th id=\"T_4d40d_level0_row3\" class=\"row_heading level0 row3\" >pp</th>\n",
       "      <td id=\"T_4d40d_row3_col0\" class=\"data row3 col0\" >0.109826</td>\n",
       "      <td id=\"T_4d40d_row3_col1\" class=\"data row3 col1\" >1.116084</td>\n",
       "      <td id=\"T_4d40d_row3_col2\" class=\"data row3 col2\" >0.272944</td>\n",
       "      <td id=\"T_4d40d_row3_col3\" class=\"data row3 col3\" >-0.425135</td>\n",
       "      <td id=\"T_4d40d_row3_col4\" class=\"data row3 col4\" >0.644788</td>\n",
       "      <td id=\"T_4d40d_row3_col5\" class=\"data row3 col5\" >0.653682</td>\n",
       "      <td id=\"T_4d40d_row3_col6\" class=\"data row3 col6\" >1.905582</td>\n",
       "      <td id=\"T_4d40d_row3_col7\" class=\"data row3 col7\" >0.000000</td>\n",
       "      <td id=\"T_4d40d_row3_col8\" class=\"data row3 col8\" >0.402377</td>\n",
       "      <td id=\"T_4d40d_row3_col9\" class=\"data row3 col9\" >0.68741</td>\n",
       "      <td id=\"T_4d40d_row3_col10\" class=\"data row3 col10\" >0.540764</td>\n",
       "    </tr>\n",
       "    <tr>\n",
       "      <th id=\"T_4d40d_level0_row4\" class=\"row_heading level0 row4\" >dep_yes</th>\n",
       "      <td id=\"T_4d40d_row4_col0\" class=\"data row4 col0\" >0.118885</td>\n",
       "      <td id=\"T_4d40d_row4_col1\" class=\"data row4 col1\" >1.126241</td>\n",
       "      <td id=\"T_4d40d_row4_col2\" class=\"data row4 col2\" >4.162864</td>\n",
       "      <td id=\"T_4d40d_row4_col3\" class=\"data row4 col3\" >-8.040179</td>\n",
       "      <td id=\"T_4d40d_row4_col4\" class=\"data row4 col4\" >8.277950</td>\n",
       "      <td id=\"T_4d40d_row4_col5\" class=\"data row4 col5\" >0.000322</td>\n",
       "      <td id=\"T_4d40d_row4_col6\" class=\"data row4 col6\" >3936.116596</td>\n",
       "      <td id=\"T_4d40d_row4_col7\" class=\"data row4 col7\" >0.000000</td>\n",
       "      <td id=\"T_4d40d_row4_col8\" class=\"data row4 col8\" >0.028559</td>\n",
       "      <td id=\"T_4d40d_row4_col9\" class=\"data row4 col9\" >0.97722</td>\n",
       "      <td id=\"T_4d40d_row4_col10\" class=\"data row4 col10\" >0.033250</td>\n",
       "    </tr>\n",
       "  </tbody>\n",
       "</table>\n"
      ],
      "text/plain": [
       "<pandas.io.formats.style.Styler at 0x7f68eb81c5b0>"
      ]
     },
     "execution_count": 302,
     "metadata": {},
     "output_type": "execute_result"
    }
   ],
   "source": [
    "#cox model i60 - fully adjusted \n",
    "fulladjust_i60 = cevd_df_first.dropna(subset=['i60_t2e', 'pp'])\n",
    "fulladjust_i60 = fulladjust_i60.loc[:, ['i60_event', 'i60_t2e', 'age_i0', 'male', 'bmi', 'pp', 'dep_yes']]\n",
    "fulladjust_i60 = fulladjust_i60[['i60_event', 'i60_t2e', 'age_i0', 'male',  'bmi', 'pp',  'dep_yes']]\n",
    "#fulladjust_i60_date = pd.get_dummies(fulladjust_i60, columns=['ipaq', 'smok_stat', 'alc_freq_filter'])\n",
    "cph = CoxPHFitter(penalizer=0.0001)\n",
    "cph.fit(fulladjust_i60, duration_col='i60_t2e', event_col='i60_event') \n",
    "summary_df = cph.summary \n",
    "summary_df.style.format({'p': '{:.5f}'})"
   ]
  },
  {
   "cell_type": "code",
   "execution_count": 303,
   "metadata": {
    "tags": []
   },
   "outputs": [
    {
     "name": "stdout",
     "output_type": "stream",
     "text": [
      "Number of depressed i60 events, Number of control i60 events: (2, 4)\n"
     ]
    }
   ],
   "source": [
    "i60_dep_yes = count_cevd(fulladjust_i60)\n",
    "print('Number of depressed i60 events, Number of control i60 events:', i60_dep_yes)"
   ]
  },
  {
   "cell_type": "code",
   "execution_count": 306,
   "metadata": {
    "tags": []
   },
   "outputs": [
    {
     "name": "stdout",
     "output_type": "stream",
     "text": [
      "Schoenfeld residuals results for I60:\n"
     ]
    },
    {
     "ename": "ValueError",
     "evalue": "shapes (6,5) and (3,) not aligned: 5 (dim 1) != 3 (dim 0)",
     "output_type": "error",
     "traceback": [
      "\u001b[0;31m---------------------------------------------------------------------------\u001b[0m",
      "\u001b[0;31mValueError\u001b[0m                                Traceback (most recent call last)",
      "Cell \u001b[0;32mIn[306], line 2\u001b[0m\n\u001b[1;32m      1\u001b[0m \u001b[38;5;28mprint\u001b[39m(\u001b[38;5;124m'\u001b[39m\u001b[38;5;124mSchoenfeld residuals results for I60:\u001b[39m\u001b[38;5;124m'\u001b[39m)\n\u001b[0;32m----> 2\u001b[0m schoenfeld_results_i60 \u001b[38;5;241m=\u001b[39m \u001b[43mcph\u001b[49m\u001b[38;5;241;43m.\u001b[39;49m\u001b[43mcheck_assumptions\u001b[49m\u001b[43m(\u001b[49m\u001b[43mfulladjust_i60\u001b[49m\u001b[43m,\u001b[49m\u001b[43m \u001b[49m\u001b[43mp_value_threshold\u001b[49m\u001b[38;5;241;43m=\u001b[39;49m\u001b[38;5;241;43m0.05\u001b[39;49m\u001b[43m)\u001b[49m\n",
      "File \u001b[0;32m/opt/conda/lib/python3.9/site-packages/lifelines/fitters/mixins.py:98\u001b[0m, in \u001b[0;36mProportionalHazardMixin.check_assumptions\u001b[0;34m(self, training_df, advice, show_plots, p_value_threshold, plot_n_bootstraps, columns)\u001b[0m\n\u001b[1;32m     93\u001b[0m \u001b[38;5;28;01mif\u001b[39;00m \u001b[38;5;129;01mnot\u001b[39;00m training_df\u001b[38;5;241m.\u001b[39mindex\u001b[38;5;241m.\u001b[39mis_unique:\n\u001b[1;32m     94\u001b[0m     \u001b[38;5;28;01mraise\u001b[39;00m \u001b[38;5;167;01mIndexError\u001b[39;00m(\n\u001b[1;32m     95\u001b[0m         \u001b[38;5;124m\"\u001b[39m\u001b[38;5;124m`training_df` index should be unique for this exercise. Please make it unique or use `.reset_index(drop=True)` to force a unique index\u001b[39m\u001b[38;5;124m\"\u001b[39m\n\u001b[1;32m     96\u001b[0m     )\n\u001b[0;32m---> 98\u001b[0m residuals \u001b[38;5;241m=\u001b[39m \u001b[38;5;28;43mself\u001b[39;49m\u001b[38;5;241;43m.\u001b[39;49m\u001b[43mcompute_residuals\u001b[49m\u001b[43m(\u001b[49m\u001b[43mtraining_df\u001b[49m\u001b[43m,\u001b[49m\u001b[43m \u001b[49m\u001b[43mkind\u001b[49m\u001b[38;5;241;43m=\u001b[39;49m\u001b[38;5;124;43m\"\u001b[39;49m\u001b[38;5;124;43mscaled_schoenfeld\u001b[39;49m\u001b[38;5;124;43m\"\u001b[39;49m\u001b[43m)\u001b[49m\n\u001b[1;32m     99\u001b[0m test_results \u001b[38;5;241m=\u001b[39m proportional_hazard_test(\u001b[38;5;28mself\u001b[39m, training_df, time_transform\u001b[38;5;241m=\u001b[39m[\u001b[38;5;124m\"\u001b[39m\u001b[38;5;124mrank\u001b[39m\u001b[38;5;124m\"\u001b[39m, \u001b[38;5;124m\"\u001b[39m\u001b[38;5;124mkm\u001b[39m\u001b[38;5;124m\"\u001b[39m], precomputed_residuals\u001b[38;5;241m=\u001b[39mresiduals)\n\u001b[1;32m    101\u001b[0m residuals_and_duration \u001b[38;5;241m=\u001b[39m residuals\u001b[38;5;241m.\u001b[39mjoin(training_df[\u001b[38;5;28mself\u001b[39m\u001b[38;5;241m.\u001b[39mduration_col])\n",
      "File \u001b[0;32m/opt/conda/lib/python3.9/site-packages/lifelines/fitters/__init__.py:1323\u001b[0m, in \u001b[0;36mRegressionFitter.compute_residuals\u001b[0;34m(self, training_dataframe, kind)\u001b[0m\n\u001b[1;32m   1320\u001b[0m warnings\u001b[38;5;241m.\u001b[39mfilterwarnings(\u001b[38;5;124m\"\u001b[39m\u001b[38;5;124mignore\u001b[39m\u001b[38;5;124m\"\u001b[39m, category\u001b[38;5;241m=\u001b[39mexceptions\u001b[38;5;241m.\u001b[39mConvergenceWarning)\n\u001b[1;32m   1321\u001b[0m X, Ts, E, weights, _, shuffled_original_index, _ \u001b[38;5;241m=\u001b[39m \u001b[38;5;28mself\u001b[39m\u001b[38;5;241m.\u001b[39m_preprocess_dataframe(training_dataframe)\n\u001b[0;32m-> 1323\u001b[0m resids \u001b[38;5;241m=\u001b[39m \u001b[38;5;28;43mgetattr\u001b[39;49m\u001b[43m(\u001b[49m\u001b[38;5;28;43mself\u001b[39;49m\u001b[43m,\u001b[49m\u001b[43m \u001b[49m\u001b[38;5;124;43m\"\u001b[39;49m\u001b[38;5;124;43m_compute_\u001b[39;49m\u001b[38;5;132;43;01m%s\u001b[39;49;00m\u001b[38;5;124;43m\"\u001b[39;49m\u001b[43m \u001b[49m\u001b[38;5;241;43m%\u001b[39;49m\u001b[43m \u001b[49m\u001b[43mkind\u001b[49m\u001b[43m)\u001b[49m\u001b[43m(\u001b[49m\u001b[43mX\u001b[49m\u001b[43m,\u001b[49m\u001b[43m \u001b[49m\u001b[43mTs\u001b[49m\u001b[43m,\u001b[49m\u001b[43m \u001b[49m\u001b[43mE\u001b[49m\u001b[43m,\u001b[49m\u001b[43m \u001b[49m\u001b[43mweights\u001b[49m\u001b[43m,\u001b[49m\u001b[43m \u001b[49m\u001b[43mindex\u001b[49m\u001b[38;5;241;43m=\u001b[39;49m\u001b[43mshuffled_original_index\u001b[49m\u001b[43m)\u001b[49m\n\u001b[1;32m   1324\u001b[0m \u001b[38;5;28;01mreturn\u001b[39;00m resids\n",
      "File \u001b[0;32m/opt/conda/lib/python3.9/site-packages/lifelines/fitters/coxph_fitter.py:1932\u001b[0m, in \u001b[0;36mSemiParametricPHFitter._compute_scaled_schoenfeld\u001b[0;34m(self, X, T, E, weights, index)\u001b[0m\n\u001b[1;32m   1912\u001b[0m \u001b[38;5;250m\u001b[39m\u001b[38;5;124mr\u001b[39m\u001b[38;5;124;03m\"\"\"\u001b[39;00m\n\u001b[1;32m   1913\u001b[0m \u001b[38;5;124;03mLet s_k be the kth schoenfeld residuals. Then E[s_k] = 0.\u001b[39;00m\n\u001b[1;32m   1914\u001b[0m \u001b[38;5;124;03mFor tests of proportionality, we want to test if \\beta_i(t) is \\beta_i (constant) or not.\u001b[39;00m\n\u001b[0;32m   (...)\u001b[0m\n\u001b[1;32m   1928\u001b[0m \n\u001b[1;32m   1929\u001b[0m \u001b[38;5;124;03m\"\"\"\u001b[39;00m\n\u001b[1;32m   1931\u001b[0m n_deaths \u001b[38;5;241m=\u001b[39m \u001b[38;5;28mself\u001b[39m\u001b[38;5;241m.\u001b[39mevent_observed\u001b[38;5;241m.\u001b[39msum()\n\u001b[0;32m-> 1932\u001b[0m scaled_schoenfeld_resids \u001b[38;5;241m=\u001b[39m n_deaths \u001b[38;5;241m*\u001b[39m \u001b[38;5;28;43mself\u001b[39;49m\u001b[38;5;241;43m.\u001b[39;49m\u001b[43m_compute_schoenfeld\u001b[49m\u001b[43m(\u001b[49m\u001b[43mX\u001b[49m\u001b[43m,\u001b[49m\u001b[43m \u001b[49m\u001b[43mT\u001b[49m\u001b[43m,\u001b[49m\u001b[43m \u001b[49m\u001b[43mE\u001b[49m\u001b[43m,\u001b[49m\u001b[43m \u001b[49m\u001b[43mweights\u001b[49m\u001b[43m,\u001b[49m\u001b[43m \u001b[49m\u001b[43mindex\u001b[49m\u001b[43m)\u001b[49m\u001b[38;5;241m.\u001b[39mdot(\u001b[38;5;28mself\u001b[39m\u001b[38;5;241m.\u001b[39mvariance_matrix_)\n\u001b[1;32m   1934\u001b[0m scaled_schoenfeld_resids\u001b[38;5;241m.\u001b[39mcolumns \u001b[38;5;241m=\u001b[39m \u001b[38;5;28mself\u001b[39m\u001b[38;5;241m.\u001b[39mparams_\u001b[38;5;241m.\u001b[39mindex\n\u001b[1;32m   1935\u001b[0m \u001b[38;5;28;01mreturn\u001b[39;00m scaled_schoenfeld_resids\n",
      "File \u001b[0;32m/opt/conda/lib/python3.9/site-packages/lifelines/fitters/coxph_fitter.py:1956\u001b[0m, in \u001b[0;36mSemiParametricPHFitter._compute_schoenfeld\u001b[0;34m(self, X, T, E, weights, index)\u001b[0m\n\u001b[1;32m   1953\u001b[0m         schoenfeld_residuals \u001b[38;5;241m=\u001b[39m np\u001b[38;5;241m.\u001b[39mappend(schoenfeld_residuals, schoenfeld_residuals_in_strata, axis\u001b[38;5;241m=\u001b[39m\u001b[38;5;241m0\u001b[39m)\n\u001b[1;32m   1955\u001b[0m \u001b[38;5;28;01melse\u001b[39;00m:\n\u001b[0;32m-> 1956\u001b[0m     schoenfeld_residuals \u001b[38;5;241m=\u001b[39m \u001b[38;5;28;43mself\u001b[39;49m\u001b[38;5;241;43m.\u001b[39;49m\u001b[43m_compute_schoenfeld_within_strata\u001b[49m\u001b[43m(\u001b[49m\u001b[43mX\u001b[49m\u001b[43m,\u001b[49m\u001b[43m \u001b[49m\u001b[43mT\u001b[49m\u001b[43m,\u001b[49m\u001b[43m \u001b[49m\u001b[43mE\u001b[49m\u001b[43m,\u001b[49m\u001b[43m \u001b[49m\u001b[43mweights\u001b[49m\u001b[43m,\u001b[49m\u001b[43m \u001b[49m\u001b[38;5;28;43;01mNone\u001b[39;49;00m\u001b[43m)\u001b[49m\n\u001b[1;32m   1958\u001b[0m \u001b[38;5;66;03m# schoenfeld residuals are only defined for subjects with a non-zero event.\u001b[39;00m\n\u001b[1;32m   1959\u001b[0m df \u001b[38;5;241m=\u001b[39m pd\u001b[38;5;241m.\u001b[39mDataFrame(schoenfeld_residuals[E, :], columns\u001b[38;5;241m=\u001b[39m\u001b[38;5;28mself\u001b[39m\u001b[38;5;241m.\u001b[39mparams_\u001b[38;5;241m.\u001b[39mindex, index\u001b[38;5;241m=\u001b[39mindex[E])\n",
      "File \u001b[0;32m/opt/conda/lib/python3.9/site-packages/lifelines/fitters/coxph_fitter.py:1990\u001b[0m, in \u001b[0;36mSemiParametricPHFitter._compute_schoenfeld_within_strata\u001b[0;34m(self, X, T, E, weights, entries)\u001b[0m\n\u001b[1;32m   1987\u001b[0m weight_count \u001b[38;5;241m=\u001b[39m \u001b[38;5;241m0.0\u001b[39m\n\u001b[1;32m   1988\u001b[0m tie_count \u001b[38;5;241m=\u001b[39m \u001b[38;5;241m0\u001b[39m\n\u001b[0;32m-> 1990\u001b[0m scores \u001b[38;5;241m=\u001b[39m weights \u001b[38;5;241m*\u001b[39m exp(\u001b[43mdot\u001b[49m\u001b[43m(\u001b[49m\u001b[43mX\u001b[49m\u001b[43m,\u001b[49m\u001b[43m \u001b[49m\u001b[38;5;28;43mself\u001b[39;49m\u001b[38;5;241;43m.\u001b[39;49m\u001b[43mparams_\u001b[49m\u001b[43m)\u001b[49m)\n\u001b[1;32m   1992\u001b[0m diff_against \u001b[38;5;241m=\u001b[39m []\n\u001b[1;32m   1994\u001b[0m schoenfeld_residuals \u001b[38;5;241m=\u001b[39m np\u001b[38;5;241m.\u001b[39mempty((\u001b[38;5;241m0\u001b[39m, d))\n",
      "File \u001b[0;32m<__array_function__ internals>:180\u001b[0m, in \u001b[0;36mdot\u001b[0;34m(*args, **kwargs)\u001b[0m\n",
      "\u001b[0;31mValueError\u001b[0m: shapes (6,5) and (3,) not aligned: 5 (dim 1) != 3 (dim 0)"
     ]
    }
   ],
   "source": [
    "print('Schoenfeld residuals results for I60:')\n",
    "schoenfeld_results_i60 = cph.check_assumptions(fulladjust_i60, p_value_threshold=0.05)"
   ]
  },
  {
   "cell_type": "code",
   "execution_count": 307,
   "metadata": {
    "tags": []
   },
   "outputs": [
    {
     "data": {
      "text/html": [
       "<style type=\"text/css\">\n",
       "</style>\n",
       "<table id=\"T_5efe4\">\n",
       "  <thead>\n",
       "    <tr>\n",
       "      <th class=\"blank level0\" >&nbsp;</th>\n",
       "      <th id=\"T_5efe4_level0_col0\" class=\"col_heading level0 col0\" >coef</th>\n",
       "      <th id=\"T_5efe4_level0_col1\" class=\"col_heading level0 col1\" >exp(coef)</th>\n",
       "      <th id=\"T_5efe4_level0_col2\" class=\"col_heading level0 col2\" >se(coef)</th>\n",
       "      <th id=\"T_5efe4_level0_col3\" class=\"col_heading level0 col3\" >coef lower 95%</th>\n",
       "      <th id=\"T_5efe4_level0_col4\" class=\"col_heading level0 col4\" >coef upper 95%</th>\n",
       "      <th id=\"T_5efe4_level0_col5\" class=\"col_heading level0 col5\" >exp(coef) lower 95%</th>\n",
       "      <th id=\"T_5efe4_level0_col6\" class=\"col_heading level0 col6\" >exp(coef) upper 95%</th>\n",
       "      <th id=\"T_5efe4_level0_col7\" class=\"col_heading level0 col7\" >cmp to</th>\n",
       "      <th id=\"T_5efe4_level0_col8\" class=\"col_heading level0 col8\" >z</th>\n",
       "      <th id=\"T_5efe4_level0_col9\" class=\"col_heading level0 col9\" >p</th>\n",
       "      <th id=\"T_5efe4_level0_col10\" class=\"col_heading level0 col10\" >-log2(p)</th>\n",
       "    </tr>\n",
       "    <tr>\n",
       "      <th class=\"index_name level0\" >covariate</th>\n",
       "      <th class=\"blank col0\" >&nbsp;</th>\n",
       "      <th class=\"blank col1\" >&nbsp;</th>\n",
       "      <th class=\"blank col2\" >&nbsp;</th>\n",
       "      <th class=\"blank col3\" >&nbsp;</th>\n",
       "      <th class=\"blank col4\" >&nbsp;</th>\n",
       "      <th class=\"blank col5\" >&nbsp;</th>\n",
       "      <th class=\"blank col6\" >&nbsp;</th>\n",
       "      <th class=\"blank col7\" >&nbsp;</th>\n",
       "      <th class=\"blank col8\" >&nbsp;</th>\n",
       "      <th class=\"blank col9\" >&nbsp;</th>\n",
       "      <th class=\"blank col10\" >&nbsp;</th>\n",
       "    </tr>\n",
       "  </thead>\n",
       "  <tbody>\n",
       "    <tr>\n",
       "      <th id=\"T_5efe4_level0_row0\" class=\"row_heading level0 row0\" >age_i0</th>\n",
       "      <td id=\"T_5efe4_row0_col0\" class=\"data row0 col0\" >-0.078846</td>\n",
       "      <td id=\"T_5efe4_row0_col1\" class=\"data row0 col1\" >0.924182</td>\n",
       "      <td id=\"T_5efe4_row0_col2\" class=\"data row0 col2\" >0.090398</td>\n",
       "      <td id=\"T_5efe4_row0_col3\" class=\"data row0 col3\" >-0.256023</td>\n",
       "      <td id=\"T_5efe4_row0_col4\" class=\"data row0 col4\" >0.098330</td>\n",
       "      <td id=\"T_5efe4_row0_col5\" class=\"data row0 col5\" >0.774125</td>\n",
       "      <td id=\"T_5efe4_row0_col6\" class=\"data row0 col6\" >1.103327</td>\n",
       "      <td id=\"T_5efe4_row0_col7\" class=\"data row0 col7\" >0.000000</td>\n",
       "      <td id=\"T_5efe4_row0_col8\" class=\"data row0 col8\" >-0.872213</td>\n",
       "      <td id=\"T_5efe4_row0_col9\" class=\"data row0 col9\" >0.38309</td>\n",
       "      <td id=\"T_5efe4_row0_col10\" class=\"data row0 col10\" >1.384236</td>\n",
       "    </tr>\n",
       "    <tr>\n",
       "      <th id=\"T_5efe4_level0_row1\" class=\"row_heading level0 row1\" >male</th>\n",
       "      <td id=\"T_5efe4_row1_col0\" class=\"data row1 col0\" >0.765818</td>\n",
       "      <td id=\"T_5efe4_row1_col1\" class=\"data row1 col1\" >2.150752</td>\n",
       "      <td id=\"T_5efe4_row1_col2\" class=\"data row1 col2\" >1.312874</td>\n",
       "      <td id=\"T_5efe4_row1_col3\" class=\"data row1 col3\" >-1.807367</td>\n",
       "      <td id=\"T_5efe4_row1_col4\" class=\"data row1 col4\" >3.339003</td>\n",
       "      <td id=\"T_5efe4_row1_col5\" class=\"data row1 col5\" >0.164086</td>\n",
       "      <td id=\"T_5efe4_row1_col6\" class=\"data row1 col6\" >28.191004</td>\n",
       "      <td id=\"T_5efe4_row1_col7\" class=\"data row1 col7\" >0.000000</td>\n",
       "      <td id=\"T_5efe4_row1_col8\" class=\"data row1 col8\" >0.583314</td>\n",
       "      <td id=\"T_5efe4_row1_col9\" class=\"data row1 col9\" >0.55968</td>\n",
       "      <td id=\"T_5efe4_row1_col10\" class=\"data row1 col10\" >0.837321</td>\n",
       "    </tr>\n",
       "    <tr>\n",
       "      <th id=\"T_5efe4_level0_row2\" class=\"row_heading level0 row2\" >dep_yes</th>\n",
       "      <td id=\"T_5efe4_row2_col0\" class=\"data row2 col0\" >0.274992</td>\n",
       "      <td id=\"T_5efe4_row2_col1\" class=\"data row2 col1\" >1.316520</td>\n",
       "      <td id=\"T_5efe4_row2_col2\" class=\"data row2 col2\" >1.067007</td>\n",
       "      <td id=\"T_5efe4_row2_col3\" class=\"data row2 col3\" >-1.816303</td>\n",
       "      <td id=\"T_5efe4_row2_col4\" class=\"data row2 col4\" >2.366287</td>\n",
       "      <td id=\"T_5efe4_row2_col5\" class=\"data row2 col5\" >0.162626</td>\n",
       "      <td id=\"T_5efe4_row2_col6\" class=\"data row2 col6\" >10.657742</td>\n",
       "      <td id=\"T_5efe4_row2_col7\" class=\"data row2 col7\" >0.000000</td>\n",
       "      <td id=\"T_5efe4_row2_col8\" class=\"data row2 col8\" >0.257722</td>\n",
       "      <td id=\"T_5efe4_row2_col9\" class=\"data row2 col9\" >0.79662</td>\n",
       "      <td id=\"T_5efe4_row2_col10\" class=\"data row2 col10\" >0.328034</td>\n",
       "    </tr>\n",
       "  </tbody>\n",
       "</table>\n"
      ],
      "text/plain": [
       "<pandas.io.formats.style.Styler at 0x7f6911f3e220>"
      ]
     },
     "execution_count": 307,
     "metadata": {},
     "output_type": "execute_result"
    }
   ],
   "source": [
    "#FOR I60 age and sex COX MODEL\n",
    "asadjust_i60 = cevd_df_first.dropna(subset=['i60_t2e'])\n",
    "asadjust_i60 = asadjust_i60.loc[:, ['i60_event', 'i60_t2e', 'age_i0', 'male', 'dep_yes']]\n",
    "asadjust_i60 = asadjust_i60[['i60_event', 'i60_t2e', 'age_i0', 'male', 'dep_yes']]\n",
    "cph = CoxPHFitter(penalizer=0.0001)\n",
    "cph.fit(asadjust_i60, duration_col='i60_t2e', event_col='i60_event') \n",
    "summary_df = cph.summary \n",
    "summary_df.style.format({'p': '{:.5f}'})"
   ]
  },
  {
   "cell_type": "code",
   "execution_count": 308,
   "metadata": {
    "tags": []
   },
   "outputs": [
    {
     "data": {
      "text/html": [
       "<style type=\"text/css\">\n",
       "</style>\n",
       "<table id=\"T_648e7\">\n",
       "  <thead>\n",
       "    <tr>\n",
       "      <th class=\"blank level0\" >&nbsp;</th>\n",
       "      <th id=\"T_648e7_level0_col0\" class=\"col_heading level0 col0\" >coef</th>\n",
       "      <th id=\"T_648e7_level0_col1\" class=\"col_heading level0 col1\" >exp(coef)</th>\n",
       "      <th id=\"T_648e7_level0_col2\" class=\"col_heading level0 col2\" >se(coef)</th>\n",
       "      <th id=\"T_648e7_level0_col3\" class=\"col_heading level0 col3\" >coef lower 95%</th>\n",
       "      <th id=\"T_648e7_level0_col4\" class=\"col_heading level0 col4\" >coef upper 95%</th>\n",
       "      <th id=\"T_648e7_level0_col5\" class=\"col_heading level0 col5\" >exp(coef) lower 95%</th>\n",
       "      <th id=\"T_648e7_level0_col6\" class=\"col_heading level0 col6\" >exp(coef) upper 95%</th>\n",
       "      <th id=\"T_648e7_level0_col7\" class=\"col_heading level0 col7\" >cmp to</th>\n",
       "      <th id=\"T_648e7_level0_col8\" class=\"col_heading level0 col8\" >z</th>\n",
       "      <th id=\"T_648e7_level0_col9\" class=\"col_heading level0 col9\" >p</th>\n",
       "      <th id=\"T_648e7_level0_col10\" class=\"col_heading level0 col10\" >-log2(p)</th>\n",
       "    </tr>\n",
       "    <tr>\n",
       "      <th class=\"index_name level0\" >covariate</th>\n",
       "      <th class=\"blank col0\" >&nbsp;</th>\n",
       "      <th class=\"blank col1\" >&nbsp;</th>\n",
       "      <th class=\"blank col2\" >&nbsp;</th>\n",
       "      <th class=\"blank col3\" >&nbsp;</th>\n",
       "      <th class=\"blank col4\" >&nbsp;</th>\n",
       "      <th class=\"blank col5\" >&nbsp;</th>\n",
       "      <th class=\"blank col6\" >&nbsp;</th>\n",
       "      <th class=\"blank col7\" >&nbsp;</th>\n",
       "      <th class=\"blank col8\" >&nbsp;</th>\n",
       "      <th class=\"blank col9\" >&nbsp;</th>\n",
       "      <th class=\"blank col10\" >&nbsp;</th>\n",
       "    </tr>\n",
       "  </thead>\n",
       "  <tbody>\n",
       "    <tr>\n",
       "      <th id=\"T_648e7_level0_row0\" class=\"row_heading level0 row0\" >dep_yes</th>\n",
       "      <td id=\"T_648e7_row0_col0\" class=\"data row0 col0\" >0.350178</td>\n",
       "      <td id=\"T_648e7_row0_col1\" class=\"data row0 col1\" >1.419321</td>\n",
       "      <td id=\"T_648e7_row0_col2\" class=\"data row0 col2\" >0.936768</td>\n",
       "      <td id=\"T_648e7_row0_col3\" class=\"data row0 col3\" >-1.485854</td>\n",
       "      <td id=\"T_648e7_row0_col4\" class=\"data row0 col4\" >2.186211</td>\n",
       "      <td id=\"T_648e7_row0_col5\" class=\"data row0 col5\" >0.226309</td>\n",
       "      <td id=\"T_648e7_row0_col6\" class=\"data row0 col6\" >8.901419</td>\n",
       "      <td id=\"T_648e7_row0_col7\" class=\"data row0 col7\" >0.000000</td>\n",
       "      <td id=\"T_648e7_row0_col8\" class=\"data row0 col8\" >0.373815</td>\n",
       "      <td id=\"T_648e7_row0_col9\" class=\"data row0 col9\" >0.70854</td>\n",
       "      <td id=\"T_648e7_row0_col10\" class=\"data row0 col10\" >0.497075</td>\n",
       "    </tr>\n",
       "  </tbody>\n",
       "</table>\n"
      ],
      "text/plain": [
       "<pandas.io.formats.style.Styler at 0x7f6913501f10>"
      ]
     },
     "execution_count": 308,
     "metadata": {},
     "output_type": "execute_result"
    }
   ],
   "source": [
    "#FOR I60 unadjusted COX MODEL\n",
    "unadjust_i60 = cevd_df_first.dropna(subset=['i60_t2e'])\n",
    "unadjust_i60 = unadjust_i60.loc[:, ['i60_event', 'i60_t2e', 'dep_yes']]\n",
    "unadjust_i60 = unadjust_i60[['i60_event', 'i60_t2e', 'dep_yes']]\n",
    "cph = CoxPHFitter(penalizer=0.0001)\n",
    "cph.fit(unadjust_i60, duration_col='i60_t2e', event_col='i60_event') \n",
    "summary_df = cph.summary \n",
    "summary_df.style.format({'p': '{:.5f}'})"
   ]
  },
  {
   "cell_type": "code",
   "execution_count": 309,
   "metadata": {
    "tags": []
   },
   "outputs": [],
   "source": [
    "#i61"
   ]
  },
  {
   "cell_type": "code",
   "execution_count": 310,
   "metadata": {
    "tags": []
   },
   "outputs": [
    {
     "data": {
      "text/html": [
       "<style type=\"text/css\">\n",
       "</style>\n",
       "<table id=\"T_ea707\">\n",
       "  <thead>\n",
       "    <tr>\n",
       "      <th class=\"blank level0\" >&nbsp;</th>\n",
       "      <th id=\"T_ea707_level0_col0\" class=\"col_heading level0 col0\" >coef</th>\n",
       "      <th id=\"T_ea707_level0_col1\" class=\"col_heading level0 col1\" >exp(coef)</th>\n",
       "      <th id=\"T_ea707_level0_col2\" class=\"col_heading level0 col2\" >se(coef)</th>\n",
       "      <th id=\"T_ea707_level0_col3\" class=\"col_heading level0 col3\" >coef lower 95%</th>\n",
       "      <th id=\"T_ea707_level0_col4\" class=\"col_heading level0 col4\" >coef upper 95%</th>\n",
       "      <th id=\"T_ea707_level0_col5\" class=\"col_heading level0 col5\" >exp(coef) lower 95%</th>\n",
       "      <th id=\"T_ea707_level0_col6\" class=\"col_heading level0 col6\" >exp(coef) upper 95%</th>\n",
       "      <th id=\"T_ea707_level0_col7\" class=\"col_heading level0 col7\" >cmp to</th>\n",
       "      <th id=\"T_ea707_level0_col8\" class=\"col_heading level0 col8\" >z</th>\n",
       "      <th id=\"T_ea707_level0_col9\" class=\"col_heading level0 col9\" >p</th>\n",
       "      <th id=\"T_ea707_level0_col10\" class=\"col_heading level0 col10\" >-log2(p)</th>\n",
       "    </tr>\n",
       "    <tr>\n",
       "      <th class=\"index_name level0\" >covariate</th>\n",
       "      <th class=\"blank col0\" >&nbsp;</th>\n",
       "      <th class=\"blank col1\" >&nbsp;</th>\n",
       "      <th class=\"blank col2\" >&nbsp;</th>\n",
       "      <th class=\"blank col3\" >&nbsp;</th>\n",
       "      <th class=\"blank col4\" >&nbsp;</th>\n",
       "      <th class=\"blank col5\" >&nbsp;</th>\n",
       "      <th class=\"blank col6\" >&nbsp;</th>\n",
       "      <th class=\"blank col7\" >&nbsp;</th>\n",
       "      <th class=\"blank col8\" >&nbsp;</th>\n",
       "      <th class=\"blank col9\" >&nbsp;</th>\n",
       "      <th class=\"blank col10\" >&nbsp;</th>\n",
       "    </tr>\n",
       "  </thead>\n",
       "  <tbody>\n",
       "    <tr>\n",
       "      <th id=\"T_ea707_level0_row0\" class=\"row_heading level0 row0\" >age_i0</th>\n",
       "      <td id=\"T_ea707_row0_col0\" class=\"data row0 col0\" >-0.017723</td>\n",
       "      <td id=\"T_ea707_row0_col1\" class=\"data row0 col1\" >0.982433</td>\n",
       "      <td id=\"T_ea707_row0_col2\" class=\"data row0 col2\" >0.060756</td>\n",
       "      <td id=\"T_ea707_row0_col3\" class=\"data row0 col3\" >-0.136802</td>\n",
       "      <td id=\"T_ea707_row0_col4\" class=\"data row0 col4\" >0.101356</td>\n",
       "      <td id=\"T_ea707_row0_col5\" class=\"data row0 col5\" >0.872143</td>\n",
       "      <td id=\"T_ea707_row0_col6\" class=\"data row0 col6\" >1.106671</td>\n",
       "      <td id=\"T_ea707_row0_col7\" class=\"data row0 col7\" >0.000000</td>\n",
       "      <td id=\"T_ea707_row0_col8\" class=\"data row0 col8\" >-0.291704</td>\n",
       "      <td id=\"T_ea707_row0_col9\" class=\"data row0 col9\" >0.77051</td>\n",
       "      <td id=\"T_ea707_row0_col10\" class=\"data row0 col10\" >0.376108</td>\n",
       "    </tr>\n",
       "    <tr>\n",
       "      <th id=\"T_ea707_level0_row1\" class=\"row_heading level0 row1\" >male</th>\n",
       "      <td id=\"T_ea707_row1_col0\" class=\"data row1 col0\" >0.264056</td>\n",
       "      <td id=\"T_ea707_row1_col1\" class=\"data row1 col1\" >1.302201</td>\n",
       "      <td id=\"T_ea707_row1_col2\" class=\"data row1 col2\" >0.413672</td>\n",
       "      <td id=\"T_ea707_row1_col3\" class=\"data row1 col3\" >-0.546727</td>\n",
       "      <td id=\"T_ea707_row1_col4\" class=\"data row1 col4\" >1.074839</td>\n",
       "      <td id=\"T_ea707_row1_col5\" class=\"data row1 col5\" >0.578841</td>\n",
       "      <td id=\"T_ea707_row1_col6\" class=\"data row1 col6\" >2.929520</td>\n",
       "      <td id=\"T_ea707_row1_col7\" class=\"data row1 col7\" >0.000000</td>\n",
       "      <td id=\"T_ea707_row1_col8\" class=\"data row1 col8\" >0.638322</td>\n",
       "      <td id=\"T_ea707_row1_col9\" class=\"data row1 col9\" >0.52326</td>\n",
       "      <td id=\"T_ea707_row1_col10\" class=\"data row1 col10\" >0.934388</td>\n",
       "    </tr>\n",
       "    <tr>\n",
       "      <th id=\"T_ea707_level0_row2\" class=\"row_heading level0 row2\" >bmi</th>\n",
       "      <td id=\"T_ea707_row2_col0\" class=\"data row2 col0\" >-0.056032</td>\n",
       "      <td id=\"T_ea707_row2_col1\" class=\"data row2 col1\" >0.945509</td>\n",
       "      <td id=\"T_ea707_row2_col2\" class=\"data row2 col2\" >0.043584</td>\n",
       "      <td id=\"T_ea707_row2_col3\" class=\"data row2 col3\" >-0.141455</td>\n",
       "      <td id=\"T_ea707_row2_col4\" class=\"data row2 col4\" >0.029391</td>\n",
       "      <td id=\"T_ea707_row2_col5\" class=\"data row2 col5\" >0.868095</td>\n",
       "      <td id=\"T_ea707_row2_col6\" class=\"data row2 col6\" >1.029828</td>\n",
       "      <td id=\"T_ea707_row2_col7\" class=\"data row2 col7\" >0.000000</td>\n",
       "      <td id=\"T_ea707_row2_col8\" class=\"data row2 col8\" >-1.285602</td>\n",
       "      <td id=\"T_ea707_row2_col9\" class=\"data row2 col9\" >0.19858</td>\n",
       "      <td id=\"T_ea707_row2_col10\" class=\"data row2 col10\" >2.332193</td>\n",
       "    </tr>\n",
       "    <tr>\n",
       "      <th id=\"T_ea707_level0_row3\" class=\"row_heading level0 row3\" >pp</th>\n",
       "      <td id=\"T_ea707_row3_col0\" class=\"data row3 col0\" >0.013774</td>\n",
       "      <td id=\"T_ea707_row3_col1\" class=\"data row3 col1\" >1.013869</td>\n",
       "      <td id=\"T_ea707_row3_col2\" class=\"data row3 col2\" >0.016532</td>\n",
       "      <td id=\"T_ea707_row3_col3\" class=\"data row3 col3\" >-0.018627</td>\n",
       "      <td id=\"T_ea707_row3_col4\" class=\"data row3 col4\" >0.046175</td>\n",
       "      <td id=\"T_ea707_row3_col5\" class=\"data row3 col5\" >0.981545</td>\n",
       "      <td id=\"T_ea707_row3_col6\" class=\"data row3 col6\" >1.047258</td>\n",
       "      <td id=\"T_ea707_row3_col7\" class=\"data row3 col7\" >0.000000</td>\n",
       "      <td id=\"T_ea707_row3_col8\" class=\"data row3 col8\" >0.833188</td>\n",
       "      <td id=\"T_ea707_row3_col9\" class=\"data row3 col9\" >0.40474</td>\n",
       "      <td id=\"T_ea707_row3_col10\" class=\"data row3 col10\" >1.304937</td>\n",
       "    </tr>\n",
       "    <tr>\n",
       "      <th id=\"T_ea707_level0_row4\" class=\"row_heading level0 row4\" >dep_yes</th>\n",
       "      <td id=\"T_ea707_row4_col0\" class=\"data row4 col0\" >1.011273</td>\n",
       "      <td id=\"T_ea707_row4_col1\" class=\"data row4 col1\" >2.749099</td>\n",
       "      <td id=\"T_ea707_row4_col2\" class=\"data row4 col2\" >0.495751</td>\n",
       "      <td id=\"T_ea707_row4_col3\" class=\"data row4 col3\" >0.039619</td>\n",
       "      <td id=\"T_ea707_row4_col4\" class=\"data row4 col4\" >1.982927</td>\n",
       "      <td id=\"T_ea707_row4_col5\" class=\"data row4 col5\" >1.040415</td>\n",
       "      <td id=\"T_ea707_row4_col6\" class=\"data row4 col6\" >7.263973</td>\n",
       "      <td id=\"T_ea707_row4_col7\" class=\"data row4 col7\" >0.000000</td>\n",
       "      <td id=\"T_ea707_row4_col8\" class=\"data row4 col8\" >2.039882</td>\n",
       "      <td id=\"T_ea707_row4_col9\" class=\"data row4 col9\" >0.04136</td>\n",
       "      <td id=\"T_ea707_row4_col10\" class=\"data row4 col10\" >4.595547</td>\n",
       "    </tr>\n",
       "  </tbody>\n",
       "</table>\n"
      ],
      "text/plain": [
       "<pandas.io.formats.style.Styler at 0x7f691350c9a0>"
      ]
     },
     "execution_count": 310,
     "metadata": {},
     "output_type": "execute_result"
    }
   ],
   "source": [
    "#cox model i61 - fully adjusted\n",
    "fulladjust_i61 = cevd_df_first.dropna(subset=['i61_t2e', 'pp'])\n",
    "fulladjust_i61 = fulladjust_i61.loc[:, ['i61_event', 'i61_t2e', 'age_i0', 'male',  'bmi', 'pp', 'dep_yes']]\n",
    "fulladjust_i61 = fulladjust_i61[['i61_event', 'i61_t2e', 'age_i0', 'male','bmi', 'pp', 'dep_yes']]\n",
    "#fulladjust_i61_date = pd.get_dummies(fulladjust_i61, columns=['ipaq', 'smok_stat', 'alc_freq_filter'])\n",
    "cph = CoxPHFitter(penalizer=0.0001)\n",
    "cph.fit(fulladjust_i61, duration_col='i61_t2e', event_col='i61_event') \n",
    "summary_df = cph.summary \n",
    "summary_df.style.format({'p': '{:.5f}'})"
   ]
  },
  {
   "cell_type": "code",
   "execution_count": 311,
   "metadata": {
    "tags": []
   },
   "outputs": [
    {
     "name": "stdout",
     "output_type": "stream",
     "text": [
      "Number of depressed i61 events, Number of control i61 events: (12, 19)\n"
     ]
    }
   ],
   "source": [
    "i61_dep_yes = count_cevd(fulladjust_i61)\n",
    "print('Number of depressed i61 events, Number of control i61 events:', i61_dep_yes)"
   ]
  },
  {
   "cell_type": "code",
   "execution_count": 312,
   "metadata": {
    "tags": []
   },
   "outputs": [
    {
     "name": "stdout",
     "output_type": "stream",
     "text": [
      "Schoenfeld residuals results for I61:\n",
      "Proportional hazard assumption looks okay.\n"
     ]
    }
   ],
   "source": [
    "print('Schoenfeld residuals results for I61:')\n",
    "schoenfeld_results_i61 = cph.check_assumptions(fulladjust_i61, p_value_threshold=0.05)"
   ]
  },
  {
   "cell_type": "code",
   "execution_count": 313,
   "metadata": {
    "tags": []
   },
   "outputs": [
    {
     "data": {
      "text/html": [
       "<style type=\"text/css\">\n",
       "</style>\n",
       "<table id=\"T_28fae\">\n",
       "  <thead>\n",
       "    <tr>\n",
       "      <th class=\"blank level0\" >&nbsp;</th>\n",
       "      <th id=\"T_28fae_level0_col0\" class=\"col_heading level0 col0\" >coef</th>\n",
       "      <th id=\"T_28fae_level0_col1\" class=\"col_heading level0 col1\" >exp(coef)</th>\n",
       "      <th id=\"T_28fae_level0_col2\" class=\"col_heading level0 col2\" >se(coef)</th>\n",
       "      <th id=\"T_28fae_level0_col3\" class=\"col_heading level0 col3\" >coef lower 95%</th>\n",
       "      <th id=\"T_28fae_level0_col4\" class=\"col_heading level0 col4\" >coef upper 95%</th>\n",
       "      <th id=\"T_28fae_level0_col5\" class=\"col_heading level0 col5\" >exp(coef) lower 95%</th>\n",
       "      <th id=\"T_28fae_level0_col6\" class=\"col_heading level0 col6\" >exp(coef) upper 95%</th>\n",
       "      <th id=\"T_28fae_level0_col7\" class=\"col_heading level0 col7\" >cmp to</th>\n",
       "      <th id=\"T_28fae_level0_col8\" class=\"col_heading level0 col8\" >z</th>\n",
       "      <th id=\"T_28fae_level0_col9\" class=\"col_heading level0 col9\" >p</th>\n",
       "      <th id=\"T_28fae_level0_col10\" class=\"col_heading level0 col10\" >-log2(p)</th>\n",
       "    </tr>\n",
       "    <tr>\n",
       "      <th class=\"index_name level0\" >covariate</th>\n",
       "      <th class=\"blank col0\" >&nbsp;</th>\n",
       "      <th class=\"blank col1\" >&nbsp;</th>\n",
       "      <th class=\"blank col2\" >&nbsp;</th>\n",
       "      <th class=\"blank col3\" >&nbsp;</th>\n",
       "      <th class=\"blank col4\" >&nbsp;</th>\n",
       "      <th class=\"blank col5\" >&nbsp;</th>\n",
       "      <th class=\"blank col6\" >&nbsp;</th>\n",
       "      <th class=\"blank col7\" >&nbsp;</th>\n",
       "      <th class=\"blank col8\" >&nbsp;</th>\n",
       "      <th class=\"blank col9\" >&nbsp;</th>\n",
       "      <th class=\"blank col10\" >&nbsp;</th>\n",
       "    </tr>\n",
       "  </thead>\n",
       "  <tbody>\n",
       "    <tr>\n",
       "      <th id=\"T_28fae_level0_row0\" class=\"row_heading level0 row0\" >age_i0</th>\n",
       "      <td id=\"T_28fae_row0_col0\" class=\"data row0 col0\" >-0.001461</td>\n",
       "      <td id=\"T_28fae_row0_col1\" class=\"data row0 col1\" >0.998541</td>\n",
       "      <td id=\"T_28fae_row0_col2\" class=\"data row0 col2\" >0.054109</td>\n",
       "      <td id=\"T_28fae_row0_col3\" class=\"data row0 col3\" >-0.107513</td>\n",
       "      <td id=\"T_28fae_row0_col4\" class=\"data row0 col4\" >0.104592</td>\n",
       "      <td id=\"T_28fae_row0_col5\" class=\"data row0 col5\" >0.898065</td>\n",
       "      <td id=\"T_28fae_row0_col6\" class=\"data row0 col6\" >1.110257</td>\n",
       "      <td id=\"T_28fae_row0_col7\" class=\"data row0 col7\" >0.000000</td>\n",
       "      <td id=\"T_28fae_row0_col8\" class=\"data row0 col8\" >-0.026992</td>\n",
       "      <td id=\"T_28fae_row0_col9\" class=\"data row0 col9\" >0.97847</td>\n",
       "      <td id=\"T_28fae_row0_col10\" class=\"data row0 col10\" >0.031406</td>\n",
       "    </tr>\n",
       "    <tr>\n",
       "      <th id=\"T_28fae_level0_row1\" class=\"row_heading level0 row1\" >male</th>\n",
       "      <td id=\"T_28fae_row1_col0\" class=\"data row1 col0\" >0.155376</td>\n",
       "      <td id=\"T_28fae_row1_col1\" class=\"data row1 col1\" >1.168098</td>\n",
       "      <td id=\"T_28fae_row1_col2\" class=\"data row1 col2\" >0.409450</td>\n",
       "      <td id=\"T_28fae_row1_col3\" class=\"data row1 col3\" >-0.647132</td>\n",
       "      <td id=\"T_28fae_row1_col4\" class=\"data row1 col4\" >0.957885</td>\n",
       "      <td id=\"T_28fae_row1_col5\" class=\"data row1 col5\" >0.523545</td>\n",
       "      <td id=\"T_28fae_row1_col6\" class=\"data row1 col6\" >2.606178</td>\n",
       "      <td id=\"T_28fae_row1_col7\" class=\"data row1 col7\" >0.000000</td>\n",
       "      <td id=\"T_28fae_row1_col8\" class=\"data row1 col8\" >0.379476</td>\n",
       "      <td id=\"T_28fae_row1_col9\" class=\"data row1 col9\" >0.70433</td>\n",
       "      <td id=\"T_28fae_row1_col10\" class=\"data row1 col10\" >0.505667</td>\n",
       "    </tr>\n",
       "    <tr>\n",
       "      <th id=\"T_28fae_level0_row2\" class=\"row_heading level0 row2\" >dep_yes</th>\n",
       "      <td id=\"T_28fae_row2_col0\" class=\"data row2 col0\" >0.879679</td>\n",
       "      <td id=\"T_28fae_row2_col1\" class=\"data row2 col1\" >2.410125</td>\n",
       "      <td id=\"T_28fae_row2_col2\" class=\"data row2 col2\" >0.421249</td>\n",
       "      <td id=\"T_28fae_row2_col3\" class=\"data row2 col3\" >0.054046</td>\n",
       "      <td id=\"T_28fae_row2_col4\" class=\"data row2 col4\" >1.705311</td>\n",
       "      <td id=\"T_28fae_row2_col5\" class=\"data row2 col5\" >1.055533</td>\n",
       "      <td id=\"T_28fae_row2_col6\" class=\"data row2 col6\" >5.503098</td>\n",
       "      <td id=\"T_28fae_row2_col7\" class=\"data row2 col7\" >0.000000</td>\n",
       "      <td id=\"T_28fae_row2_col8\" class=\"data row2 col8\" >2.088263</td>\n",
       "      <td id=\"T_28fae_row2_col9\" class=\"data row2 col9\" >0.03677</td>\n",
       "      <td id=\"T_28fae_row2_col10\" class=\"data row2 col10\" >4.765167</td>\n",
       "    </tr>\n",
       "  </tbody>\n",
       "</table>\n"
      ],
      "text/plain": [
       "<pandas.io.formats.style.Styler at 0x7f6905e1b760>"
      ]
     },
     "execution_count": 313,
     "metadata": {},
     "output_type": "execute_result"
    }
   ],
   "source": [
    "#FOR I61 age and sex COX MODEL\n",
    "asadjust_i61 = cevd_df_first.dropna(subset=['i61_t2e'])\n",
    "asadjust_i61 = asadjust_i61.loc[:, ['i61_event', 'i61_t2e', 'age_i0', 'male', 'dep_yes']]\n",
    "asadjust_i61 = asadjust_i61[['i61_event', 'i61_t2e', 'age_i0', 'male', 'dep_yes']]\n",
    "cph = CoxPHFitter(penalizer=0.0001)\n",
    "cph.fit(asadjust_i61, duration_col='i61_t2e', event_col='i61_event') \n",
    "summary_df = cph.summary \n",
    "summary_df.style.format({'p': '{:.5f}'})"
   ]
  },
  {
   "cell_type": "code",
   "execution_count": 314,
   "metadata": {
    "tags": []
   },
   "outputs": [
    {
     "data": {
      "text/html": [
       "<style type=\"text/css\">\n",
       "</style>\n",
       "<table id=\"T_69a42\">\n",
       "  <thead>\n",
       "    <tr>\n",
       "      <th class=\"blank level0\" >&nbsp;</th>\n",
       "      <th id=\"T_69a42_level0_col0\" class=\"col_heading level0 col0\" >coef</th>\n",
       "      <th id=\"T_69a42_level0_col1\" class=\"col_heading level0 col1\" >exp(coef)</th>\n",
       "      <th id=\"T_69a42_level0_col2\" class=\"col_heading level0 col2\" >se(coef)</th>\n",
       "      <th id=\"T_69a42_level0_col3\" class=\"col_heading level0 col3\" >coef lower 95%</th>\n",
       "      <th id=\"T_69a42_level0_col4\" class=\"col_heading level0 col4\" >coef upper 95%</th>\n",
       "      <th id=\"T_69a42_level0_col5\" class=\"col_heading level0 col5\" >exp(coef) lower 95%</th>\n",
       "      <th id=\"T_69a42_level0_col6\" class=\"col_heading level0 col6\" >exp(coef) upper 95%</th>\n",
       "      <th id=\"T_69a42_level0_col7\" class=\"col_heading level0 col7\" >cmp to</th>\n",
       "      <th id=\"T_69a42_level0_col8\" class=\"col_heading level0 col8\" >z</th>\n",
       "      <th id=\"T_69a42_level0_col9\" class=\"col_heading level0 col9\" >p</th>\n",
       "      <th id=\"T_69a42_level0_col10\" class=\"col_heading level0 col10\" >-log2(p)</th>\n",
       "    </tr>\n",
       "    <tr>\n",
       "      <th class=\"index_name level0\" >covariate</th>\n",
       "      <th class=\"blank col0\" >&nbsp;</th>\n",
       "      <th class=\"blank col1\" >&nbsp;</th>\n",
       "      <th class=\"blank col2\" >&nbsp;</th>\n",
       "      <th class=\"blank col3\" >&nbsp;</th>\n",
       "      <th class=\"blank col4\" >&nbsp;</th>\n",
       "      <th class=\"blank col5\" >&nbsp;</th>\n",
       "      <th class=\"blank col6\" >&nbsp;</th>\n",
       "      <th class=\"blank col7\" >&nbsp;</th>\n",
       "      <th class=\"blank col8\" >&nbsp;</th>\n",
       "      <th class=\"blank col9\" >&nbsp;</th>\n",
       "      <th class=\"blank col10\" >&nbsp;</th>\n",
       "    </tr>\n",
       "  </thead>\n",
       "  <tbody>\n",
       "    <tr>\n",
       "      <th id=\"T_69a42_level0_row0\" class=\"row_heading level0 row0\" >dep_yes</th>\n",
       "      <td id=\"T_69a42_row0_col0\" class=\"data row0 col0\" >0.870441</td>\n",
       "      <td id=\"T_69a42_row0_col1\" class=\"data row0 col1\" >2.387963</td>\n",
       "      <td id=\"T_69a42_row0_col2\" class=\"data row0 col2\" >0.415118</td>\n",
       "      <td id=\"T_69a42_row0_col3\" class=\"data row0 col3\" >0.056825</td>\n",
       "      <td id=\"T_69a42_row0_col4\" class=\"data row0 col4\" >1.684056</td>\n",
       "      <td id=\"T_69a42_row0_col5\" class=\"data row0 col5\" >1.058470</td>\n",
       "      <td id=\"T_69a42_row0_col6\" class=\"data row0 col6\" >5.387364</td>\n",
       "      <td id=\"T_69a42_row0_col7\" class=\"data row0 col7\" >0.000000</td>\n",
       "      <td id=\"T_69a42_row0_col8\" class=\"data row0 col8\" >2.096853</td>\n",
       "      <td id=\"T_69a42_row0_col9\" class=\"data row0 col9\" >0.03601</td>\n",
       "      <td id=\"T_69a42_row0_col10\" class=\"data row0 col10\" >4.795594</td>\n",
       "    </tr>\n",
       "  </tbody>\n",
       "</table>\n"
      ],
      "text/plain": [
       "<pandas.io.formats.style.Styler at 0x7f6905ff3c40>"
      ]
     },
     "execution_count": 314,
     "metadata": {},
     "output_type": "execute_result"
    }
   ],
   "source": [
    "#FOR I61 unadjusted COX MODEL\n",
    "unadjust_i61 = cevd_df_first.dropna(subset=['i61_t2e'])\n",
    "unadjust_i61 = unadjust_i61.loc[:, ['i61_event', 'i61_t2e', 'dep_yes']]\n",
    "unadjust_i61 = unadjust_i61[['i61_event', 'i61_t2e', 'dep_yes']]\n",
    "cph = CoxPHFitter(penalizer=0.0001)\n",
    "cph.fit(unadjust_i61, duration_col='i61_t2e', event_col='i61_event') \n",
    "summary_df = cph.summary \n",
    "summary_df.style.format({'p': '{:.5f}'})"
   ]
  },
  {
   "cell_type": "code",
   "execution_count": 315,
   "metadata": {
    "tags": []
   },
   "outputs": [],
   "source": [
    "#i62"
   ]
  },
  {
   "cell_type": "code",
   "execution_count": 316,
   "metadata": {
    "tags": []
   },
   "outputs": [
    {
     "name": "stderr",
     "output_type": "stream",
     "text": [
      "/tmp/ipykernel_111/3815821688.py:3: SettingWithCopyWarning: \n",
      "A value is trying to be set on a copy of a slice from a DataFrame.\n",
      "Try using .loc[row_indexer,col_indexer] = value instead\n",
      "\n",
      "See the caveats in the documentation: https://pandas.pydata.org/pandas-docs/stable/user_guide/indexing.html#returning-a-view-versus-a-copy\n",
      "  fulladjust_i62['i62_t2e'] = fulladjust_i62['i62_t2e'].astype(float)\n",
      "/tmp/ipykernel_111/3815821688.py:4: SettingWithCopyWarning: \n",
      "A value is trying to be set on a copy of a slice from a DataFrame.\n",
      "Try using .loc[row_indexer,col_indexer] = value instead\n",
      "\n",
      "See the caveats in the documentation: https://pandas.pydata.org/pandas-docs/stable/user_guide/indexing.html#returning-a-view-versus-a-copy\n",
      "  fulladjust_i62['i62_event'] = fulladjust_i62['i62_event'].astype(int)\n"
     ]
    },
    {
     "ename": "NameError",
     "evalue": "name 'fulladjust_i62_date' is not defined",
     "output_type": "error",
     "traceback": [
      "\u001b[0;31m---------------------------------------------------------------------------\u001b[0m",
      "\u001b[0;31mNameError\u001b[0m                                 Traceback (most recent call last)",
      "Cell \u001b[0;32mIn[316], line 8\u001b[0m\n\u001b[1;32m      6\u001b[0m fulladjust_i62 \u001b[38;5;241m=\u001b[39m fulladjust_i62[[\u001b[38;5;124m'\u001b[39m\u001b[38;5;124mi62_event\u001b[39m\u001b[38;5;124m'\u001b[39m, \u001b[38;5;124m'\u001b[39m\u001b[38;5;124mi62_t2e\u001b[39m\u001b[38;5;124m'\u001b[39m, \u001b[38;5;124m'\u001b[39m\u001b[38;5;124mage_i0\u001b[39m\u001b[38;5;124m'\u001b[39m, \u001b[38;5;124m'\u001b[39m\u001b[38;5;124mmale\u001b[39m\u001b[38;5;124m'\u001b[39m, \u001b[38;5;124m'\u001b[39m\u001b[38;5;124mpp\u001b[39m\u001b[38;5;124m'\u001b[39m, \u001b[38;5;124m'\u001b[39m\u001b[38;5;124mbmi\u001b[39m\u001b[38;5;124m'\u001b[39m, \u001b[38;5;124m'\u001b[39m\u001b[38;5;124mdep_yes\u001b[39m\u001b[38;5;124m'\u001b[39m]]\n\u001b[1;32m      7\u001b[0m cph \u001b[38;5;241m=\u001b[39m CoxPHFitter(penalizer\u001b[38;5;241m=\u001b[39m\u001b[38;5;241m0.0001\u001b[39m)\n\u001b[0;32m----> 8\u001b[0m cph\u001b[38;5;241m.\u001b[39mfit(\u001b[43mfulladjust_i62_date\u001b[49m, duration_col\u001b[38;5;241m=\u001b[39m\u001b[38;5;124m'\u001b[39m\u001b[38;5;124mi62_t2e\u001b[39m\u001b[38;5;124m'\u001b[39m, event_col\u001b[38;5;241m=\u001b[39m\u001b[38;5;124m'\u001b[39m\u001b[38;5;124mi62_event\u001b[39m\u001b[38;5;124m'\u001b[39m) \n\u001b[1;32m      9\u001b[0m summary_df \u001b[38;5;241m=\u001b[39m cph\u001b[38;5;241m.\u001b[39msummary \n\u001b[1;32m     10\u001b[0m summary_df\u001b[38;5;241m.\u001b[39mstyle\u001b[38;5;241m.\u001b[39mformat({\u001b[38;5;124m'\u001b[39m\u001b[38;5;124mp\u001b[39m\u001b[38;5;124m'\u001b[39m: \u001b[38;5;124m'\u001b[39m\u001b[38;5;132;01m{:.5f}\u001b[39;00m\u001b[38;5;124m'\u001b[39m})\n",
      "\u001b[0;31mNameError\u001b[0m: name 'fulladjust_i62_date' is not defined"
     ]
    }
   ],
   "source": [
    "#cox model i62 - fully adjusted\n",
    "fulladjust_i62 = cevd_df_first.dropna(subset=['i62_t2e', 'pp'])\n",
    "fulladjust_i62['i62_t2e'] = fulladjust_i62['i62_t2e'].astype(float)  \n",
    "fulladjust_i62['i62_event'] = fulladjust_i62['i62_event'].astype(int) \n",
    "fulladjust_i62 = fulladjust_i62.loc[:, ['i62_event', 'i62_t2e', 'age_i0', 'male', 'pp', 'bmi', 'dep_yes']]\n",
    "fulladjust_i62 = fulladjust_i62[['i62_event', 'i62_t2e', 'age_i0', 'male', 'pp', 'bmi', 'dep_yes']]\n",
    "cph = CoxPHFitter(penalizer=0.0001)\n",
    "cph.fit(fulladjust_i62_date, duration_col='i62_t2e', event_col='i62_event') \n",
    "summary_df = cph.summary \n",
    "summary_df.style.format({'p': '{:.5f}'})"
   ]
  },
  {
   "cell_type": "code",
   "execution_count": 317,
   "metadata": {
    "tags": []
   },
   "outputs": [
    {
     "name": "stdout",
     "output_type": "stream",
     "text": [
      "Number of depressed i62 events, Number of control i62 events: (4, 6)\n"
     ]
    }
   ],
   "source": [
    "i62_dep_yes = count_cevd(fulladjust_i62)\n",
    "print('Number of depressed i62 events, Number of control i62 events:', i62_dep_yes)"
   ]
  },
  {
   "cell_type": "code",
   "execution_count": 318,
   "metadata": {
    "tags": []
   },
   "outputs": [
    {
     "name": "stdout",
     "output_type": "stream",
     "text": [
      "Schoenfeld residuals results for I62:\n"
     ]
    },
    {
     "ename": "NameError",
     "evalue": "name 'fulladjust_i62_date' is not defined",
     "output_type": "error",
     "traceback": [
      "\u001b[0;31m---------------------------------------------------------------------------\u001b[0m",
      "\u001b[0;31mNameError\u001b[0m                                 Traceback (most recent call last)",
      "Cell \u001b[0;32mIn[318], line 2\u001b[0m\n\u001b[1;32m      1\u001b[0m \u001b[38;5;28mprint\u001b[39m(\u001b[38;5;124m'\u001b[39m\u001b[38;5;124mSchoenfeld residuals results for I62:\u001b[39m\u001b[38;5;124m'\u001b[39m)\n\u001b[0;32m----> 2\u001b[0m schoenfeld_results_i62 \u001b[38;5;241m=\u001b[39m cph\u001b[38;5;241m.\u001b[39mcheck_assumptions(\u001b[43mfulladjust_i62_date\u001b[49m, p_value_threshold\u001b[38;5;241m=\u001b[39m\u001b[38;5;241m0.05\u001b[39m)\n",
      "\u001b[0;31mNameError\u001b[0m: name 'fulladjust_i62_date' is not defined"
     ]
    }
   ],
   "source": [
    "print('Schoenfeld residuals results for I62:')\n",
    "schoenfeld_results_i62 = cph.check_assumptions(fulladjust_i62_date, p_value_threshold=0.05)"
   ]
  },
  {
   "cell_type": "code",
   "execution_count": 319,
   "metadata": {
    "tags": []
   },
   "outputs": [
    {
     "data": {
      "text/html": [
       "<style type=\"text/css\">\n",
       "</style>\n",
       "<table id=\"T_59db5\">\n",
       "  <thead>\n",
       "    <tr>\n",
       "      <th class=\"blank level0\" >&nbsp;</th>\n",
       "      <th id=\"T_59db5_level0_col0\" class=\"col_heading level0 col0\" >coef</th>\n",
       "      <th id=\"T_59db5_level0_col1\" class=\"col_heading level0 col1\" >exp(coef)</th>\n",
       "      <th id=\"T_59db5_level0_col2\" class=\"col_heading level0 col2\" >se(coef)</th>\n",
       "      <th id=\"T_59db5_level0_col3\" class=\"col_heading level0 col3\" >coef lower 95%</th>\n",
       "      <th id=\"T_59db5_level0_col4\" class=\"col_heading level0 col4\" >coef upper 95%</th>\n",
       "      <th id=\"T_59db5_level0_col5\" class=\"col_heading level0 col5\" >exp(coef) lower 95%</th>\n",
       "      <th id=\"T_59db5_level0_col6\" class=\"col_heading level0 col6\" >exp(coef) upper 95%</th>\n",
       "      <th id=\"T_59db5_level0_col7\" class=\"col_heading level0 col7\" >cmp to</th>\n",
       "      <th id=\"T_59db5_level0_col8\" class=\"col_heading level0 col8\" >z</th>\n",
       "      <th id=\"T_59db5_level0_col9\" class=\"col_heading level0 col9\" >p</th>\n",
       "      <th id=\"T_59db5_level0_col10\" class=\"col_heading level0 col10\" >-log2(p)</th>\n",
       "    </tr>\n",
       "    <tr>\n",
       "      <th class=\"index_name level0\" >covariate</th>\n",
       "      <th class=\"blank col0\" >&nbsp;</th>\n",
       "      <th class=\"blank col1\" >&nbsp;</th>\n",
       "      <th class=\"blank col2\" >&nbsp;</th>\n",
       "      <th class=\"blank col3\" >&nbsp;</th>\n",
       "      <th class=\"blank col4\" >&nbsp;</th>\n",
       "      <th class=\"blank col5\" >&nbsp;</th>\n",
       "      <th class=\"blank col6\" >&nbsp;</th>\n",
       "      <th class=\"blank col7\" >&nbsp;</th>\n",
       "      <th class=\"blank col8\" >&nbsp;</th>\n",
       "      <th class=\"blank col9\" >&nbsp;</th>\n",
       "      <th class=\"blank col10\" >&nbsp;</th>\n",
       "    </tr>\n",
       "  </thead>\n",
       "  <tbody>\n",
       "    <tr>\n",
       "      <th id=\"T_59db5_level0_row0\" class=\"row_heading level0 row0\" >age_i0</th>\n",
       "      <td id=\"T_59db5_row0_col0\" class=\"data row0 col0\" >-0.005674</td>\n",
       "      <td id=\"T_59db5_row0_col1\" class=\"data row0 col1\" >0.994342</td>\n",
       "      <td id=\"T_59db5_row0_col2\" class=\"data row0 col2\" >0.102765</td>\n",
       "      <td id=\"T_59db5_row0_col3\" class=\"data row0 col3\" >-0.207089</td>\n",
       "      <td id=\"T_59db5_row0_col4\" class=\"data row0 col4\" >0.195741</td>\n",
       "      <td id=\"T_59db5_row0_col5\" class=\"data row0 col5\" >0.812947</td>\n",
       "      <td id=\"T_59db5_row0_col6\" class=\"data row0 col6\" >1.216211</td>\n",
       "      <td id=\"T_59db5_row0_col7\" class=\"data row0 col7\" >0.000000</td>\n",
       "      <td id=\"T_59db5_row0_col8\" class=\"data row0 col8\" >-0.055217</td>\n",
       "      <td id=\"T_59db5_row0_col9\" class=\"data row0 col9\" >0.95597</td>\n",
       "      <td id=\"T_59db5_row0_col10\" class=\"data row0 col10\" >0.064969</td>\n",
       "    </tr>\n",
       "    <tr>\n",
       "      <th id=\"T_59db5_level0_row1\" class=\"row_heading level0 row1\" >male</th>\n",
       "      <td id=\"T_59db5_row1_col0\" class=\"data row1 col0\" >-0.549406</td>\n",
       "      <td id=\"T_59db5_row1_col1\" class=\"data row1 col1\" >0.577293</td>\n",
       "      <td id=\"T_59db5_row1_col2\" class=\"data row1 col2\" >1.055939</td>\n",
       "      <td id=\"T_59db5_row1_col3\" class=\"data row1 col3\" >-2.619008</td>\n",
       "      <td id=\"T_59db5_row1_col4\" class=\"data row1 col4\" >1.520196</td>\n",
       "      <td id=\"T_59db5_row1_col5\" class=\"data row1 col5\" >0.072875</td>\n",
       "      <td id=\"T_59db5_row1_col6\" class=\"data row1 col6\" >4.573122</td>\n",
       "      <td id=\"T_59db5_row1_col7\" class=\"data row1 col7\" >0.000000</td>\n",
       "      <td id=\"T_59db5_row1_col8\" class=\"data row1 col8\" >-0.520301</td>\n",
       "      <td id=\"T_59db5_row1_col9\" class=\"data row1 col9\" >0.60285</td>\n",
       "      <td id=\"T_59db5_row1_col10\" class=\"data row1 col10\" >0.730120</td>\n",
       "    </tr>\n",
       "    <tr>\n",
       "      <th id=\"T_59db5_level0_row2\" class=\"row_heading level0 row2\" >dep_yes</th>\n",
       "      <td id=\"T_59db5_row2_col0\" class=\"data row2 col0\" >0.266441</td>\n",
       "      <td id=\"T_59db5_row2_col1\" class=\"data row2 col1\" >1.305311</td>\n",
       "      <td id=\"T_59db5_row2_col2\" class=\"data row2 col2\" >1.084242</td>\n",
       "      <td id=\"T_59db5_row2_col3\" class=\"data row2 col3\" >-1.858634</td>\n",
       "      <td id=\"T_59db5_row2_col4\" class=\"data row2 col4\" >2.391517</td>\n",
       "      <td id=\"T_59db5_row2_col5\" class=\"data row2 col5\" >0.155885</td>\n",
       "      <td id=\"T_59db5_row2_col6\" class=\"data row2 col6\" >10.930064</td>\n",
       "      <td id=\"T_59db5_row2_col7\" class=\"data row2 col7\" >0.000000</td>\n",
       "      <td id=\"T_59db5_row2_col8\" class=\"data row2 col8\" >0.245740</td>\n",
       "      <td id=\"T_59db5_row2_col9\" class=\"data row2 col9\" >0.80588</td>\n",
       "      <td id=\"T_59db5_row2_col10\" class=\"data row2 col10\" >0.311356</td>\n",
       "    </tr>\n",
       "  </tbody>\n",
       "</table>\n"
      ],
      "text/plain": [
       "<pandas.io.formats.style.Styler at 0x7f6905e09160>"
      ]
     },
     "execution_count": 319,
     "metadata": {},
     "output_type": "execute_result"
    }
   ],
   "source": [
    "#FOR I62 age and sex COX MODEL\n",
    "asadjust_i62 = fulladjust_i62.loc[:, ['i62_event', 'i62_t2e', 'age_i0', 'male', 'dep_yes']]\n",
    "asadjust_i62 = asadjust_i62[['i62_event', 'i62_t2e', 'age_i0', 'male', 'dep_yes']]\n",
    "cph = CoxPHFitter(penalizer=0.0001)\n",
    "cph.fit(asadjust_i62, duration_col='i62_t2e', event_col='i62_event') \n",
    "summary_df = cph.summary \n",
    "summary_df.style.format({'p': '{:.5f}'})"
   ]
  },
  {
   "cell_type": "code",
   "execution_count": 320,
   "metadata": {
    "tags": []
   },
   "outputs": [
    {
     "data": {
      "text/html": [
       "<style type=\"text/css\">\n",
       "</style>\n",
       "<table id=\"T_dc7d5\">\n",
       "  <thead>\n",
       "    <tr>\n",
       "      <th class=\"blank level0\" >&nbsp;</th>\n",
       "      <th id=\"T_dc7d5_level0_col0\" class=\"col_heading level0 col0\" >coef</th>\n",
       "      <th id=\"T_dc7d5_level0_col1\" class=\"col_heading level0 col1\" >exp(coef)</th>\n",
       "      <th id=\"T_dc7d5_level0_col2\" class=\"col_heading level0 col2\" >se(coef)</th>\n",
       "      <th id=\"T_dc7d5_level0_col3\" class=\"col_heading level0 col3\" >coef lower 95%</th>\n",
       "      <th id=\"T_dc7d5_level0_col4\" class=\"col_heading level0 col4\" >coef upper 95%</th>\n",
       "      <th id=\"T_dc7d5_level0_col5\" class=\"col_heading level0 col5\" >exp(coef) lower 95%</th>\n",
       "      <th id=\"T_dc7d5_level0_col6\" class=\"col_heading level0 col6\" >exp(coef) upper 95%</th>\n",
       "      <th id=\"T_dc7d5_level0_col7\" class=\"col_heading level0 col7\" >cmp to</th>\n",
       "      <th id=\"T_dc7d5_level0_col8\" class=\"col_heading level0 col8\" >z</th>\n",
       "      <th id=\"T_dc7d5_level0_col9\" class=\"col_heading level0 col9\" >p</th>\n",
       "      <th id=\"T_dc7d5_level0_col10\" class=\"col_heading level0 col10\" >-log2(p)</th>\n",
       "    </tr>\n",
       "    <tr>\n",
       "      <th class=\"index_name level0\" >covariate</th>\n",
       "      <th class=\"blank col0\" >&nbsp;</th>\n",
       "      <th class=\"blank col1\" >&nbsp;</th>\n",
       "      <th class=\"blank col2\" >&nbsp;</th>\n",
       "      <th class=\"blank col3\" >&nbsp;</th>\n",
       "      <th class=\"blank col4\" >&nbsp;</th>\n",
       "      <th class=\"blank col5\" >&nbsp;</th>\n",
       "      <th class=\"blank col6\" >&nbsp;</th>\n",
       "      <th class=\"blank col7\" >&nbsp;</th>\n",
       "      <th class=\"blank col8\" >&nbsp;</th>\n",
       "      <th class=\"blank col9\" >&nbsp;</th>\n",
       "      <th class=\"blank col10\" >&nbsp;</th>\n",
       "    </tr>\n",
       "  </thead>\n",
       "  <tbody>\n",
       "    <tr>\n",
       "      <th id=\"T_dc7d5_level0_row0\" class=\"row_heading level0 row0\" >dep_yes</th>\n",
       "      <td id=\"T_dc7d5_row0_col0\" class=\"data row0 col0\" >-0.105776</td>\n",
       "      <td id=\"T_dc7d5_row0_col1\" class=\"data row0 col1\" >0.899626</td>\n",
       "      <td id=\"T_dc7d5_row0_col2\" class=\"data row0 col2\" >0.714286</td>\n",
       "      <td id=\"T_dc7d5_row0_col3\" class=\"data row0 col3\" >-1.505750</td>\n",
       "      <td id=\"T_dc7d5_row0_col4\" class=\"data row0 col4\" >1.294198</td>\n",
       "      <td id=\"T_dc7d5_row0_col5\" class=\"data row0 col5\" >0.221851</td>\n",
       "      <td id=\"T_dc7d5_row0_col6\" class=\"data row0 col6\" >3.648067</td>\n",
       "      <td id=\"T_dc7d5_row0_col7\" class=\"data row0 col7\" >0.000000</td>\n",
       "      <td id=\"T_dc7d5_row0_col8\" class=\"data row0 col8\" >-0.148087</td>\n",
       "      <td id=\"T_dc7d5_row0_col9\" class=\"data row0 col9\" >0.88227</td>\n",
       "      <td id=\"T_dc7d5_row0_col10\" class=\"data row0 col10\" >0.180701</td>\n",
       "    </tr>\n",
       "  </tbody>\n",
       "</table>\n"
      ],
      "text/plain": [
       "<pandas.io.formats.style.Styler at 0x7f68eb817640>"
      ]
     },
     "execution_count": 320,
     "metadata": {},
     "output_type": "execute_result"
    }
   ],
   "source": [
    "#FOR I62 unadjusted COX MODEL\n",
    "unadjust_i62 = fulladjust_i62.loc[:, ['i62_event', 'i62_t2e', 'dep_yes']]\n",
    "unadjust_i62 = unadjust_i62[['i62_event', 'i62_t2e', 'dep_yes']]\n",
    "cph = CoxPHFitter(penalizer=0.0001)\n",
    "cph.fit(unadjust_i62, duration_col='i62_t2e', event_col='i62_event') \n",
    "summary_df = cph.summary \n",
    "summary_df.style.format({'p': '{:.5f}'})"
   ]
  },
  {
   "cell_type": "code",
   "execution_count": 321,
   "metadata": {
    "tags": []
   },
   "outputs": [],
   "source": [
    "#I63"
   ]
  },
  {
   "cell_type": "code",
   "execution_count": 322,
   "metadata": {
    "tags": []
   },
   "outputs": [
    {
     "data": {
      "text/html": [
       "<style type=\"text/css\">\n",
       "</style>\n",
       "<table id=\"T_95dfc\">\n",
       "  <thead>\n",
       "    <tr>\n",
       "      <th class=\"blank level0\" >&nbsp;</th>\n",
       "      <th id=\"T_95dfc_level0_col0\" class=\"col_heading level0 col0\" >coef</th>\n",
       "      <th id=\"T_95dfc_level0_col1\" class=\"col_heading level0 col1\" >exp(coef)</th>\n",
       "      <th id=\"T_95dfc_level0_col2\" class=\"col_heading level0 col2\" >se(coef)</th>\n",
       "      <th id=\"T_95dfc_level0_col3\" class=\"col_heading level0 col3\" >coef lower 95%</th>\n",
       "      <th id=\"T_95dfc_level0_col4\" class=\"col_heading level0 col4\" >coef upper 95%</th>\n",
       "      <th id=\"T_95dfc_level0_col5\" class=\"col_heading level0 col5\" >exp(coef) lower 95%</th>\n",
       "      <th id=\"T_95dfc_level0_col6\" class=\"col_heading level0 col6\" >exp(coef) upper 95%</th>\n",
       "      <th id=\"T_95dfc_level0_col7\" class=\"col_heading level0 col7\" >cmp to</th>\n",
       "      <th id=\"T_95dfc_level0_col8\" class=\"col_heading level0 col8\" >z</th>\n",
       "      <th id=\"T_95dfc_level0_col9\" class=\"col_heading level0 col9\" >p</th>\n",
       "      <th id=\"T_95dfc_level0_col10\" class=\"col_heading level0 col10\" >-log2(p)</th>\n",
       "    </tr>\n",
       "    <tr>\n",
       "      <th class=\"index_name level0\" >covariate</th>\n",
       "      <th class=\"blank col0\" >&nbsp;</th>\n",
       "      <th class=\"blank col1\" >&nbsp;</th>\n",
       "      <th class=\"blank col2\" >&nbsp;</th>\n",
       "      <th class=\"blank col3\" >&nbsp;</th>\n",
       "      <th class=\"blank col4\" >&nbsp;</th>\n",
       "      <th class=\"blank col5\" >&nbsp;</th>\n",
       "      <th class=\"blank col6\" >&nbsp;</th>\n",
       "      <th class=\"blank col7\" >&nbsp;</th>\n",
       "      <th class=\"blank col8\" >&nbsp;</th>\n",
       "      <th class=\"blank col9\" >&nbsp;</th>\n",
       "      <th class=\"blank col10\" >&nbsp;</th>\n",
       "    </tr>\n",
       "  </thead>\n",
       "  <tbody>\n",
       "    <tr>\n",
       "      <th id=\"T_95dfc_level0_row0\" class=\"row_heading level0 row0\" >age_i0</th>\n",
       "      <td id=\"T_95dfc_row0_col0\" class=\"data row0 col0\" >-0.035194</td>\n",
       "      <td id=\"T_95dfc_row0_col1\" class=\"data row0 col1\" >0.965418</td>\n",
       "      <td id=\"T_95dfc_row0_col2\" class=\"data row0 col2\" >0.019574</td>\n",
       "      <td id=\"T_95dfc_row0_col3\" class=\"data row0 col3\" >-0.073559</td>\n",
       "      <td id=\"T_95dfc_row0_col4\" class=\"data row0 col4\" >0.003171</td>\n",
       "      <td id=\"T_95dfc_row0_col5\" class=\"data row0 col5\" >0.929081</td>\n",
       "      <td id=\"T_95dfc_row0_col6\" class=\"data row0 col6\" >1.003176</td>\n",
       "      <td id=\"T_95dfc_row0_col7\" class=\"data row0 col7\" >0.000000</td>\n",
       "      <td id=\"T_95dfc_row0_col8\" class=\"data row0 col8\" >-1.797973</td>\n",
       "      <td id=\"T_95dfc_row0_col9\" class=\"data row0 col9\" >0.07218</td>\n",
       "      <td id=\"T_95dfc_row0_col10\" class=\"data row0 col10\" >3.792233</td>\n",
       "    </tr>\n",
       "    <tr>\n",
       "      <th id=\"T_95dfc_level0_row1\" class=\"row_heading level0 row1\" >male</th>\n",
       "      <td id=\"T_95dfc_row1_col0\" class=\"data row1 col0\" >-0.212720</td>\n",
       "      <td id=\"T_95dfc_row1_col1\" class=\"data row1 col1\" >0.808383</td>\n",
       "      <td id=\"T_95dfc_row1_col2\" class=\"data row1 col2\" >0.189531</td>\n",
       "      <td id=\"T_95dfc_row1_col3\" class=\"data row1 col3\" >-0.584193</td>\n",
       "      <td id=\"T_95dfc_row1_col4\" class=\"data row1 col4\" >0.158753</td>\n",
       "      <td id=\"T_95dfc_row1_col5\" class=\"data row1 col5\" >0.557556</td>\n",
       "      <td id=\"T_95dfc_row1_col6\" class=\"data row1 col6\" >1.172049</td>\n",
       "      <td id=\"T_95dfc_row1_col7\" class=\"data row1 col7\" >0.000000</td>\n",
       "      <td id=\"T_95dfc_row1_col8\" class=\"data row1 col8\" >-1.122351</td>\n",
       "      <td id=\"T_95dfc_row1_col9\" class=\"data row1 col9\" >0.26171</td>\n",
       "      <td id=\"T_95dfc_row1_col10\" class=\"data row1 col10\" >1.933941</td>\n",
       "    </tr>\n",
       "    <tr>\n",
       "      <th id=\"T_95dfc_level0_row2\" class=\"row_heading level0 row2\" >bmi</th>\n",
       "      <td id=\"T_95dfc_row2_col0\" class=\"data row2 col0\" >-0.016728</td>\n",
       "      <td id=\"T_95dfc_row2_col1\" class=\"data row2 col1\" >0.983412</td>\n",
       "      <td id=\"T_95dfc_row2_col2\" class=\"data row2 col2\" >0.017090</td>\n",
       "      <td id=\"T_95dfc_row2_col3\" class=\"data row2 col3\" >-0.050224</td>\n",
       "      <td id=\"T_95dfc_row2_col4\" class=\"data row2 col4\" >0.016768</td>\n",
       "      <td id=\"T_95dfc_row2_col5\" class=\"data row2 col5\" >0.951017</td>\n",
       "      <td id=\"T_95dfc_row2_col6\" class=\"data row2 col6\" >1.016910</td>\n",
       "      <td id=\"T_95dfc_row2_col7\" class=\"data row2 col7\" >0.000000</td>\n",
       "      <td id=\"T_95dfc_row2_col8\" class=\"data row2 col8\" >-0.978783</td>\n",
       "      <td id=\"T_95dfc_row2_col9\" class=\"data row2 col9\" >0.32769</td>\n",
       "      <td id=\"T_95dfc_row2_col10\" class=\"data row2 col10\" >1.609608</td>\n",
       "    </tr>\n",
       "    <tr>\n",
       "      <th id=\"T_95dfc_level0_row3\" class=\"row_heading level0 row3\" >pp</th>\n",
       "      <td id=\"T_95dfc_row3_col0\" class=\"data row3 col0\" >0.014698</td>\n",
       "      <td id=\"T_95dfc_row3_col1\" class=\"data row3 col1\" >1.014807</td>\n",
       "      <td id=\"T_95dfc_row3_col2\" class=\"data row3 col2\" >0.005654</td>\n",
       "      <td id=\"T_95dfc_row3_col3\" class=\"data row3 col3\" >0.003617</td>\n",
       "      <td id=\"T_95dfc_row3_col4\" class=\"data row3 col4\" >0.025779</td>\n",
       "      <td id=\"T_95dfc_row3_col5\" class=\"data row3 col5\" >1.003624</td>\n",
       "      <td id=\"T_95dfc_row3_col6\" class=\"data row3 col6\" >1.026115</td>\n",
       "      <td id=\"T_95dfc_row3_col7\" class=\"data row3 col7\" >0.000000</td>\n",
       "      <td id=\"T_95dfc_row3_col8\" class=\"data row3 col8\" >2.599790</td>\n",
       "      <td id=\"T_95dfc_row3_col9\" class=\"data row3 col9\" >0.00933</td>\n",
       "      <td id=\"T_95dfc_row3_col10\" class=\"data row3 col10\" >6.744204</td>\n",
       "    </tr>\n",
       "    <tr>\n",
       "      <th id=\"T_95dfc_level0_row4\" class=\"row_heading level0 row4\" >dep_yes</th>\n",
       "      <td id=\"T_95dfc_row4_col0\" class=\"data row4 col0\" >0.202045</td>\n",
       "      <td id=\"T_95dfc_row4_col1\" class=\"data row4 col1\" >1.223903</td>\n",
       "      <td id=\"T_95dfc_row4_col2\" class=\"data row4 col2\" >0.206938</td>\n",
       "      <td id=\"T_95dfc_row4_col3\" class=\"data row4 col3\" >-0.203545</td>\n",
       "      <td id=\"T_95dfc_row4_col4\" class=\"data row4 col4\" >0.607636</td>\n",
       "      <td id=\"T_95dfc_row4_col5\" class=\"data row4 col5\" >0.815833</td>\n",
       "      <td id=\"T_95dfc_row4_col6\" class=\"data row4 col6\" >1.836085</td>\n",
       "      <td id=\"T_95dfc_row4_col7\" class=\"data row4 col7\" >0.000000</td>\n",
       "      <td id=\"T_95dfc_row4_col8\" class=\"data row4 col8\" >0.976358</td>\n",
       "      <td id=\"T_95dfc_row4_col9\" class=\"data row4 col9\" >0.32889</td>\n",
       "      <td id=\"T_95dfc_row4_col10\" class=\"data row4 col10\" >1.604335</td>\n",
       "    </tr>\n",
       "  </tbody>\n",
       "</table>\n"
      ],
      "text/plain": [
       "<pandas.io.formats.style.Styler at 0x7f6905ff3d90>"
      ]
     },
     "execution_count": 322,
     "metadata": {},
     "output_type": "execute_result"
    }
   ],
   "source": [
    "#cox model i63 - fully adjusted\n",
    "fulladjust_i63 = cevd_df_first.dropna(subset=['i63_t2e', 'pp'])\n",
    "fulladjust_i63 = fulladjust_i63.loc[:, ['i63_event', 'i63_t2e', 'age_i0', 'male',  'bmi', 'pp', 'dep_yes']]\n",
    "fulladjust_i63 = fulladjust_i63[['i63_event', 'i63_t2e',  'age_i0', 'male', 'bmi', 'pp', 'dep_yes']]\n",
    "#fulladjust_i63_date = pd.get_dummies(fulladjust_i63, columns=['ipaq', 'smok_stat', 'alc_freq_filter'])\n",
    "cph = CoxPHFitter(penalizer=0.0001)\n",
    "cph.fit(fulladjust_i63, duration_col='i63_t2e', event_col='i63_event') \n",
    "summary_df = cph.summary \n",
    "summary_df.style.format({'p': '{:.5f}'})"
   ]
  },
  {
   "cell_type": "code",
   "execution_count": 323,
   "metadata": {
    "tags": []
   },
   "outputs": [
    {
     "name": "stdout",
     "output_type": "stream",
     "text": [
      "Number of depressed i63 events, Number of control i63 events: (47, 84)\n"
     ]
    }
   ],
   "source": [
    "i63_dep_yes = count_cevd(fulladjust_i63)\n",
    "print('Number of depressed i63 events, Number of control i63 events:', i63_dep_yes)"
   ]
  },
  {
   "cell_type": "code",
   "execution_count": 325,
   "metadata": {
    "tags": []
   },
   "outputs": [
    {
     "name": "stdout",
     "output_type": "stream",
     "text": [
      "Schoenfeld residuals results for I63:\n",
      "Proportional hazard assumption looks okay.\n"
     ]
    }
   ],
   "source": [
    "print('Schoenfeld residuals results for I63:')\n",
    "schoenfeld_results_i63 = cph.check_assumptions(fulladjust_i63, p_value_threshold=0.05)"
   ]
  },
  {
   "cell_type": "code",
   "execution_count": 326,
   "metadata": {
    "tags": []
   },
   "outputs": [
    {
     "data": {
      "text/html": [
       "<style type=\"text/css\">\n",
       "</style>\n",
       "<table id=\"T_1367e\">\n",
       "  <thead>\n",
       "    <tr>\n",
       "      <th class=\"blank level0\" >&nbsp;</th>\n",
       "      <th id=\"T_1367e_level0_col0\" class=\"col_heading level0 col0\" >coef</th>\n",
       "      <th id=\"T_1367e_level0_col1\" class=\"col_heading level0 col1\" >exp(coef)</th>\n",
       "      <th id=\"T_1367e_level0_col2\" class=\"col_heading level0 col2\" >se(coef)</th>\n",
       "      <th id=\"T_1367e_level0_col3\" class=\"col_heading level0 col3\" >coef lower 95%</th>\n",
       "      <th id=\"T_1367e_level0_col4\" class=\"col_heading level0 col4\" >coef upper 95%</th>\n",
       "      <th id=\"T_1367e_level0_col5\" class=\"col_heading level0 col5\" >exp(coef) lower 95%</th>\n",
       "      <th id=\"T_1367e_level0_col6\" class=\"col_heading level0 col6\" >exp(coef) upper 95%</th>\n",
       "      <th id=\"T_1367e_level0_col7\" class=\"col_heading level0 col7\" >cmp to</th>\n",
       "      <th id=\"T_1367e_level0_col8\" class=\"col_heading level0 col8\" >z</th>\n",
       "      <th id=\"T_1367e_level0_col9\" class=\"col_heading level0 col9\" >p</th>\n",
       "      <th id=\"T_1367e_level0_col10\" class=\"col_heading level0 col10\" >-log2(p)</th>\n",
       "    </tr>\n",
       "    <tr>\n",
       "      <th class=\"index_name level0\" >covariate</th>\n",
       "      <th class=\"blank col0\" >&nbsp;</th>\n",
       "      <th class=\"blank col1\" >&nbsp;</th>\n",
       "      <th class=\"blank col2\" >&nbsp;</th>\n",
       "      <th class=\"blank col3\" >&nbsp;</th>\n",
       "      <th class=\"blank col4\" >&nbsp;</th>\n",
       "      <th class=\"blank col5\" >&nbsp;</th>\n",
       "      <th class=\"blank col6\" >&nbsp;</th>\n",
       "      <th class=\"blank col7\" >&nbsp;</th>\n",
       "      <th class=\"blank col8\" >&nbsp;</th>\n",
       "      <th class=\"blank col9\" >&nbsp;</th>\n",
       "      <th class=\"blank col10\" >&nbsp;</th>\n",
       "    </tr>\n",
       "  </thead>\n",
       "  <tbody>\n",
       "    <tr>\n",
       "      <th id=\"T_1367e_level0_row0\" class=\"row_heading level0 row0\" >age_i0</th>\n",
       "      <td id=\"T_1367e_row0_col0\" class=\"data row0 col0\" >-0.023760</td>\n",
       "      <td id=\"T_1367e_row0_col1\" class=\"data row0 col1\" >0.976521</td>\n",
       "      <td id=\"T_1367e_row0_col2\" class=\"data row0 col2\" >0.019170</td>\n",
       "      <td id=\"T_1367e_row0_col3\" class=\"data row0 col3\" >-0.061333</td>\n",
       "      <td id=\"T_1367e_row0_col4\" class=\"data row0 col4\" >0.013814</td>\n",
       "      <td id=\"T_1367e_row0_col5\" class=\"data row0 col5\" >0.940510</td>\n",
       "      <td id=\"T_1367e_row0_col6\" class=\"data row0 col6\" >1.013910</td>\n",
       "      <td id=\"T_1367e_row0_col7\" class=\"data row0 col7\" >0.000000</td>\n",
       "      <td id=\"T_1367e_row0_col8\" class=\"data row0 col8\" >-1.239383</td>\n",
       "      <td id=\"T_1367e_row0_col9\" class=\"data row0 col9\" >0.21520</td>\n",
       "      <td id=\"T_1367e_row0_col10\" class=\"data row0 col10\" >2.216225</td>\n",
       "    </tr>\n",
       "    <tr>\n",
       "      <th id=\"T_1367e_level0_row1\" class=\"row_heading level0 row1\" >male</th>\n",
       "      <td id=\"T_1367e_row1_col0\" class=\"data row1 col0\" >-0.242526</td>\n",
       "      <td id=\"T_1367e_row1_col1\" class=\"data row1 col1\" >0.784644</td>\n",
       "      <td id=\"T_1367e_row1_col2\" class=\"data row1 col2\" >0.187453</td>\n",
       "      <td id=\"T_1367e_row1_col3\" class=\"data row1 col3\" >-0.609927</td>\n",
       "      <td id=\"T_1367e_row1_col4\" class=\"data row1 col4\" >0.124876</td>\n",
       "      <td id=\"T_1367e_row1_col5\" class=\"data row1 col5\" >0.543390</td>\n",
       "      <td id=\"T_1367e_row1_col6\" class=\"data row1 col6\" >1.133008</td>\n",
       "      <td id=\"T_1367e_row1_col7\" class=\"data row1 col7\" >0.000000</td>\n",
       "      <td id=\"T_1367e_row1_col8\" class=\"data row1 col8\" >-1.293794</td>\n",
       "      <td id=\"T_1367e_row1_col9\" class=\"data row1 col9\" >0.19574</td>\n",
       "      <td id=\"T_1367e_row1_col10\" class=\"data row1 col10\" >2.353014</td>\n",
       "    </tr>\n",
       "    <tr>\n",
       "      <th id=\"T_1367e_level0_row2\" class=\"row_heading level0 row2\" >dep_yes</th>\n",
       "      <td id=\"T_1367e_row2_col0\" class=\"data row2 col0\" >0.013628</td>\n",
       "      <td id=\"T_1367e_row2_col1\" class=\"data row2 col1\" >1.013721</td>\n",
       "      <td id=\"T_1367e_row2_col2\" class=\"data row2 col2\" >0.189488</td>\n",
       "      <td id=\"T_1367e_row2_col3\" class=\"data row2 col3\" >-0.357762</td>\n",
       "      <td id=\"T_1367e_row2_col4\" class=\"data row2 col4\" >0.385018</td>\n",
       "      <td id=\"T_1367e_row2_col5\" class=\"data row2 col5\" >0.699240</td>\n",
       "      <td id=\"T_1367e_row2_col6\" class=\"data row2 col6\" >1.469641</td>\n",
       "      <td id=\"T_1367e_row2_col7\" class=\"data row2 col7\" >0.000000</td>\n",
       "      <td id=\"T_1367e_row2_col8\" class=\"data row2 col8\" >0.071921</td>\n",
       "      <td id=\"T_1367e_row2_col9\" class=\"data row2 col9\" >0.94266</td>\n",
       "      <td id=\"T_1367e_row2_col10\" class=\"data row2 col10\" >0.085183</td>\n",
       "    </tr>\n",
       "  </tbody>\n",
       "</table>\n"
      ],
      "text/plain": [
       "<pandas.io.formats.style.Styler at 0x7f6905feaac0>"
      ]
     },
     "execution_count": 326,
     "metadata": {},
     "output_type": "execute_result"
    }
   ],
   "source": [
    "#FOR I63 age and sex COX MODEL\n",
    "asadjust_i63 = cevd_df_first.dropna(subset=['i63_t2e'])\n",
    "asadjust_i63 = asadjust_i63.loc[:, ['i63_event', 'i63_t2e', 'age_i0', 'male', 'dep_yes']]\n",
    "asadjust_i63 = asadjust_i63[['i63_event', 'i63_t2e', 'age_i0', 'male', 'dep_yes']]\n",
    "cph = CoxPHFitter(penalizer=0.0001)\n",
    "cph.fit(asadjust_i63, duration_col='i63_t2e', event_col='i63_event') \n",
    "summary_df = cph.summary \n",
    "summary_df.style.format({'p': '{:.5f}'})"
   ]
  },
  {
   "cell_type": "code",
   "execution_count": 327,
   "metadata": {
    "tags": []
   },
   "outputs": [
    {
     "data": {
      "text/html": [
       "<style type=\"text/css\">\n",
       "</style>\n",
       "<table id=\"T_6e0f7\">\n",
       "  <thead>\n",
       "    <tr>\n",
       "      <th class=\"blank level0\" >&nbsp;</th>\n",
       "      <th id=\"T_6e0f7_level0_col0\" class=\"col_heading level0 col0\" >coef</th>\n",
       "      <th id=\"T_6e0f7_level0_col1\" class=\"col_heading level0 col1\" >exp(coef)</th>\n",
       "      <th id=\"T_6e0f7_level0_col2\" class=\"col_heading level0 col2\" >se(coef)</th>\n",
       "      <th id=\"T_6e0f7_level0_col3\" class=\"col_heading level0 col3\" >coef lower 95%</th>\n",
       "      <th id=\"T_6e0f7_level0_col4\" class=\"col_heading level0 col4\" >coef upper 95%</th>\n",
       "      <th id=\"T_6e0f7_level0_col5\" class=\"col_heading level0 col5\" >exp(coef) lower 95%</th>\n",
       "      <th id=\"T_6e0f7_level0_col6\" class=\"col_heading level0 col6\" >exp(coef) upper 95%</th>\n",
       "      <th id=\"T_6e0f7_level0_col7\" class=\"col_heading level0 col7\" >cmp to</th>\n",
       "      <th id=\"T_6e0f7_level0_col8\" class=\"col_heading level0 col8\" >z</th>\n",
       "      <th id=\"T_6e0f7_level0_col9\" class=\"col_heading level0 col9\" >p</th>\n",
       "      <th id=\"T_6e0f7_level0_col10\" class=\"col_heading level0 col10\" >-log2(p)</th>\n",
       "    </tr>\n",
       "    <tr>\n",
       "      <th class=\"index_name level0\" >covariate</th>\n",
       "      <th class=\"blank col0\" >&nbsp;</th>\n",
       "      <th class=\"blank col1\" >&nbsp;</th>\n",
       "      <th class=\"blank col2\" >&nbsp;</th>\n",
       "      <th class=\"blank col3\" >&nbsp;</th>\n",
       "      <th class=\"blank col4\" >&nbsp;</th>\n",
       "      <th class=\"blank col5\" >&nbsp;</th>\n",
       "      <th class=\"blank col6\" >&nbsp;</th>\n",
       "      <th class=\"blank col7\" >&nbsp;</th>\n",
       "      <th class=\"blank col8\" >&nbsp;</th>\n",
       "      <th class=\"blank col9\" >&nbsp;</th>\n",
       "      <th class=\"blank col10\" >&nbsp;</th>\n",
       "    </tr>\n",
       "  </thead>\n",
       "  <tbody>\n",
       "    <tr>\n",
       "      <th id=\"T_6e0f7_level0_row0\" class=\"row_heading level0 row0\" >dep_yes</th>\n",
       "      <td id=\"T_6e0f7_row0_col0\" class=\"data row0 col0\" >0.047713</td>\n",
       "      <td id=\"T_6e0f7_row0_col1\" class=\"data row0 col1\" >1.048870</td>\n",
       "      <td id=\"T_6e0f7_row0_col2\" class=\"data row0 col2\" >0.183939</td>\n",
       "      <td id=\"T_6e0f7_row0_col3\" class=\"data row0 col3\" >-0.312800</td>\n",
       "      <td id=\"T_6e0f7_row0_col4\" class=\"data row0 col4\" >0.408227</td>\n",
       "      <td id=\"T_6e0f7_row0_col5\" class=\"data row0 col5\" >0.731396</td>\n",
       "      <td id=\"T_6e0f7_row0_col6\" class=\"data row0 col6\" >1.504148</td>\n",
       "      <td id=\"T_6e0f7_row0_col7\" class=\"data row0 col7\" >0.000000</td>\n",
       "      <td id=\"T_6e0f7_row0_col8\" class=\"data row0 col8\" >0.259397</td>\n",
       "      <td id=\"T_6e0f7_row0_col9\" class=\"data row0 col9\" >0.79533</td>\n",
       "      <td id=\"T_6e0f7_row0_col10\" class=\"data row0 col10\" >0.330377</td>\n",
       "    </tr>\n",
       "  </tbody>\n",
       "</table>\n"
      ],
      "text/plain": [
       "<pandas.io.formats.style.Styler at 0x7f6913515ac0>"
      ]
     },
     "execution_count": 327,
     "metadata": {},
     "output_type": "execute_result"
    }
   ],
   "source": [
    "#FOR I63 unadjusted COX MODEL\n",
    "unadjust_i63 = cevd_df_first.dropna(subset=['i63_t2e'])\n",
    "unadjust_i63 = unadjust_i63.loc[:, ['i63_event', 'i63_t2e', 'dep_yes']]\n",
    "unadjust_i63 = unadjust_i63[['i63_event', 'i63_t2e', 'dep_yes']]\n",
    "cph = CoxPHFitter(penalizer=0.0001)\n",
    "cph.fit(unadjust_i63, duration_col='i63_t2e', event_col='i63_event') \n",
    "summary_df = cph.summary \n",
    "summary_df.style.format({'p': '{:.5f}'})"
   ]
  },
  {
   "cell_type": "code",
   "execution_count": 328,
   "metadata": {
    "tags": []
   },
   "outputs": [],
   "source": [
    "#i64"
   ]
  },
  {
   "cell_type": "code",
   "execution_count": 329,
   "metadata": {
    "tags": []
   },
   "outputs": [
    {
     "data": {
      "text/html": [
       "<style type=\"text/css\">\n",
       "</style>\n",
       "<table id=\"T_77d97\">\n",
       "  <thead>\n",
       "    <tr>\n",
       "      <th class=\"blank level0\" >&nbsp;</th>\n",
       "      <th id=\"T_77d97_level0_col0\" class=\"col_heading level0 col0\" >coef</th>\n",
       "      <th id=\"T_77d97_level0_col1\" class=\"col_heading level0 col1\" >exp(coef)</th>\n",
       "      <th id=\"T_77d97_level0_col2\" class=\"col_heading level0 col2\" >se(coef)</th>\n",
       "      <th id=\"T_77d97_level0_col3\" class=\"col_heading level0 col3\" >coef lower 95%</th>\n",
       "      <th id=\"T_77d97_level0_col4\" class=\"col_heading level0 col4\" >coef upper 95%</th>\n",
       "      <th id=\"T_77d97_level0_col5\" class=\"col_heading level0 col5\" >exp(coef) lower 95%</th>\n",
       "      <th id=\"T_77d97_level0_col6\" class=\"col_heading level0 col6\" >exp(coef) upper 95%</th>\n",
       "      <th id=\"T_77d97_level0_col7\" class=\"col_heading level0 col7\" >cmp to</th>\n",
       "      <th id=\"T_77d97_level0_col8\" class=\"col_heading level0 col8\" >z</th>\n",
       "      <th id=\"T_77d97_level0_col9\" class=\"col_heading level0 col9\" >p</th>\n",
       "      <th id=\"T_77d97_level0_col10\" class=\"col_heading level0 col10\" >-log2(p)</th>\n",
       "    </tr>\n",
       "    <tr>\n",
       "      <th class=\"index_name level0\" >covariate</th>\n",
       "      <th class=\"blank col0\" >&nbsp;</th>\n",
       "      <th class=\"blank col1\" >&nbsp;</th>\n",
       "      <th class=\"blank col2\" >&nbsp;</th>\n",
       "      <th class=\"blank col3\" >&nbsp;</th>\n",
       "      <th class=\"blank col4\" >&nbsp;</th>\n",
       "      <th class=\"blank col5\" >&nbsp;</th>\n",
       "      <th class=\"blank col6\" >&nbsp;</th>\n",
       "      <th class=\"blank col7\" >&nbsp;</th>\n",
       "      <th class=\"blank col8\" >&nbsp;</th>\n",
       "      <th class=\"blank col9\" >&nbsp;</th>\n",
       "      <th class=\"blank col10\" >&nbsp;</th>\n",
       "    </tr>\n",
       "  </thead>\n",
       "  <tbody>\n",
       "    <tr>\n",
       "      <th id=\"T_77d97_level0_row0\" class=\"row_heading level0 row0\" >age_i0</th>\n",
       "      <td id=\"T_77d97_row0_col0\" class=\"data row0 col0\" >0.040475</td>\n",
       "      <td id=\"T_77d97_row0_col1\" class=\"data row0 col1\" >1.041306</td>\n",
       "      <td id=\"T_77d97_row0_col2\" class=\"data row0 col2\" >0.039784</td>\n",
       "      <td id=\"T_77d97_row0_col3\" class=\"data row0 col3\" >-0.037500</td>\n",
       "      <td id=\"T_77d97_row0_col4\" class=\"data row0 col4\" >0.118451</td>\n",
       "      <td id=\"T_77d97_row0_col5\" class=\"data row0 col5\" >0.963194</td>\n",
       "      <td id=\"T_77d97_row0_col6\" class=\"data row0 col6\" >1.125752</td>\n",
       "      <td id=\"T_77d97_row0_col7\" class=\"data row0 col7\" >0.000000</td>\n",
       "      <td id=\"T_77d97_row0_col8\" class=\"data row0 col8\" >1.017373</td>\n",
       "      <td id=\"T_77d97_row0_col9\" class=\"data row0 col9\" >0.30898</td>\n",
       "      <td id=\"T_77d97_row0_col10\" class=\"data row0 col10\" >1.694433</td>\n",
       "    </tr>\n",
       "    <tr>\n",
       "      <th id=\"T_77d97_level0_row1\" class=\"row_heading level0 row1\" >male</th>\n",
       "      <td id=\"T_77d97_row1_col0\" class=\"data row1 col0\" >-0.702337</td>\n",
       "      <td id=\"T_77d97_row1_col1\" class=\"data row1 col1\" >0.495426</td>\n",
       "      <td id=\"T_77d97_row1_col2\" class=\"data row1 col2\" >0.425854</td>\n",
       "      <td id=\"T_77d97_row1_col3\" class=\"data row1 col3\" >-1.536995</td>\n",
       "      <td id=\"T_77d97_row1_col4\" class=\"data row1 col4\" >0.132321</td>\n",
       "      <td id=\"T_77d97_row1_col5\" class=\"data row1 col5\" >0.215026</td>\n",
       "      <td id=\"T_77d97_row1_col6\" class=\"data row1 col6\" >1.141475</td>\n",
       "      <td id=\"T_77d97_row1_col7\" class=\"data row1 col7\" >0.000000</td>\n",
       "      <td id=\"T_77d97_row1_col8\" class=\"data row1 col8\" >-1.649244</td>\n",
       "      <td id=\"T_77d97_row1_col9\" class=\"data row1 col9\" >0.09910</td>\n",
       "      <td id=\"T_77d97_row1_col10\" class=\"data row1 col10\" >3.335005</td>\n",
       "    </tr>\n",
       "    <tr>\n",
       "      <th id=\"T_77d97_level0_row2\" class=\"row_heading level0 row2\" >tdi</th>\n",
       "      <td id=\"T_77d97_row2_col0\" class=\"data row2 col0\" >0.149612</td>\n",
       "      <td id=\"T_77d97_row2_col1\" class=\"data row2 col1\" >1.161384</td>\n",
       "      <td id=\"T_77d97_row2_col2\" class=\"data row2 col2\" >0.079762</td>\n",
       "      <td id=\"T_77d97_row2_col3\" class=\"data row2 col3\" >-0.006719</td>\n",
       "      <td id=\"T_77d97_row2_col4\" class=\"data row2 col4\" >0.305944</td>\n",
       "      <td id=\"T_77d97_row2_col5\" class=\"data row2 col5\" >0.993303</td>\n",
       "      <td id=\"T_77d97_row2_col6\" class=\"data row2 col6\" >1.357906</td>\n",
       "      <td id=\"T_77d97_row2_col7\" class=\"data row2 col7\" >0.000000</td>\n",
       "      <td id=\"T_77d97_row2_col8\" class=\"data row2 col8\" >1.875724</td>\n",
       "      <td id=\"T_77d97_row2_col9\" class=\"data row2 col9\" >0.06069</td>\n",
       "      <td id=\"T_77d97_row2_col10\" class=\"data row2 col10\" >4.042321</td>\n",
       "    </tr>\n",
       "    <tr>\n",
       "      <th id=\"T_77d97_level0_row3\" class=\"row_heading level0 row3\" >pp</th>\n",
       "      <td id=\"T_77d97_row3_col0\" class=\"data row3 col0\" >-0.022555</td>\n",
       "      <td id=\"T_77d97_row3_col1\" class=\"data row3 col1\" >0.977697</td>\n",
       "      <td id=\"T_77d97_row3_col2\" class=\"data row3 col2\" >0.013734</td>\n",
       "      <td id=\"T_77d97_row3_col3\" class=\"data row3 col3\" >-0.049474</td>\n",
       "      <td id=\"T_77d97_row3_col4\" class=\"data row3 col4\" >0.004364</td>\n",
       "      <td id=\"T_77d97_row3_col5\" class=\"data row3 col5\" >0.951730</td>\n",
       "      <td id=\"T_77d97_row3_col6\" class=\"data row3 col6\" >1.004373</td>\n",
       "      <td id=\"T_77d97_row3_col7\" class=\"data row3 col7\" >0.000000</td>\n",
       "      <td id=\"T_77d97_row3_col8\" class=\"data row3 col8\" >-1.642257</td>\n",
       "      <td id=\"T_77d97_row3_col9\" class=\"data row3 col9\" >0.10054</td>\n",
       "      <td id=\"T_77d97_row3_col10\" class=\"data row3 col10\" >3.314204</td>\n",
       "    </tr>\n",
       "    <tr>\n",
       "      <th id=\"T_77d97_level0_row4\" class=\"row_heading level0 row4\" >dep_yes</th>\n",
       "      <td id=\"T_77d97_row4_col0\" class=\"data row4 col0\" >-0.130845</td>\n",
       "      <td id=\"T_77d97_row4_col1\" class=\"data row4 col1\" >0.877354</td>\n",
       "      <td id=\"T_77d97_row4_col2\" class=\"data row4 col2\" >0.448500</td>\n",
       "      <td id=\"T_77d97_row4_col3\" class=\"data row4 col3\" >-1.009888</td>\n",
       "      <td id=\"T_77d97_row4_col4\" class=\"data row4 col4\" >0.748199</td>\n",
       "      <td id=\"T_77d97_row4_col5\" class=\"data row4 col5\" >0.364260</td>\n",
       "      <td id=\"T_77d97_row4_col6\" class=\"data row4 col6\" >2.113190</td>\n",
       "      <td id=\"T_77d97_row4_col7\" class=\"data row4 col7\" >0.000000</td>\n",
       "      <td id=\"T_77d97_row4_col8\" class=\"data row4 col8\" >-0.291739</td>\n",
       "      <td id=\"T_77d97_row4_col9\" class=\"data row4 col9\" >0.77049</td>\n",
       "      <td id=\"T_77d97_row4_col10\" class=\"data row4 col10\" >0.376159</td>\n",
       "    </tr>\n",
       "  </tbody>\n",
       "</table>\n"
      ],
      "text/plain": [
       "<pandas.io.formats.style.Styler at 0x7f691351d370>"
      ]
     },
     "execution_count": 329,
     "metadata": {},
     "output_type": "execute_result"
    }
   ],
   "source": [
    "#cox model i64- fully adjuted\n",
    "fulladjust_i64 = cevd_df_first.dropna(subset=['i64_t2e', 'pp'])\n",
    "fulladjust_i64 = fulladjust_i64.loc[:, ['i64_event', 'i64_t2e',  'age_i0', 'male', 'tdi', 'pp', 'dep_yes']]\n",
    "fulladjust_i64 = fulladjust_i64[['i64_event', 'i64_t2e', 'age_i0', 'male', 'tdi', 'pp', 'dep_yes']]\n",
    "#fulladjust_i64_date = pd.get_dummies(fulladjust_i64, columns=['ipaq', 'smok_stat', 'alc_freq_filter'])\n",
    "cph = CoxPHFitter(penalizer=0.0001)\n",
    "cph.fit(fulladjust_i64, duration_col='i64_t2e', event_col='i64_event') \n",
    "summary_df = cph.summary \n",
    "summary_df.style.format({'p': '{:.5f}'})"
   ]
  },
  {
   "cell_type": "code",
   "execution_count": 330,
   "metadata": {
    "tags": []
   },
   "outputs": [
    {
     "name": "stdout",
     "output_type": "stream",
     "text": [
      "Number of depressed i64 events, Number of control i64 events: (18, 22)\n"
     ]
    }
   ],
   "source": [
    "i64_dep_yes = count_cevd(fulladjust_i64)\n",
    "print('Number of depressed i64 events, Number of control i64 events:', i64_dep_yes)"
   ]
  },
  {
   "cell_type": "code",
   "execution_count": 331,
   "metadata": {
    "tags": []
   },
   "outputs": [
    {
     "name": "stdout",
     "output_type": "stream",
     "text": [
      "Schoenfeld residuals results for I64:\n",
      "Proportional hazard assumption looks okay.\n"
     ]
    }
   ],
   "source": [
    "print('Schoenfeld residuals results for I64:')\n",
    "schoenfeld_results_i64 = cph.check_assumptions(fulladjust_i64, p_value_threshold=0.05)"
   ]
  },
  {
   "cell_type": "code",
   "execution_count": 332,
   "metadata": {
    "tags": []
   },
   "outputs": [
    {
     "data": {
      "text/html": [
       "<style type=\"text/css\">\n",
       "</style>\n",
       "<table id=\"T_eb69c\">\n",
       "  <thead>\n",
       "    <tr>\n",
       "      <th class=\"blank level0\" >&nbsp;</th>\n",
       "      <th id=\"T_eb69c_level0_col0\" class=\"col_heading level0 col0\" >coef</th>\n",
       "      <th id=\"T_eb69c_level0_col1\" class=\"col_heading level0 col1\" >exp(coef)</th>\n",
       "      <th id=\"T_eb69c_level0_col2\" class=\"col_heading level0 col2\" >se(coef)</th>\n",
       "      <th id=\"T_eb69c_level0_col3\" class=\"col_heading level0 col3\" >coef lower 95%</th>\n",
       "      <th id=\"T_eb69c_level0_col4\" class=\"col_heading level0 col4\" >coef upper 95%</th>\n",
       "      <th id=\"T_eb69c_level0_col5\" class=\"col_heading level0 col5\" >exp(coef) lower 95%</th>\n",
       "      <th id=\"T_eb69c_level0_col6\" class=\"col_heading level0 col6\" >exp(coef) upper 95%</th>\n",
       "      <th id=\"T_eb69c_level0_col7\" class=\"col_heading level0 col7\" >cmp to</th>\n",
       "      <th id=\"T_eb69c_level0_col8\" class=\"col_heading level0 col8\" >z</th>\n",
       "      <th id=\"T_eb69c_level0_col9\" class=\"col_heading level0 col9\" >p</th>\n",
       "      <th id=\"T_eb69c_level0_col10\" class=\"col_heading level0 col10\" >-log2(p)</th>\n",
       "    </tr>\n",
       "    <tr>\n",
       "      <th class=\"index_name level0\" >covariate</th>\n",
       "      <th class=\"blank col0\" >&nbsp;</th>\n",
       "      <th class=\"blank col1\" >&nbsp;</th>\n",
       "      <th class=\"blank col2\" >&nbsp;</th>\n",
       "      <th class=\"blank col3\" >&nbsp;</th>\n",
       "      <th class=\"blank col4\" >&nbsp;</th>\n",
       "      <th class=\"blank col5\" >&nbsp;</th>\n",
       "      <th class=\"blank col6\" >&nbsp;</th>\n",
       "      <th class=\"blank col7\" >&nbsp;</th>\n",
       "      <th class=\"blank col8\" >&nbsp;</th>\n",
       "      <th class=\"blank col9\" >&nbsp;</th>\n",
       "      <th class=\"blank col10\" >&nbsp;</th>\n",
       "    </tr>\n",
       "  </thead>\n",
       "  <tbody>\n",
       "    <tr>\n",
       "      <th id=\"T_eb69c_level0_row0\" class=\"row_heading level0 row0\" >age_i0</th>\n",
       "      <td id=\"T_eb69c_row0_col0\" class=\"data row0 col0\" >-0.008832</td>\n",
       "      <td id=\"T_eb69c_row0_col1\" class=\"data row0 col1\" >0.991207</td>\n",
       "      <td id=\"T_eb69c_row0_col2\" class=\"data row0 col2\" >0.029839</td>\n",
       "      <td id=\"T_eb69c_row0_col3\" class=\"data row0 col3\" >-0.067316</td>\n",
       "      <td id=\"T_eb69c_row0_col4\" class=\"data row0 col4\" >0.049651</td>\n",
       "      <td id=\"T_eb69c_row0_col5\" class=\"data row0 col5\" >0.934900</td>\n",
       "      <td id=\"T_eb69c_row0_col6\" class=\"data row0 col6\" >1.050905</td>\n",
       "      <td id=\"T_eb69c_row0_col7\" class=\"data row0 col7\" >0.000000</td>\n",
       "      <td id=\"T_eb69c_row0_col8\" class=\"data row0 col8\" >-0.295994</td>\n",
       "      <td id=\"T_eb69c_row0_col9\" class=\"data row0 col9\" >0.76723</td>\n",
       "      <td id=\"T_eb69c_row0_col10\" class=\"data row0 col10\" >0.382260</td>\n",
       "    </tr>\n",
       "    <tr>\n",
       "      <th id=\"T_eb69c_level0_row1\" class=\"row_heading level0 row1\" >male</th>\n",
       "      <td id=\"T_eb69c_row1_col0\" class=\"data row1 col0\" >-0.374192</td>\n",
       "      <td id=\"T_eb69c_row1_col1\" class=\"data row1 col1\" >0.687845</td>\n",
       "      <td id=\"T_eb69c_row1_col2\" class=\"data row1 col2\" >0.376005</td>\n",
       "      <td id=\"T_eb69c_row1_col3\" class=\"data row1 col3\" >-1.111147</td>\n",
       "      <td id=\"T_eb69c_row1_col4\" class=\"data row1 col4\" >0.362764</td>\n",
       "      <td id=\"T_eb69c_row1_col5\" class=\"data row1 col5\" >0.329181</td>\n",
       "      <td id=\"T_eb69c_row1_col6\" class=\"data row1 col6\" >1.437297</td>\n",
       "      <td id=\"T_eb69c_row1_col7\" class=\"data row1 col7\" >0.000000</td>\n",
       "      <td id=\"T_eb69c_row1_col8\" class=\"data row1 col8\" >-0.995178</td>\n",
       "      <td id=\"T_eb69c_row1_col9\" class=\"data row1 col9\" >0.31965</td>\n",
       "      <td id=\"T_eb69c_row1_col10\" class=\"data row1 col10\" >1.645436</td>\n",
       "    </tr>\n",
       "    <tr>\n",
       "      <th id=\"T_eb69c_level0_row2\" class=\"row_heading level0 row2\" >dep_yes</th>\n",
       "      <td id=\"T_eb69c_row2_col0\" class=\"data row2 col0\" >0.316497</td>\n",
       "      <td id=\"T_eb69c_row2_col1\" class=\"data row2 col1\" >1.372312</td>\n",
       "      <td id=\"T_eb69c_row2_col2\" class=\"data row2 col2\" >0.381542</td>\n",
       "      <td id=\"T_eb69c_row2_col3\" class=\"data row2 col3\" >-0.431311</td>\n",
       "      <td id=\"T_eb69c_row2_col4\" class=\"data row2 col4\" >1.064305</td>\n",
       "      <td id=\"T_eb69c_row2_col5\" class=\"data row2 col5\" >0.649657</td>\n",
       "      <td id=\"T_eb69c_row2_col6\" class=\"data row2 col6\" >2.898824</td>\n",
       "      <td id=\"T_eb69c_row2_col7\" class=\"data row2 col7\" >0.000000</td>\n",
       "      <td id=\"T_eb69c_row2_col8\" class=\"data row2 col8\" >0.829522</td>\n",
       "      <td id=\"T_eb69c_row2_col9\" class=\"data row2 col9\" >0.40681</td>\n",
       "      <td id=\"T_eb69c_row2_col10\" class=\"data row2 col10\" >1.297576</td>\n",
       "    </tr>\n",
       "  </tbody>\n",
       "</table>\n"
      ],
      "text/plain": [
       "<pandas.io.formats.style.Styler at 0x7f6904bbfa30>"
      ]
     },
     "execution_count": 332,
     "metadata": {},
     "output_type": "execute_result"
    }
   ],
   "source": [
    "#FOR I64 age and sex COX MODEL\n",
    "asadjust_i64 = cevd_df_first.dropna(subset=['i64_t2e'])\n",
    "asadjust_i64 = asadjust_i64.loc[:, ['i64_event', 'i64_t2e', 'age_i0', 'male', 'dep_yes']]\n",
    "asadjust_i64 = asadjust_i64[['i64_event', 'i64_t2e', 'age_i0', 'male', 'dep_yes']]\n",
    "cph = CoxPHFitter(penalizer=0.0001)\n",
    "cph.fit(asadjust_i64, duration_col='i64_t2e', event_col='i64_event') \n",
    "summary_df = cph.summary \n",
    "summary_df.style.format({'p': '{:.5f}'})"
   ]
  },
  {
   "cell_type": "code",
   "execution_count": 333,
   "metadata": {
    "tags": []
   },
   "outputs": [
    {
     "data": {
      "text/html": [
       "<style type=\"text/css\">\n",
       "</style>\n",
       "<table id=\"T_a2256\">\n",
       "  <thead>\n",
       "    <tr>\n",
       "      <th class=\"blank level0\" >&nbsp;</th>\n",
       "      <th id=\"T_a2256_level0_col0\" class=\"col_heading level0 col0\" >coef</th>\n",
       "      <th id=\"T_a2256_level0_col1\" class=\"col_heading level0 col1\" >exp(coef)</th>\n",
       "      <th id=\"T_a2256_level0_col2\" class=\"col_heading level0 col2\" >se(coef)</th>\n",
       "      <th id=\"T_a2256_level0_col3\" class=\"col_heading level0 col3\" >coef lower 95%</th>\n",
       "      <th id=\"T_a2256_level0_col4\" class=\"col_heading level0 col4\" >coef upper 95%</th>\n",
       "      <th id=\"T_a2256_level0_col5\" class=\"col_heading level0 col5\" >exp(coef) lower 95%</th>\n",
       "      <th id=\"T_a2256_level0_col6\" class=\"col_heading level0 col6\" >exp(coef) upper 95%</th>\n",
       "      <th id=\"T_a2256_level0_col7\" class=\"col_heading level0 col7\" >cmp to</th>\n",
       "      <th id=\"T_a2256_level0_col8\" class=\"col_heading level0 col8\" >z</th>\n",
       "      <th id=\"T_a2256_level0_col9\" class=\"col_heading level0 col9\" >p</th>\n",
       "      <th id=\"T_a2256_level0_col10\" class=\"col_heading level0 col10\" >-log2(p)</th>\n",
       "    </tr>\n",
       "    <tr>\n",
       "      <th class=\"index_name level0\" >covariate</th>\n",
       "      <th class=\"blank col0\" >&nbsp;</th>\n",
       "      <th class=\"blank col1\" >&nbsp;</th>\n",
       "      <th class=\"blank col2\" >&nbsp;</th>\n",
       "      <th class=\"blank col3\" >&nbsp;</th>\n",
       "      <th class=\"blank col4\" >&nbsp;</th>\n",
       "      <th class=\"blank col5\" >&nbsp;</th>\n",
       "      <th class=\"blank col6\" >&nbsp;</th>\n",
       "      <th class=\"blank col7\" >&nbsp;</th>\n",
       "      <th class=\"blank col8\" >&nbsp;</th>\n",
       "      <th class=\"blank col9\" >&nbsp;</th>\n",
       "      <th class=\"blank col10\" >&nbsp;</th>\n",
       "    </tr>\n",
       "  </thead>\n",
       "  <tbody>\n",
       "    <tr>\n",
       "      <th id=\"T_a2256_level0_row0\" class=\"row_heading level0 row0\" >dep_yes</th>\n",
       "      <td id=\"T_a2256_row0_col0\" class=\"data row0 col0\" >0.496798</td>\n",
       "      <td id=\"T_a2256_row0_col1\" class=\"data row0 col1\" >1.643451</td>\n",
       "      <td id=\"T_a2256_row0_col2\" class=\"data row0 col2\" >0.339437</td>\n",
       "      <td id=\"T_a2256_row0_col3\" class=\"data row0 col3\" >-0.168485</td>\n",
       "      <td id=\"T_a2256_row0_col4\" class=\"data row0 col4\" >1.162082</td>\n",
       "      <td id=\"T_a2256_row0_col5\" class=\"data row0 col5\" >0.844944</td>\n",
       "      <td id=\"T_a2256_row0_col6\" class=\"data row0 col6\" >3.196582</td>\n",
       "      <td id=\"T_a2256_row0_col7\" class=\"data row0 col7\" >0.000000</td>\n",
       "      <td id=\"T_a2256_row0_col8\" class=\"data row0 col8\" >1.463597</td>\n",
       "      <td id=\"T_a2256_row0_col9\" class=\"data row0 col9\" >0.14330</td>\n",
       "      <td id=\"T_a2256_row0_col10\" class=\"data row0 col10\" >2.802847</td>\n",
       "    </tr>\n",
       "  </tbody>\n",
       "</table>\n"
      ],
      "text/plain": [
       "<pandas.io.formats.style.Styler at 0x7f6904bbfac0>"
      ]
     },
     "execution_count": 333,
     "metadata": {},
     "output_type": "execute_result"
    }
   ],
   "source": [
    "#FOR I64 unadjusted COX MODEL\n",
    "unadjust_i64 = cevd_df_first.dropna(subset=['i64_t2e'])\n",
    "unadjust_i64 = unadjust_i64.loc[:, ['i64_event', 'i64_t2e', 'dep_yes']]\n",
    "unadjust_i64 = unadjust_i64[['i64_event', 'i64_t2e', 'dep_yes']]\n",
    "cph = CoxPHFitter(penalizer=0.0001)\n",
    "cph.fit(unadjust_i64, duration_col='i64_t2e', event_col='i64_event') \n",
    "summary_df = cph.summary \n",
    "summary_df.style.format({'p': '{:.5f}'})"
   ]
  },
  {
   "cell_type": "code",
   "execution_count": 334,
   "metadata": {
    "tags": []
   },
   "outputs": [],
   "source": [
    "#i65"
   ]
  },
  {
   "cell_type": "code",
   "execution_count": 335,
   "metadata": {
    "tags": []
   },
   "outputs": [
    {
     "data": {
      "text/html": [
       "<style type=\"text/css\">\n",
       "</style>\n",
       "<table id=\"T_bf016\">\n",
       "  <thead>\n",
       "    <tr>\n",
       "      <th class=\"blank level0\" >&nbsp;</th>\n",
       "      <th id=\"T_bf016_level0_col0\" class=\"col_heading level0 col0\" >coef</th>\n",
       "      <th id=\"T_bf016_level0_col1\" class=\"col_heading level0 col1\" >exp(coef)</th>\n",
       "      <th id=\"T_bf016_level0_col2\" class=\"col_heading level0 col2\" >se(coef)</th>\n",
       "      <th id=\"T_bf016_level0_col3\" class=\"col_heading level0 col3\" >coef lower 95%</th>\n",
       "      <th id=\"T_bf016_level0_col4\" class=\"col_heading level0 col4\" >coef upper 95%</th>\n",
       "      <th id=\"T_bf016_level0_col5\" class=\"col_heading level0 col5\" >exp(coef) lower 95%</th>\n",
       "      <th id=\"T_bf016_level0_col6\" class=\"col_heading level0 col6\" >exp(coef) upper 95%</th>\n",
       "      <th id=\"T_bf016_level0_col7\" class=\"col_heading level0 col7\" >cmp to</th>\n",
       "      <th id=\"T_bf016_level0_col8\" class=\"col_heading level0 col8\" >z</th>\n",
       "      <th id=\"T_bf016_level0_col9\" class=\"col_heading level0 col9\" >p</th>\n",
       "      <th id=\"T_bf016_level0_col10\" class=\"col_heading level0 col10\" >-log2(p)</th>\n",
       "    </tr>\n",
       "    <tr>\n",
       "      <th class=\"index_name level0\" >covariate</th>\n",
       "      <th class=\"blank col0\" >&nbsp;</th>\n",
       "      <th class=\"blank col1\" >&nbsp;</th>\n",
       "      <th class=\"blank col2\" >&nbsp;</th>\n",
       "      <th class=\"blank col3\" >&nbsp;</th>\n",
       "      <th class=\"blank col4\" >&nbsp;</th>\n",
       "      <th class=\"blank col5\" >&nbsp;</th>\n",
       "      <th class=\"blank col6\" >&nbsp;</th>\n",
       "      <th class=\"blank col7\" >&nbsp;</th>\n",
       "      <th class=\"blank col8\" >&nbsp;</th>\n",
       "      <th class=\"blank col9\" >&nbsp;</th>\n",
       "      <th class=\"blank col10\" >&nbsp;</th>\n",
       "    </tr>\n",
       "  </thead>\n",
       "  <tbody>\n",
       "    <tr>\n",
       "      <th id=\"T_bf016_level0_row0\" class=\"row_heading level0 row0\" >age_i0</th>\n",
       "      <td id=\"T_bf016_row0_col0\" class=\"data row0 col0\" >-0.025085</td>\n",
       "      <td id=\"T_bf016_row0_col1\" class=\"data row0 col1\" >0.975227</td>\n",
       "      <td id=\"T_bf016_row0_col2\" class=\"data row0 col2\" >0.037814</td>\n",
       "      <td id=\"T_bf016_row0_col3\" class=\"data row0 col3\" >-0.099200</td>\n",
       "      <td id=\"T_bf016_row0_col4\" class=\"data row0 col4\" >0.049029</td>\n",
       "      <td id=\"T_bf016_row0_col5\" class=\"data row0 col5\" >0.905561</td>\n",
       "      <td id=\"T_bf016_row0_col6\" class=\"data row0 col6\" >1.050251</td>\n",
       "      <td id=\"T_bf016_row0_col7\" class=\"data row0 col7\" >0.000000</td>\n",
       "      <td id=\"T_bf016_row0_col8\" class=\"data row0 col8\" >-0.663386</td>\n",
       "      <td id=\"T_bf016_row0_col9\" class=\"data row0 col9\" >0.50708</td>\n",
       "      <td id=\"T_bf016_row0_col10\" class=\"data row0 col10\" >0.979705</td>\n",
       "    </tr>\n",
       "    <tr>\n",
       "      <th id=\"T_bf016_level0_row1\" class=\"row_heading level0 row1\" >male</th>\n",
       "      <td id=\"T_bf016_row1_col0\" class=\"data row1 col0\" >-0.420925</td>\n",
       "      <td id=\"T_bf016_row1_col1\" class=\"data row1 col1\" >0.656439</td>\n",
       "      <td id=\"T_bf016_row1_col2\" class=\"data row1 col2\" >0.333551</td>\n",
       "      <td id=\"T_bf016_row1_col3\" class=\"data row1 col3\" >-1.074672</td>\n",
       "      <td id=\"T_bf016_row1_col4\" class=\"data row1 col4\" >0.232823</td>\n",
       "      <td id=\"T_bf016_row1_col5\" class=\"data row1 col5\" >0.341410</td>\n",
       "      <td id=\"T_bf016_row1_col6\" class=\"data row1 col6\" >1.262158</td>\n",
       "      <td id=\"T_bf016_row1_col7\" class=\"data row1 col7\" >0.000000</td>\n",
       "      <td id=\"T_bf016_row1_col8\" class=\"data row1 col8\" >-1.261951</td>\n",
       "      <td id=\"T_bf016_row1_col9\" class=\"data row1 col9\" >0.20697</td>\n",
       "      <td id=\"T_bf016_row1_col10\" class=\"data row1 col10\" >2.272531</td>\n",
       "    </tr>\n",
       "    <tr>\n",
       "      <th id=\"T_bf016_level0_row2\" class=\"row_heading level0 row2\" >pp</th>\n",
       "      <td id=\"T_bf016_row2_col0\" class=\"data row2 col0\" >0.002357</td>\n",
       "      <td id=\"T_bf016_row2_col1\" class=\"data row2 col1\" >1.002360</td>\n",
       "      <td id=\"T_bf016_row2_col2\" class=\"data row2 col2\" >0.007328</td>\n",
       "      <td id=\"T_bf016_row2_col3\" class=\"data row2 col3\" >-0.012005</td>\n",
       "      <td id=\"T_bf016_row2_col4\" class=\"data row2 col4\" >0.016720</td>\n",
       "      <td id=\"T_bf016_row2_col5\" class=\"data row2 col5\" >0.988067</td>\n",
       "      <td id=\"T_bf016_row2_col6\" class=\"data row2 col6\" >1.016860</td>\n",
       "      <td id=\"T_bf016_row2_col7\" class=\"data row2 col7\" >0.000000</td>\n",
       "      <td id=\"T_bf016_row2_col8\" class=\"data row2 col8\" >0.321714</td>\n",
       "      <td id=\"T_bf016_row2_col9\" class=\"data row2 col9\" >0.74767</td>\n",
       "      <td id=\"T_bf016_row2_col10\" class=\"data row2 col10\" >0.419528</td>\n",
       "    </tr>\n",
       "    <tr>\n",
       "      <th id=\"T_bf016_level0_row3\" class=\"row_heading level0 row3\" >bmi</th>\n",
       "      <td id=\"T_bf016_row3_col0\" class=\"data row3 col0\" >-0.072068</td>\n",
       "      <td id=\"T_bf016_row3_col1\" class=\"data row3 col1\" >0.930468</td>\n",
       "      <td id=\"T_bf016_row3_col2\" class=\"data row3 col2\" >0.033059</td>\n",
       "      <td id=\"T_bf016_row3_col3\" class=\"data row3 col3\" >-0.136861</td>\n",
       "      <td id=\"T_bf016_row3_col4\" class=\"data row3 col4\" >-0.007274</td>\n",
       "      <td id=\"T_bf016_row3_col5\" class=\"data row3 col5\" >0.872091</td>\n",
       "      <td id=\"T_bf016_row3_col6\" class=\"data row3 col6\" >0.992752</td>\n",
       "      <td id=\"T_bf016_row3_col7\" class=\"data row3 col7\" >0.000000</td>\n",
       "      <td id=\"T_bf016_row3_col8\" class=\"data row3 col8\" >-2.179995</td>\n",
       "      <td id=\"T_bf016_row3_col9\" class=\"data row3 col9\" >0.02926</td>\n",
       "      <td id=\"T_bf016_row3_col10\" class=\"data row3 col10\" >5.095035</td>\n",
       "    </tr>\n",
       "    <tr>\n",
       "      <th id=\"T_bf016_level0_row4\" class=\"row_heading level0 row4\" >dep_yes</th>\n",
       "      <td id=\"T_bf016_row4_col0\" class=\"data row4 col0\" >0.893856</td>\n",
       "      <td id=\"T_bf016_row4_col1\" class=\"data row4 col1\" >2.444537</td>\n",
       "      <td id=\"T_bf016_row4_col2\" class=\"data row4 col2\" >0.402619</td>\n",
       "      <td id=\"T_bf016_row4_col3\" class=\"data row4 col3\" >0.104738</td>\n",
       "      <td id=\"T_bf016_row4_col4\" class=\"data row4 col4\" >1.682974</td>\n",
       "      <td id=\"T_bf016_row4_col5\" class=\"data row4 col5\" >1.110420</td>\n",
       "      <td id=\"T_bf016_row4_col6\" class=\"data row4 col6\" >5.381534</td>\n",
       "      <td id=\"T_bf016_row4_col7\" class=\"data row4 col7\" >0.000000</td>\n",
       "      <td id=\"T_bf016_row4_col8\" class=\"data row4 col8\" >2.220106</td>\n",
       "      <td id=\"T_bf016_row4_col9\" class=\"data row4 col9\" >0.02641</td>\n",
       "      <td id=\"T_bf016_row4_col10\" class=\"data row4 col10\" >5.242685</td>\n",
       "    </tr>\n",
       "  </tbody>\n",
       "</table>\n"
      ],
      "text/plain": [
       "<pandas.io.formats.style.Styler at 0x7f6904359eb0>"
      ]
     },
     "execution_count": 335,
     "metadata": {},
     "output_type": "execute_result"
    }
   ],
   "source": [
    "#cox model i65 - fully adjusted\n",
    "fulladjust_i65 = cevd_df_first.dropna(subset=['i65_t2e', 'pp'])\n",
    "fulladjust_i65 = fulladjust_i65.loc[:, ['i65_event', 'i65_t2e', 'age_i0', 'male', 'pp', 'bmi', 'dep_yes']]\n",
    "fulladjust_i65 = fulladjust_i65[['i65_event', 'i65_t2e', 'age_i0', 'male', 'pp', 'bmi', 'dep_yes']]\n",
    "#fulladjust_i65_date = pd.get_dummies(fulladjust_i65, columns=['ipaq', 'smok_stat', 'alc_freq_filter'])\n",
    "cph = CoxPHFitter(penalizer=0.0001)\n",
    "cph.fit(fulladjust_i65, duration_col='i65_t2e', event_col='i65_event') \n",
    "summary_df = cph.summary \n",
    "summary_df.style.format({'p': '{:.5f}'})"
   ]
  },
  {
   "cell_type": "code",
   "execution_count": 336,
   "metadata": {
    "tags": []
   },
   "outputs": [
    {
     "name": "stdout",
     "output_type": "stream",
     "text": [
      "Number of depressed i65 events, Number of control i65 events: (17, 32)\n"
     ]
    }
   ],
   "source": [
    "i65_dep_yes = count_cevd(fulladjust_i65)\n",
    "print('Number of depressed i65 events, Number of control i65 events:', i65_dep_yes)"
   ]
  },
  {
   "cell_type": "code",
   "execution_count": 338,
   "metadata": {
    "tags": []
   },
   "outputs": [
    {
     "name": "stdout",
     "output_type": "stream",
     "text": [
      "Schoenfeld residuals results for I65:\n",
      "The ``p_value_threshold`` is set at 0.05. Even under the null hypothesis of no violations, some\n",
      "covariates will be below the threshold by chance. This is compounded when there are many covariates.\n",
      "Similarly, when there are lots of observations, even minor deviances from the proportional hazard\n",
      "assumption will be flagged.\n",
      "\n",
      "With that in mind, it's best to use a combination of statistical tests and visual tests to determine\n",
      "the most serious violations. Produce visual plots using ``check_assumptions(..., show_plots=True)``\n",
      "and looking for non-constant lines. See link [A] below for a full example.\n",
      "\n"
     ]
    },
    {
     "data": {
      "text/html": [
       "<div>\n",
       "<style scoped>\n",
       "    .dataframe tbody tr th:only-of-type {\n",
       "        vertical-align: middle;\n",
       "    }\n",
       "\n",
       "    .dataframe tbody tr th {\n",
       "        vertical-align: top;\n",
       "    }\n",
       "\n",
       "    .dataframe thead th {\n",
       "        text-align: right;\n",
       "    }\n",
       "</style>\n",
       "<table border=\"1\" class=\"dataframe\">\n",
       "  <tbody>\n",
       "    <tr>\n",
       "      <th>null_distribution</th>\n",
       "      <td>chi squared</td>\n",
       "    </tr>\n",
       "    <tr>\n",
       "      <th>degrees_of_freedom</th>\n",
       "      <td>1</td>\n",
       "    </tr>\n",
       "    <tr>\n",
       "      <th>model</th>\n",
       "      <td>&lt;lifelines.CoxPHFitter: fitted with 49 total o...</td>\n",
       "    </tr>\n",
       "    <tr>\n",
       "      <th>test_name</th>\n",
       "      <td>proportional_hazard_test</td>\n",
       "    </tr>\n",
       "  </tbody>\n",
       "</table>\n",
       "</div><table border=\"1\" class=\"dataframe\">\n",
       "  <thead>\n",
       "    <tr style=\"text-align: right;\">\n",
       "      <th></th>\n",
       "      <th></th>\n",
       "      <th>test_statistic</th>\n",
       "      <th>p</th>\n",
       "      <th>-log2(p)</th>\n",
       "    </tr>\n",
       "  </thead>\n",
       "  <tbody>\n",
       "    <tr>\n",
       "      <th rowspan=\"2\" valign=\"top\">age_i0</th>\n",
       "      <th>km</th>\n",
       "      <td>0.12</td>\n",
       "      <td>0.73</td>\n",
       "      <td>0.46</td>\n",
       "    </tr>\n",
       "    <tr>\n",
       "      <th>rank</th>\n",
       "      <td>0.12</td>\n",
       "      <td>0.73</td>\n",
       "      <td>0.46</td>\n",
       "    </tr>\n",
       "    <tr>\n",
       "      <th rowspan=\"2\" valign=\"top\">bmi</th>\n",
       "      <th>km</th>\n",
       "      <td>3.38</td>\n",
       "      <td>0.07</td>\n",
       "      <td>3.92</td>\n",
       "    </tr>\n",
       "    <tr>\n",
       "      <th>rank</th>\n",
       "      <td>3.38</td>\n",
       "      <td>0.07</td>\n",
       "      <td>3.92</td>\n",
       "    </tr>\n",
       "    <tr>\n",
       "      <th rowspan=\"2\" valign=\"top\">dep_yes</th>\n",
       "      <th>km</th>\n",
       "      <td>0.13</td>\n",
       "      <td>0.72</td>\n",
       "      <td>0.48</td>\n",
       "    </tr>\n",
       "    <tr>\n",
       "      <th>rank</th>\n",
       "      <td>0.13</td>\n",
       "      <td>0.72</td>\n",
       "      <td>0.48</td>\n",
       "    </tr>\n",
       "    <tr>\n",
       "      <th rowspan=\"2\" valign=\"top\">male</th>\n",
       "      <th>km</th>\n",
       "      <td>4.59</td>\n",
       "      <td>0.03</td>\n",
       "      <td>4.96</td>\n",
       "    </tr>\n",
       "    <tr>\n",
       "      <th>rank</th>\n",
       "      <td>4.59</td>\n",
       "      <td>0.03</td>\n",
       "      <td>4.96</td>\n",
       "    </tr>\n",
       "    <tr>\n",
       "      <th rowspan=\"2\" valign=\"top\">pp</th>\n",
       "      <th>km</th>\n",
       "      <td>0.37</td>\n",
       "      <td>0.54</td>\n",
       "      <td>0.88</td>\n",
       "    </tr>\n",
       "    <tr>\n",
       "      <th>rank</th>\n",
       "      <td>0.37</td>\n",
       "      <td>0.54</td>\n",
       "      <td>0.88</td>\n",
       "    </tr>\n",
       "  </tbody>\n",
       "</table>"
      ],
      "text/latex": [
       "\\begin{tabular}{llrrr}\n",
       " &  & test_statistic & p & -log2(p) \\\\\n",
       "\\multirow[c]{2}{*}{age_i0} & km & 0.12 & 0.73 & 0.46 \\\\\n",
       " & rank & 0.12 & 0.73 & 0.46 \\\\\n",
       "\\multirow[c]{2}{*}{bmi} & km & 3.38 & 0.07 & 3.92 \\\\\n",
       " & rank & 3.38 & 0.07 & 3.92 \\\\\n",
       "\\multirow[c]{2}{*}{dep_yes} & km & 0.13 & 0.72 & 0.48 \\\\\n",
       " & rank & 0.13 & 0.72 & 0.48 \\\\\n",
       "\\multirow[c]{2}{*}{male} & km & 4.59 & 0.03 & 4.96 \\\\\n",
       " & rank & 4.59 & 0.03 & 4.96 \\\\\n",
       "\\multirow[c]{2}{*}{pp} & km & 0.37 & 0.54 & 0.88 \\\\\n",
       " & rank & 0.37 & 0.54 & 0.88 \\\\\n",
       "\\end{tabular}\n"
      ],
      "text/plain": [
       "<lifelines.StatisticalResult: proportional_hazard_test>\n",
       " null_distribution = chi squared\n",
       "degrees_of_freedom = 1\n",
       "             model = <lifelines.CoxPHFitter: fitted with 49 total observations, 0 right-censored observations>\n",
       "         test_name = proportional_hazard_test\n",
       "\n",
       "---\n",
       "              test_statistic    p  -log2(p)\n",
       "age_i0  km              0.12 0.73      0.46\n",
       "        rank            0.12 0.73      0.46\n",
       "bmi     km              3.38 0.07      3.92\n",
       "        rank            3.38 0.07      3.92\n",
       "dep_yes km              0.13 0.72      0.48\n",
       "        rank            0.13 0.72      0.48\n",
       "male    km              4.59 0.03      4.96\n",
       "        rank            4.59 0.03      4.96\n",
       "pp      km              0.37 0.54      0.88\n",
       "        rank            0.37 0.54      0.88"
      ]
     },
     "metadata": {},
     "output_type": "display_data"
    },
    {
     "name": "stdout",
     "output_type": "stream",
     "text": [
      "\n",
      "\n",
      "1. Variable 'male' failed the non-proportional test: p-value is 0.0322.\n",
      "\n",
      "   Advice: with so few unique values (only 2), you can include `strata=['male', ...]` in the call in\n",
      "`.fit`. See documentation in link [E] below.\n",
      "\n",
      "---\n",
      "[A]  https://lifelines.readthedocs.io/en/latest/jupyter_notebooks/Proportional%20hazard%20assumption.html\n",
      "[B]  https://lifelines.readthedocs.io/en/latest/jupyter_notebooks/Proportional%20hazard%20assumption.html#Bin-variable-and-stratify-on-it\n",
      "[C]  https://lifelines.readthedocs.io/en/latest/jupyter_notebooks/Proportional%20hazard%20assumption.html#Introduce-time-varying-covariates\n",
      "[D]  https://lifelines.readthedocs.io/en/latest/jupyter_notebooks/Proportional%20hazard%20assumption.html#Modify-the-functional-form\n",
      "[E]  https://lifelines.readthedocs.io/en/latest/jupyter_notebooks/Proportional%20hazard%20assumption.html#Stratification\n",
      "\n"
     ]
    }
   ],
   "source": [
    "print('Schoenfeld residuals results for I65:')\n",
    "schoenfeld_results_i65 = cph.check_assumptions(fulladjust_i65, p_value_threshold=0.05)"
   ]
  },
  {
   "cell_type": "code",
   "execution_count": 339,
   "metadata": {
    "tags": []
   },
   "outputs": [
    {
     "data": {
      "text/html": [
       "<style type=\"text/css\">\n",
       "</style>\n",
       "<table id=\"T_4ddd5\">\n",
       "  <thead>\n",
       "    <tr>\n",
       "      <th class=\"blank level0\" >&nbsp;</th>\n",
       "      <th id=\"T_4ddd5_level0_col0\" class=\"col_heading level0 col0\" >coef</th>\n",
       "      <th id=\"T_4ddd5_level0_col1\" class=\"col_heading level0 col1\" >exp(coef)</th>\n",
       "      <th id=\"T_4ddd5_level0_col2\" class=\"col_heading level0 col2\" >se(coef)</th>\n",
       "      <th id=\"T_4ddd5_level0_col3\" class=\"col_heading level0 col3\" >coef lower 95%</th>\n",
       "      <th id=\"T_4ddd5_level0_col4\" class=\"col_heading level0 col4\" >coef upper 95%</th>\n",
       "      <th id=\"T_4ddd5_level0_col5\" class=\"col_heading level0 col5\" >exp(coef) lower 95%</th>\n",
       "      <th id=\"T_4ddd5_level0_col6\" class=\"col_heading level0 col6\" >exp(coef) upper 95%</th>\n",
       "      <th id=\"T_4ddd5_level0_col7\" class=\"col_heading level0 col7\" >cmp to</th>\n",
       "      <th id=\"T_4ddd5_level0_col8\" class=\"col_heading level0 col8\" >z</th>\n",
       "      <th id=\"T_4ddd5_level0_col9\" class=\"col_heading level0 col9\" >p</th>\n",
       "      <th id=\"T_4ddd5_level0_col10\" class=\"col_heading level0 col10\" >-log2(p)</th>\n",
       "    </tr>\n",
       "    <tr>\n",
       "      <th class=\"index_name level0\" >covariate</th>\n",
       "      <th class=\"blank col0\" >&nbsp;</th>\n",
       "      <th class=\"blank col1\" >&nbsp;</th>\n",
       "      <th class=\"blank col2\" >&nbsp;</th>\n",
       "      <th class=\"blank col3\" >&nbsp;</th>\n",
       "      <th class=\"blank col4\" >&nbsp;</th>\n",
       "      <th class=\"blank col5\" >&nbsp;</th>\n",
       "      <th class=\"blank col6\" >&nbsp;</th>\n",
       "      <th class=\"blank col7\" >&nbsp;</th>\n",
       "      <th class=\"blank col8\" >&nbsp;</th>\n",
       "      <th class=\"blank col9\" >&nbsp;</th>\n",
       "      <th class=\"blank col10\" >&nbsp;</th>\n",
       "    </tr>\n",
       "  </thead>\n",
       "  <tbody>\n",
       "    <tr>\n",
       "      <th id=\"T_4ddd5_level0_row0\" class=\"row_heading level0 row0\" >age_i0</th>\n",
       "      <td id=\"T_4ddd5_row0_col0\" class=\"data row0 col0\" >-0.049917</td>\n",
       "      <td id=\"T_4ddd5_row0_col1\" class=\"data row0 col1\" >0.951308</td>\n",
       "      <td id=\"T_4ddd5_row0_col2\" class=\"data row0 col2\" >0.035046</td>\n",
       "      <td id=\"T_4ddd5_row0_col3\" class=\"data row0 col3\" >-0.118606</td>\n",
       "      <td id=\"T_4ddd5_row0_col4\" class=\"data row0 col4\" >0.018772</td>\n",
       "      <td id=\"T_4ddd5_row0_col5\" class=\"data row0 col5\" >0.888157</td>\n",
       "      <td id=\"T_4ddd5_row0_col6\" class=\"data row0 col6\" >1.018950</td>\n",
       "      <td id=\"T_4ddd5_row0_col7\" class=\"data row0 col7\" >0.000000</td>\n",
       "      <td id=\"T_4ddd5_row0_col8\" class=\"data row0 col8\" >-1.424322</td>\n",
       "      <td id=\"T_4ddd5_row0_col9\" class=\"data row0 col9\" >0.15435</td>\n",
       "      <td id=\"T_4ddd5_row0_col10\" class=\"data row0 col10\" >2.695692</td>\n",
       "    </tr>\n",
       "    <tr>\n",
       "      <th id=\"T_4ddd5_level0_row1\" class=\"row_heading level0 row1\" >male</th>\n",
       "      <td id=\"T_4ddd5_row1_col0\" class=\"data row1 col0\" >-0.096094</td>\n",
       "      <td id=\"T_4ddd5_row1_col1\" class=\"data row1 col1\" >0.908379</td>\n",
       "      <td id=\"T_4ddd5_row1_col2\" class=\"data row1 col2\" >0.311641</td>\n",
       "      <td id=\"T_4ddd5_row1_col3\" class=\"data row1 col3\" >-0.706899</td>\n",
       "      <td id=\"T_4ddd5_row1_col4\" class=\"data row1 col4\" >0.514712</td>\n",
       "      <td id=\"T_4ddd5_row1_col5\" class=\"data row1 col5\" >0.493171</td>\n",
       "      <td id=\"T_4ddd5_row1_col6\" class=\"data row1 col6\" >1.673157</td>\n",
       "      <td id=\"T_4ddd5_row1_col7\" class=\"data row1 col7\" >0.000000</td>\n",
       "      <td id=\"T_4ddd5_row1_col8\" class=\"data row1 col8\" >-0.308347</td>\n",
       "      <td id=\"T_4ddd5_row1_col9\" class=\"data row1 col9\" >0.75782</td>\n",
       "      <td id=\"T_4ddd5_row1_col10\" class=\"data row1 col10\" >0.400076</td>\n",
       "    </tr>\n",
       "    <tr>\n",
       "      <th id=\"T_4ddd5_level0_row2\" class=\"row_heading level0 row2\" >dep_yes</th>\n",
       "      <td id=\"T_4ddd5_row2_col0\" class=\"data row2 col0\" >0.319172</td>\n",
       "      <td id=\"T_4ddd5_row2_col1\" class=\"data row2 col1\" >1.375988</td>\n",
       "      <td id=\"T_4ddd5_row2_col2\" class=\"data row2 col2\" >0.320777</td>\n",
       "      <td id=\"T_4ddd5_row2_col3\" class=\"data row2 col3\" >-0.309539</td>\n",
       "      <td id=\"T_4ddd5_row2_col4\" class=\"data row2 col4\" >0.947883</td>\n",
       "      <td id=\"T_4ddd5_row2_col5\" class=\"data row2 col5\" >0.733785</td>\n",
       "      <td id=\"T_4ddd5_row2_col6\" class=\"data row2 col6\" >2.580241</td>\n",
       "      <td id=\"T_4ddd5_row2_col7\" class=\"data row2 col7\" >0.000000</td>\n",
       "      <td id=\"T_4ddd5_row2_col8\" class=\"data row2 col8\" >0.994998</td>\n",
       "      <td id=\"T_4ddd5_row2_col9\" class=\"data row2 col9\" >0.31974</td>\n",
       "      <td id=\"T_4ddd5_row2_col10\" class=\"data row2 col10\" >1.645041</td>\n",
       "    </tr>\n",
       "  </tbody>\n",
       "</table>\n"
      ],
      "text/plain": [
       "<pandas.io.formats.style.Styler at 0x7f690b8d60a0>"
      ]
     },
     "execution_count": 339,
     "metadata": {},
     "output_type": "execute_result"
    }
   ],
   "source": [
    "#FOR I65 age and sex COX MODEL\n",
    "asadjust_i65 = cevd_df_first.dropna(subset=['i65_t2e'])\n",
    "asadjust_i65 = asadjust_i65.loc[:, ['i65_event', 'i65_t2e', 'age_i0', 'male', 'dep_yes']]\n",
    "asadjust_i65 = asadjust_i65[['i65_event', 'i65_t2e', 'age_i0', 'male', 'dep_yes']]\n",
    "cph = CoxPHFitter(penalizer=0.0001)\n",
    "cph.fit(asadjust_i65, duration_col='i65_t2e', event_col='i65_event') \n",
    "summary_df = cph.summary \n",
    "summary_df.style.format({'p': '{:.5f}'})"
   ]
  },
  {
   "cell_type": "code",
   "execution_count": 340,
   "metadata": {
    "tags": []
   },
   "outputs": [
    {
     "data": {
      "text/html": [
       "<style type=\"text/css\">\n",
       "</style>\n",
       "<table id=\"T_b7e1f\">\n",
       "  <thead>\n",
       "    <tr>\n",
       "      <th class=\"blank level0\" >&nbsp;</th>\n",
       "      <th id=\"T_b7e1f_level0_col0\" class=\"col_heading level0 col0\" >coef</th>\n",
       "      <th id=\"T_b7e1f_level0_col1\" class=\"col_heading level0 col1\" >exp(coef)</th>\n",
       "      <th id=\"T_b7e1f_level0_col2\" class=\"col_heading level0 col2\" >se(coef)</th>\n",
       "      <th id=\"T_b7e1f_level0_col3\" class=\"col_heading level0 col3\" >coef lower 95%</th>\n",
       "      <th id=\"T_b7e1f_level0_col4\" class=\"col_heading level0 col4\" >coef upper 95%</th>\n",
       "      <th id=\"T_b7e1f_level0_col5\" class=\"col_heading level0 col5\" >exp(coef) lower 95%</th>\n",
       "      <th id=\"T_b7e1f_level0_col6\" class=\"col_heading level0 col6\" >exp(coef) upper 95%</th>\n",
       "      <th id=\"T_b7e1f_level0_col7\" class=\"col_heading level0 col7\" >cmp to</th>\n",
       "      <th id=\"T_b7e1f_level0_col8\" class=\"col_heading level0 col8\" >z</th>\n",
       "      <th id=\"T_b7e1f_level0_col9\" class=\"col_heading level0 col9\" >p</th>\n",
       "      <th id=\"T_b7e1f_level0_col10\" class=\"col_heading level0 col10\" >-log2(p)</th>\n",
       "    </tr>\n",
       "    <tr>\n",
       "      <th class=\"index_name level0\" >covariate</th>\n",
       "      <th class=\"blank col0\" >&nbsp;</th>\n",
       "      <th class=\"blank col1\" >&nbsp;</th>\n",
       "      <th class=\"blank col2\" >&nbsp;</th>\n",
       "      <th class=\"blank col3\" >&nbsp;</th>\n",
       "      <th class=\"blank col4\" >&nbsp;</th>\n",
       "      <th class=\"blank col5\" >&nbsp;</th>\n",
       "      <th class=\"blank col6\" >&nbsp;</th>\n",
       "      <th class=\"blank col7\" >&nbsp;</th>\n",
       "      <th class=\"blank col8\" >&nbsp;</th>\n",
       "      <th class=\"blank col9\" >&nbsp;</th>\n",
       "      <th class=\"blank col10\" >&nbsp;</th>\n",
       "    </tr>\n",
       "  </thead>\n",
       "  <tbody>\n",
       "    <tr>\n",
       "      <th id=\"T_b7e1f_level0_row0\" class=\"row_heading level0 row0\" >dep_yes</th>\n",
       "      <td id=\"T_b7e1f_row0_col0\" class=\"data row0 col0\" >0.423665</td>\n",
       "      <td id=\"T_b7e1f_row0_col1\" class=\"data row0 col1\" >1.527549</td>\n",
       "      <td id=\"T_b7e1f_row0_col2\" class=\"data row0 col2\" >0.307538</td>\n",
       "      <td id=\"T_b7e1f_row0_col3\" class=\"data row0 col3\" >-0.179098</td>\n",
       "      <td id=\"T_b7e1f_row0_col4\" class=\"data row0 col4\" >1.026428</td>\n",
       "      <td id=\"T_b7e1f_row0_col5\" class=\"data row0 col5\" >0.836024</td>\n",
       "      <td id=\"T_b7e1f_row0_col6\" class=\"data row0 col6\" >2.791077</td>\n",
       "      <td id=\"T_b7e1f_row0_col7\" class=\"data row0 col7\" >0.000000</td>\n",
       "      <td id=\"T_b7e1f_row0_col8\" class=\"data row0 col8\" >1.377603</td>\n",
       "      <td id=\"T_b7e1f_row0_col9\" class=\"data row0 col9\" >0.16833</td>\n",
       "      <td id=\"T_b7e1f_row0_col10\" class=\"data row0 col10\" >2.570670</td>\n",
       "    </tr>\n",
       "  </tbody>\n",
       "</table>\n"
      ],
      "text/plain": [
       "<pandas.io.formats.style.Styler at 0x7f691352f370>"
      ]
     },
     "execution_count": 340,
     "metadata": {},
     "output_type": "execute_result"
    }
   ],
   "source": [
    "#FOR I65 unadjusted COX MODEL\n",
    "unadjust_i65 = cevd_df_first.dropna(subset=['i65_t2e'])\n",
    "unadjust_i65 = unadjust_i65.loc[:, ['i65_event', 'i65_t2e', 'dep_yes']]\n",
    "unadjust_i65 = unadjust_i65[['i65_event', 'i65_t2e', 'dep_yes']]\n",
    "cph = CoxPHFitter(penalizer=0.0001)\n",
    "cph.fit(unadjust_i65, duration_col='i65_t2e', event_col='i65_event') \n",
    "summary_df = cph.summary \n",
    "summary_df.style.format({'p': '{:.5f}'})"
   ]
  },
  {
   "cell_type": "code",
   "execution_count": 341,
   "metadata": {
    "tags": []
   },
   "outputs": [],
   "source": [
    "#i66"
   ]
  },
  {
   "cell_type": "code",
   "execution_count": 342,
   "metadata": {
    "tags": []
   },
   "outputs": [
    {
     "name": "stderr",
     "output_type": "stream",
     "text": [
      "/opt/conda/lib/python3.9/site-packages/lifelines/fitters/coxph_fitter.py:1527: LinAlgWarning: Ill-conditioned matrix (rcond=0): result may not be accurate.\n",
      "  inv_h_dot_g_T = spsolve(-h, g, assume_a=\"pos\", check_finite=False)\n"
     ]
    },
    {
     "ename": "ConvergenceError",
     "evalue": "delta contains nan value(s). Convergence halted. Please see the following tips in the lifelines documentation: https://lifelines.readthedocs.io/en/latest/Examples.html#problems-with-convergence-in-the-cox-proportional-hazard-model",
     "output_type": "error",
     "traceback": [
      "\u001b[0;31m---------------------------------------------------------------------------\u001b[0m",
      "\u001b[0;31mConvergenceError\u001b[0m                          Traceback (most recent call last)",
      "Cell \u001b[0;32mIn[342], line 7\u001b[0m\n\u001b[1;32m      5\u001b[0m \u001b[38;5;66;03m#fulladjust_i66_date = pd.get_dummies(fulladjust_i66, columns=['ipaq', 'smok_stat', 'alc_freq_filter'])\u001b[39;00m\n\u001b[1;32m      6\u001b[0m cph \u001b[38;5;241m=\u001b[39m CoxPHFitter(penalizer\u001b[38;5;241m=\u001b[39m\u001b[38;5;241m0.0001\u001b[39m)\n\u001b[0;32m----> 7\u001b[0m \u001b[43mcph\u001b[49m\u001b[38;5;241;43m.\u001b[39;49m\u001b[43mfit\u001b[49m\u001b[43m(\u001b[49m\u001b[43mfulladjust_i66\u001b[49m\u001b[43m,\u001b[49m\u001b[43m \u001b[49m\u001b[43mduration_col\u001b[49m\u001b[38;5;241;43m=\u001b[39;49m\u001b[38;5;124;43m'\u001b[39;49m\u001b[38;5;124;43mi66_t2e\u001b[39;49m\u001b[38;5;124;43m'\u001b[39;49m\u001b[43m,\u001b[49m\u001b[43m \u001b[49m\u001b[43mevent_col\u001b[49m\u001b[38;5;241;43m=\u001b[39;49m\u001b[38;5;124;43m'\u001b[39;49m\u001b[38;5;124;43mi66_event\u001b[39;49m\u001b[38;5;124;43m'\u001b[39;49m\u001b[43m)\u001b[49m \n\u001b[1;32m      8\u001b[0m summary_df \u001b[38;5;241m=\u001b[39m cph\u001b[38;5;241m.\u001b[39msummary \n\u001b[1;32m      9\u001b[0m summary_df\u001b[38;5;241m.\u001b[39mstyle\u001b[38;5;241m.\u001b[39mformat({\u001b[38;5;124m'\u001b[39m\u001b[38;5;124mp\u001b[39m\u001b[38;5;124m'\u001b[39m: \u001b[38;5;124m'\u001b[39m\u001b[38;5;132;01m{:.5f}\u001b[39;00m\u001b[38;5;124m'\u001b[39m})\n",
      "File \u001b[0;32m/opt/conda/lib/python3.9/site-packages/lifelines/utils/__init__.py:56\u001b[0m, in \u001b[0;36mCensoringType.right_censoring.<locals>.f\u001b[0;34m(model, *args, **kwargs)\u001b[0m\n\u001b[1;32m     53\u001b[0m \u001b[38;5;129m@wraps\u001b[39m(function)\n\u001b[1;32m     54\u001b[0m \u001b[38;5;28;01mdef\u001b[39;00m \u001b[38;5;21mf\u001b[39m(model, \u001b[38;5;241m*\u001b[39margs, \u001b[38;5;241m*\u001b[39m\u001b[38;5;241m*\u001b[39mkwargs):\n\u001b[1;32m     55\u001b[0m     \u001b[38;5;28mcls\u001b[39m\u001b[38;5;241m.\u001b[39mset_censoring_type(model, \u001b[38;5;28mcls\u001b[39m\u001b[38;5;241m.\u001b[39mRIGHT)\n\u001b[0;32m---> 56\u001b[0m     \u001b[38;5;28;01mreturn\u001b[39;00m \u001b[43mfunction\u001b[49m\u001b[43m(\u001b[49m\u001b[43mmodel\u001b[49m\u001b[43m,\u001b[49m\u001b[43m \u001b[49m\u001b[38;5;241;43m*\u001b[39;49m\u001b[43margs\u001b[49m\u001b[43m,\u001b[49m\u001b[43m \u001b[49m\u001b[38;5;241;43m*\u001b[39;49m\u001b[38;5;241;43m*\u001b[39;49m\u001b[43mkwargs\u001b[49m\u001b[43m)\u001b[49m\n",
      "File \u001b[0;32m/opt/conda/lib/python3.9/site-packages/lifelines/fitters/coxph_fitter.py:290\u001b[0m, in \u001b[0;36mCoxPHFitter.fit\u001b[0;34m(self, df, duration_col, event_col, show_progress, initial_point, strata, weights_col, cluster_col, robust, batch_mode, timeline, formula, entry_col, fit_options)\u001b[0m\n\u001b[1;32m    184\u001b[0m \u001b[38;5;250m\u001b[39m\u001b[38;5;124;03m\"\"\"\u001b[39;00m\n\u001b[1;32m    185\u001b[0m \u001b[38;5;124;03mFit the Cox proportional hazard model to a right-censored dataset. Alias of `fit_right_censoring`.\u001b[39;00m\n\u001b[1;32m    186\u001b[0m \n\u001b[0;32m   (...)\u001b[0m\n\u001b[1;32m    287\u001b[0m \n\u001b[1;32m    288\u001b[0m \u001b[38;5;124;03m\"\"\"\u001b[39;00m\n\u001b[1;32m    289\u001b[0m \u001b[38;5;28mself\u001b[39m\u001b[38;5;241m.\u001b[39mstrata \u001b[38;5;241m=\u001b[39m utils\u001b[38;5;241m.\u001b[39m_to_list_or_singleton(utils\u001b[38;5;241m.\u001b[39mcoalesce(strata, \u001b[38;5;28mself\u001b[39m\u001b[38;5;241m.\u001b[39mstrata))\n\u001b[0;32m--> 290\u001b[0m \u001b[38;5;28mself\u001b[39m\u001b[38;5;241m.\u001b[39m_model \u001b[38;5;241m=\u001b[39m \u001b[38;5;28;43mself\u001b[39;49m\u001b[38;5;241;43m.\u001b[39;49m\u001b[43m_fit_model\u001b[49m\u001b[43m(\u001b[49m\n\u001b[1;32m    291\u001b[0m \u001b[43m    \u001b[49m\u001b[43mdf\u001b[49m\u001b[43m,\u001b[49m\n\u001b[1;32m    292\u001b[0m \u001b[43m    \u001b[49m\u001b[43mduration_col\u001b[49m\u001b[43m,\u001b[49m\n\u001b[1;32m    293\u001b[0m \u001b[43m    \u001b[49m\u001b[43mevent_col\u001b[49m\u001b[38;5;241;43m=\u001b[39;49m\u001b[43mevent_col\u001b[49m\u001b[43m,\u001b[49m\n\u001b[1;32m    294\u001b[0m \u001b[43m    \u001b[49m\u001b[43mshow_progress\u001b[49m\u001b[38;5;241;43m=\u001b[39;49m\u001b[43mshow_progress\u001b[49m\u001b[43m,\u001b[49m\n\u001b[1;32m    295\u001b[0m \u001b[43m    \u001b[49m\u001b[43minitial_point\u001b[49m\u001b[38;5;241;43m=\u001b[39;49m\u001b[43minitial_point\u001b[49m\u001b[43m,\u001b[49m\n\u001b[1;32m    296\u001b[0m \u001b[43m    \u001b[49m\u001b[43mstrata\u001b[49m\u001b[38;5;241;43m=\u001b[39;49m\u001b[38;5;28;43mself\u001b[39;49m\u001b[38;5;241;43m.\u001b[39;49m\u001b[43mstrata\u001b[49m\u001b[43m,\u001b[49m\n\u001b[1;32m    297\u001b[0m \u001b[43m    \u001b[49m\u001b[43mweights_col\u001b[49m\u001b[38;5;241;43m=\u001b[39;49m\u001b[43mweights_col\u001b[49m\u001b[43m,\u001b[49m\n\u001b[1;32m    298\u001b[0m \u001b[43m    \u001b[49m\u001b[43mcluster_col\u001b[49m\u001b[38;5;241;43m=\u001b[39;49m\u001b[43mcluster_col\u001b[49m\u001b[43m,\u001b[49m\n\u001b[1;32m    299\u001b[0m \u001b[43m    \u001b[49m\u001b[43mrobust\u001b[49m\u001b[38;5;241;43m=\u001b[39;49m\u001b[43mrobust\u001b[49m\u001b[43m,\u001b[49m\n\u001b[1;32m    300\u001b[0m \u001b[43m    \u001b[49m\u001b[43mbatch_mode\u001b[49m\u001b[38;5;241;43m=\u001b[39;49m\u001b[43mbatch_mode\u001b[49m\u001b[43m,\u001b[49m\n\u001b[1;32m    301\u001b[0m \u001b[43m    \u001b[49m\u001b[43mtimeline\u001b[49m\u001b[38;5;241;43m=\u001b[39;49m\u001b[43mtimeline\u001b[49m\u001b[43m,\u001b[49m\n\u001b[1;32m    302\u001b[0m \u001b[43m    \u001b[49m\u001b[43mformula\u001b[49m\u001b[38;5;241;43m=\u001b[39;49m\u001b[43mformula\u001b[49m\u001b[43m,\u001b[49m\n\u001b[1;32m    303\u001b[0m \u001b[43m    \u001b[49m\u001b[43mentry_col\u001b[49m\u001b[38;5;241;43m=\u001b[39;49m\u001b[43mentry_col\u001b[49m\u001b[43m,\u001b[49m\n\u001b[1;32m    304\u001b[0m \u001b[43m    \u001b[49m\u001b[43mfit_options\u001b[49m\u001b[38;5;241;43m=\u001b[39;49m\u001b[43mfit_options\u001b[49m\u001b[43m,\u001b[49m\n\u001b[1;32m    305\u001b[0m \u001b[43m\u001b[49m\u001b[43m)\u001b[49m\n\u001b[1;32m    306\u001b[0m \u001b[38;5;28;01mreturn\u001b[39;00m \u001b[38;5;28mself\u001b[39m\n",
      "File \u001b[0;32m/opt/conda/lib/python3.9/site-packages/lifelines/fitters/coxph_fitter.py:610\u001b[0m, in \u001b[0;36mCoxPHFitter._fit_model\u001b[0;34m(self, *args, **kwargs)\u001b[0m\n\u001b[1;32m    608\u001b[0m \u001b[38;5;28;01mdef\u001b[39;00m \u001b[38;5;21m_fit_model\u001b[39m(\u001b[38;5;28mself\u001b[39m, \u001b[38;5;241m*\u001b[39margs, \u001b[38;5;241m*\u001b[39m\u001b[38;5;241m*\u001b[39mkwargs):\n\u001b[1;32m    609\u001b[0m     \u001b[38;5;28;01mif\u001b[39;00m \u001b[38;5;28mself\u001b[39m\u001b[38;5;241m.\u001b[39mbaseline_estimation_method \u001b[38;5;241m==\u001b[39m \u001b[38;5;124m\"\u001b[39m\u001b[38;5;124mbreslow\u001b[39m\u001b[38;5;124m\"\u001b[39m:\n\u001b[0;32m--> 610\u001b[0m         \u001b[38;5;28;01mreturn\u001b[39;00m \u001b[38;5;28;43mself\u001b[39;49m\u001b[38;5;241;43m.\u001b[39;49m\u001b[43m_fit_model_breslow\u001b[49m\u001b[43m(\u001b[49m\u001b[38;5;241;43m*\u001b[39;49m\u001b[43margs\u001b[49m\u001b[43m,\u001b[49m\u001b[43m \u001b[49m\u001b[38;5;241;43m*\u001b[39;49m\u001b[38;5;241;43m*\u001b[39;49m\u001b[43mkwargs\u001b[49m\u001b[43m)\u001b[49m\n\u001b[1;32m    611\u001b[0m     \u001b[38;5;28;01melif\u001b[39;00m \u001b[38;5;28mself\u001b[39m\u001b[38;5;241m.\u001b[39mbaseline_estimation_method \u001b[38;5;241m==\u001b[39m \u001b[38;5;124m\"\u001b[39m\u001b[38;5;124mspline\u001b[39m\u001b[38;5;124m\"\u001b[39m:\n\u001b[1;32m    612\u001b[0m         \u001b[38;5;28;01mreturn\u001b[39;00m \u001b[38;5;28mself\u001b[39m\u001b[38;5;241m.\u001b[39m_fit_model_spline(\u001b[38;5;241m*\u001b[39margs, \u001b[38;5;241m*\u001b[39m\u001b[38;5;241m*\u001b[39mkwargs)\n",
      "File \u001b[0;32m/opt/conda/lib/python3.9/site-packages/lifelines/fitters/coxph_fitter.py:623\u001b[0m, in \u001b[0;36mCoxPHFitter._fit_model_breslow\u001b[0;34m(self, *args, **kwargs)\u001b[0m\n\u001b[1;32m    619\u001b[0m model \u001b[38;5;241m=\u001b[39m SemiParametricPHFitter(\n\u001b[1;32m    620\u001b[0m     penalizer\u001b[38;5;241m=\u001b[39m\u001b[38;5;28mself\u001b[39m\u001b[38;5;241m.\u001b[39mpenalizer, l1_ratio\u001b[38;5;241m=\u001b[39m\u001b[38;5;28mself\u001b[39m\u001b[38;5;241m.\u001b[39ml1_ratio, strata\u001b[38;5;241m=\u001b[39m\u001b[38;5;28mself\u001b[39m\u001b[38;5;241m.\u001b[39mstrata, alpha\u001b[38;5;241m=\u001b[39m\u001b[38;5;28mself\u001b[39m\u001b[38;5;241m.\u001b[39malpha, label\u001b[38;5;241m=\u001b[39m\u001b[38;5;28mself\u001b[39m\u001b[38;5;241m.\u001b[39m_label\n\u001b[1;32m    621\u001b[0m )\n\u001b[1;32m    622\u001b[0m \u001b[38;5;28;01mif\u001b[39;00m utils\u001b[38;5;241m.\u001b[39mCensoringType\u001b[38;5;241m.\u001b[39mis_right_censoring(\u001b[38;5;28mself\u001b[39m):\n\u001b[0;32m--> 623\u001b[0m     \u001b[43mmodel\u001b[49m\u001b[38;5;241;43m.\u001b[39;49m\u001b[43mfit\u001b[49m\u001b[43m(\u001b[49m\u001b[38;5;241;43m*\u001b[39;49m\u001b[43margs\u001b[49m\u001b[43m,\u001b[49m\u001b[43m \u001b[49m\u001b[38;5;241;43m*\u001b[39;49m\u001b[38;5;241;43m*\u001b[39;49m\u001b[43mkwargs\u001b[49m\u001b[43m)\u001b[49m\n\u001b[1;32m    624\u001b[0m     \u001b[38;5;28;01mreturn\u001b[39;00m model\n\u001b[1;32m    625\u001b[0m \u001b[38;5;28;01melse\u001b[39;00m:\n",
      "File \u001b[0;32m/opt/conda/lib/python3.9/site-packages/lifelines/utils/__init__.py:56\u001b[0m, in \u001b[0;36mCensoringType.right_censoring.<locals>.f\u001b[0;34m(model, *args, **kwargs)\u001b[0m\n\u001b[1;32m     53\u001b[0m \u001b[38;5;129m@wraps\u001b[39m(function)\n\u001b[1;32m     54\u001b[0m \u001b[38;5;28;01mdef\u001b[39;00m \u001b[38;5;21mf\u001b[39m(model, \u001b[38;5;241m*\u001b[39margs, \u001b[38;5;241m*\u001b[39m\u001b[38;5;241m*\u001b[39mkwargs):\n\u001b[1;32m     55\u001b[0m     \u001b[38;5;28mcls\u001b[39m\u001b[38;5;241m.\u001b[39mset_censoring_type(model, \u001b[38;5;28mcls\u001b[39m\u001b[38;5;241m.\u001b[39mRIGHT)\n\u001b[0;32m---> 56\u001b[0m     \u001b[38;5;28;01mreturn\u001b[39;00m \u001b[43mfunction\u001b[49m\u001b[43m(\u001b[49m\u001b[43mmodel\u001b[49m\u001b[43m,\u001b[49m\u001b[43m \u001b[49m\u001b[38;5;241;43m*\u001b[39;49m\u001b[43margs\u001b[49m\u001b[43m,\u001b[49m\u001b[43m \u001b[49m\u001b[38;5;241;43m*\u001b[39;49m\u001b[38;5;241;43m*\u001b[39;49m\u001b[43mkwargs\u001b[49m\u001b[43m)\u001b[49m\n",
      "File \u001b[0;32m/opt/conda/lib/python3.9/site-packages/lifelines/fitters/coxph_fitter.py:1252\u001b[0m, in \u001b[0;36mSemiParametricPHFitter.fit\u001b[0;34m(self, df, duration_col, event_col, show_progress, initial_point, strata, weights_col, cluster_col, robust, batch_mode, timeline, formula, entry_col, fit_options)\u001b[0m\n\u001b[1;32m   1247\u001b[0m \u001b[38;5;66;03m# this is surprisingly faster to do...\u001b[39;00m\n\u001b[1;32m   1248\u001b[0m X_norm \u001b[38;5;241m=\u001b[39m pd\u001b[38;5;241m.\u001b[39mDataFrame(\n\u001b[1;32m   1249\u001b[0m     utils\u001b[38;5;241m.\u001b[39mnormalize(X\u001b[38;5;241m.\u001b[39mvalues, \u001b[38;5;28mself\u001b[39m\u001b[38;5;241m.\u001b[39m_norm_mean\u001b[38;5;241m.\u001b[39mvalues, \u001b[38;5;28mself\u001b[39m\u001b[38;5;241m.\u001b[39m_norm_std\u001b[38;5;241m.\u001b[39mvalues), index\u001b[38;5;241m=\u001b[39mX\u001b[38;5;241m.\u001b[39mindex, columns\u001b[38;5;241m=\u001b[39mX\u001b[38;5;241m.\u001b[39mcolumns\n\u001b[1;32m   1250\u001b[0m )\n\u001b[0;32m-> 1252\u001b[0m params_, ll_, variance_matrix_, baseline_hazard_, baseline_cumulative_hazard_, model \u001b[38;5;241m=\u001b[39m \u001b[38;5;28;43mself\u001b[39;49m\u001b[38;5;241;43m.\u001b[39;49m\u001b[43m_fit_model\u001b[49m\u001b[43m(\u001b[49m\n\u001b[1;32m   1253\u001b[0m \u001b[43m    \u001b[49m\u001b[43mX_norm\u001b[49m\u001b[43m,\u001b[49m\n\u001b[1;32m   1254\u001b[0m \u001b[43m    \u001b[49m\u001b[43mT\u001b[49m\u001b[43m,\u001b[49m\n\u001b[1;32m   1255\u001b[0m \u001b[43m    \u001b[49m\u001b[43mE\u001b[49m\u001b[43m,\u001b[49m\n\u001b[1;32m   1256\u001b[0m \u001b[43m    \u001b[49m\u001b[43mweights\u001b[49m\u001b[38;5;241;43m=\u001b[39;49m\u001b[43mweights\u001b[49m\u001b[43m,\u001b[49m\n\u001b[1;32m   1257\u001b[0m \u001b[43m    \u001b[49m\u001b[43mentries\u001b[49m\u001b[38;5;241;43m=\u001b[39;49m\u001b[43mentries\u001b[49m\u001b[43m,\u001b[49m\n\u001b[1;32m   1258\u001b[0m \u001b[43m    \u001b[49m\u001b[43mfit_options\u001b[49m\u001b[38;5;241;43m=\u001b[39;49m\u001b[43mutils\u001b[49m\u001b[38;5;241;43m.\u001b[39;49m\u001b[43mcoalesce\u001b[49m\u001b[43m(\u001b[49m\u001b[43mfit_options\u001b[49m\u001b[43m,\u001b[49m\u001b[43m \u001b[49m\u001b[38;5;28;43mdict\u001b[39;49m\u001b[43m(\u001b[49m\u001b[43m)\u001b[49m\u001b[43m)\u001b[49m\u001b[43m,\u001b[49m\n\u001b[1;32m   1259\u001b[0m \u001b[43m    \u001b[49m\u001b[43minitial_point\u001b[49m\u001b[38;5;241;43m=\u001b[39;49m\u001b[43minitial_point\u001b[49m\u001b[43m,\u001b[49m\n\u001b[1;32m   1260\u001b[0m \u001b[43m    \u001b[49m\u001b[43mshow_progress\u001b[49m\u001b[38;5;241;43m=\u001b[39;49m\u001b[43mshow_progress\u001b[49m\u001b[43m,\u001b[49m\n\u001b[1;32m   1261\u001b[0m \u001b[43m\u001b[49m\u001b[43m)\u001b[49m\n\u001b[1;32m   1263\u001b[0m \u001b[38;5;28mself\u001b[39m\u001b[38;5;241m.\u001b[39mlog_likelihood_ \u001b[38;5;241m=\u001b[39m ll_\n\u001b[1;32m   1264\u001b[0m \u001b[38;5;28mself\u001b[39m\u001b[38;5;241m.\u001b[39mmodel \u001b[38;5;241m=\u001b[39m model\n",
      "File \u001b[0;32m/opt/conda/lib/python3.9/site-packages/lifelines/fitters/coxph_fitter.py:1380\u001b[0m, in \u001b[0;36mSemiParametricPHFitter._fit_model\u001b[0;34m(self, X, T, E, weights, entries, fit_options, initial_point, show_progress)\u001b[0m\n\u001b[1;32m   1369\u001b[0m \u001b[38;5;28;01mdef\u001b[39;00m \u001b[38;5;21m_fit_model\u001b[39m(\n\u001b[1;32m   1370\u001b[0m     \u001b[38;5;28mself\u001b[39m,\n\u001b[1;32m   1371\u001b[0m     X: DataFrame,\n\u001b[0;32m   (...)\u001b[0m\n\u001b[1;32m   1378\u001b[0m     show_progress: \u001b[38;5;28mbool\u001b[39m \u001b[38;5;241m=\u001b[39m \u001b[38;5;28;01mTrue\u001b[39;00m,\n\u001b[1;32m   1379\u001b[0m ):\n\u001b[0;32m-> 1380\u001b[0m     beta_, ll_, hessian_ \u001b[38;5;241m=\u001b[39m \u001b[38;5;28;43mself\u001b[39;49m\u001b[38;5;241;43m.\u001b[39;49m\u001b[43m_newton_raphson_for_efron_model\u001b[49m\u001b[43m(\u001b[49m\n\u001b[1;32m   1381\u001b[0m \u001b[43m        \u001b[49m\u001b[43mX\u001b[49m\u001b[43m,\u001b[49m\n\u001b[1;32m   1382\u001b[0m \u001b[43m        \u001b[49m\u001b[43mT\u001b[49m\u001b[43m,\u001b[49m\n\u001b[1;32m   1383\u001b[0m \u001b[43m        \u001b[49m\u001b[43mE\u001b[49m\u001b[43m,\u001b[49m\n\u001b[1;32m   1384\u001b[0m \u001b[43m        \u001b[49m\u001b[43mweights\u001b[49m\u001b[43m,\u001b[49m\n\u001b[1;32m   1385\u001b[0m \u001b[43m        \u001b[49m\u001b[43mentries\u001b[49m\u001b[43m,\u001b[49m\n\u001b[1;32m   1386\u001b[0m \u001b[43m        \u001b[49m\u001b[43minitial_point\u001b[49m\u001b[38;5;241;43m=\u001b[39;49m\u001b[43minitial_point\u001b[49m\u001b[43m,\u001b[49m\n\u001b[1;32m   1387\u001b[0m \u001b[43m        \u001b[49m\u001b[43mshow_progress\u001b[49m\u001b[38;5;241;43m=\u001b[39;49m\u001b[43mshow_progress\u001b[49m\u001b[43m,\u001b[49m\n\u001b[1;32m   1388\u001b[0m \u001b[43m        \u001b[49m\u001b[38;5;241;43m*\u001b[39;49m\u001b[38;5;241;43m*\u001b[39;49m\u001b[43mfit_options\u001b[49m\u001b[43m,\u001b[49m\n\u001b[1;32m   1389\u001b[0m \u001b[43m    \u001b[49m\u001b[43m)\u001b[49m\n\u001b[1;32m   1391\u001b[0m     \u001b[38;5;66;03m# compute the baseline hazard here.\u001b[39;00m\n\u001b[1;32m   1392\u001b[0m     predicted_partial_hazards_ \u001b[38;5;241m=\u001b[39m (\n\u001b[1;32m   1393\u001b[0m         pd\u001b[38;5;241m.\u001b[39mDataFrame(np\u001b[38;5;241m.\u001b[39mexp(dot(X, beta_)), columns\u001b[38;5;241m=\u001b[39m[\u001b[38;5;124m\"\u001b[39m\u001b[38;5;124mP\u001b[39m\u001b[38;5;124m\"\u001b[39m])\u001b[38;5;241m.\u001b[39massign(T\u001b[38;5;241m=\u001b[39mT\u001b[38;5;241m.\u001b[39mvalues, E\u001b[38;5;241m=\u001b[39mE\u001b[38;5;241m.\u001b[39mvalues, W\u001b[38;5;241m=\u001b[39mweights\u001b[38;5;241m.\u001b[39mvalues)\u001b[38;5;241m.\u001b[39mset_index(X\u001b[38;5;241m.\u001b[39mindex)\n\u001b[1;32m   1394\u001b[0m     )\n",
      "File \u001b[0;32m/opt/conda/lib/python3.9/site-packages/lifelines/fitters/coxph_fitter.py:1550\u001b[0m, in \u001b[0;36mSemiParametricPHFitter._newton_raphson_for_efron_model\u001b[0;34m(self, X, T, E, weights, entries, initial_point, show_progress, step_size, precision, max_steps)\u001b[0m\n\u001b[1;32m   1548\u001b[0m \u001b[38;5;28;01mif\u001b[39;00m np\u001b[38;5;241m.\u001b[39many(np\u001b[38;5;241m.\u001b[39misnan(delta)):\n\u001b[1;32m   1549\u001b[0m     \u001b[38;5;28mself\u001b[39m\u001b[38;5;241m.\u001b[39m_check_values_post_fitting(X, T, E, weights)\n\u001b[0;32m-> 1550\u001b[0m     \u001b[38;5;28;01mraise\u001b[39;00m exceptions\u001b[38;5;241m.\u001b[39mConvergenceError(\n\u001b[1;32m   1551\u001b[0m \u001b[38;5;250m        \u001b[39m\u001b[38;5;124;03m\"\"\"delta contains nan value(s). Convergence halted. {0}\"\"\"\u001b[39;00m\u001b[38;5;241m.\u001b[39mformat(CONVERGENCE_DOCS)\n\u001b[1;32m   1552\u001b[0m     )\n\u001b[1;32m   1554\u001b[0m \u001b[38;5;66;03m# Save these as pending result\u001b[39;00m\n\u001b[1;32m   1555\u001b[0m hessian, gradient \u001b[38;5;241m=\u001b[39m h, g\n",
      "\u001b[0;31mConvergenceError\u001b[0m: delta contains nan value(s). Convergence halted. Please see the following tips in the lifelines documentation: https://lifelines.readthedocs.io/en/latest/Examples.html#problems-with-convergence-in-the-cox-proportional-hazard-model"
     ]
    }
   ],
   "source": [
    "#cox model i66 - fully adjusted\n",
    "fulladjust_i66 = cevd_df_first.dropna(subset=['i66_t2e'])\n",
    "fulladjust_i66 = fulladjust_i66.loc[:, ['i66_event', 'i66_t2e', 'age_i0', 'male', 'pp', 'bmi', 'dep_yes']]\n",
    "fulladjust_i66 = fulladjust_i66[['i66_event', 'i66_t2e', 'age_i0', 'male', 'pp', 'bmi', 'dep_yes']]\n",
    "#fulladjust_i66_date = pd.get_dummies(fulladjust_i66, columns=['ipaq', 'smok_stat', 'alc_freq_filter'])\n",
    "cph = CoxPHFitter(penalizer=0.0001)\n",
    "cph.fit(fulladjust_i66, duration_col='i66_t2e', event_col='i66_event') \n",
    "summary_df = cph.summary \n",
    "summary_df.style.format({'p': '{:.5f}'})"
   ]
  },
  {
   "cell_type": "code",
   "execution_count": 343,
   "metadata": {
    "tags": []
   },
   "outputs": [
    {
     "name": "stdout",
     "output_type": "stream",
     "text": [
      "Number of depressed i66 events, Number of control i66 events: (0, 2)\n"
     ]
    }
   ],
   "source": [
    "i66_dep_yes = count_cevd(fulladjust_i66)\n",
    "print('Number of depressed i66 events, Number of control i66 events:', i66_dep_yes)"
   ]
  },
  {
   "cell_type": "code",
   "execution_count": 344,
   "metadata": {
    "tags": []
   },
   "outputs": [
    {
     "name": "stdout",
     "output_type": "stream",
     "text": [
      "Schoenfeld residuals results for I66:\n"
     ]
    },
    {
     "ename": "AttributeError",
     "evalue": "Must call `fit` first.",
     "output_type": "error",
     "traceback": [
      "\u001b[0;31m---------------------------------------------------------------------------\u001b[0m",
      "\u001b[0;31mAttributeError\u001b[0m                            Traceback (most recent call last)",
      "Cell \u001b[0;32mIn[344], line 2\u001b[0m\n\u001b[1;32m      1\u001b[0m \u001b[38;5;28mprint\u001b[39m(\u001b[38;5;124m'\u001b[39m\u001b[38;5;124mSchoenfeld residuals results for I66:\u001b[39m\u001b[38;5;124m'\u001b[39m)\n\u001b[0;32m----> 2\u001b[0m schoenfeld_results_i66 \u001b[38;5;241m=\u001b[39m \u001b[43mcph\u001b[49m\u001b[38;5;241;43m.\u001b[39;49m\u001b[43mcheck_assumptions\u001b[49m\u001b[43m(\u001b[49m\u001b[43mfulladjust_i66\u001b[49m\u001b[43m,\u001b[49m\u001b[43m \u001b[49m\u001b[43mp_value_threshold\u001b[49m\u001b[38;5;241;43m=\u001b[39;49m\u001b[38;5;241;43m0.05\u001b[39;49m\u001b[43m)\u001b[49m\n",
      "File \u001b[0;32m/opt/conda/lib/python3.9/site-packages/lifelines/fitters/mixins.py:98\u001b[0m, in \u001b[0;36mProportionalHazardMixin.check_assumptions\u001b[0;34m(self, training_df, advice, show_plots, p_value_threshold, plot_n_bootstraps, columns)\u001b[0m\n\u001b[1;32m     93\u001b[0m \u001b[38;5;28;01mif\u001b[39;00m \u001b[38;5;129;01mnot\u001b[39;00m training_df\u001b[38;5;241m.\u001b[39mindex\u001b[38;5;241m.\u001b[39mis_unique:\n\u001b[1;32m     94\u001b[0m     \u001b[38;5;28;01mraise\u001b[39;00m \u001b[38;5;167;01mIndexError\u001b[39;00m(\n\u001b[1;32m     95\u001b[0m         \u001b[38;5;124m\"\u001b[39m\u001b[38;5;124m`training_df` index should be unique for this exercise. Please make it unique or use `.reset_index(drop=True)` to force a unique index\u001b[39m\u001b[38;5;124m\"\u001b[39m\n\u001b[1;32m     96\u001b[0m     )\n\u001b[0;32m---> 98\u001b[0m residuals \u001b[38;5;241m=\u001b[39m \u001b[38;5;28;43mself\u001b[39;49m\u001b[38;5;241;43m.\u001b[39;49m\u001b[43mcompute_residuals\u001b[49m\u001b[43m(\u001b[49m\u001b[43mtraining_df\u001b[49m\u001b[43m,\u001b[49m\u001b[43m \u001b[49m\u001b[43mkind\u001b[49m\u001b[38;5;241;43m=\u001b[39;49m\u001b[38;5;124;43m\"\u001b[39;49m\u001b[38;5;124;43mscaled_schoenfeld\u001b[39;49m\u001b[38;5;124;43m\"\u001b[39;49m\u001b[43m)\u001b[49m\n\u001b[1;32m     99\u001b[0m test_results \u001b[38;5;241m=\u001b[39m proportional_hazard_test(\u001b[38;5;28mself\u001b[39m, training_df, time_transform\u001b[38;5;241m=\u001b[39m[\u001b[38;5;124m\"\u001b[39m\u001b[38;5;124mrank\u001b[39m\u001b[38;5;124m\"\u001b[39m, \u001b[38;5;124m\"\u001b[39m\u001b[38;5;124mkm\u001b[39m\u001b[38;5;124m\"\u001b[39m], precomputed_residuals\u001b[38;5;241m=\u001b[39mresiduals)\n\u001b[1;32m    101\u001b[0m residuals_and_duration \u001b[38;5;241m=\u001b[39m residuals\u001b[38;5;241m.\u001b[39mjoin(training_df[\u001b[38;5;28mself\u001b[39m\u001b[38;5;241m.\u001b[39mduration_col])\n",
      "File \u001b[0;32m/opt/conda/lib/python3.9/site-packages/lifelines/fitters/__init__.py:1317\u001b[0m, in \u001b[0;36mRegressionFitter.compute_residuals\u001b[0;34m(self, training_dataframe, kind)\u001b[0m\n\u001b[1;32m   1299\u001b[0m \u001b[38;5;250m\u001b[39m\u001b[38;5;124;03m\"\"\"\u001b[39;00m\n\u001b[1;32m   1300\u001b[0m \u001b[38;5;124;03mCompute the residuals the model.\u001b[39;00m\n\u001b[1;32m   1301\u001b[0m \n\u001b[0;32m   (...)\u001b[0m\n\u001b[1;32m   1314\u001b[0m \n\u001b[1;32m   1315\u001b[0m \u001b[38;5;124;03m\"\"\"\u001b[39;00m\n\u001b[1;32m   1316\u001b[0m \u001b[38;5;28;01massert\u001b[39;00m kind \u001b[38;5;129;01min\u001b[39;00m \u001b[38;5;28mself\u001b[39m\u001b[38;5;241m.\u001b[39m_ALLOWED_RESIDUALS, \u001b[38;5;124m\"\u001b[39m\u001b[38;5;124mkind must be in \u001b[39m\u001b[38;5;132;01m%s\u001b[39;00m\u001b[38;5;124m\"\u001b[39m \u001b[38;5;241m%\u001b[39m \u001b[38;5;28mself\u001b[39m\u001b[38;5;241m.\u001b[39m_ALLOWED_RESIDUALS\n\u001b[0;32m-> 1317\u001b[0m \u001b[38;5;28;01mif\u001b[39;00m \u001b[38;5;28;43mself\u001b[39;49m\u001b[38;5;241;43m.\u001b[39;49m\u001b[43mentry_col\u001b[49m \u001b[38;5;129;01mis\u001b[39;00m \u001b[38;5;129;01mnot\u001b[39;00m \u001b[38;5;28;01mNone\u001b[39;00m:\n\u001b[1;32m   1318\u001b[0m     \u001b[38;5;28;01mraise\u001b[39;00m \u001b[38;5;167;01mNotImplementedError\u001b[39;00m(\u001b[38;5;124m\"\u001b[39m\u001b[38;5;124mResiduals for entries not implemented.\u001b[39m\u001b[38;5;124m\"\u001b[39m)\n\u001b[1;32m   1320\u001b[0m warnings\u001b[38;5;241m.\u001b[39mfilterwarnings(\u001b[38;5;124m\"\u001b[39m\u001b[38;5;124mignore\u001b[39m\u001b[38;5;124m\"\u001b[39m, category\u001b[38;5;241m=\u001b[39mexceptions\u001b[38;5;241m.\u001b[39mConvergenceWarning)\n",
      "File \u001b[0;32m/opt/conda/lib/python3.9/site-packages/lifelines/fitters/coxph_fitter.py:594\u001b[0m, in \u001b[0;36mCoxPHFitter.__getattr__\u001b[0;34m(self, attr)\u001b[0m\n\u001b[1;32m    591\u001b[0m \u001b[38;5;28;01mif\u001b[39;00m attr \u001b[38;5;241m==\u001b[39m \u001b[38;5;124m\"\u001b[39m\u001b[38;5;124m_model\u001b[39m\u001b[38;5;124m\"\u001b[39m:\n\u001b[1;32m    592\u001b[0m     \u001b[38;5;28;01mraise\u001b[39;00m \u001b[38;5;167;01mAttributeError\u001b[39;00m(\u001b[38;5;124m\"\u001b[39m\u001b[38;5;124mMust call `fit` first.\u001b[39m\u001b[38;5;124m\"\u001b[39m)\n\u001b[0;32m--> 594\u001b[0m \u001b[38;5;28;01mif\u001b[39;00m \u001b[38;5;28mhasattr\u001b[39m(\u001b[38;5;28;43mself\u001b[39;49m\u001b[38;5;241;43m.\u001b[39;49m\u001b[43m_model\u001b[49m, attr):\n\u001b[1;32m    595\u001b[0m     \u001b[38;5;28;01mreturn\u001b[39;00m \u001b[38;5;28mgetattr\u001b[39m(\u001b[38;5;28mself\u001b[39m\u001b[38;5;241m.\u001b[39m_model, attr)\n\u001b[1;32m    597\u001b[0m \u001b[38;5;28;01mraise\u001b[39;00m \u001b[38;5;167;01mAttributeError\u001b[39;00m(\u001b[38;5;124m\"\u001b[39m\u001b[38;5;132;01m%s\u001b[39;00m\u001b[38;5;124m has no attribute \u001b[39m\u001b[38;5;124m'\u001b[39m\u001b[38;5;132;01m%s\u001b[39;00m\u001b[38;5;124m'\u001b[39m\u001b[38;5;124m\"\u001b[39m \u001b[38;5;241m%\u001b[39m (\u001b[38;5;28mself\u001b[39m\u001b[38;5;241m.\u001b[39m_class_name, attr))\n",
      "File \u001b[0;32m/opt/conda/lib/python3.9/site-packages/lifelines/fitters/coxph_fitter.py:592\u001b[0m, in \u001b[0;36mCoxPHFitter.__getattr__\u001b[0;34m(self, attr)\u001b[0m\n\u001b[1;32m    590\u001b[0m \u001b[38;5;28;01mdef\u001b[39;00m \u001b[38;5;21m__getattr__\u001b[39m(\u001b[38;5;28mself\u001b[39m, attr):\n\u001b[1;32m    591\u001b[0m     \u001b[38;5;28;01mif\u001b[39;00m attr \u001b[38;5;241m==\u001b[39m \u001b[38;5;124m\"\u001b[39m\u001b[38;5;124m_model\u001b[39m\u001b[38;5;124m\"\u001b[39m:\n\u001b[0;32m--> 592\u001b[0m         \u001b[38;5;28;01mraise\u001b[39;00m \u001b[38;5;167;01mAttributeError\u001b[39;00m(\u001b[38;5;124m\"\u001b[39m\u001b[38;5;124mMust call `fit` first.\u001b[39m\u001b[38;5;124m\"\u001b[39m)\n\u001b[1;32m    594\u001b[0m     \u001b[38;5;28;01mif\u001b[39;00m \u001b[38;5;28mhasattr\u001b[39m(\u001b[38;5;28mself\u001b[39m\u001b[38;5;241m.\u001b[39m_model, attr):\n\u001b[1;32m    595\u001b[0m         \u001b[38;5;28;01mreturn\u001b[39;00m \u001b[38;5;28mgetattr\u001b[39m(\u001b[38;5;28mself\u001b[39m\u001b[38;5;241m.\u001b[39m_model, attr)\n",
      "\u001b[0;31mAttributeError\u001b[0m: Must call `fit` first."
     ]
    }
   ],
   "source": [
    "print('Schoenfeld residuals results for I66:')\n",
    "schoenfeld_results_i66 = cph.check_assumptions(fulladjust_i66, p_value_threshold=0.05)"
   ]
  },
  {
   "cell_type": "code",
   "execution_count": 345,
   "metadata": {
    "tags": []
   },
   "outputs": [
    {
     "name": "stderr",
     "output_type": "stream",
     "text": [
      "/opt/conda/lib/python3.9/site-packages/lifelines/fitters/coxph_fitter.py:1527: LinAlgWarning: Ill-conditioned matrix (rcond=0): result may not be accurate.\n",
      "  inv_h_dot_g_T = spsolve(-h, g, assume_a=\"pos\", check_finite=False)\n"
     ]
    },
    {
     "ename": "ConvergenceError",
     "evalue": "delta contains nan value(s). Convergence halted. Please see the following tips in the lifelines documentation: https://lifelines.readthedocs.io/en/latest/Examples.html#problems-with-convergence-in-the-cox-proportional-hazard-model",
     "output_type": "error",
     "traceback": [
      "\u001b[0;31m---------------------------------------------------------------------------\u001b[0m",
      "\u001b[0;31mConvergenceError\u001b[0m                          Traceback (most recent call last)",
      "Cell \u001b[0;32mIn[345], line 6\u001b[0m\n\u001b[1;32m      4\u001b[0m asadjust_i66 \u001b[38;5;241m=\u001b[39m asadjust_i66[[\u001b[38;5;124m'\u001b[39m\u001b[38;5;124mi66_event\u001b[39m\u001b[38;5;124m'\u001b[39m, \u001b[38;5;124m'\u001b[39m\u001b[38;5;124mi66_t2e\u001b[39m\u001b[38;5;124m'\u001b[39m, \u001b[38;5;124m'\u001b[39m\u001b[38;5;124mage_i0\u001b[39m\u001b[38;5;124m'\u001b[39m, \u001b[38;5;124m'\u001b[39m\u001b[38;5;124mmale\u001b[39m\u001b[38;5;124m'\u001b[39m, \u001b[38;5;124m'\u001b[39m\u001b[38;5;124mdep_yes\u001b[39m\u001b[38;5;124m'\u001b[39m]]\n\u001b[1;32m      5\u001b[0m cph \u001b[38;5;241m=\u001b[39m CoxPHFitter(penalizer\u001b[38;5;241m=\u001b[39m\u001b[38;5;241m0.0001\u001b[39m)\n\u001b[0;32m----> 6\u001b[0m \u001b[43mcph\u001b[49m\u001b[38;5;241;43m.\u001b[39;49m\u001b[43mfit\u001b[49m\u001b[43m(\u001b[49m\u001b[43masadjust_i66\u001b[49m\u001b[43m,\u001b[49m\u001b[43m \u001b[49m\u001b[43mduration_col\u001b[49m\u001b[38;5;241;43m=\u001b[39;49m\u001b[38;5;124;43m'\u001b[39;49m\u001b[38;5;124;43mi66_t2e\u001b[39;49m\u001b[38;5;124;43m'\u001b[39;49m\u001b[43m,\u001b[49m\u001b[43m \u001b[49m\u001b[43mevent_col\u001b[49m\u001b[38;5;241;43m=\u001b[39;49m\u001b[38;5;124;43m'\u001b[39;49m\u001b[38;5;124;43mi66_event\u001b[39;49m\u001b[38;5;124;43m'\u001b[39;49m\u001b[43m)\u001b[49m \n\u001b[1;32m      7\u001b[0m summary_df \u001b[38;5;241m=\u001b[39m cph\u001b[38;5;241m.\u001b[39msummary \n\u001b[1;32m      8\u001b[0m summary_df\u001b[38;5;241m.\u001b[39mstyle\u001b[38;5;241m.\u001b[39mformat({\u001b[38;5;124m'\u001b[39m\u001b[38;5;124mp\u001b[39m\u001b[38;5;124m'\u001b[39m: \u001b[38;5;124m'\u001b[39m\u001b[38;5;132;01m{:.5f}\u001b[39;00m\u001b[38;5;124m'\u001b[39m})\n",
      "File \u001b[0;32m/opt/conda/lib/python3.9/site-packages/lifelines/utils/__init__.py:56\u001b[0m, in \u001b[0;36mCensoringType.right_censoring.<locals>.f\u001b[0;34m(model, *args, **kwargs)\u001b[0m\n\u001b[1;32m     53\u001b[0m \u001b[38;5;129m@wraps\u001b[39m(function)\n\u001b[1;32m     54\u001b[0m \u001b[38;5;28;01mdef\u001b[39;00m \u001b[38;5;21mf\u001b[39m(model, \u001b[38;5;241m*\u001b[39margs, \u001b[38;5;241m*\u001b[39m\u001b[38;5;241m*\u001b[39mkwargs):\n\u001b[1;32m     55\u001b[0m     \u001b[38;5;28mcls\u001b[39m\u001b[38;5;241m.\u001b[39mset_censoring_type(model, \u001b[38;5;28mcls\u001b[39m\u001b[38;5;241m.\u001b[39mRIGHT)\n\u001b[0;32m---> 56\u001b[0m     \u001b[38;5;28;01mreturn\u001b[39;00m \u001b[43mfunction\u001b[49m\u001b[43m(\u001b[49m\u001b[43mmodel\u001b[49m\u001b[43m,\u001b[49m\u001b[43m \u001b[49m\u001b[38;5;241;43m*\u001b[39;49m\u001b[43margs\u001b[49m\u001b[43m,\u001b[49m\u001b[43m \u001b[49m\u001b[38;5;241;43m*\u001b[39;49m\u001b[38;5;241;43m*\u001b[39;49m\u001b[43mkwargs\u001b[49m\u001b[43m)\u001b[49m\n",
      "File \u001b[0;32m/opt/conda/lib/python3.9/site-packages/lifelines/fitters/coxph_fitter.py:290\u001b[0m, in \u001b[0;36mCoxPHFitter.fit\u001b[0;34m(self, df, duration_col, event_col, show_progress, initial_point, strata, weights_col, cluster_col, robust, batch_mode, timeline, formula, entry_col, fit_options)\u001b[0m\n\u001b[1;32m    184\u001b[0m \u001b[38;5;250m\u001b[39m\u001b[38;5;124;03m\"\"\"\u001b[39;00m\n\u001b[1;32m    185\u001b[0m \u001b[38;5;124;03mFit the Cox proportional hazard model to a right-censored dataset. Alias of `fit_right_censoring`.\u001b[39;00m\n\u001b[1;32m    186\u001b[0m \n\u001b[0;32m   (...)\u001b[0m\n\u001b[1;32m    287\u001b[0m \n\u001b[1;32m    288\u001b[0m \u001b[38;5;124;03m\"\"\"\u001b[39;00m\n\u001b[1;32m    289\u001b[0m \u001b[38;5;28mself\u001b[39m\u001b[38;5;241m.\u001b[39mstrata \u001b[38;5;241m=\u001b[39m utils\u001b[38;5;241m.\u001b[39m_to_list_or_singleton(utils\u001b[38;5;241m.\u001b[39mcoalesce(strata, \u001b[38;5;28mself\u001b[39m\u001b[38;5;241m.\u001b[39mstrata))\n\u001b[0;32m--> 290\u001b[0m \u001b[38;5;28mself\u001b[39m\u001b[38;5;241m.\u001b[39m_model \u001b[38;5;241m=\u001b[39m \u001b[38;5;28;43mself\u001b[39;49m\u001b[38;5;241;43m.\u001b[39;49m\u001b[43m_fit_model\u001b[49m\u001b[43m(\u001b[49m\n\u001b[1;32m    291\u001b[0m \u001b[43m    \u001b[49m\u001b[43mdf\u001b[49m\u001b[43m,\u001b[49m\n\u001b[1;32m    292\u001b[0m \u001b[43m    \u001b[49m\u001b[43mduration_col\u001b[49m\u001b[43m,\u001b[49m\n\u001b[1;32m    293\u001b[0m \u001b[43m    \u001b[49m\u001b[43mevent_col\u001b[49m\u001b[38;5;241;43m=\u001b[39;49m\u001b[43mevent_col\u001b[49m\u001b[43m,\u001b[49m\n\u001b[1;32m    294\u001b[0m \u001b[43m    \u001b[49m\u001b[43mshow_progress\u001b[49m\u001b[38;5;241;43m=\u001b[39;49m\u001b[43mshow_progress\u001b[49m\u001b[43m,\u001b[49m\n\u001b[1;32m    295\u001b[0m \u001b[43m    \u001b[49m\u001b[43minitial_point\u001b[49m\u001b[38;5;241;43m=\u001b[39;49m\u001b[43minitial_point\u001b[49m\u001b[43m,\u001b[49m\n\u001b[1;32m    296\u001b[0m \u001b[43m    \u001b[49m\u001b[43mstrata\u001b[49m\u001b[38;5;241;43m=\u001b[39;49m\u001b[38;5;28;43mself\u001b[39;49m\u001b[38;5;241;43m.\u001b[39;49m\u001b[43mstrata\u001b[49m\u001b[43m,\u001b[49m\n\u001b[1;32m    297\u001b[0m \u001b[43m    \u001b[49m\u001b[43mweights_col\u001b[49m\u001b[38;5;241;43m=\u001b[39;49m\u001b[43mweights_col\u001b[49m\u001b[43m,\u001b[49m\n\u001b[1;32m    298\u001b[0m \u001b[43m    \u001b[49m\u001b[43mcluster_col\u001b[49m\u001b[38;5;241;43m=\u001b[39;49m\u001b[43mcluster_col\u001b[49m\u001b[43m,\u001b[49m\n\u001b[1;32m    299\u001b[0m \u001b[43m    \u001b[49m\u001b[43mrobust\u001b[49m\u001b[38;5;241;43m=\u001b[39;49m\u001b[43mrobust\u001b[49m\u001b[43m,\u001b[49m\n\u001b[1;32m    300\u001b[0m \u001b[43m    \u001b[49m\u001b[43mbatch_mode\u001b[49m\u001b[38;5;241;43m=\u001b[39;49m\u001b[43mbatch_mode\u001b[49m\u001b[43m,\u001b[49m\n\u001b[1;32m    301\u001b[0m \u001b[43m    \u001b[49m\u001b[43mtimeline\u001b[49m\u001b[38;5;241;43m=\u001b[39;49m\u001b[43mtimeline\u001b[49m\u001b[43m,\u001b[49m\n\u001b[1;32m    302\u001b[0m \u001b[43m    \u001b[49m\u001b[43mformula\u001b[49m\u001b[38;5;241;43m=\u001b[39;49m\u001b[43mformula\u001b[49m\u001b[43m,\u001b[49m\n\u001b[1;32m    303\u001b[0m \u001b[43m    \u001b[49m\u001b[43mentry_col\u001b[49m\u001b[38;5;241;43m=\u001b[39;49m\u001b[43mentry_col\u001b[49m\u001b[43m,\u001b[49m\n\u001b[1;32m    304\u001b[0m \u001b[43m    \u001b[49m\u001b[43mfit_options\u001b[49m\u001b[38;5;241;43m=\u001b[39;49m\u001b[43mfit_options\u001b[49m\u001b[43m,\u001b[49m\n\u001b[1;32m    305\u001b[0m \u001b[43m\u001b[49m\u001b[43m)\u001b[49m\n\u001b[1;32m    306\u001b[0m \u001b[38;5;28;01mreturn\u001b[39;00m \u001b[38;5;28mself\u001b[39m\n",
      "File \u001b[0;32m/opt/conda/lib/python3.9/site-packages/lifelines/fitters/coxph_fitter.py:610\u001b[0m, in \u001b[0;36mCoxPHFitter._fit_model\u001b[0;34m(self, *args, **kwargs)\u001b[0m\n\u001b[1;32m    608\u001b[0m \u001b[38;5;28;01mdef\u001b[39;00m \u001b[38;5;21m_fit_model\u001b[39m(\u001b[38;5;28mself\u001b[39m, \u001b[38;5;241m*\u001b[39margs, \u001b[38;5;241m*\u001b[39m\u001b[38;5;241m*\u001b[39mkwargs):\n\u001b[1;32m    609\u001b[0m     \u001b[38;5;28;01mif\u001b[39;00m \u001b[38;5;28mself\u001b[39m\u001b[38;5;241m.\u001b[39mbaseline_estimation_method \u001b[38;5;241m==\u001b[39m \u001b[38;5;124m\"\u001b[39m\u001b[38;5;124mbreslow\u001b[39m\u001b[38;5;124m\"\u001b[39m:\n\u001b[0;32m--> 610\u001b[0m         \u001b[38;5;28;01mreturn\u001b[39;00m \u001b[38;5;28;43mself\u001b[39;49m\u001b[38;5;241;43m.\u001b[39;49m\u001b[43m_fit_model_breslow\u001b[49m\u001b[43m(\u001b[49m\u001b[38;5;241;43m*\u001b[39;49m\u001b[43margs\u001b[49m\u001b[43m,\u001b[49m\u001b[43m \u001b[49m\u001b[38;5;241;43m*\u001b[39;49m\u001b[38;5;241;43m*\u001b[39;49m\u001b[43mkwargs\u001b[49m\u001b[43m)\u001b[49m\n\u001b[1;32m    611\u001b[0m     \u001b[38;5;28;01melif\u001b[39;00m \u001b[38;5;28mself\u001b[39m\u001b[38;5;241m.\u001b[39mbaseline_estimation_method \u001b[38;5;241m==\u001b[39m \u001b[38;5;124m\"\u001b[39m\u001b[38;5;124mspline\u001b[39m\u001b[38;5;124m\"\u001b[39m:\n\u001b[1;32m    612\u001b[0m         \u001b[38;5;28;01mreturn\u001b[39;00m \u001b[38;5;28mself\u001b[39m\u001b[38;5;241m.\u001b[39m_fit_model_spline(\u001b[38;5;241m*\u001b[39margs, \u001b[38;5;241m*\u001b[39m\u001b[38;5;241m*\u001b[39mkwargs)\n",
      "File \u001b[0;32m/opt/conda/lib/python3.9/site-packages/lifelines/fitters/coxph_fitter.py:623\u001b[0m, in \u001b[0;36mCoxPHFitter._fit_model_breslow\u001b[0;34m(self, *args, **kwargs)\u001b[0m\n\u001b[1;32m    619\u001b[0m model \u001b[38;5;241m=\u001b[39m SemiParametricPHFitter(\n\u001b[1;32m    620\u001b[0m     penalizer\u001b[38;5;241m=\u001b[39m\u001b[38;5;28mself\u001b[39m\u001b[38;5;241m.\u001b[39mpenalizer, l1_ratio\u001b[38;5;241m=\u001b[39m\u001b[38;5;28mself\u001b[39m\u001b[38;5;241m.\u001b[39ml1_ratio, strata\u001b[38;5;241m=\u001b[39m\u001b[38;5;28mself\u001b[39m\u001b[38;5;241m.\u001b[39mstrata, alpha\u001b[38;5;241m=\u001b[39m\u001b[38;5;28mself\u001b[39m\u001b[38;5;241m.\u001b[39malpha, label\u001b[38;5;241m=\u001b[39m\u001b[38;5;28mself\u001b[39m\u001b[38;5;241m.\u001b[39m_label\n\u001b[1;32m    621\u001b[0m )\n\u001b[1;32m    622\u001b[0m \u001b[38;5;28;01mif\u001b[39;00m utils\u001b[38;5;241m.\u001b[39mCensoringType\u001b[38;5;241m.\u001b[39mis_right_censoring(\u001b[38;5;28mself\u001b[39m):\n\u001b[0;32m--> 623\u001b[0m     \u001b[43mmodel\u001b[49m\u001b[38;5;241;43m.\u001b[39;49m\u001b[43mfit\u001b[49m\u001b[43m(\u001b[49m\u001b[38;5;241;43m*\u001b[39;49m\u001b[43margs\u001b[49m\u001b[43m,\u001b[49m\u001b[43m \u001b[49m\u001b[38;5;241;43m*\u001b[39;49m\u001b[38;5;241;43m*\u001b[39;49m\u001b[43mkwargs\u001b[49m\u001b[43m)\u001b[49m\n\u001b[1;32m    624\u001b[0m     \u001b[38;5;28;01mreturn\u001b[39;00m model\n\u001b[1;32m    625\u001b[0m \u001b[38;5;28;01melse\u001b[39;00m:\n",
      "File \u001b[0;32m/opt/conda/lib/python3.9/site-packages/lifelines/utils/__init__.py:56\u001b[0m, in \u001b[0;36mCensoringType.right_censoring.<locals>.f\u001b[0;34m(model, *args, **kwargs)\u001b[0m\n\u001b[1;32m     53\u001b[0m \u001b[38;5;129m@wraps\u001b[39m(function)\n\u001b[1;32m     54\u001b[0m \u001b[38;5;28;01mdef\u001b[39;00m \u001b[38;5;21mf\u001b[39m(model, \u001b[38;5;241m*\u001b[39margs, \u001b[38;5;241m*\u001b[39m\u001b[38;5;241m*\u001b[39mkwargs):\n\u001b[1;32m     55\u001b[0m     \u001b[38;5;28mcls\u001b[39m\u001b[38;5;241m.\u001b[39mset_censoring_type(model, \u001b[38;5;28mcls\u001b[39m\u001b[38;5;241m.\u001b[39mRIGHT)\n\u001b[0;32m---> 56\u001b[0m     \u001b[38;5;28;01mreturn\u001b[39;00m \u001b[43mfunction\u001b[49m\u001b[43m(\u001b[49m\u001b[43mmodel\u001b[49m\u001b[43m,\u001b[49m\u001b[43m \u001b[49m\u001b[38;5;241;43m*\u001b[39;49m\u001b[43margs\u001b[49m\u001b[43m,\u001b[49m\u001b[43m \u001b[49m\u001b[38;5;241;43m*\u001b[39;49m\u001b[38;5;241;43m*\u001b[39;49m\u001b[43mkwargs\u001b[49m\u001b[43m)\u001b[49m\n",
      "File \u001b[0;32m/opt/conda/lib/python3.9/site-packages/lifelines/fitters/coxph_fitter.py:1252\u001b[0m, in \u001b[0;36mSemiParametricPHFitter.fit\u001b[0;34m(self, df, duration_col, event_col, show_progress, initial_point, strata, weights_col, cluster_col, robust, batch_mode, timeline, formula, entry_col, fit_options)\u001b[0m\n\u001b[1;32m   1247\u001b[0m \u001b[38;5;66;03m# this is surprisingly faster to do...\u001b[39;00m\n\u001b[1;32m   1248\u001b[0m X_norm \u001b[38;5;241m=\u001b[39m pd\u001b[38;5;241m.\u001b[39mDataFrame(\n\u001b[1;32m   1249\u001b[0m     utils\u001b[38;5;241m.\u001b[39mnormalize(X\u001b[38;5;241m.\u001b[39mvalues, \u001b[38;5;28mself\u001b[39m\u001b[38;5;241m.\u001b[39m_norm_mean\u001b[38;5;241m.\u001b[39mvalues, \u001b[38;5;28mself\u001b[39m\u001b[38;5;241m.\u001b[39m_norm_std\u001b[38;5;241m.\u001b[39mvalues), index\u001b[38;5;241m=\u001b[39mX\u001b[38;5;241m.\u001b[39mindex, columns\u001b[38;5;241m=\u001b[39mX\u001b[38;5;241m.\u001b[39mcolumns\n\u001b[1;32m   1250\u001b[0m )\n\u001b[0;32m-> 1252\u001b[0m params_, ll_, variance_matrix_, baseline_hazard_, baseline_cumulative_hazard_, model \u001b[38;5;241m=\u001b[39m \u001b[38;5;28;43mself\u001b[39;49m\u001b[38;5;241;43m.\u001b[39;49m\u001b[43m_fit_model\u001b[49m\u001b[43m(\u001b[49m\n\u001b[1;32m   1253\u001b[0m \u001b[43m    \u001b[49m\u001b[43mX_norm\u001b[49m\u001b[43m,\u001b[49m\n\u001b[1;32m   1254\u001b[0m \u001b[43m    \u001b[49m\u001b[43mT\u001b[49m\u001b[43m,\u001b[49m\n\u001b[1;32m   1255\u001b[0m \u001b[43m    \u001b[49m\u001b[43mE\u001b[49m\u001b[43m,\u001b[49m\n\u001b[1;32m   1256\u001b[0m \u001b[43m    \u001b[49m\u001b[43mweights\u001b[49m\u001b[38;5;241;43m=\u001b[39;49m\u001b[43mweights\u001b[49m\u001b[43m,\u001b[49m\n\u001b[1;32m   1257\u001b[0m \u001b[43m    \u001b[49m\u001b[43mentries\u001b[49m\u001b[38;5;241;43m=\u001b[39;49m\u001b[43mentries\u001b[49m\u001b[43m,\u001b[49m\n\u001b[1;32m   1258\u001b[0m \u001b[43m    \u001b[49m\u001b[43mfit_options\u001b[49m\u001b[38;5;241;43m=\u001b[39;49m\u001b[43mutils\u001b[49m\u001b[38;5;241;43m.\u001b[39;49m\u001b[43mcoalesce\u001b[49m\u001b[43m(\u001b[49m\u001b[43mfit_options\u001b[49m\u001b[43m,\u001b[49m\u001b[43m \u001b[49m\u001b[38;5;28;43mdict\u001b[39;49m\u001b[43m(\u001b[49m\u001b[43m)\u001b[49m\u001b[43m)\u001b[49m\u001b[43m,\u001b[49m\n\u001b[1;32m   1259\u001b[0m \u001b[43m    \u001b[49m\u001b[43minitial_point\u001b[49m\u001b[38;5;241;43m=\u001b[39;49m\u001b[43minitial_point\u001b[49m\u001b[43m,\u001b[49m\n\u001b[1;32m   1260\u001b[0m \u001b[43m    \u001b[49m\u001b[43mshow_progress\u001b[49m\u001b[38;5;241;43m=\u001b[39;49m\u001b[43mshow_progress\u001b[49m\u001b[43m,\u001b[49m\n\u001b[1;32m   1261\u001b[0m \u001b[43m\u001b[49m\u001b[43m)\u001b[49m\n\u001b[1;32m   1263\u001b[0m \u001b[38;5;28mself\u001b[39m\u001b[38;5;241m.\u001b[39mlog_likelihood_ \u001b[38;5;241m=\u001b[39m ll_\n\u001b[1;32m   1264\u001b[0m \u001b[38;5;28mself\u001b[39m\u001b[38;5;241m.\u001b[39mmodel \u001b[38;5;241m=\u001b[39m model\n",
      "File \u001b[0;32m/opt/conda/lib/python3.9/site-packages/lifelines/fitters/coxph_fitter.py:1380\u001b[0m, in \u001b[0;36mSemiParametricPHFitter._fit_model\u001b[0;34m(self, X, T, E, weights, entries, fit_options, initial_point, show_progress)\u001b[0m\n\u001b[1;32m   1369\u001b[0m \u001b[38;5;28;01mdef\u001b[39;00m \u001b[38;5;21m_fit_model\u001b[39m(\n\u001b[1;32m   1370\u001b[0m     \u001b[38;5;28mself\u001b[39m,\n\u001b[1;32m   1371\u001b[0m     X: DataFrame,\n\u001b[0;32m   (...)\u001b[0m\n\u001b[1;32m   1378\u001b[0m     show_progress: \u001b[38;5;28mbool\u001b[39m \u001b[38;5;241m=\u001b[39m \u001b[38;5;28;01mTrue\u001b[39;00m,\n\u001b[1;32m   1379\u001b[0m ):\n\u001b[0;32m-> 1380\u001b[0m     beta_, ll_, hessian_ \u001b[38;5;241m=\u001b[39m \u001b[38;5;28;43mself\u001b[39;49m\u001b[38;5;241;43m.\u001b[39;49m\u001b[43m_newton_raphson_for_efron_model\u001b[49m\u001b[43m(\u001b[49m\n\u001b[1;32m   1381\u001b[0m \u001b[43m        \u001b[49m\u001b[43mX\u001b[49m\u001b[43m,\u001b[49m\n\u001b[1;32m   1382\u001b[0m \u001b[43m        \u001b[49m\u001b[43mT\u001b[49m\u001b[43m,\u001b[49m\n\u001b[1;32m   1383\u001b[0m \u001b[43m        \u001b[49m\u001b[43mE\u001b[49m\u001b[43m,\u001b[49m\n\u001b[1;32m   1384\u001b[0m \u001b[43m        \u001b[49m\u001b[43mweights\u001b[49m\u001b[43m,\u001b[49m\n\u001b[1;32m   1385\u001b[0m \u001b[43m        \u001b[49m\u001b[43mentries\u001b[49m\u001b[43m,\u001b[49m\n\u001b[1;32m   1386\u001b[0m \u001b[43m        \u001b[49m\u001b[43minitial_point\u001b[49m\u001b[38;5;241;43m=\u001b[39;49m\u001b[43minitial_point\u001b[49m\u001b[43m,\u001b[49m\n\u001b[1;32m   1387\u001b[0m \u001b[43m        \u001b[49m\u001b[43mshow_progress\u001b[49m\u001b[38;5;241;43m=\u001b[39;49m\u001b[43mshow_progress\u001b[49m\u001b[43m,\u001b[49m\n\u001b[1;32m   1388\u001b[0m \u001b[43m        \u001b[49m\u001b[38;5;241;43m*\u001b[39;49m\u001b[38;5;241;43m*\u001b[39;49m\u001b[43mfit_options\u001b[49m\u001b[43m,\u001b[49m\n\u001b[1;32m   1389\u001b[0m \u001b[43m    \u001b[49m\u001b[43m)\u001b[49m\n\u001b[1;32m   1391\u001b[0m     \u001b[38;5;66;03m# compute the baseline hazard here.\u001b[39;00m\n\u001b[1;32m   1392\u001b[0m     predicted_partial_hazards_ \u001b[38;5;241m=\u001b[39m (\n\u001b[1;32m   1393\u001b[0m         pd\u001b[38;5;241m.\u001b[39mDataFrame(np\u001b[38;5;241m.\u001b[39mexp(dot(X, beta_)), columns\u001b[38;5;241m=\u001b[39m[\u001b[38;5;124m\"\u001b[39m\u001b[38;5;124mP\u001b[39m\u001b[38;5;124m\"\u001b[39m])\u001b[38;5;241m.\u001b[39massign(T\u001b[38;5;241m=\u001b[39mT\u001b[38;5;241m.\u001b[39mvalues, E\u001b[38;5;241m=\u001b[39mE\u001b[38;5;241m.\u001b[39mvalues, W\u001b[38;5;241m=\u001b[39mweights\u001b[38;5;241m.\u001b[39mvalues)\u001b[38;5;241m.\u001b[39mset_index(X\u001b[38;5;241m.\u001b[39mindex)\n\u001b[1;32m   1394\u001b[0m     )\n",
      "File \u001b[0;32m/opt/conda/lib/python3.9/site-packages/lifelines/fitters/coxph_fitter.py:1550\u001b[0m, in \u001b[0;36mSemiParametricPHFitter._newton_raphson_for_efron_model\u001b[0;34m(self, X, T, E, weights, entries, initial_point, show_progress, step_size, precision, max_steps)\u001b[0m\n\u001b[1;32m   1548\u001b[0m \u001b[38;5;28;01mif\u001b[39;00m np\u001b[38;5;241m.\u001b[39many(np\u001b[38;5;241m.\u001b[39misnan(delta)):\n\u001b[1;32m   1549\u001b[0m     \u001b[38;5;28mself\u001b[39m\u001b[38;5;241m.\u001b[39m_check_values_post_fitting(X, T, E, weights)\n\u001b[0;32m-> 1550\u001b[0m     \u001b[38;5;28;01mraise\u001b[39;00m exceptions\u001b[38;5;241m.\u001b[39mConvergenceError(\n\u001b[1;32m   1551\u001b[0m \u001b[38;5;250m        \u001b[39m\u001b[38;5;124;03m\"\"\"delta contains nan value(s). Convergence halted. {0}\"\"\"\u001b[39;00m\u001b[38;5;241m.\u001b[39mformat(CONVERGENCE_DOCS)\n\u001b[1;32m   1552\u001b[0m     )\n\u001b[1;32m   1554\u001b[0m \u001b[38;5;66;03m# Save these as pending result\u001b[39;00m\n\u001b[1;32m   1555\u001b[0m hessian, gradient \u001b[38;5;241m=\u001b[39m h, g\n",
      "\u001b[0;31mConvergenceError\u001b[0m: delta contains nan value(s). Convergence halted. Please see the following tips in the lifelines documentation: https://lifelines.readthedocs.io/en/latest/Examples.html#problems-with-convergence-in-the-cox-proportional-hazard-model"
     ]
    }
   ],
   "source": [
    "#FOR I66 age and sex COX MODEL\n",
    "asadjust_i66 = cevd_df_first.dropna(subset=['i66_t2e'])\n",
    "asadjust_i66 = asadjust_i66.loc[:, ['i66_event', 'i66_t2e', 'age_i0', 'male', 'dep_yes']]\n",
    "asadjust_i66 = asadjust_i66[['i66_event', 'i66_t2e', 'age_i0', 'male', 'dep_yes']]\n",
    "cph = CoxPHFitter(penalizer=0.0001)\n",
    "cph.fit(asadjust_i66, duration_col='i66_t2e', event_col='i66_event') \n",
    "summary_df = cph.summary \n",
    "summary_df.style.format({'p': '{:.5f}'})"
   ]
  },
  {
   "cell_type": "code",
   "execution_count": 346,
   "metadata": {
    "tags": []
   },
   "outputs": [
    {
     "ename": "ConvergenceError",
     "evalue": "delta contains nan value(s). Convergence halted. Please see the following tips in the lifelines documentation: https://lifelines.readthedocs.io/en/latest/Examples.html#problems-with-convergence-in-the-cox-proportional-hazard-model",
     "output_type": "error",
     "traceback": [
      "\u001b[0;31m---------------------------------------------------------------------------\u001b[0m",
      "\u001b[0;31mConvergenceError\u001b[0m                          Traceback (most recent call last)",
      "Cell \u001b[0;32mIn[346], line 6\u001b[0m\n\u001b[1;32m      4\u001b[0m unadjust_i66 \u001b[38;5;241m=\u001b[39m unadjust_i66[[\u001b[38;5;124m'\u001b[39m\u001b[38;5;124mi66_event\u001b[39m\u001b[38;5;124m'\u001b[39m, \u001b[38;5;124m'\u001b[39m\u001b[38;5;124mi66_t2e\u001b[39m\u001b[38;5;124m'\u001b[39m, \u001b[38;5;124m'\u001b[39m\u001b[38;5;124mdep_yes\u001b[39m\u001b[38;5;124m'\u001b[39m]]\n\u001b[1;32m      5\u001b[0m cph \u001b[38;5;241m=\u001b[39m CoxPHFitter(penalizer\u001b[38;5;241m=\u001b[39m\u001b[38;5;241m0.0001\u001b[39m)\n\u001b[0;32m----> 6\u001b[0m \u001b[43mcph\u001b[49m\u001b[38;5;241;43m.\u001b[39;49m\u001b[43mfit\u001b[49m\u001b[43m(\u001b[49m\u001b[43munadjust_i66\u001b[49m\u001b[43m,\u001b[49m\u001b[43m \u001b[49m\u001b[43mduration_col\u001b[49m\u001b[38;5;241;43m=\u001b[39;49m\u001b[38;5;124;43m'\u001b[39;49m\u001b[38;5;124;43mi66_t2e\u001b[39;49m\u001b[38;5;124;43m'\u001b[39;49m\u001b[43m,\u001b[49m\u001b[43m \u001b[49m\u001b[43mevent_col\u001b[49m\u001b[38;5;241;43m=\u001b[39;49m\u001b[38;5;124;43m'\u001b[39;49m\u001b[38;5;124;43mi66_event\u001b[39;49m\u001b[38;5;124;43m'\u001b[39;49m\u001b[43m)\u001b[49m \n\u001b[1;32m      7\u001b[0m summary_df \u001b[38;5;241m=\u001b[39m cph\u001b[38;5;241m.\u001b[39msummary \n\u001b[1;32m      8\u001b[0m summary_df\u001b[38;5;241m.\u001b[39mstyle\u001b[38;5;241m.\u001b[39mformat({\u001b[38;5;124m'\u001b[39m\u001b[38;5;124mp\u001b[39m\u001b[38;5;124m'\u001b[39m: \u001b[38;5;124m'\u001b[39m\u001b[38;5;132;01m{:.5f}\u001b[39;00m\u001b[38;5;124m'\u001b[39m})\n",
      "File \u001b[0;32m/opt/conda/lib/python3.9/site-packages/lifelines/utils/__init__.py:56\u001b[0m, in \u001b[0;36mCensoringType.right_censoring.<locals>.f\u001b[0;34m(model, *args, **kwargs)\u001b[0m\n\u001b[1;32m     53\u001b[0m \u001b[38;5;129m@wraps\u001b[39m(function)\n\u001b[1;32m     54\u001b[0m \u001b[38;5;28;01mdef\u001b[39;00m \u001b[38;5;21mf\u001b[39m(model, \u001b[38;5;241m*\u001b[39margs, \u001b[38;5;241m*\u001b[39m\u001b[38;5;241m*\u001b[39mkwargs):\n\u001b[1;32m     55\u001b[0m     \u001b[38;5;28mcls\u001b[39m\u001b[38;5;241m.\u001b[39mset_censoring_type(model, \u001b[38;5;28mcls\u001b[39m\u001b[38;5;241m.\u001b[39mRIGHT)\n\u001b[0;32m---> 56\u001b[0m     \u001b[38;5;28;01mreturn\u001b[39;00m \u001b[43mfunction\u001b[49m\u001b[43m(\u001b[49m\u001b[43mmodel\u001b[49m\u001b[43m,\u001b[49m\u001b[43m \u001b[49m\u001b[38;5;241;43m*\u001b[39;49m\u001b[43margs\u001b[49m\u001b[43m,\u001b[49m\u001b[43m \u001b[49m\u001b[38;5;241;43m*\u001b[39;49m\u001b[38;5;241;43m*\u001b[39;49m\u001b[43mkwargs\u001b[49m\u001b[43m)\u001b[49m\n",
      "File \u001b[0;32m/opt/conda/lib/python3.9/site-packages/lifelines/fitters/coxph_fitter.py:290\u001b[0m, in \u001b[0;36mCoxPHFitter.fit\u001b[0;34m(self, df, duration_col, event_col, show_progress, initial_point, strata, weights_col, cluster_col, robust, batch_mode, timeline, formula, entry_col, fit_options)\u001b[0m\n\u001b[1;32m    184\u001b[0m \u001b[38;5;250m\u001b[39m\u001b[38;5;124;03m\"\"\"\u001b[39;00m\n\u001b[1;32m    185\u001b[0m \u001b[38;5;124;03mFit the Cox proportional hazard model to a right-censored dataset. Alias of `fit_right_censoring`.\u001b[39;00m\n\u001b[1;32m    186\u001b[0m \n\u001b[0;32m   (...)\u001b[0m\n\u001b[1;32m    287\u001b[0m \n\u001b[1;32m    288\u001b[0m \u001b[38;5;124;03m\"\"\"\u001b[39;00m\n\u001b[1;32m    289\u001b[0m \u001b[38;5;28mself\u001b[39m\u001b[38;5;241m.\u001b[39mstrata \u001b[38;5;241m=\u001b[39m utils\u001b[38;5;241m.\u001b[39m_to_list_or_singleton(utils\u001b[38;5;241m.\u001b[39mcoalesce(strata, \u001b[38;5;28mself\u001b[39m\u001b[38;5;241m.\u001b[39mstrata))\n\u001b[0;32m--> 290\u001b[0m \u001b[38;5;28mself\u001b[39m\u001b[38;5;241m.\u001b[39m_model \u001b[38;5;241m=\u001b[39m \u001b[38;5;28;43mself\u001b[39;49m\u001b[38;5;241;43m.\u001b[39;49m\u001b[43m_fit_model\u001b[49m\u001b[43m(\u001b[49m\n\u001b[1;32m    291\u001b[0m \u001b[43m    \u001b[49m\u001b[43mdf\u001b[49m\u001b[43m,\u001b[49m\n\u001b[1;32m    292\u001b[0m \u001b[43m    \u001b[49m\u001b[43mduration_col\u001b[49m\u001b[43m,\u001b[49m\n\u001b[1;32m    293\u001b[0m \u001b[43m    \u001b[49m\u001b[43mevent_col\u001b[49m\u001b[38;5;241;43m=\u001b[39;49m\u001b[43mevent_col\u001b[49m\u001b[43m,\u001b[49m\n\u001b[1;32m    294\u001b[0m \u001b[43m    \u001b[49m\u001b[43mshow_progress\u001b[49m\u001b[38;5;241;43m=\u001b[39;49m\u001b[43mshow_progress\u001b[49m\u001b[43m,\u001b[49m\n\u001b[1;32m    295\u001b[0m \u001b[43m    \u001b[49m\u001b[43minitial_point\u001b[49m\u001b[38;5;241;43m=\u001b[39;49m\u001b[43minitial_point\u001b[49m\u001b[43m,\u001b[49m\n\u001b[1;32m    296\u001b[0m \u001b[43m    \u001b[49m\u001b[43mstrata\u001b[49m\u001b[38;5;241;43m=\u001b[39;49m\u001b[38;5;28;43mself\u001b[39;49m\u001b[38;5;241;43m.\u001b[39;49m\u001b[43mstrata\u001b[49m\u001b[43m,\u001b[49m\n\u001b[1;32m    297\u001b[0m \u001b[43m    \u001b[49m\u001b[43mweights_col\u001b[49m\u001b[38;5;241;43m=\u001b[39;49m\u001b[43mweights_col\u001b[49m\u001b[43m,\u001b[49m\n\u001b[1;32m    298\u001b[0m \u001b[43m    \u001b[49m\u001b[43mcluster_col\u001b[49m\u001b[38;5;241;43m=\u001b[39;49m\u001b[43mcluster_col\u001b[49m\u001b[43m,\u001b[49m\n\u001b[1;32m    299\u001b[0m \u001b[43m    \u001b[49m\u001b[43mrobust\u001b[49m\u001b[38;5;241;43m=\u001b[39;49m\u001b[43mrobust\u001b[49m\u001b[43m,\u001b[49m\n\u001b[1;32m    300\u001b[0m \u001b[43m    \u001b[49m\u001b[43mbatch_mode\u001b[49m\u001b[38;5;241;43m=\u001b[39;49m\u001b[43mbatch_mode\u001b[49m\u001b[43m,\u001b[49m\n\u001b[1;32m    301\u001b[0m \u001b[43m    \u001b[49m\u001b[43mtimeline\u001b[49m\u001b[38;5;241;43m=\u001b[39;49m\u001b[43mtimeline\u001b[49m\u001b[43m,\u001b[49m\n\u001b[1;32m    302\u001b[0m \u001b[43m    \u001b[49m\u001b[43mformula\u001b[49m\u001b[38;5;241;43m=\u001b[39;49m\u001b[43mformula\u001b[49m\u001b[43m,\u001b[49m\n\u001b[1;32m    303\u001b[0m \u001b[43m    \u001b[49m\u001b[43mentry_col\u001b[49m\u001b[38;5;241;43m=\u001b[39;49m\u001b[43mentry_col\u001b[49m\u001b[43m,\u001b[49m\n\u001b[1;32m    304\u001b[0m \u001b[43m    \u001b[49m\u001b[43mfit_options\u001b[49m\u001b[38;5;241;43m=\u001b[39;49m\u001b[43mfit_options\u001b[49m\u001b[43m,\u001b[49m\n\u001b[1;32m    305\u001b[0m \u001b[43m\u001b[49m\u001b[43m)\u001b[49m\n\u001b[1;32m    306\u001b[0m \u001b[38;5;28;01mreturn\u001b[39;00m \u001b[38;5;28mself\u001b[39m\n",
      "File \u001b[0;32m/opt/conda/lib/python3.9/site-packages/lifelines/fitters/coxph_fitter.py:610\u001b[0m, in \u001b[0;36mCoxPHFitter._fit_model\u001b[0;34m(self, *args, **kwargs)\u001b[0m\n\u001b[1;32m    608\u001b[0m \u001b[38;5;28;01mdef\u001b[39;00m \u001b[38;5;21m_fit_model\u001b[39m(\u001b[38;5;28mself\u001b[39m, \u001b[38;5;241m*\u001b[39margs, \u001b[38;5;241m*\u001b[39m\u001b[38;5;241m*\u001b[39mkwargs):\n\u001b[1;32m    609\u001b[0m     \u001b[38;5;28;01mif\u001b[39;00m \u001b[38;5;28mself\u001b[39m\u001b[38;5;241m.\u001b[39mbaseline_estimation_method \u001b[38;5;241m==\u001b[39m \u001b[38;5;124m\"\u001b[39m\u001b[38;5;124mbreslow\u001b[39m\u001b[38;5;124m\"\u001b[39m:\n\u001b[0;32m--> 610\u001b[0m         \u001b[38;5;28;01mreturn\u001b[39;00m \u001b[38;5;28;43mself\u001b[39;49m\u001b[38;5;241;43m.\u001b[39;49m\u001b[43m_fit_model_breslow\u001b[49m\u001b[43m(\u001b[49m\u001b[38;5;241;43m*\u001b[39;49m\u001b[43margs\u001b[49m\u001b[43m,\u001b[49m\u001b[43m \u001b[49m\u001b[38;5;241;43m*\u001b[39;49m\u001b[38;5;241;43m*\u001b[39;49m\u001b[43mkwargs\u001b[49m\u001b[43m)\u001b[49m\n\u001b[1;32m    611\u001b[0m     \u001b[38;5;28;01melif\u001b[39;00m \u001b[38;5;28mself\u001b[39m\u001b[38;5;241m.\u001b[39mbaseline_estimation_method \u001b[38;5;241m==\u001b[39m \u001b[38;5;124m\"\u001b[39m\u001b[38;5;124mspline\u001b[39m\u001b[38;5;124m\"\u001b[39m:\n\u001b[1;32m    612\u001b[0m         \u001b[38;5;28;01mreturn\u001b[39;00m \u001b[38;5;28mself\u001b[39m\u001b[38;5;241m.\u001b[39m_fit_model_spline(\u001b[38;5;241m*\u001b[39margs, \u001b[38;5;241m*\u001b[39m\u001b[38;5;241m*\u001b[39mkwargs)\n",
      "File \u001b[0;32m/opt/conda/lib/python3.9/site-packages/lifelines/fitters/coxph_fitter.py:623\u001b[0m, in \u001b[0;36mCoxPHFitter._fit_model_breslow\u001b[0;34m(self, *args, **kwargs)\u001b[0m\n\u001b[1;32m    619\u001b[0m model \u001b[38;5;241m=\u001b[39m SemiParametricPHFitter(\n\u001b[1;32m    620\u001b[0m     penalizer\u001b[38;5;241m=\u001b[39m\u001b[38;5;28mself\u001b[39m\u001b[38;5;241m.\u001b[39mpenalizer, l1_ratio\u001b[38;5;241m=\u001b[39m\u001b[38;5;28mself\u001b[39m\u001b[38;5;241m.\u001b[39ml1_ratio, strata\u001b[38;5;241m=\u001b[39m\u001b[38;5;28mself\u001b[39m\u001b[38;5;241m.\u001b[39mstrata, alpha\u001b[38;5;241m=\u001b[39m\u001b[38;5;28mself\u001b[39m\u001b[38;5;241m.\u001b[39malpha, label\u001b[38;5;241m=\u001b[39m\u001b[38;5;28mself\u001b[39m\u001b[38;5;241m.\u001b[39m_label\n\u001b[1;32m    621\u001b[0m )\n\u001b[1;32m    622\u001b[0m \u001b[38;5;28;01mif\u001b[39;00m utils\u001b[38;5;241m.\u001b[39mCensoringType\u001b[38;5;241m.\u001b[39mis_right_censoring(\u001b[38;5;28mself\u001b[39m):\n\u001b[0;32m--> 623\u001b[0m     \u001b[43mmodel\u001b[49m\u001b[38;5;241;43m.\u001b[39;49m\u001b[43mfit\u001b[49m\u001b[43m(\u001b[49m\u001b[38;5;241;43m*\u001b[39;49m\u001b[43margs\u001b[49m\u001b[43m,\u001b[49m\u001b[43m \u001b[49m\u001b[38;5;241;43m*\u001b[39;49m\u001b[38;5;241;43m*\u001b[39;49m\u001b[43mkwargs\u001b[49m\u001b[43m)\u001b[49m\n\u001b[1;32m    624\u001b[0m     \u001b[38;5;28;01mreturn\u001b[39;00m model\n\u001b[1;32m    625\u001b[0m \u001b[38;5;28;01melse\u001b[39;00m:\n",
      "File \u001b[0;32m/opt/conda/lib/python3.9/site-packages/lifelines/utils/__init__.py:56\u001b[0m, in \u001b[0;36mCensoringType.right_censoring.<locals>.f\u001b[0;34m(model, *args, **kwargs)\u001b[0m\n\u001b[1;32m     53\u001b[0m \u001b[38;5;129m@wraps\u001b[39m(function)\n\u001b[1;32m     54\u001b[0m \u001b[38;5;28;01mdef\u001b[39;00m \u001b[38;5;21mf\u001b[39m(model, \u001b[38;5;241m*\u001b[39margs, \u001b[38;5;241m*\u001b[39m\u001b[38;5;241m*\u001b[39mkwargs):\n\u001b[1;32m     55\u001b[0m     \u001b[38;5;28mcls\u001b[39m\u001b[38;5;241m.\u001b[39mset_censoring_type(model, \u001b[38;5;28mcls\u001b[39m\u001b[38;5;241m.\u001b[39mRIGHT)\n\u001b[0;32m---> 56\u001b[0m     \u001b[38;5;28;01mreturn\u001b[39;00m \u001b[43mfunction\u001b[49m\u001b[43m(\u001b[49m\u001b[43mmodel\u001b[49m\u001b[43m,\u001b[49m\u001b[43m \u001b[49m\u001b[38;5;241;43m*\u001b[39;49m\u001b[43margs\u001b[49m\u001b[43m,\u001b[49m\u001b[43m \u001b[49m\u001b[38;5;241;43m*\u001b[39;49m\u001b[38;5;241;43m*\u001b[39;49m\u001b[43mkwargs\u001b[49m\u001b[43m)\u001b[49m\n",
      "File \u001b[0;32m/opt/conda/lib/python3.9/site-packages/lifelines/fitters/coxph_fitter.py:1252\u001b[0m, in \u001b[0;36mSemiParametricPHFitter.fit\u001b[0;34m(self, df, duration_col, event_col, show_progress, initial_point, strata, weights_col, cluster_col, robust, batch_mode, timeline, formula, entry_col, fit_options)\u001b[0m\n\u001b[1;32m   1247\u001b[0m \u001b[38;5;66;03m# this is surprisingly faster to do...\u001b[39;00m\n\u001b[1;32m   1248\u001b[0m X_norm \u001b[38;5;241m=\u001b[39m pd\u001b[38;5;241m.\u001b[39mDataFrame(\n\u001b[1;32m   1249\u001b[0m     utils\u001b[38;5;241m.\u001b[39mnormalize(X\u001b[38;5;241m.\u001b[39mvalues, \u001b[38;5;28mself\u001b[39m\u001b[38;5;241m.\u001b[39m_norm_mean\u001b[38;5;241m.\u001b[39mvalues, \u001b[38;5;28mself\u001b[39m\u001b[38;5;241m.\u001b[39m_norm_std\u001b[38;5;241m.\u001b[39mvalues), index\u001b[38;5;241m=\u001b[39mX\u001b[38;5;241m.\u001b[39mindex, columns\u001b[38;5;241m=\u001b[39mX\u001b[38;5;241m.\u001b[39mcolumns\n\u001b[1;32m   1250\u001b[0m )\n\u001b[0;32m-> 1252\u001b[0m params_, ll_, variance_matrix_, baseline_hazard_, baseline_cumulative_hazard_, model \u001b[38;5;241m=\u001b[39m \u001b[38;5;28;43mself\u001b[39;49m\u001b[38;5;241;43m.\u001b[39;49m\u001b[43m_fit_model\u001b[49m\u001b[43m(\u001b[49m\n\u001b[1;32m   1253\u001b[0m \u001b[43m    \u001b[49m\u001b[43mX_norm\u001b[49m\u001b[43m,\u001b[49m\n\u001b[1;32m   1254\u001b[0m \u001b[43m    \u001b[49m\u001b[43mT\u001b[49m\u001b[43m,\u001b[49m\n\u001b[1;32m   1255\u001b[0m \u001b[43m    \u001b[49m\u001b[43mE\u001b[49m\u001b[43m,\u001b[49m\n\u001b[1;32m   1256\u001b[0m \u001b[43m    \u001b[49m\u001b[43mweights\u001b[49m\u001b[38;5;241;43m=\u001b[39;49m\u001b[43mweights\u001b[49m\u001b[43m,\u001b[49m\n\u001b[1;32m   1257\u001b[0m \u001b[43m    \u001b[49m\u001b[43mentries\u001b[49m\u001b[38;5;241;43m=\u001b[39;49m\u001b[43mentries\u001b[49m\u001b[43m,\u001b[49m\n\u001b[1;32m   1258\u001b[0m \u001b[43m    \u001b[49m\u001b[43mfit_options\u001b[49m\u001b[38;5;241;43m=\u001b[39;49m\u001b[43mutils\u001b[49m\u001b[38;5;241;43m.\u001b[39;49m\u001b[43mcoalesce\u001b[49m\u001b[43m(\u001b[49m\u001b[43mfit_options\u001b[49m\u001b[43m,\u001b[49m\u001b[43m \u001b[49m\u001b[38;5;28;43mdict\u001b[39;49m\u001b[43m(\u001b[49m\u001b[43m)\u001b[49m\u001b[43m)\u001b[49m\u001b[43m,\u001b[49m\n\u001b[1;32m   1259\u001b[0m \u001b[43m    \u001b[49m\u001b[43minitial_point\u001b[49m\u001b[38;5;241;43m=\u001b[39;49m\u001b[43minitial_point\u001b[49m\u001b[43m,\u001b[49m\n\u001b[1;32m   1260\u001b[0m \u001b[43m    \u001b[49m\u001b[43mshow_progress\u001b[49m\u001b[38;5;241;43m=\u001b[39;49m\u001b[43mshow_progress\u001b[49m\u001b[43m,\u001b[49m\n\u001b[1;32m   1261\u001b[0m \u001b[43m\u001b[49m\u001b[43m)\u001b[49m\n\u001b[1;32m   1263\u001b[0m \u001b[38;5;28mself\u001b[39m\u001b[38;5;241m.\u001b[39mlog_likelihood_ \u001b[38;5;241m=\u001b[39m ll_\n\u001b[1;32m   1264\u001b[0m \u001b[38;5;28mself\u001b[39m\u001b[38;5;241m.\u001b[39mmodel \u001b[38;5;241m=\u001b[39m model\n",
      "File \u001b[0;32m/opt/conda/lib/python3.9/site-packages/lifelines/fitters/coxph_fitter.py:1380\u001b[0m, in \u001b[0;36mSemiParametricPHFitter._fit_model\u001b[0;34m(self, X, T, E, weights, entries, fit_options, initial_point, show_progress)\u001b[0m\n\u001b[1;32m   1369\u001b[0m \u001b[38;5;28;01mdef\u001b[39;00m \u001b[38;5;21m_fit_model\u001b[39m(\n\u001b[1;32m   1370\u001b[0m     \u001b[38;5;28mself\u001b[39m,\n\u001b[1;32m   1371\u001b[0m     X: DataFrame,\n\u001b[0;32m   (...)\u001b[0m\n\u001b[1;32m   1378\u001b[0m     show_progress: \u001b[38;5;28mbool\u001b[39m \u001b[38;5;241m=\u001b[39m \u001b[38;5;28;01mTrue\u001b[39;00m,\n\u001b[1;32m   1379\u001b[0m ):\n\u001b[0;32m-> 1380\u001b[0m     beta_, ll_, hessian_ \u001b[38;5;241m=\u001b[39m \u001b[38;5;28;43mself\u001b[39;49m\u001b[38;5;241;43m.\u001b[39;49m\u001b[43m_newton_raphson_for_efron_model\u001b[49m\u001b[43m(\u001b[49m\n\u001b[1;32m   1381\u001b[0m \u001b[43m        \u001b[49m\u001b[43mX\u001b[49m\u001b[43m,\u001b[49m\n\u001b[1;32m   1382\u001b[0m \u001b[43m        \u001b[49m\u001b[43mT\u001b[49m\u001b[43m,\u001b[49m\n\u001b[1;32m   1383\u001b[0m \u001b[43m        \u001b[49m\u001b[43mE\u001b[49m\u001b[43m,\u001b[49m\n\u001b[1;32m   1384\u001b[0m \u001b[43m        \u001b[49m\u001b[43mweights\u001b[49m\u001b[43m,\u001b[49m\n\u001b[1;32m   1385\u001b[0m \u001b[43m        \u001b[49m\u001b[43mentries\u001b[49m\u001b[43m,\u001b[49m\n\u001b[1;32m   1386\u001b[0m \u001b[43m        \u001b[49m\u001b[43minitial_point\u001b[49m\u001b[38;5;241;43m=\u001b[39;49m\u001b[43minitial_point\u001b[49m\u001b[43m,\u001b[49m\n\u001b[1;32m   1387\u001b[0m \u001b[43m        \u001b[49m\u001b[43mshow_progress\u001b[49m\u001b[38;5;241;43m=\u001b[39;49m\u001b[43mshow_progress\u001b[49m\u001b[43m,\u001b[49m\n\u001b[1;32m   1388\u001b[0m \u001b[43m        \u001b[49m\u001b[38;5;241;43m*\u001b[39;49m\u001b[38;5;241;43m*\u001b[39;49m\u001b[43mfit_options\u001b[49m\u001b[43m,\u001b[49m\n\u001b[1;32m   1389\u001b[0m \u001b[43m    \u001b[49m\u001b[43m)\u001b[49m\n\u001b[1;32m   1391\u001b[0m     \u001b[38;5;66;03m# compute the baseline hazard here.\u001b[39;00m\n\u001b[1;32m   1392\u001b[0m     predicted_partial_hazards_ \u001b[38;5;241m=\u001b[39m (\n\u001b[1;32m   1393\u001b[0m         pd\u001b[38;5;241m.\u001b[39mDataFrame(np\u001b[38;5;241m.\u001b[39mexp(dot(X, beta_)), columns\u001b[38;5;241m=\u001b[39m[\u001b[38;5;124m\"\u001b[39m\u001b[38;5;124mP\u001b[39m\u001b[38;5;124m\"\u001b[39m])\u001b[38;5;241m.\u001b[39massign(T\u001b[38;5;241m=\u001b[39mT\u001b[38;5;241m.\u001b[39mvalues, E\u001b[38;5;241m=\u001b[39mE\u001b[38;5;241m.\u001b[39mvalues, W\u001b[38;5;241m=\u001b[39mweights\u001b[38;5;241m.\u001b[39mvalues)\u001b[38;5;241m.\u001b[39mset_index(X\u001b[38;5;241m.\u001b[39mindex)\n\u001b[1;32m   1394\u001b[0m     )\n",
      "File \u001b[0;32m/opt/conda/lib/python3.9/site-packages/lifelines/fitters/coxph_fitter.py:1550\u001b[0m, in \u001b[0;36mSemiParametricPHFitter._newton_raphson_for_efron_model\u001b[0;34m(self, X, T, E, weights, entries, initial_point, show_progress, step_size, precision, max_steps)\u001b[0m\n\u001b[1;32m   1548\u001b[0m \u001b[38;5;28;01mif\u001b[39;00m np\u001b[38;5;241m.\u001b[39many(np\u001b[38;5;241m.\u001b[39misnan(delta)):\n\u001b[1;32m   1549\u001b[0m     \u001b[38;5;28mself\u001b[39m\u001b[38;5;241m.\u001b[39m_check_values_post_fitting(X, T, E, weights)\n\u001b[0;32m-> 1550\u001b[0m     \u001b[38;5;28;01mraise\u001b[39;00m exceptions\u001b[38;5;241m.\u001b[39mConvergenceError(\n\u001b[1;32m   1551\u001b[0m \u001b[38;5;250m        \u001b[39m\u001b[38;5;124;03m\"\"\"delta contains nan value(s). Convergence halted. {0}\"\"\"\u001b[39;00m\u001b[38;5;241m.\u001b[39mformat(CONVERGENCE_DOCS)\n\u001b[1;32m   1552\u001b[0m     )\n\u001b[1;32m   1554\u001b[0m \u001b[38;5;66;03m# Save these as pending result\u001b[39;00m\n\u001b[1;32m   1555\u001b[0m hessian, gradient \u001b[38;5;241m=\u001b[39m h, g\n",
      "\u001b[0;31mConvergenceError\u001b[0m: delta contains nan value(s). Convergence halted. Please see the following tips in the lifelines documentation: https://lifelines.readthedocs.io/en/latest/Examples.html#problems-with-convergence-in-the-cox-proportional-hazard-model"
     ]
    }
   ],
   "source": [
    "#FOR I66 unadjusted COX MODEL\n",
    "unadjust_i66 = cevd_df_first.dropna(subset=['i66_t2e'])\n",
    "unadjust_i66 = unadjust_i66.loc[:, ['i66_event', 'i66_t2e', 'dep_yes']]\n",
    "unadjust_i66 = unadjust_i66[['i66_event', 'i66_t2e', 'dep_yes']]\n",
    "cph = CoxPHFitter(penalizer=0.0001)\n",
    "cph.fit(unadjust_i66, duration_col='i66_t2e', event_col='i66_event') \n",
    "summary_df = cph.summary \n",
    "summary_df.style.format({'p': '{:.5f}'})"
   ]
  },
  {
   "cell_type": "code",
   "execution_count": 347,
   "metadata": {
    "tags": []
   },
   "outputs": [],
   "source": [
    "#i67"
   ]
  },
  {
   "cell_type": "code",
   "execution_count": 348,
   "metadata": {
    "tags": []
   },
   "outputs": [],
   "source": [
    "#cox model i67 - fully adjusted\n",
    "fulladjust_i67 = cevd_df_first.dropna(subset=['i67_t2e', 'pp'])"
   ]
  },
  {
   "cell_type": "code",
   "execution_count": 349,
   "metadata": {
    "tags": []
   },
   "outputs": [
    {
     "data": {
      "text/html": [
       "<style type=\"text/css\">\n",
       "</style>\n",
       "<table id=\"T_701f1\">\n",
       "  <thead>\n",
       "    <tr>\n",
       "      <th class=\"blank level0\" >&nbsp;</th>\n",
       "      <th id=\"T_701f1_level0_col0\" class=\"col_heading level0 col0\" >coef</th>\n",
       "      <th id=\"T_701f1_level0_col1\" class=\"col_heading level0 col1\" >exp(coef)</th>\n",
       "      <th id=\"T_701f1_level0_col2\" class=\"col_heading level0 col2\" >se(coef)</th>\n",
       "      <th id=\"T_701f1_level0_col3\" class=\"col_heading level0 col3\" >coef lower 95%</th>\n",
       "      <th id=\"T_701f1_level0_col4\" class=\"col_heading level0 col4\" >coef upper 95%</th>\n",
       "      <th id=\"T_701f1_level0_col5\" class=\"col_heading level0 col5\" >exp(coef) lower 95%</th>\n",
       "      <th id=\"T_701f1_level0_col6\" class=\"col_heading level0 col6\" >exp(coef) upper 95%</th>\n",
       "      <th id=\"T_701f1_level0_col7\" class=\"col_heading level0 col7\" >cmp to</th>\n",
       "      <th id=\"T_701f1_level0_col8\" class=\"col_heading level0 col8\" >z</th>\n",
       "      <th id=\"T_701f1_level0_col9\" class=\"col_heading level0 col9\" >p</th>\n",
       "      <th id=\"T_701f1_level0_col10\" class=\"col_heading level0 col10\" >-log2(p)</th>\n",
       "    </tr>\n",
       "    <tr>\n",
       "      <th class=\"index_name level0\" >covariate</th>\n",
       "      <th class=\"blank col0\" >&nbsp;</th>\n",
       "      <th class=\"blank col1\" >&nbsp;</th>\n",
       "      <th class=\"blank col2\" >&nbsp;</th>\n",
       "      <th class=\"blank col3\" >&nbsp;</th>\n",
       "      <th class=\"blank col4\" >&nbsp;</th>\n",
       "      <th class=\"blank col5\" >&nbsp;</th>\n",
       "      <th class=\"blank col6\" >&nbsp;</th>\n",
       "      <th class=\"blank col7\" >&nbsp;</th>\n",
       "      <th class=\"blank col8\" >&nbsp;</th>\n",
       "      <th class=\"blank col9\" >&nbsp;</th>\n",
       "      <th class=\"blank col10\" >&nbsp;</th>\n",
       "    </tr>\n",
       "  </thead>\n",
       "  <tbody>\n",
       "    <tr>\n",
       "      <th id=\"T_701f1_level0_row0\" class=\"row_heading level0 row0\" >age_i0</th>\n",
       "      <td id=\"T_701f1_row0_col0\" class=\"data row0 col0\" >-0.020791</td>\n",
       "      <td id=\"T_701f1_row0_col1\" class=\"data row0 col1\" >0.979423</td>\n",
       "      <td id=\"T_701f1_row0_col2\" class=\"data row0 col2\" >0.012246</td>\n",
       "      <td id=\"T_701f1_row0_col3\" class=\"data row0 col3\" >-0.044792</td>\n",
       "      <td id=\"T_701f1_row0_col4\" class=\"data row0 col4\" >0.003210</td>\n",
       "      <td id=\"T_701f1_row0_col5\" class=\"data row0 col5\" >0.956196</td>\n",
       "      <td id=\"T_701f1_row0_col6\" class=\"data row0 col6\" >1.003215</td>\n",
       "      <td id=\"T_701f1_row0_col7\" class=\"data row0 col7\" >0.000000</td>\n",
       "      <td id=\"T_701f1_row0_col8\" class=\"data row0 col8\" >-1.697836</td>\n",
       "      <td id=\"T_701f1_row0_col9\" class=\"data row0 col9\" >0.08954</td>\n",
       "      <td id=\"T_701f1_row0_col10\" class=\"data row0 col10\" >3.481344</td>\n",
       "    </tr>\n",
       "    <tr>\n",
       "      <th id=\"T_701f1_level0_row1\" class=\"row_heading level0 row1\" >male</th>\n",
       "      <td id=\"T_701f1_row1_col0\" class=\"data row1 col0\" >0.210728</td>\n",
       "      <td id=\"T_701f1_row1_col1\" class=\"data row1 col1\" >1.234577</td>\n",
       "      <td id=\"T_701f1_row1_col2\" class=\"data row1 col2\" >0.133773</td>\n",
       "      <td id=\"T_701f1_row1_col3\" class=\"data row1 col3\" >-0.051462</td>\n",
       "      <td id=\"T_701f1_row1_col4\" class=\"data row1 col4\" >0.472918</td>\n",
       "      <td id=\"T_701f1_row1_col5\" class=\"data row1 col5\" >0.949840</td>\n",
       "      <td id=\"T_701f1_row1_col6\" class=\"data row1 col6\" >1.604670</td>\n",
       "      <td id=\"T_701f1_row1_col7\" class=\"data row1 col7\" >0.000000</td>\n",
       "      <td id=\"T_701f1_row1_col8\" class=\"data row1 col8\" >1.575270</td>\n",
       "      <td id=\"T_701f1_row1_col9\" class=\"data row1 col9\" >0.11519</td>\n",
       "      <td id=\"T_701f1_row1_col10\" class=\"data row1 col10\" >3.117860</td>\n",
       "    </tr>\n",
       "    <tr>\n",
       "      <th id=\"T_701f1_level0_row2\" class=\"row_heading level0 row2\" >pp</th>\n",
       "      <td id=\"T_701f1_row2_col0\" class=\"data row2 col0\" >0.009534</td>\n",
       "      <td id=\"T_701f1_row2_col1\" class=\"data row2 col1\" >1.009579</td>\n",
       "      <td id=\"T_701f1_row2_col2\" class=\"data row2 col2\" >0.004576</td>\n",
       "      <td id=\"T_701f1_row2_col3\" class=\"data row2 col3\" >0.000565</td>\n",
       "      <td id=\"T_701f1_row2_col4\" class=\"data row2 col4\" >0.018502</td>\n",
       "      <td id=\"T_701f1_row2_col5\" class=\"data row2 col5\" >1.000566</td>\n",
       "      <td id=\"T_701f1_row2_col6\" class=\"data row2 col6\" >1.018674</td>\n",
       "      <td id=\"T_701f1_row2_col7\" class=\"data row2 col7\" >0.000000</td>\n",
       "      <td id=\"T_701f1_row2_col8\" class=\"data row2 col8\" >2.083515</td>\n",
       "      <td id=\"T_701f1_row2_col9\" class=\"data row2 col9\" >0.03720</td>\n",
       "      <td id=\"T_701f1_row2_col10\" class=\"data row2 col10\" >4.748385</td>\n",
       "    </tr>\n",
       "    <tr>\n",
       "      <th id=\"T_701f1_level0_row3\" class=\"row_heading level0 row3\" >bmi</th>\n",
       "      <td id=\"T_701f1_row3_col0\" class=\"data row3 col0\" >0.007646</td>\n",
       "      <td id=\"T_701f1_row3_col1\" class=\"data row3 col1\" >1.007675</td>\n",
       "      <td id=\"T_701f1_row3_col2\" class=\"data row3 col2\" >0.013605</td>\n",
       "      <td id=\"T_701f1_row3_col3\" class=\"data row3 col3\" >-0.019019</td>\n",
       "      <td id=\"T_701f1_row3_col4\" class=\"data row3 col4\" >0.034310</td>\n",
       "      <td id=\"T_701f1_row3_col5\" class=\"data row3 col5\" >0.981161</td>\n",
       "      <td id=\"T_701f1_row3_col6\" class=\"data row3 col6\" >1.034906</td>\n",
       "      <td id=\"T_701f1_row3_col7\" class=\"data row3 col7\" >0.000000</td>\n",
       "      <td id=\"T_701f1_row3_col8\" class=\"data row3 col8\" >0.561998</td>\n",
       "      <td id=\"T_701f1_row3_col9\" class=\"data row3 col9\" >0.57412</td>\n",
       "      <td id=\"T_701f1_row3_col10\" class=\"data row3 col10\" >0.800583</td>\n",
       "    </tr>\n",
       "    <tr>\n",
       "      <th id=\"T_701f1_level0_row4\" class=\"row_heading level0 row4\" >dep_yes</th>\n",
       "      <td id=\"T_701f1_row4_col0\" class=\"data row4 col0\" >0.197454</td>\n",
       "      <td id=\"T_701f1_row4_col1\" class=\"data row4 col1\" >1.218297</td>\n",
       "      <td id=\"T_701f1_row4_col2\" class=\"data row4 col2\" >0.141934</td>\n",
       "      <td id=\"T_701f1_row4_col3\" class=\"data row4 col3\" >-0.080731</td>\n",
       "      <td id=\"T_701f1_row4_col4\" class=\"data row4 col4\" >0.475638</td>\n",
       "      <td id=\"T_701f1_row4_col5\" class=\"data row4 col5\" >0.922442</td>\n",
       "      <td id=\"T_701f1_row4_col6\" class=\"data row4 col6\" >1.609041</td>\n",
       "      <td id=\"T_701f1_row4_col7\" class=\"data row4 col7\" >0.000000</td>\n",
       "      <td id=\"T_701f1_row4_col8\" class=\"data row4 col8\" >1.391170</td>\n",
       "      <td id=\"T_701f1_row4_col9\" class=\"data row4 col9\" >0.16417</td>\n",
       "      <td id=\"T_701f1_row4_col10\" class=\"data row4 col10\" >2.606703</td>\n",
       "    </tr>\n",
       "  </tbody>\n",
       "</table>\n"
      ],
      "text/plain": [
       "<pandas.io.formats.style.Styler at 0x7f691543e370>"
      ]
     },
     "execution_count": 349,
     "metadata": {},
     "output_type": "execute_result"
    }
   ],
   "source": [
    "#cox model i67 - fully adjusted\n",
    "#fulladjust_i67 = cevd_df_first.dropna(subset=['i67_t2e', 'pp'])\n",
    "fulladjust_i67 = fulladjust_i67.loc[:, ['i67_event', 'i67_t2e', 'age_i0', 'male', 'pp', 'bmi', 'dep_yes']]\n",
    "fulladjust_i67 = fulladjust_i67[['i67_event', 'i67_t2e', 'age_i0', 'male', 'pp', 'bmi', 'dep_yes']]\n",
    "#fulladjust_i67_data = pd.get_dummies(fulladjust_i67, columns=['alc_freq', 'smok_stat'])\n",
    "cph = CoxPHFitter(penalizer=0.0001)\n",
    "cph.fit(fulladjust_i67, duration_col='i67_t2e', event_col='i67_event') \n",
    "summary_df = cph.summary \n",
    "summary_df.style.format({'p': '{:.5f}'})"
   ]
  },
  {
   "cell_type": "code",
   "execution_count": 350,
   "metadata": {
    "tags": []
   },
   "outputs": [
    {
     "name": "stdout",
     "output_type": "stream",
     "text": [
      "Number of depressed i67 events, Number of control i67 events: (97, 143)\n"
     ]
    }
   ],
   "source": [
    "i67_dep_yes = count_cevd(fulladjust_i67)\n",
    "print('Number of depressed i67 events, Number of control i67 events:', i67_dep_yes)"
   ]
  },
  {
   "cell_type": "code",
   "execution_count": 351,
   "metadata": {
    "tags": []
   },
   "outputs": [
    {
     "name": "stdout",
     "output_type": "stream",
     "text": [
      "Schoenfeld residuals results for I67:\n",
      "Proportional hazard assumption looks okay.\n"
     ]
    }
   ],
   "source": [
    "print('Schoenfeld residuals results for I67:')\n",
    "schoenfeld_results_i67 = cph.check_assumptions(fulladjust_i67, p_value_threshold=0.05)"
   ]
  },
  {
   "cell_type": "code",
   "execution_count": 352,
   "metadata": {
    "tags": []
   },
   "outputs": [
    {
     "data": {
      "text/html": [
       "<style type=\"text/css\">\n",
       "</style>\n",
       "<table id=\"T_fc080\">\n",
       "  <thead>\n",
       "    <tr>\n",
       "      <th class=\"blank level0\" >&nbsp;</th>\n",
       "      <th id=\"T_fc080_level0_col0\" class=\"col_heading level0 col0\" >coef</th>\n",
       "      <th id=\"T_fc080_level0_col1\" class=\"col_heading level0 col1\" >exp(coef)</th>\n",
       "      <th id=\"T_fc080_level0_col2\" class=\"col_heading level0 col2\" >se(coef)</th>\n",
       "      <th id=\"T_fc080_level0_col3\" class=\"col_heading level0 col3\" >coef lower 95%</th>\n",
       "      <th id=\"T_fc080_level0_col4\" class=\"col_heading level0 col4\" >coef upper 95%</th>\n",
       "      <th id=\"T_fc080_level0_col5\" class=\"col_heading level0 col5\" >exp(coef) lower 95%</th>\n",
       "      <th id=\"T_fc080_level0_col6\" class=\"col_heading level0 col6\" >exp(coef) upper 95%</th>\n",
       "      <th id=\"T_fc080_level0_col7\" class=\"col_heading level0 col7\" >cmp to</th>\n",
       "      <th id=\"T_fc080_level0_col8\" class=\"col_heading level0 col8\" >z</th>\n",
       "      <th id=\"T_fc080_level0_col9\" class=\"col_heading level0 col9\" >p</th>\n",
       "      <th id=\"T_fc080_level0_col10\" class=\"col_heading level0 col10\" >-log2(p)</th>\n",
       "    </tr>\n",
       "    <tr>\n",
       "      <th class=\"index_name level0\" >covariate</th>\n",
       "      <th class=\"blank col0\" >&nbsp;</th>\n",
       "      <th class=\"blank col1\" >&nbsp;</th>\n",
       "      <th class=\"blank col2\" >&nbsp;</th>\n",
       "      <th class=\"blank col3\" >&nbsp;</th>\n",
       "      <th class=\"blank col4\" >&nbsp;</th>\n",
       "      <th class=\"blank col5\" >&nbsp;</th>\n",
       "      <th class=\"blank col6\" >&nbsp;</th>\n",
       "      <th class=\"blank col7\" >&nbsp;</th>\n",
       "      <th class=\"blank col8\" >&nbsp;</th>\n",
       "      <th class=\"blank col9\" >&nbsp;</th>\n",
       "      <th class=\"blank col10\" >&nbsp;</th>\n",
       "    </tr>\n",
       "  </thead>\n",
       "  <tbody>\n",
       "    <tr>\n",
       "      <th id=\"T_fc080_level0_row0\" class=\"row_heading level0 row0\" >age_i0</th>\n",
       "      <td id=\"T_fc080_row0_col0\" class=\"data row0 col0\" >-0.016550</td>\n",
       "      <td id=\"T_fc080_row0_col1\" class=\"data row0 col1\" >0.983587</td>\n",
       "      <td id=\"T_fc080_row0_col2\" class=\"data row0 col2\" >0.011732</td>\n",
       "      <td id=\"T_fc080_row0_col3\" class=\"data row0 col3\" >-0.039545</td>\n",
       "      <td id=\"T_fc080_row0_col4\" class=\"data row0 col4\" >0.006446</td>\n",
       "      <td id=\"T_fc080_row0_col5\" class=\"data row0 col5\" >0.961227</td>\n",
       "      <td id=\"T_fc080_row0_col6\" class=\"data row0 col6\" >1.006466</td>\n",
       "      <td id=\"T_fc080_row0_col7\" class=\"data row0 col7\" >0.000000</td>\n",
       "      <td id=\"T_fc080_row0_col8\" class=\"data row0 col8\" >-1.410587</td>\n",
       "      <td id=\"T_fc080_row0_col9\" class=\"data row0 col9\" >0.15837</td>\n",
       "      <td id=\"T_fc080_row0_col10\" class=\"data row0 col10\" >2.658662</td>\n",
       "    </tr>\n",
       "    <tr>\n",
       "      <th id=\"T_fc080_level0_row1\" class=\"row_heading level0 row1\" >male</th>\n",
       "      <td id=\"T_fc080_row1_col0\" class=\"data row1 col0\" >0.195395</td>\n",
       "      <td id=\"T_fc080_row1_col1\" class=\"data row1 col1\" >1.215791</td>\n",
       "      <td id=\"T_fc080_row1_col2\" class=\"data row1 col2\" >0.132561</td>\n",
       "      <td id=\"T_fc080_row1_col3\" class=\"data row1 col3\" >-0.064419</td>\n",
       "      <td id=\"T_fc080_row1_col4\" class=\"data row1 col4\" >0.455209</td>\n",
       "      <td id=\"T_fc080_row1_col5\" class=\"data row1 col5\" >0.937612</td>\n",
       "      <td id=\"T_fc080_row1_col6\" class=\"data row1 col6\" >1.576502</td>\n",
       "      <td id=\"T_fc080_row1_col7\" class=\"data row1 col7\" >0.000000</td>\n",
       "      <td id=\"T_fc080_row1_col8\" class=\"data row1 col8\" >1.474003</td>\n",
       "      <td id=\"T_fc080_row1_col9\" class=\"data row1 col9\" >0.14048</td>\n",
       "      <td id=\"T_fc080_row1_col10\" class=\"data row1 col10\" >2.831556</td>\n",
       "    </tr>\n",
       "    <tr>\n",
       "      <th id=\"T_fc080_level0_row2\" class=\"row_heading level0 row2\" >dep_yes</th>\n",
       "      <td id=\"T_fc080_row2_col0\" class=\"data row2 col0\" >0.150620</td>\n",
       "      <td id=\"T_fc080_row2_col1\" class=\"data row2 col1\" >1.162555</td>\n",
       "      <td id=\"T_fc080_row2_col2\" class=\"data row2 col2\" >0.137824</td>\n",
       "      <td id=\"T_fc080_row2_col3\" class=\"data row2 col3\" >-0.119510</td>\n",
       "      <td id=\"T_fc080_row2_col4\" class=\"data row2 col4\" >0.420749</td>\n",
       "      <td id=\"T_fc080_row2_col5\" class=\"data row2 col5\" >0.887356</td>\n",
       "      <td id=\"T_fc080_row2_col6\" class=\"data row2 col6\" >1.523102</td>\n",
       "      <td id=\"T_fc080_row2_col7\" class=\"data row2 col7\" >0.000000</td>\n",
       "      <td id=\"T_fc080_row2_col8\" class=\"data row2 col8\" >1.092844</td>\n",
       "      <td id=\"T_fc080_row2_col9\" class=\"data row2 col9\" >0.27446</td>\n",
       "      <td id=\"T_fc080_row2_col10\" class=\"data row2 col10\" >1.865321</td>\n",
       "    </tr>\n",
       "  </tbody>\n",
       "</table>\n"
      ],
      "text/plain": [
       "<pandas.io.formats.style.Styler at 0x7f6901990e80>"
      ]
     },
     "execution_count": 352,
     "metadata": {},
     "output_type": "execute_result"
    }
   ],
   "source": [
    "#FOR I66 age and sex COX MODEL\n",
    "asadjust_i67 = cevd_df_first.dropna(subset=['i67_t2e'])\n",
    "asadjust_i67 = asadjust_i67.loc[:, ['i67_event', 'i67_t2e', 'age_i0', 'male', 'dep_yes']]\n",
    "asadjust_i67 = asadjust_i67[['i67_event', 'i67_t2e', 'age_i0', 'male', 'dep_yes']]\n",
    "cph = CoxPHFitter(penalizer=0.0001)\n",
    "cph.fit(asadjust_i67, duration_col='i67_t2e', event_col='i67_event') \n",
    "summary_df = cph.summary \n",
    "summary_df.style.format({'p': '{:.5f}'})"
   ]
  },
  {
   "cell_type": "code",
   "execution_count": null,
   "metadata": {},
   "outputs": [],
   "source": []
  },
  {
   "cell_type": "code",
   "execution_count": 353,
   "metadata": {
    "tags": []
   },
   "outputs": [
    {
     "data": {
      "text/html": [
       "<style type=\"text/css\">\n",
       "</style>\n",
       "<table id=\"T_5b358\">\n",
       "  <thead>\n",
       "    <tr>\n",
       "      <th class=\"blank level0\" >&nbsp;</th>\n",
       "      <th id=\"T_5b358_level0_col0\" class=\"col_heading level0 col0\" >coef</th>\n",
       "      <th id=\"T_5b358_level0_col1\" class=\"col_heading level0 col1\" >exp(coef)</th>\n",
       "      <th id=\"T_5b358_level0_col2\" class=\"col_heading level0 col2\" >se(coef)</th>\n",
       "      <th id=\"T_5b358_level0_col3\" class=\"col_heading level0 col3\" >coef lower 95%</th>\n",
       "      <th id=\"T_5b358_level0_col4\" class=\"col_heading level0 col4\" >coef upper 95%</th>\n",
       "      <th id=\"T_5b358_level0_col5\" class=\"col_heading level0 col5\" >exp(coef) lower 95%</th>\n",
       "      <th id=\"T_5b358_level0_col6\" class=\"col_heading level0 col6\" >exp(coef) upper 95%</th>\n",
       "      <th id=\"T_5b358_level0_col7\" class=\"col_heading level0 col7\" >cmp to</th>\n",
       "      <th id=\"T_5b358_level0_col8\" class=\"col_heading level0 col8\" >z</th>\n",
       "      <th id=\"T_5b358_level0_col9\" class=\"col_heading level0 col9\" >p</th>\n",
       "      <th id=\"T_5b358_level0_col10\" class=\"col_heading level0 col10\" >-log2(p)</th>\n",
       "    </tr>\n",
       "    <tr>\n",
       "      <th class=\"index_name level0\" >covariate</th>\n",
       "      <th class=\"blank col0\" >&nbsp;</th>\n",
       "      <th class=\"blank col1\" >&nbsp;</th>\n",
       "      <th class=\"blank col2\" >&nbsp;</th>\n",
       "      <th class=\"blank col3\" >&nbsp;</th>\n",
       "      <th class=\"blank col4\" >&nbsp;</th>\n",
       "      <th class=\"blank col5\" >&nbsp;</th>\n",
       "      <th class=\"blank col6\" >&nbsp;</th>\n",
       "      <th class=\"blank col7\" >&nbsp;</th>\n",
       "      <th class=\"blank col8\" >&nbsp;</th>\n",
       "      <th class=\"blank col9\" >&nbsp;</th>\n",
       "      <th class=\"blank col10\" >&nbsp;</th>\n",
       "    </tr>\n",
       "  </thead>\n",
       "  <tbody>\n",
       "    <tr>\n",
       "      <th id=\"T_5b358_level0_row0\" class=\"row_heading level0 row0\" >dep_yes</th>\n",
       "      <td id=\"T_5b358_row0_col0\" class=\"data row0 col0\" >0.182571</td>\n",
       "      <td id=\"T_5b358_row0_col1\" class=\"data row0 col1\" >1.200300</td>\n",
       "      <td id=\"T_5b358_row0_col2\" class=\"data row0 col2\" >0.132710</td>\n",
       "      <td id=\"T_5b358_row0_col3\" class=\"data row0 col3\" >-0.077534</td>\n",
       "      <td id=\"T_5b358_row0_col4\" class=\"data row0 col4\" >0.442677</td>\n",
       "      <td id=\"T_5b358_row0_col5\" class=\"data row0 col5\" >0.925395</td>\n",
       "      <td id=\"T_5b358_row0_col6\" class=\"data row0 col6\" >1.556870</td>\n",
       "      <td id=\"T_5b358_row0_col7\" class=\"data row0 col7\" >0.000000</td>\n",
       "      <td id=\"T_5b358_row0_col8\" class=\"data row0 col8\" >1.375722</td>\n",
       "      <td id=\"T_5b358_row0_col9\" class=\"data row0 col9\" >0.16891</td>\n",
       "      <td id=\"T_5b358_row0_col10\" class=\"data row0 col10\" >2.565693</td>\n",
       "    </tr>\n",
       "  </tbody>\n",
       "</table>\n"
      ],
      "text/plain": [
       "<pandas.io.formats.style.Styler at 0x7f6911f3ec70>"
      ]
     },
     "execution_count": 353,
     "metadata": {},
     "output_type": "execute_result"
    }
   ],
   "source": [
    "#FOR I67 unadjusted COX MODEL\n",
    "unadjust_i67 = cevd_df_first.dropna(subset=['i67_t2e'])\n",
    "unadjust_i67 = unadjust_i67.loc[:, ['i67_event', 'i67_t2e', 'dep_yes']]\n",
    "unadjust_i67 = unadjust_i67[['i67_event', 'i67_t2e', 'dep_yes']]\n",
    "cph = CoxPHFitter(penalizer=0.0001)\n",
    "cph.fit(unadjust_i67, duration_col='i67_t2e', event_col='i67_event') \n",
    "summary_df = cph.summary \n",
    "summary_df.style.format({'p': '{:.5f}'})"
   ]
  },
  {
   "cell_type": "code",
   "execution_count": 354,
   "metadata": {
    "tags": []
   },
   "outputs": [],
   "source": [
    "#i68"
   ]
  },
  {
   "cell_type": "code",
   "execution_count": 355,
   "metadata": {
    "tags": []
   },
   "outputs": [
    {
     "ename": "ZeroDivisionError",
     "evalue": "division by zero",
     "output_type": "error",
     "traceback": [
      "\u001b[0;31m---------------------------------------------------------------------------\u001b[0m",
      "\u001b[0;31mZeroDivisionError\u001b[0m                         Traceback (most recent call last)",
      "Cell \u001b[0;32mIn[355], line 9\u001b[0m\n\u001b[1;32m      7\u001b[0m \u001b[38;5;66;03m#fulladjust_i68_date = pd.get_dummies(fulladjust_i68, columns=['ipaq', 'smok_stat', 'alc_freq_filter'])\u001b[39;00m\n\u001b[1;32m      8\u001b[0m cph \u001b[38;5;241m=\u001b[39m CoxPHFitter(penalizer\u001b[38;5;241m=\u001b[39m\u001b[38;5;241m0.0001\u001b[39m)\n\u001b[0;32m----> 9\u001b[0m \u001b[43mcph\u001b[49m\u001b[38;5;241;43m.\u001b[39;49m\u001b[43mfit\u001b[49m\u001b[43m(\u001b[49m\u001b[43mfulladjust_i68\u001b[49m\u001b[43m,\u001b[49m\u001b[43m \u001b[49m\u001b[43mduration_col\u001b[49m\u001b[38;5;241;43m=\u001b[39;49m\u001b[38;5;124;43m'\u001b[39;49m\u001b[38;5;124;43mi68_t2e\u001b[39;49m\u001b[38;5;124;43m'\u001b[39;49m\u001b[43m,\u001b[49m\u001b[43m \u001b[49m\u001b[43mevent_col\u001b[49m\u001b[38;5;241;43m=\u001b[39;49m\u001b[38;5;124;43m'\u001b[39;49m\u001b[38;5;124;43mi68_event\u001b[39;49m\u001b[38;5;124;43m'\u001b[39;49m\u001b[43m)\u001b[49m \n\u001b[1;32m     10\u001b[0m summary_df \u001b[38;5;241m=\u001b[39m cph\u001b[38;5;241m.\u001b[39msummary \n\u001b[1;32m     11\u001b[0m summary_df\u001b[38;5;241m.\u001b[39mstyle\u001b[38;5;241m.\u001b[39mformat({\u001b[38;5;124m'\u001b[39m\u001b[38;5;124mp\u001b[39m\u001b[38;5;124m'\u001b[39m: \u001b[38;5;124m'\u001b[39m\u001b[38;5;132;01m{:.5f}\u001b[39;00m\u001b[38;5;124m'\u001b[39m})\n",
      "File \u001b[0;32m/opt/conda/lib/python3.9/site-packages/lifelines/utils/__init__.py:56\u001b[0m, in \u001b[0;36mCensoringType.right_censoring.<locals>.f\u001b[0;34m(model, *args, **kwargs)\u001b[0m\n\u001b[1;32m     53\u001b[0m \u001b[38;5;129m@wraps\u001b[39m(function)\n\u001b[1;32m     54\u001b[0m \u001b[38;5;28;01mdef\u001b[39;00m \u001b[38;5;21mf\u001b[39m(model, \u001b[38;5;241m*\u001b[39margs, \u001b[38;5;241m*\u001b[39m\u001b[38;5;241m*\u001b[39mkwargs):\n\u001b[1;32m     55\u001b[0m     \u001b[38;5;28mcls\u001b[39m\u001b[38;5;241m.\u001b[39mset_censoring_type(model, \u001b[38;5;28mcls\u001b[39m\u001b[38;5;241m.\u001b[39mRIGHT)\n\u001b[0;32m---> 56\u001b[0m     \u001b[38;5;28;01mreturn\u001b[39;00m \u001b[43mfunction\u001b[49m\u001b[43m(\u001b[49m\u001b[43mmodel\u001b[49m\u001b[43m,\u001b[49m\u001b[43m \u001b[49m\u001b[38;5;241;43m*\u001b[39;49m\u001b[43margs\u001b[49m\u001b[43m,\u001b[49m\u001b[43m \u001b[49m\u001b[38;5;241;43m*\u001b[39;49m\u001b[38;5;241;43m*\u001b[39;49m\u001b[43mkwargs\u001b[49m\u001b[43m)\u001b[49m\n",
      "File \u001b[0;32m/opt/conda/lib/python3.9/site-packages/lifelines/fitters/coxph_fitter.py:290\u001b[0m, in \u001b[0;36mCoxPHFitter.fit\u001b[0;34m(self, df, duration_col, event_col, show_progress, initial_point, strata, weights_col, cluster_col, robust, batch_mode, timeline, formula, entry_col, fit_options)\u001b[0m\n\u001b[1;32m    184\u001b[0m \u001b[38;5;250m\u001b[39m\u001b[38;5;124;03m\"\"\"\u001b[39;00m\n\u001b[1;32m    185\u001b[0m \u001b[38;5;124;03mFit the Cox proportional hazard model to a right-censored dataset. Alias of `fit_right_censoring`.\u001b[39;00m\n\u001b[1;32m    186\u001b[0m \n\u001b[0;32m   (...)\u001b[0m\n\u001b[1;32m    287\u001b[0m \n\u001b[1;32m    288\u001b[0m \u001b[38;5;124;03m\"\"\"\u001b[39;00m\n\u001b[1;32m    289\u001b[0m \u001b[38;5;28mself\u001b[39m\u001b[38;5;241m.\u001b[39mstrata \u001b[38;5;241m=\u001b[39m utils\u001b[38;5;241m.\u001b[39m_to_list_or_singleton(utils\u001b[38;5;241m.\u001b[39mcoalesce(strata, \u001b[38;5;28mself\u001b[39m\u001b[38;5;241m.\u001b[39mstrata))\n\u001b[0;32m--> 290\u001b[0m \u001b[38;5;28mself\u001b[39m\u001b[38;5;241m.\u001b[39m_model \u001b[38;5;241m=\u001b[39m \u001b[38;5;28;43mself\u001b[39;49m\u001b[38;5;241;43m.\u001b[39;49m\u001b[43m_fit_model\u001b[49m\u001b[43m(\u001b[49m\n\u001b[1;32m    291\u001b[0m \u001b[43m    \u001b[49m\u001b[43mdf\u001b[49m\u001b[43m,\u001b[49m\n\u001b[1;32m    292\u001b[0m \u001b[43m    \u001b[49m\u001b[43mduration_col\u001b[49m\u001b[43m,\u001b[49m\n\u001b[1;32m    293\u001b[0m \u001b[43m    \u001b[49m\u001b[43mevent_col\u001b[49m\u001b[38;5;241;43m=\u001b[39;49m\u001b[43mevent_col\u001b[49m\u001b[43m,\u001b[49m\n\u001b[1;32m    294\u001b[0m \u001b[43m    \u001b[49m\u001b[43mshow_progress\u001b[49m\u001b[38;5;241;43m=\u001b[39;49m\u001b[43mshow_progress\u001b[49m\u001b[43m,\u001b[49m\n\u001b[1;32m    295\u001b[0m \u001b[43m    \u001b[49m\u001b[43minitial_point\u001b[49m\u001b[38;5;241;43m=\u001b[39;49m\u001b[43minitial_point\u001b[49m\u001b[43m,\u001b[49m\n\u001b[1;32m    296\u001b[0m \u001b[43m    \u001b[49m\u001b[43mstrata\u001b[49m\u001b[38;5;241;43m=\u001b[39;49m\u001b[38;5;28;43mself\u001b[39;49m\u001b[38;5;241;43m.\u001b[39;49m\u001b[43mstrata\u001b[49m\u001b[43m,\u001b[49m\n\u001b[1;32m    297\u001b[0m \u001b[43m    \u001b[49m\u001b[43mweights_col\u001b[49m\u001b[38;5;241;43m=\u001b[39;49m\u001b[43mweights_col\u001b[49m\u001b[43m,\u001b[49m\n\u001b[1;32m    298\u001b[0m \u001b[43m    \u001b[49m\u001b[43mcluster_col\u001b[49m\u001b[38;5;241;43m=\u001b[39;49m\u001b[43mcluster_col\u001b[49m\u001b[43m,\u001b[49m\n\u001b[1;32m    299\u001b[0m \u001b[43m    \u001b[49m\u001b[43mrobust\u001b[49m\u001b[38;5;241;43m=\u001b[39;49m\u001b[43mrobust\u001b[49m\u001b[43m,\u001b[49m\n\u001b[1;32m    300\u001b[0m \u001b[43m    \u001b[49m\u001b[43mbatch_mode\u001b[49m\u001b[38;5;241;43m=\u001b[39;49m\u001b[43mbatch_mode\u001b[49m\u001b[43m,\u001b[49m\n\u001b[1;32m    301\u001b[0m \u001b[43m    \u001b[49m\u001b[43mtimeline\u001b[49m\u001b[38;5;241;43m=\u001b[39;49m\u001b[43mtimeline\u001b[49m\u001b[43m,\u001b[49m\n\u001b[1;32m    302\u001b[0m \u001b[43m    \u001b[49m\u001b[43mformula\u001b[49m\u001b[38;5;241;43m=\u001b[39;49m\u001b[43mformula\u001b[49m\u001b[43m,\u001b[49m\n\u001b[1;32m    303\u001b[0m \u001b[43m    \u001b[49m\u001b[43mentry_col\u001b[49m\u001b[38;5;241;43m=\u001b[39;49m\u001b[43mentry_col\u001b[49m\u001b[43m,\u001b[49m\n\u001b[1;32m    304\u001b[0m \u001b[43m    \u001b[49m\u001b[43mfit_options\u001b[49m\u001b[38;5;241;43m=\u001b[39;49m\u001b[43mfit_options\u001b[49m\u001b[43m,\u001b[49m\n\u001b[1;32m    305\u001b[0m \u001b[43m\u001b[49m\u001b[43m)\u001b[49m\n\u001b[1;32m    306\u001b[0m \u001b[38;5;28;01mreturn\u001b[39;00m \u001b[38;5;28mself\u001b[39m\n",
      "File \u001b[0;32m/opt/conda/lib/python3.9/site-packages/lifelines/fitters/coxph_fitter.py:610\u001b[0m, in \u001b[0;36mCoxPHFitter._fit_model\u001b[0;34m(self, *args, **kwargs)\u001b[0m\n\u001b[1;32m    608\u001b[0m \u001b[38;5;28;01mdef\u001b[39;00m \u001b[38;5;21m_fit_model\u001b[39m(\u001b[38;5;28mself\u001b[39m, \u001b[38;5;241m*\u001b[39margs, \u001b[38;5;241m*\u001b[39m\u001b[38;5;241m*\u001b[39mkwargs):\n\u001b[1;32m    609\u001b[0m     \u001b[38;5;28;01mif\u001b[39;00m \u001b[38;5;28mself\u001b[39m\u001b[38;5;241m.\u001b[39mbaseline_estimation_method \u001b[38;5;241m==\u001b[39m \u001b[38;5;124m\"\u001b[39m\u001b[38;5;124mbreslow\u001b[39m\u001b[38;5;124m\"\u001b[39m:\n\u001b[0;32m--> 610\u001b[0m         \u001b[38;5;28;01mreturn\u001b[39;00m \u001b[38;5;28;43mself\u001b[39;49m\u001b[38;5;241;43m.\u001b[39;49m\u001b[43m_fit_model_breslow\u001b[49m\u001b[43m(\u001b[49m\u001b[38;5;241;43m*\u001b[39;49m\u001b[43margs\u001b[49m\u001b[43m,\u001b[49m\u001b[43m \u001b[49m\u001b[38;5;241;43m*\u001b[39;49m\u001b[38;5;241;43m*\u001b[39;49m\u001b[43mkwargs\u001b[49m\u001b[43m)\u001b[49m\n\u001b[1;32m    611\u001b[0m     \u001b[38;5;28;01melif\u001b[39;00m \u001b[38;5;28mself\u001b[39m\u001b[38;5;241m.\u001b[39mbaseline_estimation_method \u001b[38;5;241m==\u001b[39m \u001b[38;5;124m\"\u001b[39m\u001b[38;5;124mspline\u001b[39m\u001b[38;5;124m\"\u001b[39m:\n\u001b[1;32m    612\u001b[0m         \u001b[38;5;28;01mreturn\u001b[39;00m \u001b[38;5;28mself\u001b[39m\u001b[38;5;241m.\u001b[39m_fit_model_spline(\u001b[38;5;241m*\u001b[39margs, \u001b[38;5;241m*\u001b[39m\u001b[38;5;241m*\u001b[39mkwargs)\n",
      "File \u001b[0;32m/opt/conda/lib/python3.9/site-packages/lifelines/fitters/coxph_fitter.py:623\u001b[0m, in \u001b[0;36mCoxPHFitter._fit_model_breslow\u001b[0;34m(self, *args, **kwargs)\u001b[0m\n\u001b[1;32m    619\u001b[0m model \u001b[38;5;241m=\u001b[39m SemiParametricPHFitter(\n\u001b[1;32m    620\u001b[0m     penalizer\u001b[38;5;241m=\u001b[39m\u001b[38;5;28mself\u001b[39m\u001b[38;5;241m.\u001b[39mpenalizer, l1_ratio\u001b[38;5;241m=\u001b[39m\u001b[38;5;28mself\u001b[39m\u001b[38;5;241m.\u001b[39ml1_ratio, strata\u001b[38;5;241m=\u001b[39m\u001b[38;5;28mself\u001b[39m\u001b[38;5;241m.\u001b[39mstrata, alpha\u001b[38;5;241m=\u001b[39m\u001b[38;5;28mself\u001b[39m\u001b[38;5;241m.\u001b[39malpha, label\u001b[38;5;241m=\u001b[39m\u001b[38;5;28mself\u001b[39m\u001b[38;5;241m.\u001b[39m_label\n\u001b[1;32m    621\u001b[0m )\n\u001b[1;32m    622\u001b[0m \u001b[38;5;28;01mif\u001b[39;00m utils\u001b[38;5;241m.\u001b[39mCensoringType\u001b[38;5;241m.\u001b[39mis_right_censoring(\u001b[38;5;28mself\u001b[39m):\n\u001b[0;32m--> 623\u001b[0m     \u001b[43mmodel\u001b[49m\u001b[38;5;241;43m.\u001b[39;49m\u001b[43mfit\u001b[49m\u001b[43m(\u001b[49m\u001b[38;5;241;43m*\u001b[39;49m\u001b[43margs\u001b[49m\u001b[43m,\u001b[49m\u001b[43m \u001b[49m\u001b[38;5;241;43m*\u001b[39;49m\u001b[38;5;241;43m*\u001b[39;49m\u001b[43mkwargs\u001b[49m\u001b[43m)\u001b[49m\n\u001b[1;32m    624\u001b[0m     \u001b[38;5;28;01mreturn\u001b[39;00m model\n\u001b[1;32m    625\u001b[0m \u001b[38;5;28;01melse\u001b[39;00m:\n",
      "File \u001b[0;32m/opt/conda/lib/python3.9/site-packages/lifelines/utils/__init__.py:56\u001b[0m, in \u001b[0;36mCensoringType.right_censoring.<locals>.f\u001b[0;34m(model, *args, **kwargs)\u001b[0m\n\u001b[1;32m     53\u001b[0m \u001b[38;5;129m@wraps\u001b[39m(function)\n\u001b[1;32m     54\u001b[0m \u001b[38;5;28;01mdef\u001b[39;00m \u001b[38;5;21mf\u001b[39m(model, \u001b[38;5;241m*\u001b[39margs, \u001b[38;5;241m*\u001b[39m\u001b[38;5;241m*\u001b[39mkwargs):\n\u001b[1;32m     55\u001b[0m     \u001b[38;5;28mcls\u001b[39m\u001b[38;5;241m.\u001b[39mset_censoring_type(model, \u001b[38;5;28mcls\u001b[39m\u001b[38;5;241m.\u001b[39mRIGHT)\n\u001b[0;32m---> 56\u001b[0m     \u001b[38;5;28;01mreturn\u001b[39;00m \u001b[43mfunction\u001b[49m\u001b[43m(\u001b[49m\u001b[43mmodel\u001b[49m\u001b[43m,\u001b[49m\u001b[43m \u001b[49m\u001b[38;5;241;43m*\u001b[39;49m\u001b[43margs\u001b[49m\u001b[43m,\u001b[49m\u001b[43m \u001b[49m\u001b[38;5;241;43m*\u001b[39;49m\u001b[38;5;241;43m*\u001b[39;49m\u001b[43mkwargs\u001b[49m\u001b[43m)\u001b[49m\n",
      "File \u001b[0;32m/opt/conda/lib/python3.9/site-packages/lifelines/fitters/coxph_fitter.py:1252\u001b[0m, in \u001b[0;36mSemiParametricPHFitter.fit\u001b[0;34m(self, df, duration_col, event_col, show_progress, initial_point, strata, weights_col, cluster_col, robust, batch_mode, timeline, formula, entry_col, fit_options)\u001b[0m\n\u001b[1;32m   1247\u001b[0m \u001b[38;5;66;03m# this is surprisingly faster to do...\u001b[39;00m\n\u001b[1;32m   1248\u001b[0m X_norm \u001b[38;5;241m=\u001b[39m pd\u001b[38;5;241m.\u001b[39mDataFrame(\n\u001b[1;32m   1249\u001b[0m     utils\u001b[38;5;241m.\u001b[39mnormalize(X\u001b[38;5;241m.\u001b[39mvalues, \u001b[38;5;28mself\u001b[39m\u001b[38;5;241m.\u001b[39m_norm_mean\u001b[38;5;241m.\u001b[39mvalues, \u001b[38;5;28mself\u001b[39m\u001b[38;5;241m.\u001b[39m_norm_std\u001b[38;5;241m.\u001b[39mvalues), index\u001b[38;5;241m=\u001b[39mX\u001b[38;5;241m.\u001b[39mindex, columns\u001b[38;5;241m=\u001b[39mX\u001b[38;5;241m.\u001b[39mcolumns\n\u001b[1;32m   1250\u001b[0m )\n\u001b[0;32m-> 1252\u001b[0m params_, ll_, variance_matrix_, baseline_hazard_, baseline_cumulative_hazard_, model \u001b[38;5;241m=\u001b[39m \u001b[38;5;28;43mself\u001b[39;49m\u001b[38;5;241;43m.\u001b[39;49m\u001b[43m_fit_model\u001b[49m\u001b[43m(\u001b[49m\n\u001b[1;32m   1253\u001b[0m \u001b[43m    \u001b[49m\u001b[43mX_norm\u001b[49m\u001b[43m,\u001b[49m\n\u001b[1;32m   1254\u001b[0m \u001b[43m    \u001b[49m\u001b[43mT\u001b[49m\u001b[43m,\u001b[49m\n\u001b[1;32m   1255\u001b[0m \u001b[43m    \u001b[49m\u001b[43mE\u001b[49m\u001b[43m,\u001b[49m\n\u001b[1;32m   1256\u001b[0m \u001b[43m    \u001b[49m\u001b[43mweights\u001b[49m\u001b[38;5;241;43m=\u001b[39;49m\u001b[43mweights\u001b[49m\u001b[43m,\u001b[49m\n\u001b[1;32m   1257\u001b[0m \u001b[43m    \u001b[49m\u001b[43mentries\u001b[49m\u001b[38;5;241;43m=\u001b[39;49m\u001b[43mentries\u001b[49m\u001b[43m,\u001b[49m\n\u001b[1;32m   1258\u001b[0m \u001b[43m    \u001b[49m\u001b[43mfit_options\u001b[49m\u001b[38;5;241;43m=\u001b[39;49m\u001b[43mutils\u001b[49m\u001b[38;5;241;43m.\u001b[39;49m\u001b[43mcoalesce\u001b[49m\u001b[43m(\u001b[49m\u001b[43mfit_options\u001b[49m\u001b[43m,\u001b[49m\u001b[43m \u001b[49m\u001b[38;5;28;43mdict\u001b[39;49m\u001b[43m(\u001b[49m\u001b[43m)\u001b[49m\u001b[43m)\u001b[49m\u001b[43m,\u001b[49m\n\u001b[1;32m   1259\u001b[0m \u001b[43m    \u001b[49m\u001b[43minitial_point\u001b[49m\u001b[38;5;241;43m=\u001b[39;49m\u001b[43minitial_point\u001b[49m\u001b[43m,\u001b[49m\n\u001b[1;32m   1260\u001b[0m \u001b[43m    \u001b[49m\u001b[43mshow_progress\u001b[49m\u001b[38;5;241;43m=\u001b[39;49m\u001b[43mshow_progress\u001b[49m\u001b[43m,\u001b[49m\n\u001b[1;32m   1261\u001b[0m \u001b[43m\u001b[49m\u001b[43m)\u001b[49m\n\u001b[1;32m   1263\u001b[0m \u001b[38;5;28mself\u001b[39m\u001b[38;5;241m.\u001b[39mlog_likelihood_ \u001b[38;5;241m=\u001b[39m ll_\n\u001b[1;32m   1264\u001b[0m \u001b[38;5;28mself\u001b[39m\u001b[38;5;241m.\u001b[39mmodel \u001b[38;5;241m=\u001b[39m model\n",
      "File \u001b[0;32m/opt/conda/lib/python3.9/site-packages/lifelines/fitters/coxph_fitter.py:1380\u001b[0m, in \u001b[0;36mSemiParametricPHFitter._fit_model\u001b[0;34m(self, X, T, E, weights, entries, fit_options, initial_point, show_progress)\u001b[0m\n\u001b[1;32m   1369\u001b[0m \u001b[38;5;28;01mdef\u001b[39;00m \u001b[38;5;21m_fit_model\u001b[39m(\n\u001b[1;32m   1370\u001b[0m     \u001b[38;5;28mself\u001b[39m,\n\u001b[1;32m   1371\u001b[0m     X: DataFrame,\n\u001b[0;32m   (...)\u001b[0m\n\u001b[1;32m   1378\u001b[0m     show_progress: \u001b[38;5;28mbool\u001b[39m \u001b[38;5;241m=\u001b[39m \u001b[38;5;28;01mTrue\u001b[39;00m,\n\u001b[1;32m   1379\u001b[0m ):\n\u001b[0;32m-> 1380\u001b[0m     beta_, ll_, hessian_ \u001b[38;5;241m=\u001b[39m \u001b[38;5;28;43mself\u001b[39;49m\u001b[38;5;241;43m.\u001b[39;49m\u001b[43m_newton_raphson_for_efron_model\u001b[49m\u001b[43m(\u001b[49m\n\u001b[1;32m   1381\u001b[0m \u001b[43m        \u001b[49m\u001b[43mX\u001b[49m\u001b[43m,\u001b[49m\n\u001b[1;32m   1382\u001b[0m \u001b[43m        \u001b[49m\u001b[43mT\u001b[49m\u001b[43m,\u001b[49m\n\u001b[1;32m   1383\u001b[0m \u001b[43m        \u001b[49m\u001b[43mE\u001b[49m\u001b[43m,\u001b[49m\n\u001b[1;32m   1384\u001b[0m \u001b[43m        \u001b[49m\u001b[43mweights\u001b[49m\u001b[43m,\u001b[49m\n\u001b[1;32m   1385\u001b[0m \u001b[43m        \u001b[49m\u001b[43mentries\u001b[49m\u001b[43m,\u001b[49m\n\u001b[1;32m   1386\u001b[0m \u001b[43m        \u001b[49m\u001b[43minitial_point\u001b[49m\u001b[38;5;241;43m=\u001b[39;49m\u001b[43minitial_point\u001b[49m\u001b[43m,\u001b[49m\n\u001b[1;32m   1387\u001b[0m \u001b[43m        \u001b[49m\u001b[43mshow_progress\u001b[49m\u001b[38;5;241;43m=\u001b[39;49m\u001b[43mshow_progress\u001b[49m\u001b[43m,\u001b[49m\n\u001b[1;32m   1388\u001b[0m \u001b[43m        \u001b[49m\u001b[38;5;241;43m*\u001b[39;49m\u001b[38;5;241;43m*\u001b[39;49m\u001b[43mfit_options\u001b[49m\u001b[43m,\u001b[49m\n\u001b[1;32m   1389\u001b[0m \u001b[43m    \u001b[49m\u001b[43m)\u001b[49m\n\u001b[1;32m   1391\u001b[0m     \u001b[38;5;66;03m# compute the baseline hazard here.\u001b[39;00m\n\u001b[1;32m   1392\u001b[0m     predicted_partial_hazards_ \u001b[38;5;241m=\u001b[39m (\n\u001b[1;32m   1393\u001b[0m         pd\u001b[38;5;241m.\u001b[39mDataFrame(np\u001b[38;5;241m.\u001b[39mexp(dot(X, beta_)), columns\u001b[38;5;241m=\u001b[39m[\u001b[38;5;124m\"\u001b[39m\u001b[38;5;124mP\u001b[39m\u001b[38;5;124m\"\u001b[39m])\u001b[38;5;241m.\u001b[39massign(T\u001b[38;5;241m=\u001b[39mT\u001b[38;5;241m.\u001b[39mvalues, E\u001b[38;5;241m=\u001b[39mE\u001b[38;5;241m.\u001b[39mvalues, W\u001b[38;5;241m=\u001b[39mweights\u001b[38;5;241m.\u001b[39mvalues)\u001b[38;5;241m.\u001b[39mset_index(X\u001b[38;5;241m.\u001b[39mindex)\n\u001b[1;32m   1394\u001b[0m     )\n",
      "File \u001b[0;32m/opt/conda/lib/python3.9/site-packages/lifelines/fitters/coxph_fitter.py:1478\u001b[0m, in \u001b[0;36mSemiParametricPHFitter._newton_raphson_for_efron_model\u001b[0;34m(self, X, T, E, weights, entries, initial_point, show_progress, step_size, precision, max_steps)\u001b[0m\n\u001b[1;32m   1475\u001b[0m d_elastic_net_penalty \u001b[38;5;241m=\u001b[39m elementwise_grad(elastic_net_penalty)\n\u001b[1;32m   1476\u001b[0m dd_elastic_net_penalty \u001b[38;5;241m=\u001b[39m elementwise_grad(d_elastic_net_penalty)\n\u001b[0;32m-> 1478\u001b[0m get_gradients \u001b[38;5;241m=\u001b[39m \u001b[38;5;28;43mself\u001b[39;49m\u001b[38;5;241;43m.\u001b[39;49m\u001b[43m_choose_gradient_calculator\u001b[49m\u001b[43m(\u001b[49m\u001b[43mT\u001b[49m\u001b[43m,\u001b[49m\u001b[43m \u001b[49m\u001b[43mX\u001b[49m\u001b[43m,\u001b[49m\u001b[43m \u001b[49m\u001b[43mentries\u001b[49m\u001b[43m)\u001b[49m\n\u001b[1;32m   1480\u001b[0m \u001b[38;5;66;03m# make sure betas are correct size.\u001b[39;00m\n\u001b[1;32m   1481\u001b[0m \u001b[38;5;28;01mif\u001b[39;00m initial_point \u001b[38;5;129;01mis\u001b[39;00m \u001b[38;5;129;01mnot\u001b[39;00m \u001b[38;5;28;01mNone\u001b[39;00m:\n",
      "File \u001b[0;32m/opt/conda/lib/python3.9/site-packages/lifelines/fitters/coxph_fitter.py:1419\u001b[0m, in \u001b[0;36mSemiParametricPHFitter._choose_gradient_calculator\u001b[0;34m(self, T, X, entries)\u001b[0m\n\u001b[1;32m   1413\u001b[0m     \u001b[38;5;28;01mfrom\u001b[39;00m \u001b[38;5;21;01mlifelines\u001b[39;00m \u001b[38;5;28;01mimport\u001b[39;00m CoxTimeVaryingFitter\n\u001b[1;32m   1415\u001b[0m     \u001b[38;5;28;01mreturn\u001b[39;00m \u001b[38;5;28;01mlambda\u001b[39;00m X, T, E, weights, entries, beta: CoxTimeVaryingFitter\u001b[38;5;241m.\u001b[39m_get_gradients(\n\u001b[1;32m   1416\u001b[0m         X\u001b[38;5;241m.\u001b[39mvalues, E\u001b[38;5;241m.\u001b[39mvalues, entries\u001b[38;5;241m.\u001b[39mvalues, T\u001b[38;5;241m.\u001b[39mvalues, weights\u001b[38;5;241m.\u001b[39mvalues, beta\n\u001b[1;32m   1417\u001b[0m     )\n\u001b[0;32m-> 1419\u001b[0m decision \u001b[38;5;241m=\u001b[39m \u001b[43m_BatchVsSingle\u001b[49m\u001b[43m(\u001b[49m\u001b[43m)\u001b[49m\u001b[38;5;241;43m.\u001b[39;49m\u001b[43mdecide\u001b[49m\u001b[43m(\u001b[49m\u001b[38;5;28;43mself\u001b[39;49m\u001b[38;5;241;43m.\u001b[39;49m\u001b[43m_batch_mode\u001b[49m\u001b[43m,\u001b[49m\u001b[43m \u001b[49m\u001b[43mT\u001b[49m\u001b[38;5;241;43m.\u001b[39;49m\u001b[43mnunique\u001b[49m\u001b[43m(\u001b[49m\u001b[43m)\u001b[49m\u001b[43m,\u001b[49m\u001b[43m \u001b[49m\u001b[38;5;241;43m*\u001b[39;49m\u001b[43mX\u001b[49m\u001b[38;5;241;43m.\u001b[39;49m\u001b[43mshape\u001b[49m\u001b[43m)\u001b[49m\n\u001b[1;32m   1420\u001b[0m \u001b[38;5;28;01mreturn\u001b[39;00m \u001b[38;5;28mgetattr\u001b[39m(\u001b[38;5;28mself\u001b[39m, \u001b[38;5;124m\"\u001b[39m\u001b[38;5;124m_get_efron_values_\u001b[39m\u001b[38;5;132;01m%s\u001b[39;00m\u001b[38;5;124m\"\u001b[39m \u001b[38;5;241m%\u001b[39m decision)\n",
      "File \u001b[0;32m/opt/conda/lib/python3.9/site-packages/lifelines/fitters/coxph_fitter.py:3250\u001b[0m, in \u001b[0;36m_BatchVsSingle.decide\u001b[0;34m(self, batch_mode, n_unique, n_total, n_vars)\u001b[0m\n\u001b[1;32m   3249\u001b[0m \u001b[38;5;28;01mdef\u001b[39;00m \u001b[38;5;21mdecide\u001b[39m(\u001b[38;5;28mself\u001b[39m, batch_mode: Optional[\u001b[38;5;28mbool\u001b[39m], n_unique: \u001b[38;5;28mint\u001b[39m, n_total: \u001b[38;5;28mint\u001b[39m, n_vars: \u001b[38;5;28mint\u001b[39m) \u001b[38;5;241m-\u001b[39m\u001b[38;5;241m>\u001b[39m \u001b[38;5;28mstr\u001b[39m:\n\u001b[0;32m-> 3250\u001b[0m     log_frac_dups \u001b[38;5;241m=\u001b[39m np\u001b[38;5;241m.\u001b[39mlog(\u001b[43mn_unique\u001b[49m\u001b[43m \u001b[49m\u001b[38;5;241;43m/\u001b[39;49m\u001b[43m \u001b[49m\u001b[43mn_total\u001b[49m)\n\u001b[1;32m   3251\u001b[0m     \u001b[38;5;28;01mif\u001b[39;00m batch_mode \u001b[38;5;129;01mor\u001b[39;00m (\n\u001b[1;32m   3252\u001b[0m         \u001b[38;5;66;03m# https://github.com/CamDavidsonPilon/lifelines/issues/591 for original issue.\u001b[39;00m\n\u001b[1;32m   3253\u001b[0m         \u001b[38;5;66;03m# new values from from perf/batch_vs_single script.\u001b[39;00m\n\u001b[0;32m   (...)\u001b[0m\n\u001b[1;32m   3265\u001b[0m         \u001b[38;5;241m<\u001b[39m \u001b[38;5;241m1\u001b[39m\n\u001b[1;32m   3266\u001b[0m     ):\n\u001b[1;32m   3267\u001b[0m         \u001b[38;5;28;01mreturn\u001b[39;00m \u001b[38;5;28mself\u001b[39m\u001b[38;5;241m.\u001b[39mBATCH\n",
      "\u001b[0;31mZeroDivisionError\u001b[0m: division by zero"
     ]
    }
   ],
   "source": [
    "#cox model i68 - fully adjusted\n",
    "fulladjust_i68 = cevd_df_first.dropna(subset=['i68_t2e', 'pp'])\n",
    "fulladjust_i68['i62_t2e'] = fulladjust_i68['i62_t2e'].astype(float)  \n",
    "fulladjust_i68['i62_event'] = fulladjust_i68['i62_event'].astype(int) \n",
    "fulladjust_i68 = fulladjust_i68.loc[:, ['i68_event', 'i68_t2e','age_i0', 'male', 'pp', 'bmi', 'dep_yes']]\n",
    "fulladjust_i68 = fulladjust_i68[['i68_event', 'i68_t2e', 'age_i0', 'male', 'pp', 'bmi', 'dep_yes']]\n",
    "#fulladjust_i68_date = pd.get_dummies(fulladjust_i68, columns=['ipaq', 'smok_stat', 'alc_freq_filter'])\n",
    "cph = CoxPHFitter(penalizer=0.0001)\n",
    "cph.fit(fulladjust_i68, duration_col='i68_t2e', event_col='i68_event') \n",
    "summary_df = cph.summary \n",
    "summary_df.style.format({'p': '{:.5f}'})"
   ]
  },
  {
   "cell_type": "code",
   "execution_count": 356,
   "metadata": {
    "tags": []
   },
   "outputs": [
    {
     "name": "stdout",
     "output_type": "stream",
     "text": [
      "Number of depressed i68 events, Number of control i68 events: (0, 0)\n"
     ]
    }
   ],
   "source": [
    "i68_dep_yes = count_cevd(fulladjust_i68)\n",
    "print('Number of depressed i68 events, Number of control i68 events:', i68_dep_yes)"
   ]
  },
  {
   "cell_type": "code",
   "execution_count": 357,
   "metadata": {
    "tags": []
   },
   "outputs": [],
   "source": [
    "#i69"
   ]
  },
  {
   "cell_type": "code",
   "execution_count": 358,
   "metadata": {
    "tags": []
   },
   "outputs": [
    {
     "data": {
      "text/html": [
       "<style type=\"text/css\">\n",
       "</style>\n",
       "<table id=\"T_b0116\">\n",
       "  <thead>\n",
       "    <tr>\n",
       "      <th class=\"blank level0\" >&nbsp;</th>\n",
       "      <th id=\"T_b0116_level0_col0\" class=\"col_heading level0 col0\" >coef</th>\n",
       "      <th id=\"T_b0116_level0_col1\" class=\"col_heading level0 col1\" >exp(coef)</th>\n",
       "      <th id=\"T_b0116_level0_col2\" class=\"col_heading level0 col2\" >se(coef)</th>\n",
       "      <th id=\"T_b0116_level0_col3\" class=\"col_heading level0 col3\" >coef lower 95%</th>\n",
       "      <th id=\"T_b0116_level0_col4\" class=\"col_heading level0 col4\" >coef upper 95%</th>\n",
       "      <th id=\"T_b0116_level0_col5\" class=\"col_heading level0 col5\" >exp(coef) lower 95%</th>\n",
       "      <th id=\"T_b0116_level0_col6\" class=\"col_heading level0 col6\" >exp(coef) upper 95%</th>\n",
       "      <th id=\"T_b0116_level0_col7\" class=\"col_heading level0 col7\" >cmp to</th>\n",
       "      <th id=\"T_b0116_level0_col8\" class=\"col_heading level0 col8\" >z</th>\n",
       "      <th id=\"T_b0116_level0_col9\" class=\"col_heading level0 col9\" >p</th>\n",
       "      <th id=\"T_b0116_level0_col10\" class=\"col_heading level0 col10\" >-log2(p)</th>\n",
       "    </tr>\n",
       "    <tr>\n",
       "      <th class=\"index_name level0\" >covariate</th>\n",
       "      <th class=\"blank col0\" >&nbsp;</th>\n",
       "      <th class=\"blank col1\" >&nbsp;</th>\n",
       "      <th class=\"blank col2\" >&nbsp;</th>\n",
       "      <th class=\"blank col3\" >&nbsp;</th>\n",
       "      <th class=\"blank col4\" >&nbsp;</th>\n",
       "      <th class=\"blank col5\" >&nbsp;</th>\n",
       "      <th class=\"blank col6\" >&nbsp;</th>\n",
       "      <th class=\"blank col7\" >&nbsp;</th>\n",
       "      <th class=\"blank col8\" >&nbsp;</th>\n",
       "      <th class=\"blank col9\" >&nbsp;</th>\n",
       "      <th class=\"blank col10\" >&nbsp;</th>\n",
       "    </tr>\n",
       "  </thead>\n",
       "  <tbody>\n",
       "    <tr>\n",
       "      <th id=\"T_b0116_level0_row0\" class=\"row_heading level0 row0\" >age_i0</th>\n",
       "      <td id=\"T_b0116_row0_col0\" class=\"data row0 col0\" >0.000333</td>\n",
       "      <td id=\"T_b0116_row0_col1\" class=\"data row0 col1\" >1.000333</td>\n",
       "      <td id=\"T_b0116_row0_col2\" class=\"data row0 col2\" >0.020668</td>\n",
       "      <td id=\"T_b0116_row0_col3\" class=\"data row0 col3\" >-0.040176</td>\n",
       "      <td id=\"T_b0116_row0_col4\" class=\"data row0 col4\" >0.040842</td>\n",
       "      <td id=\"T_b0116_row0_col5\" class=\"data row0 col5\" >0.960620</td>\n",
       "      <td id=\"T_b0116_row0_col6\" class=\"data row0 col6\" >1.041687</td>\n",
       "      <td id=\"T_b0116_row0_col7\" class=\"data row0 col7\" >0.000000</td>\n",
       "      <td id=\"T_b0116_row0_col8\" class=\"data row0 col8\" >0.016095</td>\n",
       "      <td id=\"T_b0116_row0_col9\" class=\"data row0 col9\" >0.98716</td>\n",
       "      <td id=\"T_b0116_row0_col10\" class=\"data row0 col10\" >0.018647</td>\n",
       "    </tr>\n",
       "    <tr>\n",
       "      <th id=\"T_b0116_level0_row1\" class=\"row_heading level0 row1\" >male</th>\n",
       "      <td id=\"T_b0116_row1_col0\" class=\"data row1 col0\" >0.605247</td>\n",
       "      <td id=\"T_b0116_row1_col1\" class=\"data row1 col1\" >1.831705</td>\n",
       "      <td id=\"T_b0116_row1_col2\" class=\"data row1 col2\" >0.315400</td>\n",
       "      <td id=\"T_b0116_row1_col3\" class=\"data row1 col3\" >-0.012925</td>\n",
       "      <td id=\"T_b0116_row1_col4\" class=\"data row1 col4\" >1.223419</td>\n",
       "      <td id=\"T_b0116_row1_col5\" class=\"data row1 col5\" >0.987158</td>\n",
       "      <td id=\"T_b0116_row1_col6\" class=\"data row1 col6\" >3.398789</td>\n",
       "      <td id=\"T_b0116_row1_col7\" class=\"data row1 col7\" >0.000000</td>\n",
       "      <td id=\"T_b0116_row1_col8\" class=\"data row1 col8\" >1.918984</td>\n",
       "      <td id=\"T_b0116_row1_col9\" class=\"data row1 col9\" >0.05499</td>\n",
       "      <td id=\"T_b0116_row1_col10\" class=\"data row1 col10\" >4.184783</td>\n",
       "    </tr>\n",
       "    <tr>\n",
       "      <th id=\"T_b0116_level0_row2\" class=\"row_heading level0 row2\" >pp</th>\n",
       "      <td id=\"T_b0116_row2_col0\" class=\"data row2 col0\" >0.003218</td>\n",
       "      <td id=\"T_b0116_row2_col1\" class=\"data row2 col1\" >1.003223</td>\n",
       "      <td id=\"T_b0116_row2_col2\" class=\"data row2 col2\" >0.009651</td>\n",
       "      <td id=\"T_b0116_row2_col3\" class=\"data row2 col3\" >-0.015698</td>\n",
       "      <td id=\"T_b0116_row2_col4\" class=\"data row2 col4\" >0.022133</td>\n",
       "      <td id=\"T_b0116_row2_col5\" class=\"data row2 col5\" >0.984425</td>\n",
       "      <td id=\"T_b0116_row2_col6\" class=\"data row2 col6\" >1.022380</td>\n",
       "      <td id=\"T_b0116_row2_col7\" class=\"data row2 col7\" >0.000000</td>\n",
       "      <td id=\"T_b0116_row2_col8\" class=\"data row2 col8\" >0.333416</td>\n",
       "      <td id=\"T_b0116_row2_col9\" class=\"data row2 col9\" >0.73882</td>\n",
       "      <td id=\"T_b0116_row2_col10\" class=\"data row2 col10\" >0.436704</td>\n",
       "    </tr>\n",
       "    <tr>\n",
       "      <th id=\"T_b0116_level0_row3\" class=\"row_heading level0 row3\" >bmi</th>\n",
       "      <td id=\"T_b0116_row3_col0\" class=\"data row3 col0\" >-0.023742</td>\n",
       "      <td id=\"T_b0116_row3_col1\" class=\"data row3 col1\" >0.976538</td>\n",
       "      <td id=\"T_b0116_row3_col2\" class=\"data row3 col2\" >0.026540</td>\n",
       "      <td id=\"T_b0116_row3_col3\" class=\"data row3 col3\" >-0.075759</td>\n",
       "      <td id=\"T_b0116_row3_col4\" class=\"data row3 col4\" >0.028275</td>\n",
       "      <td id=\"T_b0116_row3_col5\" class=\"data row3 col5\" >0.927040</td>\n",
       "      <td id=\"T_b0116_row3_col6\" class=\"data row3 col6\" >1.028679</td>\n",
       "      <td id=\"T_b0116_row3_col7\" class=\"data row3 col7\" >0.000000</td>\n",
       "      <td id=\"T_b0116_row3_col8\" class=\"data row3 col8\" >-0.894576</td>\n",
       "      <td id=\"T_b0116_row3_col9\" class=\"data row3 col9\" >0.37101</td>\n",
       "      <td id=\"T_b0116_row3_col10\" class=\"data row3 col10\" >1.430455</td>\n",
       "    </tr>\n",
       "    <tr>\n",
       "      <th id=\"T_b0116_level0_row4\" class=\"row_heading level0 row4\" >dep_yes</th>\n",
       "      <td id=\"T_b0116_row4_col0\" class=\"data row4 col0\" >0.351367</td>\n",
       "      <td id=\"T_b0116_row4_col1\" class=\"data row4 col1\" >1.421009</td>\n",
       "      <td id=\"T_b0116_row4_col2\" class=\"data row4 col2\" >0.323829</td>\n",
       "      <td id=\"T_b0116_row4_col3\" class=\"data row4 col3\" >-0.283325</td>\n",
       "      <td id=\"T_b0116_row4_col4\" class=\"data row4 col4\" >0.986059</td>\n",
       "      <td id=\"T_b0116_row4_col5\" class=\"data row4 col5\" >0.753275</td>\n",
       "      <td id=\"T_b0116_row4_col6\" class=\"data row4 col6\" >2.680650</td>\n",
       "      <td id=\"T_b0116_row4_col7\" class=\"data row4 col7\" >0.000000</td>\n",
       "      <td id=\"T_b0116_row4_col8\" class=\"data row4 col8\" >1.085041</td>\n",
       "      <td id=\"T_b0116_row4_col9\" class=\"data row4 col9\" >0.27790</td>\n",
       "      <td id=\"T_b0116_row4_col10\" class=\"data row4 col10\" >1.847344</td>\n",
       "    </tr>\n",
       "  </tbody>\n",
       "</table>\n"
      ],
      "text/plain": [
       "<pandas.io.formats.style.Styler at 0x7f691542c550>"
      ]
     },
     "execution_count": 358,
     "metadata": {},
     "output_type": "execute_result"
    }
   ],
   "source": [
    "#cox model i69 - fully adjusted\n",
    "fulladjust_i69 = cevd_df_first.dropna(subset=['i69_t2e', 'pp'])\n",
    "fulladjust_i69 = fulladjust_i69.loc[:, ['i69_event', 'i69_t2e', 'age_i0', 'male', 'pp', 'bmi', 'dep_yes']]\n",
    "fulladjust_i69 = fulladjust_i69[['i69_event', 'i69_t2e', 'age_i0', 'male', 'pp', 'bmi', 'dep_yes']]\n",
    "#fulladjust_i69_date = pd.get_dummies(fulladjust_i69, columns=['ipaq', 'smok_stat', 'alc_freq_filter'])\n",
    "cph = CoxPHFitter(penalizer=0.0001)\n",
    "cph.fit(fulladjust_i69, duration_col='i69_t2e', event_col='i69_event') \n",
    "summary_df = cph.summary \n",
    "summary_df.style.format({'p': '{:.5f}'})"
   ]
  },
  {
   "cell_type": "code",
   "execution_count": 359,
   "metadata": {
    "tags": []
   },
   "outputs": [
    {
     "name": "stdout",
     "output_type": "stream",
     "text": [
      "Number of depressed i69 events, Number of control i69 events: (34, 27)\n"
     ]
    }
   ],
   "source": [
    "i69_dep_yes = count_cevd(fulladjust_i69)\n",
    "print('Number of depressed i69 events, Number of control i69 events:', i69_dep_yes)"
   ]
  },
  {
   "cell_type": "code",
   "execution_count": 361,
   "metadata": {
    "tags": []
   },
   "outputs": [
    {
     "name": "stdout",
     "output_type": "stream",
     "text": [
      "Schoenfeld residuals results for I69:\n",
      "Proportional hazard assumption looks okay.\n"
     ]
    }
   ],
   "source": [
    "print('Schoenfeld residuals results for I69:')\n",
    "schoenfeld_results_i69 = cph.check_assumptions(fulladjust_i69, p_value_threshold=0.05)"
   ]
  },
  {
   "cell_type": "code",
   "execution_count": 362,
   "metadata": {
    "tags": []
   },
   "outputs": [
    {
     "data": {
      "text/html": [
       "<style type=\"text/css\">\n",
       "</style>\n",
       "<table id=\"T_7935c\">\n",
       "  <thead>\n",
       "    <tr>\n",
       "      <th class=\"blank level0\" >&nbsp;</th>\n",
       "      <th id=\"T_7935c_level0_col0\" class=\"col_heading level0 col0\" >coef</th>\n",
       "      <th id=\"T_7935c_level0_col1\" class=\"col_heading level0 col1\" >exp(coef)</th>\n",
       "      <th id=\"T_7935c_level0_col2\" class=\"col_heading level0 col2\" >se(coef)</th>\n",
       "      <th id=\"T_7935c_level0_col3\" class=\"col_heading level0 col3\" >coef lower 95%</th>\n",
       "      <th id=\"T_7935c_level0_col4\" class=\"col_heading level0 col4\" >coef upper 95%</th>\n",
       "      <th id=\"T_7935c_level0_col5\" class=\"col_heading level0 col5\" >exp(coef) lower 95%</th>\n",
       "      <th id=\"T_7935c_level0_col6\" class=\"col_heading level0 col6\" >exp(coef) upper 95%</th>\n",
       "      <th id=\"T_7935c_level0_col7\" class=\"col_heading level0 col7\" >cmp to</th>\n",
       "      <th id=\"T_7935c_level0_col8\" class=\"col_heading level0 col8\" >z</th>\n",
       "      <th id=\"T_7935c_level0_col9\" class=\"col_heading level0 col9\" >p</th>\n",
       "      <th id=\"T_7935c_level0_col10\" class=\"col_heading level0 col10\" >-log2(p)</th>\n",
       "    </tr>\n",
       "    <tr>\n",
       "      <th class=\"index_name level0\" >covariate</th>\n",
       "      <th class=\"blank col0\" >&nbsp;</th>\n",
       "      <th class=\"blank col1\" >&nbsp;</th>\n",
       "      <th class=\"blank col2\" >&nbsp;</th>\n",
       "      <th class=\"blank col3\" >&nbsp;</th>\n",
       "      <th class=\"blank col4\" >&nbsp;</th>\n",
       "      <th class=\"blank col5\" >&nbsp;</th>\n",
       "      <th class=\"blank col6\" >&nbsp;</th>\n",
       "      <th class=\"blank col7\" >&nbsp;</th>\n",
       "      <th class=\"blank col8\" >&nbsp;</th>\n",
       "      <th class=\"blank col9\" >&nbsp;</th>\n",
       "      <th class=\"blank col10\" >&nbsp;</th>\n",
       "    </tr>\n",
       "  </thead>\n",
       "  <tbody>\n",
       "    <tr>\n",
       "      <th id=\"T_7935c_level0_row0\" class=\"row_heading level0 row0\" >age_i0</th>\n",
       "      <td id=\"T_7935c_row0_col0\" class=\"data row0 col0\" >0.003486</td>\n",
       "      <td id=\"T_7935c_row0_col1\" class=\"data row0 col1\" >1.003493</td>\n",
       "      <td id=\"T_7935c_row0_col2\" class=\"data row0 col2\" >0.019511</td>\n",
       "      <td id=\"T_7935c_row0_col3\" class=\"data row0 col3\" >-0.034755</td>\n",
       "      <td id=\"T_7935c_row0_col4\" class=\"data row0 col4\" >0.041728</td>\n",
       "      <td id=\"T_7935c_row0_col5\" class=\"data row0 col5\" >0.965842</td>\n",
       "      <td id=\"T_7935c_row0_col6\" class=\"data row0 col6\" >1.042611</td>\n",
       "      <td id=\"T_7935c_row0_col7\" class=\"data row0 col7\" >0.000000</td>\n",
       "      <td id=\"T_7935c_row0_col8\" class=\"data row0 col8\" >0.178688</td>\n",
       "      <td id=\"T_7935c_row0_col9\" class=\"data row0 col9\" >0.85818</td>\n",
       "      <td id=\"T_7935c_row0_col10\" class=\"data row0 col10\" >0.220643</td>\n",
       "    </tr>\n",
       "    <tr>\n",
       "      <th id=\"T_7935c_level0_row1\" class=\"row_heading level0 row1\" >male</th>\n",
       "      <td id=\"T_7935c_row1_col0\" class=\"data row1 col0\" >0.662473</td>\n",
       "      <td id=\"T_7935c_row1_col1\" class=\"data row1 col1\" >1.939584</td>\n",
       "      <td id=\"T_7935c_row1_col2\" class=\"data row1 col2\" >0.300204</td>\n",
       "      <td id=\"T_7935c_row1_col3\" class=\"data row1 col3\" >0.074085</td>\n",
       "      <td id=\"T_7935c_row1_col4\" class=\"data row1 col4\" >1.250862</td>\n",
       "      <td id=\"T_7935c_row1_col5\" class=\"data row1 col5\" >1.076898</td>\n",
       "      <td id=\"T_7935c_row1_col6\" class=\"data row1 col6\" >3.493352</td>\n",
       "      <td id=\"T_7935c_row1_col7\" class=\"data row1 col7\" >0.000000</td>\n",
       "      <td id=\"T_7935c_row1_col8\" class=\"data row1 col8\" >2.206746</td>\n",
       "      <td id=\"T_7935c_row1_col9\" class=\"data row1 col9\" >0.02733</td>\n",
       "      <td id=\"T_7935c_row1_col10\" class=\"data row1 col10\" >5.193275</td>\n",
       "    </tr>\n",
       "    <tr>\n",
       "      <th id=\"T_7935c_level0_row2\" class=\"row_heading level0 row2\" >dep_yes</th>\n",
       "      <td id=\"T_7935c_row2_col0\" class=\"data row2 col0\" >0.298630</td>\n",
       "      <td id=\"T_7935c_row2_col1\" class=\"data row2 col1\" >1.348011</td>\n",
       "      <td id=\"T_7935c_row2_col2\" class=\"data row2 col2\" >0.302996</td>\n",
       "      <td id=\"T_7935c_row2_col3\" class=\"data row2 col3\" >-0.295232</td>\n",
       "      <td id=\"T_7935c_row2_col4\" class=\"data row2 col4\" >0.892492</td>\n",
       "      <td id=\"T_7935c_row2_col5\" class=\"data row2 col5\" >0.744359</td>\n",
       "      <td id=\"T_7935c_row2_col6\" class=\"data row2 col6\" >2.441205</td>\n",
       "      <td id=\"T_7935c_row2_col7\" class=\"data row2 col7\" >0.000000</td>\n",
       "      <td id=\"T_7935c_row2_col8\" class=\"data row2 col8\" >0.985589</td>\n",
       "      <td id=\"T_7935c_row2_col9\" class=\"data row2 col9\" >0.32433</td>\n",
       "      <td id=\"T_7935c_row2_col10\" class=\"data row2 col10\" >1.624444</td>\n",
       "    </tr>\n",
       "  </tbody>\n",
       "</table>\n"
      ],
      "text/plain": [
       "<pandas.io.formats.style.Styler at 0x7f6905ff3d60>"
      ]
     },
     "execution_count": 362,
     "metadata": {},
     "output_type": "execute_result"
    }
   ],
   "source": [
    "#FOR I69 age and sex COX MODEL\n",
    "asadjust_i69 = cevd_df_first.dropna(subset=['i69_t2e'])\n",
    "asadjust_i69 = asadjust_i69.loc[:, ['i69_event', 'i69_t2e', 'age_i0', 'male', 'dep_yes']]\n",
    "asadjust_i69 = asadjust_i69[['i69_event', 'i69_t2e', 'age_i0', 'male', 'dep_yes']]\n",
    "cph = CoxPHFitter(penalizer=0.0001)\n",
    "cph.fit(asadjust_i69, duration_col='i69_t2e', event_col='i69_event') \n",
    "summary_df = cph.summary \n",
    "summary_df.style.format({'p': '{:.5f}'})"
   ]
  },
  {
   "cell_type": "code",
   "execution_count": 363,
   "metadata": {
    "tags": []
   },
   "outputs": [
    {
     "data": {
      "text/html": [
       "<style type=\"text/css\">\n",
       "</style>\n",
       "<table id=\"T_7621c\">\n",
       "  <thead>\n",
       "    <tr>\n",
       "      <th class=\"blank level0\" >&nbsp;</th>\n",
       "      <th id=\"T_7621c_level0_col0\" class=\"col_heading level0 col0\" >coef</th>\n",
       "      <th id=\"T_7621c_level0_col1\" class=\"col_heading level0 col1\" >exp(coef)</th>\n",
       "      <th id=\"T_7621c_level0_col2\" class=\"col_heading level0 col2\" >se(coef)</th>\n",
       "      <th id=\"T_7621c_level0_col3\" class=\"col_heading level0 col3\" >coef lower 95%</th>\n",
       "      <th id=\"T_7621c_level0_col4\" class=\"col_heading level0 col4\" >coef upper 95%</th>\n",
       "      <th id=\"T_7621c_level0_col5\" class=\"col_heading level0 col5\" >exp(coef) lower 95%</th>\n",
       "      <th id=\"T_7621c_level0_col6\" class=\"col_heading level0 col6\" >exp(coef) upper 95%</th>\n",
       "      <th id=\"T_7621c_level0_col7\" class=\"col_heading level0 col7\" >cmp to</th>\n",
       "      <th id=\"T_7621c_level0_col8\" class=\"col_heading level0 col8\" >z</th>\n",
       "      <th id=\"T_7621c_level0_col9\" class=\"col_heading level0 col9\" >p</th>\n",
       "      <th id=\"T_7621c_level0_col10\" class=\"col_heading level0 col10\" >-log2(p)</th>\n",
       "    </tr>\n",
       "    <tr>\n",
       "      <th class=\"index_name level0\" >covariate</th>\n",
       "      <th class=\"blank col0\" >&nbsp;</th>\n",
       "      <th class=\"blank col1\" >&nbsp;</th>\n",
       "      <th class=\"blank col2\" >&nbsp;</th>\n",
       "      <th class=\"blank col3\" >&nbsp;</th>\n",
       "      <th class=\"blank col4\" >&nbsp;</th>\n",
       "      <th class=\"blank col5\" >&nbsp;</th>\n",
       "      <th class=\"blank col6\" >&nbsp;</th>\n",
       "      <th class=\"blank col7\" >&nbsp;</th>\n",
       "      <th class=\"blank col8\" >&nbsp;</th>\n",
       "      <th class=\"blank col9\" >&nbsp;</th>\n",
       "      <th class=\"blank col10\" >&nbsp;</th>\n",
       "    </tr>\n",
       "  </thead>\n",
       "  <tbody>\n",
       "    <tr>\n",
       "      <th id=\"T_7621c_level0_row0\" class=\"row_heading level0 row0\" >dep_yes</th>\n",
       "      <td id=\"T_7621c_row0_col0\" class=\"data row0 col0\" >0.047111</td>\n",
       "      <td id=\"T_7621c_row0_col1\" class=\"data row0 col1\" >1.048238</td>\n",
       "      <td id=\"T_7621c_row0_col2\" class=\"data row0 col2\" >0.265609</td>\n",
       "      <td id=\"T_7621c_row0_col3\" class=\"data row0 col3\" >-0.473473</td>\n",
       "      <td id=\"T_7621c_row0_col4\" class=\"data row0 col4\" >0.567695</td>\n",
       "      <td id=\"T_7621c_row0_col5\" class=\"data row0 col5\" >0.622835</td>\n",
       "      <td id=\"T_7621c_row0_col6\" class=\"data row0 col6\" >1.764195</td>\n",
       "      <td id=\"T_7621c_row0_col7\" class=\"data row0 col7\" >0.000000</td>\n",
       "      <td id=\"T_7621c_row0_col8\" class=\"data row0 col8\" >0.177368</td>\n",
       "      <td id=\"T_7621c_row0_col9\" class=\"data row0 col9\" >0.85922</td>\n",
       "      <td id=\"T_7621c_row0_col10\" class=\"data row0 col10\" >0.218902</td>\n",
       "    </tr>\n",
       "  </tbody>\n",
       "</table>\n"
      ],
      "text/plain": [
       "<pandas.io.formats.style.Styler at 0x7f69012e5100>"
      ]
     },
     "execution_count": 363,
     "metadata": {},
     "output_type": "execute_result"
    }
   ],
   "source": [
    "#FOR I69 unadjusted COX MODEL\n",
    "unadjust_i69 = cevd_df_first.dropna(subset=['i69_t2e'])\n",
    "unadjust_i69 = unadjust_i69.loc[:, ['i69_event', 'i69_t2e', 'dep_yes']]\n",
    "unadjust_i69 = unadjust_i69[['i69_event', 'i69_t2e', 'dep_yes']]\n",
    "cph = CoxPHFitter(penalizer=0.0001)\n",
    "cph.fit(unadjust_i69, duration_col='i69_t2e', event_col='i69_event') \n",
    "summary_df = cph.summary \n",
    "summary_df.style.format({'p': '{:.5f}'})"
   ]
  },
  {
   "cell_type": "code",
   "execution_count": 364,
   "metadata": {
    "tags": []
   },
   "outputs": [],
   "source": [
    "#get person-years"
   ]
  },
  {
   "cell_type": "code",
   "execution_count": 365,
   "metadata": {
    "tags": []
   },
   "outputs": [],
   "source": [
    "cevd_df_first['g45_to_cevdtime'] = cevd_df_first['g45_t2e_p']+cevd_df_first['cevd_t2e']"
   ]
  },
  {
   "cell_type": "code",
   "execution_count": 366,
   "metadata": {
    "tags": []
   },
   "outputs": [
    {
     "data": {
      "image/png": "[encoded data removed]",
      "text/plain": [
       "<Figure size 800x600 with 1 Axes>"
      ]
     },
     "metadata": {},
     "output_type": "display_data"
    }
   ],
   "source": [
    "import matplotlib.pyplot as plt\n",
    "import seaborn as sns\n",
    "# Plot histogram\n",
    "plt.figure(figsize=(8, 6))\n",
    "plt.hist(cevd_df_first['g45_to_cevdtime'], bins=10, edgecolor='black', alpha=0.7)\n",
    "plt.xlabel('Days')\n",
    "plt.ylabel('Frequency')\n",
    "plt.title('Time from TIA to Baseline')\n",
    "plt.grid(True)\n",
    "plt.show()"
   ]
  },
  {
   "cell_type": "code",
   "execution_count": 367,
   "metadata": {
    "tags": []
   },
   "outputs": [
    {
     "name": "stdout",
     "output_type": "stream",
     "text": [
      "4234.0\n"
     ]
    }
   ],
   "source": [
    "median_pretime = cevd_df_first['g45_to_cevdtime'].median()\n",
    "print(median_pretime)"
   ]
  },
  {
   "cell_type": "code",
   "execution_count": 368,
   "metadata": {
    "tags": []
   },
   "outputs": [
    {
     "name": "stdout",
     "output_type": "stream",
     "text": [
      "2857.0\n"
     ]
    }
   ],
   "source": [
    "median_pretime = cevd_df_first['g45_to_cevdtime'].quantile(0.25)\n",
    "print(median_pretime)"
   ]
  },
  {
   "cell_type": "code",
   "execution_count": 369,
   "metadata": {
    "tags": []
   },
   "outputs": [
    {
     "name": "stdout",
     "output_type": "stream",
     "text": [
      "5627.25\n"
     ]
    }
   ],
   "source": [
    "median_pretime = cevd_df_first['g45_to_cevdtime'].quantile(0.75)\n",
    "print(median_pretime)"
   ]
  },
  {
   "cell_type": "code",
   "execution_count": 370,
   "metadata": {
    "tags": []
   },
   "outputs": [
    {
     "data": {
      "text/plain": [
       "223"
      ]
     },
     "execution_count": 370,
     "metadata": {},
     "output_type": "execute_result"
    }
   ],
   "source": [
    "oneyear = cevd_df_first[cevd_df_first['g45_to_cevdtime'] < 3650]\n",
    "len(oneyear)"
   ]
  },
  {
   "cell_type": "code",
   "execution_count": 371,
   "metadata": {
    "tags": []
   },
   "outputs": [
    {
     "name": "stdout",
     "output_type": "stream",
     "text": [
      "3710.8301369863016\n"
     ]
    }
   ],
   "source": [
    "cevd_days = cevd_df_first['cevd_t2e'].sum()\n",
    "cevd_personyears = cevd_days/365\n",
    "print(cevd_personyears)"
   ]
  },
  {
   "cell_type": "code",
   "execution_count": 372,
   "metadata": {
    "tags": []
   },
   "outputs": [
    {
     "name": "stdout",
     "output_type": "stream",
     "text": [
      "230.3068493150685\n"
     ]
    }
   ],
   "source": [
    "f01_days = cevd_df_first['f01_t2e'].sum()\n",
    "f01_personyears = f01_days/365\n",
    "print(f01_personyears)"
   ]
  },
  {
   "cell_type": "code",
   "execution_count": 373,
   "metadata": {
    "tags": []
   },
   "outputs": [
    {
     "name": "stdout",
     "output_type": "stream",
     "text": [
      "0.0\n"
     ]
    }
   ],
   "source": [
    "g45_days = cevd_df_first['g45_t2e'].sum()\n",
    "g45_personyears = g45_days/365\n",
    "print(g45_personyears)"
   ]
  },
  {
   "cell_type": "code",
   "execution_count": 374,
   "metadata": {
    "tags": []
   },
   "outputs": [
    {
     "name": "stdout",
     "output_type": "stream",
     "text": [
      "8.175342465753424\n"
     ]
    }
   ],
   "source": [
    "g46_days = cevd_df_first['g46_t2e'].sum()\n",
    "g46_personyears = g46_days/365\n",
    "print(g46_personyears)"
   ]
  },
  {
   "cell_type": "code",
   "execution_count": 375,
   "metadata": {
    "tags": []
   },
   "outputs": [
    {
     "name": "stdout",
     "output_type": "stream",
     "text": [
      "120.37260273972603\n"
     ]
    }
   ],
   "source": [
    "h34_days = cevd_df_first['h34_t2e'].sum()\n",
    "h34_personyears = h34_days/365\n",
    "print(h34_personyears)"
   ]
  },
  {
   "cell_type": "code",
   "execution_count": 376,
   "metadata": {
    "tags": []
   },
   "outputs": [
    {
     "name": "stdout",
     "output_type": "stream",
     "text": [
      "45.484931506849314\n"
     ]
    }
   ],
   "source": [
    "i60_days = cevd_df_first['i60_t2e'].sum()\n",
    "i60_personyears = i60_days/365\n",
    "print(i60_personyears)"
   ]
  },
  {
   "cell_type": "code",
   "execution_count": 377,
   "metadata": {
    "tags": []
   },
   "outputs": [
    {
     "name": "stdout",
     "output_type": "stream",
     "text": [
      "171.9917808219178\n"
     ]
    }
   ],
   "source": [
    "i61_days = cevd_df_first['i61_t2e'].sum()\n",
    "i61_personyears = i61_days/365\n",
    "print(i61_personyears)"
   ]
  },
  {
   "cell_type": "code",
   "execution_count": 378,
   "metadata": {
    "tags": []
   },
   "outputs": [
    {
     "name": "stdout",
     "output_type": "stream",
     "text": [
      "59.81917808219178\n"
     ]
    }
   ],
   "source": [
    "i62_days = cevd_df_first['i62_t2e'].sum()\n",
    "i62_personyears = i62_days/365\n",
    "print(i62_personyears)"
   ]
  },
  {
   "cell_type": "code",
   "execution_count": 379,
   "metadata": {
    "tags": []
   },
   "outputs": [
    {
     "name": "stdout",
     "output_type": "stream",
     "text": [
      "889.1287671232876\n"
     ]
    }
   ],
   "source": [
    "i63_days = cevd_df_first['i63_t2e'].sum()\n",
    "i63_personyears = i63_days/365\n",
    "print(i63_personyears)"
   ]
  },
  {
   "cell_type": "code",
   "execution_count": 380,
   "metadata": {
    "tags": []
   },
   "outputs": [
    {
     "name": "stdout",
     "output_type": "stream",
     "text": [
      "165.9753424657534\n"
     ]
    }
   ],
   "source": [
    "i64_days = cevd_df_first['i64_t2e'].sum()\n",
    "i64_personyears = i64_days/365\n",
    "print(i64_personyears)"
   ]
  },
  {
   "cell_type": "code",
   "execution_count": 381,
   "metadata": {
    "tags": []
   },
   "outputs": [
    {
     "name": "stdout",
     "output_type": "stream",
     "text": [
      "308.64931506849314\n"
     ]
    }
   ],
   "source": [
    "i65_days = cevd_df_first['i65_t2e'].sum()\n",
    "i65_personyears = i65_days/365\n",
    "print(i65_personyears)"
   ]
  },
  {
   "cell_type": "code",
   "execution_count": 382,
   "metadata": {
    "tags": []
   },
   "outputs": [
    {
     "name": "stdout",
     "output_type": "stream",
     "text": [
      "9.717808219178082\n"
     ]
    }
   ],
   "source": [
    "i66_days = cevd_df_first['i66_t2e'].sum()\n",
    "i66_personyears = i66_days/365\n",
    "print(i66_personyears)"
   ]
  },
  {
   "cell_type": "code",
   "execution_count": 383,
   "metadata": {
    "tags": []
   },
   "outputs": [
    {
     "name": "stdout",
     "output_type": "stream",
     "text": [
      "1824.1178082191782\n"
     ]
    }
   ],
   "source": [
    "i67_days = cevd_df_first['i67_t2e'].sum()\n",
    "i67_personyears = i67_days/365\n",
    "print(i67_personyears)"
   ]
  },
  {
   "cell_type": "code",
   "execution_count": 384,
   "metadata": {
    "tags": []
   },
   "outputs": [
    {
     "name": "stdout",
     "output_type": "stream",
     "text": [
      "0.0\n"
     ]
    }
   ],
   "source": [
    "i68_days = cevd_df_first['i68_t2e'].sum()\n",
    "i68_personyears = i68_days/365\n",
    "print(i68_personyears)"
   ]
  },
  {
   "cell_type": "code",
   "execution_count": 385,
   "metadata": {
    "tags": []
   },
   "outputs": [
    {
     "name": "stdout",
     "output_type": "stream",
     "text": [
      "364.7780821917808\n"
     ]
    }
   ],
   "source": [
    "i69_days = cevd_df_first['i69_t2e'].sum()\n",
    "i69_personyears = i69_days/365\n",
    "print(i69_personyears)"
   ]
  },
  {
   "cell_type": "code",
   "execution_count": 386,
   "metadata": {
    "tags": []
   },
   "outputs": [],
   "source": [
    "#"
   ]
  },
  {
   "cell_type": "code",
   "execution_count": 387,
   "metadata": {
    "tags": []
   },
   "outputs": [],
   "source": [
    "cevd_df_first['g45_date'] = pd.to_datetime(cevd_df_first['g45_date'])\n",
    "cevd_df_first['date_i0'] = pd.to_datetime(cevd_df_first['date_i0'])\n"
   ]
  },
  {
   "cell_type": "code",
   "execution_count": 388,
   "metadata": {
    "tags": []
   },
   "outputs": [],
   "source": [
    "cevd_df_first['g45_to_baseline'] = cevd_df_first['date_i0']-cevd_df_first['g45_date']\n"
   ]
  },
  {
   "cell_type": "code",
   "execution_count": 389,
   "metadata": {
    "tags": []
   },
   "outputs": [],
   "source": [
    "cevd_df_first['g45_to_baseline'] = pd.to_timedelta(cevd_df_first['g45_to_baseline'])\n"
   ]
  },
  {
   "cell_type": "code",
   "execution_count": 390,
   "metadata": {
    "tags": []
   },
   "outputs": [
    {
     "data": {
      "text/plain": [
       "39       139.0\n",
       "1016    3281.0\n",
       "2023    1964.0\n",
       "2611    1120.0\n",
       "Name: g45_t2e_p, dtype: float64"
      ]
     },
     "execution_count": 390,
     "metadata": {},
     "output_type": "execute_result"
    }
   ],
   "source": [
    "cevd_df_first['g45_t2e_p'].head(4)\n"
   ]
  },
  {
   "cell_type": "code",
   "execution_count": 391,
   "metadata": {
    "tags": []
   },
   "outputs": [],
   "source": [
    "# Sum the timedelta values\n",
    "sum_timedelta = cevd_df_first['g45_t2e_p'].median()\n"
   ]
  },
  {
   "cell_type": "code",
   "execution_count": 392,
   "metadata": {
    "tags": []
   },
   "outputs": [
    {
     "name": "stdout",
     "output_type": "stream",
     "text": [
      "1502.0\n"
     ]
    }
   ],
   "source": [
    "print(sum_timedelta)\n"
   ]
  },
  {
   "cell_type": "code",
   "execution_count": 393,
   "metadata": {
    "tags": []
   },
   "outputs": [
    {
     "data": {
      "image/png": "[encoded data removed]",
      "text/plain": [
       "<Figure size 800x600 with 1 Axes>"
      ]
     },
     "metadata": {},
     "output_type": "display_data"
    }
   ],
   "source": [
    "import matplotlib.pyplot as plt\n",
    "import seaborn as sns\n",
    "\n",
    "\n",
    "# Plot histogram\n",
    "plt.figure(figsize=(8, 6))\n",
    "plt.hist(cevd_df_first['g45_t2e_p'], bins=10, edgecolor='black', alpha=0.7)\n",
    "plt.xlabel('Values')\n",
    "plt.ylabel('Frequency')\n",
    "plt.title('Histogram of Values')\n",
    "plt.grid(True)\n",
    "plt.show()"
   ]
  },
  {
   "cell_type": "code",
   "execution_count": 394,
   "metadata": {
    "tags": []
   },
   "outputs": [
    {
     "data": {
      "text/plain": [
       "562"
      ]
     },
     "execution_count": 394,
     "metadata": {},
     "output_type": "execute_result"
    }
   ],
   "source": [
    "len(cevd_df_first)"
   ]
  },
  {
   "cell_type": "code",
   "execution_count": 395,
   "metadata": {
    "tags": []
   },
   "outputs": [
    {
     "name": "stdout",
     "output_type": "stream",
     "text": [
      "Depressed PP Median: 1502.0\n",
      "Depressed PP IQR: 630.25 2782.0\n"
     ]
    }
   ],
   "source": [
    "median_prior_d = cevd_df_first['g45_t2e_p'].median()\n",
    "iqr_1_d = cevd_df_first['g45_t2e_p'].quantile(0.25)\n",
    "iqr_2_d = cevd_df_first['g45_t2e_p'].quantile(0.75)\n",
    "print('Depressed PP Median:', median_prior_d)\n",
    "print('Depressed PP IQR:', iqr_1_d, iqr_2_d)"
   ]
  },
  {
   "cell_type": "code",
   "execution_count": 396,
   "metadata": {
    "tags": []
   },
   "outputs": [],
   "source": [
    "cevd_df_first['g45_to_event'] = cevd_df_first['g45_t2e_p']+cevd_df_first['cevd_t2e']"
   ]
  },
  {
   "cell_type": "code",
   "execution_count": 397,
   "metadata": {
    "tags": []
   },
   "outputs": [
    {
     "data": {
      "image/png": "[encoded data removed]",
      "text/plain": [
       "<Figure size 800x600 with 1 Axes>"
      ]
     },
     "metadata": {},
     "output_type": "display_data"
    }
   ],
   "source": [
    "import matplotlib.pyplot as plt\n",
    "import seaborn as sns\n",
    "\n",
    "\n",
    "# Plot histogram\n",
    "plt.figure(figsize=(8, 6))\n",
    "plt.hist(cevd_df_first['g45_to_event'], bins=10, edgecolor='black', alpha=0.7)\n",
    "plt.xlabel('Values')\n",
    "plt.ylabel('Frequency')\n",
    "plt.title('Histogram of Values')\n",
    "plt.grid(True)\n",
    "plt.show()"
   ]
  },
  {
   "cell_type": "code",
   "execution_count": 304,
   "metadata": {},
   "outputs": [],
   "source": [
    "#to upload on RAP UKBB\n",
    "#%%bash\n",
    "#dx upload <insert file name here>.ipynb --dest /"
   ]
  },
  {
   "cell_type": "code",
   "execution_count": null,
   "metadata": {},
   "outputs": [],
   "source": []
  }
 ],
 "metadata": {
  "kernelspec": {
   "display_name": "Python 3 (ipykernel)",
   "language": "python",
   "name": "python3"
  },
  "language_info": {
   "codemirror_mode": {
    "name": "ipython",
    "version": 3
   },
   "file_extension": ".py",
   "mimetype": "text/x-python",
   "name": "python",
   "nbconvert_exporter": "python",
   "pygments_lexer": "ipython3",
   "version": "3.9.16"
  }
 },
 "nbformat": 4,
 "nbformat_minor": 4
}
